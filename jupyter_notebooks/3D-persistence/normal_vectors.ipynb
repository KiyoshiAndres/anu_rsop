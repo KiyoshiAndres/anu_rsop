{
 "cells": [
  {
   "cell_type": "markdown",
   "id": "e7ab00e2-0e9f-4605-9fcc-4dc5f1486426",
   "metadata": {},
   "source": [
    "Problem: Given a set of faces given by a 3-tuple of integers, and a vector normal to the face, we want to compute the normal vectors of the edges and the vertices."
   ]
  },
  {
   "cell_type": "code",
   "execution_count": null,
   "id": "17a0bec8-2c23-45c9-9a0d-b8e8d3c151e4",
   "metadata": {},
   "outputs": [],
   "source": []
  }
 ],
 "metadata": {
  "kernelspec": {
   "display_name": "Python 3 (ipykernel)",
   "language": "python",
   "name": "python3"
  },
  "language_info": {
   "codemirror_mode": {
    "name": "ipython",
    "version": 3
   },
   "file_extension": ".py",
   "mimetype": "text/x-python",
   "name": "python",
   "nbconvert_exporter": "python",
   "pygments_lexer": "ipython3",
   "version": "3.12.3"
  }
 },
 "nbformat": 4,
 "nbformat_minor": 5
}
