{
 "cells": [
  {
   "cell_type": "code",
   "execution_count": 1,
   "id": "9b67bafb-eb30-43ea-a405-410080f012f6",
   "metadata": {
    "tags": []
   },
   "outputs": [
    {
     "name": "stdout",
     "output_type": "stream",
     "text": [
      "⚠️  Task for input 1 raised an exception: A process in the process pool was terminated abruptly while the future was running or pending.\n",
      "⚠️  Task for input 2 raised an exception: A process in the process pool was terminated abruptly while the future was running or pending.\n",
      "⚠️  Task for input 3 raised an exception: A process in the process pool was terminated abruptly while the future was running or pending.\n",
      "⚠️  Task for input 4 raised an exception: A process in the process pool was terminated abruptly while the future was running or pending.\n",
      "⚠️  Task for input 5 raised an exception: A process in the process pool was terminated abruptly while the future was running or pending.\n",
      "⚠️  Task for input 6 raised an exception: A process in the process pool was terminated abruptly while the future was running or pending.\n",
      "⚠️  Task for input 7 raised an exception: A process in the process pool was terminated abruptly while the future was running or pending.\n",
      "⚠️  Task for input 8 raised an exception: A process in the process pool was terminated abruptly while the future was running or pending.\n",
      "\n",
      "All done! Results: []\n"
     ]
    },
    {
     "name": "stderr",
     "output_type": "stream",
     "text": [
      "Process SpawnProcess-1:\n",
      "Process SpawnProcess-2:\n",
      "Traceback (most recent call last):\n",
      "Traceback (most recent call last):\n",
      "  File \"/Users/kiyoshitakeuchi/miniforge3/lib/python3.9/multiprocessing/process.py\", line 315, in _bootstrap\n",
      "    self.run()\n",
      "  File \"/Users/kiyoshitakeuchi/miniforge3/lib/python3.9/multiprocessing/process.py\", line 108, in run\n",
      "    self._target(*self._args, **self._kwargs)\n",
      "  File \"/Users/kiyoshitakeuchi/miniforge3/lib/python3.9/concurrent/futures/process.py\", line 237, in _process_worker\n",
      "    call_item = call_queue.get(block=True)\n",
      "  File \"/Users/kiyoshitakeuchi/miniforge3/lib/python3.9/multiprocessing/queues.py\", line 122, in get\n",
      "    return _ForkingPickler.loads(res)\n",
      "AttributeError: Can't get attribute 'slow_square' on <module '__main__' (built-in)>\n",
      "  File \"/Users/kiyoshitakeuchi/miniforge3/lib/python3.9/multiprocessing/process.py\", line 315, in _bootstrap\n",
      "    self.run()\n",
      "  File \"/Users/kiyoshitakeuchi/miniforge3/lib/python3.9/multiprocessing/process.py\", line 108, in run\n",
      "    self._target(*self._args, **self._kwargs)\n",
      "  File \"/Users/kiyoshitakeuchi/miniforge3/lib/python3.9/concurrent/futures/process.py\", line 237, in _process_worker\n",
      "    call_item = call_queue.get(block=True)\n",
      "  File \"/Users/kiyoshitakeuchi/miniforge3/lib/python3.9/multiprocessing/queues.py\", line 122, in get\n",
      "    return _ForkingPickler.loads(res)\n",
      "AttributeError: Can't get attribute 'slow_square' on <module '__main__' (built-in)>\n"
     ]
    }
   ],
   "source": [
    "from concurrent.futures import ProcessPoolExecutor, as_completed\n",
    "import time\n",
    "\n",
    "# 1) Define your worker function at top level so it can be pickled.\n",
    "def slow_square(x):\n",
    "    \"\"\"Simulate a slow computation by sleeping, then return x*x.\"\"\"\n",
    "    time.sleep(1)\n",
    "    return x * x\n",
    "\n",
    "# 2) Wrap your submission logic in the standard guard.\n",
    "#    This is important on platforms like Windows (and in notebooks) \n",
    "#    to avoid recursive process spawning.\n",
    "if __name__ == \"__main__\":\n",
    "    inputs = list(range(1, 9))       # e.g. [1,2,3,...,8]\n",
    "    results = []\n",
    "\n",
    "    # 3) Create the pool. Adjust max_workers to taste.\n",
    "    with ProcessPoolExecutor(max_workers=4) as executor:\n",
    "        # 4) Submit all tasks, keeping track of which future corresponds to which input.\n",
    "        future_to_input = {executor.submit(slow_square, n): n for n in inputs}\n",
    "\n",
    "        # 5) as_completed yields futures as they finish.\n",
    "        for future in as_completed(future_to_input):\n",
    "            n = future_to_input[future]\n",
    "            try:\n",
    "                res = future.result()\n",
    "            except Exception as exc:\n",
    "                print(f\"⚠️  Task for input {n!r} raised an exception: {exc}\")\n",
    "            else:\n",
    "                print(f\"✅  slow_square({n}) = {res}\")\n",
    "                results.append(res)\n",
    "\n",
    "    print(\"\\nAll done! Results:\", results)\n"
   ]
  },
  {
   "cell_type": "code",
   "execution_count": 2,
   "id": "daf96da3-078e-4f67-a03c-12fc01db27d7",
   "metadata": {
    "tags": []
   },
   "outputs": [
    {
     "name": "stdout",
     "output_type": "stream",
     "text": [
      "✅ slow_square(1) = 1\n",
      "✅ slow_square(2) = 4\n",
      "✅ slow_square(4) = 16\n",
      "✅ slow_square(3) = 9\n",
      "✅ slow_square(5) = 25\n",
      "✅ slow_square(6) = 36\n",
      "✅ slow_square(7) = 49\n",
      "✅ slow_square(8) = 64\n"
     ]
    }
   ],
   "source": [
    "import multiprocessing as mp\n",
    "from concurrent.futures import ProcessPoolExecutor, as_completed\n",
    "import time\n",
    "\n",
    "# 1) Define your task at top‐level:\n",
    "def slow_square(x):\n",
    "    time.sleep(1)\n",
    "    return x * x\n",
    "\n",
    "# 2) Wrap your launch in a function (so notebook cells don't re-execute on import)\n",
    "def run_tasks():\n",
    "    # ask for a 'fork' context instead of 'spawn'\n",
    "    ctx = mp.get_context('fork')\n",
    "    with ProcessPoolExecutor(max_workers=4, mp_context=ctx) as executor:\n",
    "        futures = {executor.submit(slow_square, n): n for n in range(1, 9)}\n",
    "        for future in as_completed(futures):\n",
    "            n = futures[future]\n",
    "            try:\n",
    "                result = future.result()\n",
    "            except Exception as e:\n",
    "                print(f\"Task {n} failed: {e!r}\")\n",
    "            else:\n",
    "                print(f\"✅ slow_square({n}) = {result}\")\n",
    "\n",
    "# 3) Call it\n",
    "run_tasks()\n"
   ]
  }
 ],
 "metadata": {
  "kernelspec": {
   "display_name": "Python 3 (ipykernel)",
   "language": "python",
   "name": "python3"
  },
  "language_info": {
   "codemirror_mode": {
    "name": "ipython",
    "version": 3
   },
   "file_extension": ".py",
   "mimetype": "text/x-python",
   "name": "python",
   "nbconvert_exporter": "python",
   "pygments_lexer": "ipython3",
   "version": "3.9.10"
  }
 },
 "nbformat": 4,
 "nbformat_minor": 5
}
