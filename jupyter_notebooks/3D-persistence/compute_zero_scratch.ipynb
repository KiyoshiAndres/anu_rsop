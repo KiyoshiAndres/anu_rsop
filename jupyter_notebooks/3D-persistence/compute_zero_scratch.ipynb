{
 "cells": [
  {
   "cell_type": "code",
   "execution_count": 1,
   "id": "8165b69e-0513-49a8-8e53-5e79e2dd1e15",
   "metadata": {},
   "outputs": [],
   "source": [
    "import persistence_functions as pf"
   ]
  },
  {
   "cell_type": "code",
   "execution_count": 2,
   "id": "0baa4a1e-e519-4ee7-8455-ff3fb0a58d33",
   "metadata": {},
   "outputs": [],
   "source": [
    "direction = [0,0,1]"
   ]
  },
  {
   "cell_type": "code",
   "execution_count": 3,
   "id": "4ae845b7-82d2-456f-bd5b-ce4f267498ab",
   "metadata": {},
   "outputs": [],
   "source": [
    "vertices = [{'coordinates': [1, 1, 1],\n",
    "   'original_index': 1,\n",
    "   'new_index': 1,\n",
    "   'height': 1,\n",
    "   'sign': 1},\n",
    "  {'coordinates': [2, 2, 2],\n",
    "   'original_index': 3,\n",
    "   'new_index': 2,\n",
    "   'height': 2,\n",
    "   'sign': 1},\n",
    "  {'coordinates': [3, 3, 3],\n",
    "   'original_index': 4,\n",
    "   'new_index': 3,\n",
    "   'height': 2,\n",
    "   'sign': 1},\n",
    "  {'coordinates': [4, 4, 4],\n",
    "   'original_index': 5,\n",
    "   'new_index': 4,\n",
    "   'height': 3,\n",
    "   'sign': 1},\n",
    "  {'coordinates': [5, 5, 5],\n",
    "   'original_index': 2,\n",
    "   'new_index': 5,\n",
    "   'height': 4,\n",
    "   'sign': 1},\n",
    "  {'coordinates': [6, 6, 6],\n",
    "   'original_index': 6,\n",
    "   'new_index': 6,\n",
    "   'height': 6,\n",
    "   'sign': 1},\n",
    "  {'coordinates': [7, 7, 7],\n",
    "   'original_index': 7,\n",
    "   'new_index': 7,\n",
    "   'height': 7,\n",
    "   'sign': 1}]"
   ]
  },
  {
   "cell_type": "code",
   "execution_count": 5,
   "id": "003338f2-fa19-486e-b61f-e5d705628d92",
   "metadata": {},
   "outputs": [],
   "source": [
    "pre_edges = [\n",
    "    # Format: [[index_i, index_j]]\n",
    "    [1, 2],\n",
    "    [2, 3],\n",
    "    [3, 4],\n",
    "    [4, 5],\n",
    "    [6, 7],\n",
    "    [5, 6]\n",
    "]"
   ]
  },
  {
   "cell_type": "code",
   "execution_count": 8,
   "id": "cdec63bb-41b8-4713-afd2-87a4d3db41d7",
   "metadata": {},
   "outputs": [],
   "source": [
    "pre_formatted_edges = []\n",
    "for edge in pre_edges:\n",
    "    x,y = edge\n",
    "    pre_formatted_edges.append([[x, y], [1,1,1]])"
   ]
  },
  {
   "cell_type": "code",
   "execution_count": 9,
   "id": "6478a016-7e3a-4c41-9b98-0ba4c4ce6d41",
   "metadata": {},
   "outputs": [],
   "source": [
    "edges = pf.format_edges(vertices, pre_formatted_edges)"
   ]
  },
  {
   "cell_type": "code",
   "execution_count": 11,
   "id": "e8dd65ac-622c-4ead-a108-d78377b5e84d",
   "metadata": {},
   "outputs": [
    {
     "name": "stdout",
     "output_type": "stream",
     "text": [
      "Initialized UnionFind:\n",
      "parent: [0, 1, 2, 3, 4, 5, 6]\n",
      "rank  : [0, 1, 2, 3, 4, 5, 6]\n",
      "\n"
     ]
    }
   ],
   "source": [
    "uf = pf.UnionFind(vertices)"
   ]
  },
  {
   "cell_type": "code",
   "execution_count": null,
   "id": "3196b416-a849-4a2b-9df2-de66eb0a9d04",
   "metadata": {},
   "outputs": [],
   "source": [
    "# Horizontal Step\n",
    "def horizontal_step(edges: list):\n",
    "    for edge in edges:\n",
    "        x ,y = edge['vertices']\n",
    "        uf.union(x - 1, y - 1)"
   ]
  },
  {
   "cell_type": "code",
   "execution_count": null,
   "id": "db8c4a03-13ab-4f07-b4ce-15dd7db2a1c7",
   "metadata": {},
   "outputs": [],
   "source": [
    "# After processing all edges, we collect the connected components.\n",
    "components = {}\n",
    "for node in range(len(vertices)):\n",
    "    root = uf.find(node)  # This finds the representative of the component containing 'node'\n",
    "    if root not in components:\n",
    "        components[root] = []\n",
    "    components[root].append(node)\n",
    "\n",
    "print(\"Final connected components:\")\n",
    "for root, comp in components.items():\n",
    "    print(f\"Component with root {root}: {comp}\")"
   ]
  }
 ],
 "metadata": {
  "kernelspec": {
   "display_name": "Python 3 (ipykernel)",
   "language": "python",
   "name": "python3"
  },
  "language_info": {
   "codemirror_mode": {
    "name": "ipython",
    "version": 3
   },
   "file_extension": ".py",
   "mimetype": "text/x-python",
   "name": "python",
   "nbconvert_exporter": "python",
   "pygments_lexer": "ipython3",
   "version": "3.12.3"
  }
 },
 "nbformat": 4,
 "nbformat_minor": 5
}
