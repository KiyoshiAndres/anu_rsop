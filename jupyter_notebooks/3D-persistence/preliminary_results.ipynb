{
 "cells": [
  {
   "cell_type": "markdown",
   "id": "c37c2afc-3a65-4889-b30e-00726b8e641b",
   "metadata": {},
   "source": [
    "### Segmentation 10"
   ]
  },
  {
   "cell_type": "raw",
   "id": "380d67c3-8c36-49a6-8e2e-825706aee90e",
   "metadata": {},
   "source": [
    "[[93.5, -1], [94.5, 98.5], [95.5, 112.5], [96.5, 103.5], [100.5, 108.5], [102.5, 103.5], [103.5, 129.5], [103.5, 107.5], [106.5, 107.5], [107.5, 113.5], [107.5, 127.5], [113.5, 123.5], [114.5, 170.5], [116.5, 119.5], [120.5, -1], [120.5, 149.5], [121.5, 123.5], [123.5, -1], [125.5, 126.5], [126.5, 144.5], [129.5, 132.5], [130.5, 131.5], [132.5, 145.5], [132.5, 133.5], [133.5, 134.5], [136.5, 137.5], [137.5, 139.5], [140.5, 146.5], [140.5, 145.5], [140.5, 141.5], [141.5, 143.5], [142.5, 143.5], [150.5, 154.5], [152.5, 153.5], [152.5, -1], [156.5, -1], [157.5, -1], [172.5, -1]]"
   ]
  },
  {
   "cell_type": "markdown",
   "id": "8914afd5-2b0d-4778-a48e-6c5aed2dd13d",
   "metadata": {},
   "source": [
    "### Segmentation "
   ]
  }
 ],
 "metadata": {
  "kernelspec": {
   "display_name": "Python 3 (ipykernel)",
   "language": "python",
   "name": "python3"
  },
  "language_info": {
   "codemirror_mode": {
    "name": "ipython",
    "version": 3
   },
   "file_extension": ".py",
   "mimetype": "text/x-python",
   "name": "python",
   "nbconvert_exporter": "python",
   "pygments_lexer": "ipython3",
   "version": "3.12.3"
  }
 },
 "nbformat": 4,
 "nbformat_minor": 5
}
