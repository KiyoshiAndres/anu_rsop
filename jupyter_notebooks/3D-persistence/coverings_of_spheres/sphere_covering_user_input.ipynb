{
 "cells": [
  {
   "cell_type": "markdown",
   "id": "56695dc0-5237-4344-9fa3-afe187d776a1",
   "metadata": {},
   "source": [
    "### Radians"
   ]
  },
  {
   "cell_type": "code",
   "execution_count": 10,
   "id": "9428157f-f0e6-4796-a30a-6961533124df",
   "metadata": {},
   "outputs": [
    {
     "name": "stdin",
     "output_type": "stream",
     "text": [
      "Enter the number of points:  4\n",
      "Enter rational number for angle theta (will be multiplied by pi) for point 1:  1\n",
      "Enter rational number for angle phi (will be multiplied by pi) for point 1:  2\n",
      "Enter rational number for angle theta (will be multiplied by pi) for point 2:  1.2\n",
      "Enter rational number for angle phi (will be multiplied by pi) for point 2:  .3\n",
      "Enter rational number for angle theta (will be multiplied by pi) for point 3:  2.3\n",
      "Enter rational number for angle phi (will be multiplied by pi) for point 3:  2\n",
      "Enter rational number for angle theta (will be multiplied by pi) for point 4:  1.1\n",
      "Enter rational number for angle phi (will be multiplied by pi) for point 4:  .1\n"
     ]
    },
    {
     "name": "stdout",
     "output_type": "stream",
     "text": [
      "[[ 2.44929360e-16 -2.99951957e-32  1.00000000e+00]\n",
      " [-6.54508497e-01 -4.75528258e-01  5.87785252e-01]\n",
      " [-1.43965866e-16 -1.98152015e-16  1.00000000e+00]\n",
      " [-2.93892626e-01 -9.54915028e-02  9.51056516e-01]]\n"
     ]
    },
    {
     "data": {
      "application/vnd.jupyter.widget-view+json": {
       "model_id": "b5f76d05b503432ba527b0a86b140c54",
       "version_major": 2,
       "version_minor": 0
      },
      "text/plain": [
       "Widget(value='<iframe src=\"http://localhost:45843/index.html?ui=P_0x791599179c10_6&reconnect=auto\" class=\"pyvi…"
      ]
     },
     "metadata": {},
     "output_type": "display_data"
    }
   ],
   "source": [
    "import numpy as np\n",
    "import pyvista as pv\n",
    "\n",
    "# Prompt the user for the number of points\n",
    "N = int(input(\"Enter the number of points: \"))\n",
    "\n",
    "# Initialize lists to store angles\n",
    "angles = []\n",
    "\n",
    "# Collect N pairs of rational angles from the user and multiply by pi\n",
    "for i in range(N):\n",
    "    theta_ratio = float(input(f\"Enter rational number for angle theta (will be multiplied by pi) for point {i+1}: \"))\n",
    "    phi_ratio = float(input(f\"Enter rational number for angle phi (will be multiplied by pi) for point {i+1}: \"))\n",
    "    theta = theta_ratio * np.pi\n",
    "    phi = phi_ratio * np.pi\n",
    "    angles.append((theta, phi))\n",
    "\n",
    "# Convert spherical coordinates to Cartesian coordinates\n",
    "points = [(np.sin(phi) * np.cos(theta), np.sin(phi) * np.sin(theta), np.cos(phi)) for theta, phi in angles]\n",
    "\n",
    "# Convert points to a numpy array\n",
    "points = np.array(points)\n",
    "print(points)\n",
    "\n",
    "# Visualize using PyVista\n",
    "plotter = pv.Plotter()\n",
    "plotter.add_points(points, color='blue', point_size=10)\n",
    "plotter.show_grid()\n",
    "plotter.show()"
   ]
  },
  {
   "cell_type": "markdown",
   "id": "8cdb4d16-dfbf-4e12-972f-ebcf6a1db6f2",
   "metadata": {},
   "source": [
    "### Degrees"
   ]
  },
  {
   "cell_type": "code",
   "execution_count": 13,
   "id": "76a26ccb-c2c7-4b1e-9d05-54d9ce5c82bf",
   "metadata": {},
   "outputs": [
    {
     "name": "stdin",
     "output_type": "stream",
     "text": [
      "Enter the number of points:  5\n",
      "Enter angle theta (in degrees) for point 1:  20\n",
      "Enter angle phi (in degrees) for point 1:  20\n",
      "Enter angle theta (in degrees) for point 2:  45\n",
      "Enter angle phi (in degrees) for point 2:  45\n",
      "Enter angle theta (in degrees) for point 3:  23\n",
      "Enter angle phi (in degrees) for point 3:  23\n",
      "Enter angle theta (in degrees) for point 4:  43\n",
      "Enter angle phi (in degrees) for point 4:  43\n",
      "Enter angle theta (in degrees) for point 5:  23\n",
      "Enter angle phi (in degrees) for point 5:  23\n"
     ]
    },
    {
     "name": "stdout",
     "output_type": "stream",
     "text": [
      "[[0.3213938  0.11697778 0.93969262]\n",
      " [0.5        0.5        0.70710678]\n",
      " [0.3596699  0.15267081 0.92050485]\n",
      " [0.49878203 0.46512176 0.7313537 ]\n",
      " [0.3596699  0.15267081 0.92050485]]\n"
     ]
    },
    {
     "data": {
      "application/vnd.jupyter.widget-view+json": {
       "model_id": "850c0ddf84d74d4e9261d34c77b0933a",
       "version_major": 2,
       "version_minor": 0
      },
      "text/plain": [
       "Widget(value='<iframe src=\"http://localhost:45843/index.html?ui=P_0x79158751bbc0_8&reconnect=auto\" class=\"pyvi…"
      ]
     },
     "metadata": {},
     "output_type": "display_data"
    }
   ],
   "source": [
    "# Prompt the user for the number of points\n",
    "N = int(input(\"Enter the number of points: \"))\n",
    "\n",
    "# Initialize lists to store angles\n",
    "angles = []\n",
    "\n",
    "# Collect N pairs of angles in degrees from the user\n",
    "for i in range(N):\n",
    "    theta_deg = float(input(f\"Enter angle theta (in degrees) for point {i+1}: \"))\n",
    "    phi_deg = float(input(f\"Enter angle phi (in degrees) for point {i+1}: \"))\n",
    "    theta = np.radians(theta_deg)\n",
    "    phi = np.radians(phi_deg)\n",
    "    angles.append((theta, phi))\n",
    "\n",
    "# Convert spherical coordinates to Cartesian coordinates\n",
    "points = [(np.sin(phi) * np.cos(theta), np.sin(phi) * np.sin(theta), np.cos(phi)) for theta, phi in angles]\n",
    "\n",
    "# Convert points to a numpy array\n",
    "points = np.array(points)\n",
    "print(points)\n",
    "\n",
    "# Visualize using PyVista\n",
    "plotter = pv.Plotter()\n",
    "plotter.add_points(points, color='blue', point_size=10)\n",
    "plotter.show_grid()\n",
    "plotter.show()\n"
   ]
  }
 ],
 "metadata": {
  "kernelspec": {
   "display_name": "Python 3 (ipykernel)",
   "language": "python",
   "name": "python3"
  },
  "language_info": {
   "codemirror_mode": {
    "name": "ipython",
    "version": 3
   },
   "file_extension": ".py",
   "mimetype": "text/x-python",
   "name": "python",
   "nbconvert_exporter": "python",
   "pygments_lexer": "ipython3",
   "version": "3.12.3"
  }
 },
 "nbformat": 4,
 "nbformat_minor": 5
}
