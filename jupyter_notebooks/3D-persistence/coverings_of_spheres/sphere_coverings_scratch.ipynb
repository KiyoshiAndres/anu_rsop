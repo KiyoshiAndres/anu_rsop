{
 "cells": [
  {
   "cell_type": "code",
   "execution_count": 1,
   "id": "41aa5255-761b-432d-8ca5-d264bacaa10a",
   "metadata": {},
   "outputs": [
    {
     "name": "stdout",
     "output_type": "stream",
     "text": [
      "[[ 0.61237244  0.61237244 -0.5       ]\n",
      " [-0.70710678  0.70710678  0.        ]\n",
      " [ 0.35355339  0.35355339  0.8660254 ]]\n"
     ]
    }
   ],
   "source": [
    "import numpy as np\n",
    "\n",
    "def rotate_points(points, theta, phi):\n",
    "    # Create rotation matrix for rotation around z-axis\n",
    "    Rz = np.array([\n",
    "        [np.cos(theta), -np.sin(theta), 0],\n",
    "        [np.sin(theta), np.cos(theta), 0],\n",
    "        [0, 0, 1]\n",
    "    ])\n",
    "    \n",
    "    # Create rotation matrix for rotation around y-axis\n",
    "    Ry = np.array([\n",
    "        [np.cos(phi), 0, np.sin(phi)],\n",
    "        [0, 1, 0],\n",
    "        [-np.sin(phi), 0, np.cos(phi)]\n",
    "    ])\n",
    "    \n",
    "    # Combine the rotations\n",
    "    R = Rz @ Ry\n",
    "\n",
    "    # Apply the rotation matrix to each point\n",
    "    rotated_points = points @ R.T\n",
    "    \n",
    "    return rotated_points\n",
    "\n",
    "# Example usage\n",
    "points = np.array([[1, 0, 0], [0, 1, 0], [0, 0, 1]])\n",
    "theta = np.pi / 4  # 45 degrees\n",
    "phi = np.pi / 6    # 30 degrees\n",
    "\n",
    "rotated_points = rotate_points(points, theta, phi)\n",
    "print(rotated_points)\n"
   ]
  },
  {
   "cell_type": "code",
   "execution_count": 2,
   "id": "2e61103d-0c70-42d4-a05e-64dbabe5bd2a",
   "metadata": {},
   "outputs": [
    {
     "name": "stderr",
     "output_type": "stream",
     "text": [
      "/home/kiyoshi/topology/lib/python3.12/site-packages/pyvista/core/utilities/points.py:55: UserWarning: Points is not a float type. This can cause issues when transforming or applying filters. Casting to ``np.float32``. Disable this by passing ``force_float=False``.\n",
      "  warnings.warn(\n"
     ]
    },
    {
     "data": {
      "application/vnd.jupyter.widget-view+json": {
       "model_id": "81059adfeac3496ab686192ec667ace3",
       "version_major": 2,
       "version_minor": 0
      },
      "text/plain": [
       "Widget(value='<iframe src=\"http://localhost:40183/index.html?ui=P_0x71be0a69bc50_0&reconnect=auto\" class=\"pyvi…"
      ]
     },
     "metadata": {},
     "output_type": "display_data"
    }
   ],
   "source": [
    "import numpy as np\n",
    "import pyvista as pv\n",
    "\n",
    "# Function to rotate points\n",
    "def rotate_points(points, theta, phi):\n",
    "    # Create rotation matrix for rotation around z-axis\n",
    "    Rz = np.array([\n",
    "        [np.cos(theta), -np.sin(theta), 0],\n",
    "        [np.sin(theta), np.cos(theta), 0],\n",
    "        [0, 0, 1]\n",
    "    ])\n",
    "    \n",
    "    # Create rotation matrix for rotation around y-axis\n",
    "    Ry = np.array([\n",
    "        [np.cos(phi), 0, np.sin(phi)],\n",
    "        [0, 1, 0],\n",
    "        [-np.sin(phi), 0, np.cos(phi)]\n",
    "    ])\n",
    "    \n",
    "    # Combine the rotations\n",
    "    R = Rz @ Ry\n",
    "\n",
    "    # Apply the rotation matrix to each point\n",
    "    rotated_points = points @ R.T\n",
    "    \n",
    "    return rotated_points\n",
    "\n",
    "# Example points\n",
    "points = np.array([[1, 0, 0], [0, 1, 0], [0, 0, 1]])\n",
    "theta = np.pi / 4  # 45 degrees\n",
    "phi = np.pi / 6    # 30 degrees\n",
    "\n",
    "rotated_points = rotate_points(points, theta, phi)\n",
    "\n",
    "# Create a PyVista plotter\n",
    "plotter = pv.Plotter()\n",
    "\n",
    "# Add original points in blue\n",
    "plotter.add_points(points, color='blue', point_size=10, label='Original Points')\n",
    "\n",
    "# Add rotated points in red\n",
    "plotter.add_points(rotated_points, color='red', point_size=10, label='Rotated Points')\n",
    "\n",
    "# Set plot details\n",
    "plotter.add_legend()\n",
    "plotter.show_grid()\n",
    "plotter.show()\n"
   ]
  },
  {
   "cell_type": "code",
   "execution_count": 3,
   "id": "5de5b2a0-c1c2-47ed-b7eb-b8ef0b6c9b39",
   "metadata": {},
   "outputs": [
    {
     "data": {
      "application/vnd.jupyter.widget-view+json": {
       "model_id": "e022b4bee26f4699a633402c26272e12",
       "version_major": 2,
       "version_minor": 0
      },
      "text/plain": [
       "Widget(value='<iframe src=\"http://localhost:40183/index.html?ui=P_0x71be08627080_1&reconnect=auto\" class=\"pyvi…"
      ]
     },
     "metadata": {},
     "output_type": "display_data"
    }
   ],
   "source": [
    "import numpy as np\n",
    "import pyvista as pv\n",
    "\n",
    "def generate_circle_points(n, radius=1.0):\n",
    "    # Evenly spaced values over the interval 0,2pi. \n",
    "    angles = np.linspace(0, 2 * np.pi, n, endpoint=False)\n",
    "    # Makes the 3D array\n",
    "    points = np.column_stack((radius * np.cos(angles), radius * np.sin(angles), np.zeros(n)))\n",
    "    return points\n",
    "\n",
    "# Number of points\n",
    "n = 100  # Change this value for more or fewer points\n",
    "\n",
    "# Generate the points\n",
    "circle_points = generate_circle_points(n)\n",
    "\n",
    "# Visualize using PyVista\n",
    "plotter = pv.Plotter()\n",
    "plotter.add_points(circle_points, color='blue', point_size=5)\n",
    "plotter.show_grid()\n",
    "plotter.show()\n"
   ]
  },
  {
   "cell_type": "code",
   "execution_count": 5,
   "id": "91190b69-10ad-44cb-9d85-5724d4a0e912",
   "metadata": {},
   "outputs": [
    {
     "data": {
      "application/vnd.jupyter.widget-view+json": {
       "model_id": "3fc257a77a8c4ebcb6578d503716cb1c",
       "version_major": 2,
       "version_minor": 0
      },
      "text/plain": [
       "Widget(value='<iframe src=\"http://localhost:40183/index.html?ui=P_0x71bd7b1fee10_2&reconnect=auto\" class=\"pyvi…"
      ]
     },
     "metadata": {},
     "output_type": "display_data"
    }
   ],
   "source": [
    "theta = np.pi / 4  # 45 degrees\n",
    "phi = np.pi / 6    # 30 degrees\n",
    "\n",
    "rotated_circle_points = rotate_points(circle_points, theta, phi)\n",
    "\n",
    "# Create a PyVista plotter\n",
    "plotter = pv.Plotter()\n",
    "\n",
    "# Add original points in blue\n",
    "plotter.add_points(circle_points, color='blue', point_size=10, label='Original Points')\n",
    "\n",
    "# Add rotated points in red\n",
    "plotter.add_points(rotated_circle_points, color='red', point_size=10, label='Rotated Points')\n",
    "\n",
    "# Set plot details\n",
    "plotter.add_legend()\n",
    "plotter.show_grid()\n",
    "plotter.show()"
   ]
  },
  {
   "cell_type": "code",
   "execution_count": 6,
   "id": "d108bd19-b975-4b7c-b07f-b304342c0858",
   "metadata": {},
   "outputs": [
    {
     "name": "stderr",
     "output_type": "stream",
     "text": [
      "/home/kiyoshi/topology/lib/python3.12/site-packages/pyvista/core/utilities/points.py:55: UserWarning: Points is not a float type. This can cause issues when transforming or applying filters. Casting to ``np.float32``. Disable this by passing ``force_float=False``.\n",
      "  warnings.warn(\n"
     ]
    },
    {
     "data": {
      "application/vnd.jupyter.widget-view+json": {
       "model_id": "2c2b90f710244b9cb791356fab4d55cf",
       "version_major": 2,
       "version_minor": 0
      },
      "text/plain": [
       "Widget(value='<iframe src=\"http://localhost:40183/index.html?ui=P_0x71bd9efa4170_3&reconnect=auto\" class=\"pyvi…"
      ]
     },
     "metadata": {},
     "output_type": "display_data"
    }
   ],
   "source": [
    "import numpy as np\n",
    "import pyvista as pv\n",
    "\n",
    "def rotate_points(points, theta, phi, alpha):\n",
    "    # Create rotation matrix for rotation around z-axis\n",
    "    Rz = np.array([\n",
    "        [np.cos(theta), -np.sin(theta), 0],\n",
    "        [np.sin(theta), np.cos(theta), 0],\n",
    "        [0, 0, 1]\n",
    "    ])\n",
    "    \n",
    "    # Create rotation matrix for rotation around y-axis\n",
    "    Ry = np.array([\n",
    "        [np.cos(phi), 0, np.sin(phi)],\n",
    "        [0, 1, 0],\n",
    "        [-np.sin(phi), 0, np.cos(phi)]\n",
    "    ])\n",
    "    \n",
    "    # Create rotation matrix for rotation around x-axis\n",
    "    Rx = np.array([\n",
    "        [1, 0, 0],\n",
    "        [0, np.cos(alpha), -np.sin(alpha)],\n",
    "        [0, np.sin(alpha), np.cos(alpha)]\n",
    "    ])\n",
    "    \n",
    "    # Combine the rotations\n",
    "    R = Rz @ Ry @ Rx\n",
    "\n",
    "    # Apply the rotation matrix to each point\n",
    "    rotated_points = points @ R.T\n",
    "    \n",
    "    return rotated_points\n",
    "\n",
    "# Example usage\n",
    "points = np.array([[1, 0, 0], [0, 1, 0], [0, 0, 1]])\n",
    "theta = np.pi / 4  # 45 degrees\n",
    "phi = np.pi / 6    # 30 degrees\n",
    "alpha = np.pi / 3  # 60 degrees\n",
    "\n",
    "rotated_points = rotate_points(points, theta, phi, alpha)\n",
    "\n",
    "# Visualize using PyVista\n",
    "plotter = pv.Plotter()\n",
    "plotter.add_points(points, color='blue', point_size=10, label='Original Points')\n",
    "plotter.add_points(rotated_points, color='red', point_size=10, label='Rotated Points')\n",
    "plotter.add_legend()\n",
    "plotter.show_grid()\n",
    "plotter.show()\n"
   ]
  },
  {
   "cell_type": "code",
   "execution_count": null,
   "id": "e0405828-e0c3-4625-8f42-2563bc8df27d",
   "metadata": {},
   "outputs": [],
   "source": []
  }
 ],
 "metadata": {
  "kernelspec": {
   "display_name": "Python 3 (ipykernel)",
   "language": "python",
   "name": "python3"
  },
  "language_info": {
   "codemirror_mode": {
    "name": "ipython",
    "version": 3
   },
   "file_extension": ".py",
   "mimetype": "text/x-python",
   "name": "python",
   "nbconvert_exporter": "python",
   "pygments_lexer": "ipython3",
   "version": "3.12.3"
  }
 },
 "nbformat": 4,
 "nbformat_minor": 5
}
