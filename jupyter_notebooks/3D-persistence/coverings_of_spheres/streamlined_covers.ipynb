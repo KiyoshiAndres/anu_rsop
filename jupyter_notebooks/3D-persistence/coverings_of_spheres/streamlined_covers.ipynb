{
 "cells": [
  {
   "cell_type": "code",
   "execution_count": 1,
   "id": "78d03a2e-55c7-43b6-9e43-06c0788e8582",
   "metadata": {
    "tags": []
   },
   "outputs": [],
   "source": [
    "import numpy as np\n",
    "import pyvista as pv"
   ]
  },
  {
   "cell_type": "code",
   "execution_count": 2,
   "id": "5322d398-1008-4fb1-987d-b1ebdf6dbcf4",
   "metadata": {
    "tags": []
   },
   "outputs": [],
   "source": [
    "def rotate_points(points, theta, phi, alpha):\n",
    "    # Create rotation matrix for rotation around z-axis\n",
    "    Rz = np.array([\n",
    "        [np.cos(theta), -np.sin(theta), 0],\n",
    "        [np.sin(theta), np.cos(theta), 0],\n",
    "        [0, 0, 1]\n",
    "    ])\n",
    "    \n",
    "    # Create rotation matrix for rotation around y-axis\n",
    "    Ry = np.array([\n",
    "        [np.cos(phi), 0, np.sin(phi)],\n",
    "        [0, 1, 0],\n",
    "        [-np.sin(phi), 0, np.cos(phi)]\n",
    "    ])\n",
    "    \n",
    "    # Create rotation matrix for rotation around x-axis\n",
    "    Rx = np.array([\n",
    "        [1, 0, 0],\n",
    "        [0, np.cos(alpha), -np.sin(alpha)],\n",
    "        [0, np.sin(alpha), np.cos(alpha)]\n",
    "    ])\n",
    "    \n",
    "    # Combine the rotations (Here @ is matrix multiplication)\n",
    "    R = Rz @ Ry @ Rx\n",
    "\n",
    "    # Apply the rotation matrix to each point (R.T is the transpose of R)\n",
    "    rotated_points = points @ R.T\n",
    "    \n",
    "    return rotated_points"
   ]
  },
  {
   "cell_type": "code",
   "execution_count": 3,
   "id": "d20ec57d-0dc5-4805-ab7b-da7cc722550f",
   "metadata": {
    "tags": []
   },
   "outputs": [],
   "source": [
    "def generate_circle_points(n, radius=1.0):\n",
    "    # Evenly spaced values over the interval 0,2pi. \n",
    "    angles = np.linspace(0, 2 * np.pi, n, endpoint=False)\n",
    "    # Makes the 3D array\n",
    "    points = np.column_stack((radius * np.cos(angles), radius * np.sin(angles), np.zeros(n)))\n",
    "    return points"
   ]
  },
  {
   "cell_type": "code",
   "execution_count": 4,
   "id": "e9d5655b-09d2-42bb-851a-d0f7f100a2d9",
   "metadata": {
    "tags": []
   },
   "outputs": [],
   "source": [
    "def generate_sphere_points(n, rotations, threshold):\n",
    "    # Number of rotations\n",
    "    circle_points = generate_circle_points(n)\n",
    "    angles = np.linspace(0, np.pi, rotations, endpoint=False)  # Uniformly spaced angles\n",
    "\n",
    "    sphere_points = []\n",
    "\n",
    "    for phi in angles:\n",
    "        rotated_circle = rotate_points(circle_points, 0, phi, 0)  # Rotate around y-axis\n",
    "        sphere_points.append(rotated_circle)\n",
    "    sphere_points = np.vstack(sphere_points)\n",
    "    # Set entries to zero where absolute value is less than the threshold\n",
    "    sphere_points[np.abs(sphere_points) < threshold] = 0\n",
    "    # Remove duplicate points\n",
    "    return np.unique(sphere_points, axis=0)"
   ]
  },
  {
   "cell_type": "code",
   "execution_count": 5,
   "id": "004c96c9-a6f2-453e-8e25-6c58ca753f72",
   "metadata": {
    "tags": []
   },
   "outputs": [],
   "source": [
    "sphere_points = generate_sphere_points(5, 5, 0.0000001)"
   ]
  },
  {
   "cell_type": "code",
   "execution_count": 6,
   "id": "1c903acb-f13a-4267-af59-586a07a7666f",
   "metadata": {
    "tags": []
   },
   "outputs": [
    {
     "data": {
      "application/vnd.jupyter.widget-view+json": {
       "model_id": "0ef1b2e558f74eb3ab8e6c3a0af8d655",
       "version_major": 2,
       "version_minor": 0
      },
      "text/plain": [
       "Widget(value='<iframe src=\"http://localhost:56243/index.html?ui=P_0x165d3da60_0&reconnect=auto\" class=\"pyvista…"
      ]
     },
     "metadata": {},
     "output_type": "display_data"
    }
   ],
   "source": [
    "# Visualize using PyVista\n",
    "plotter = pv.Plotter()\n",
    "plotter.add_points(sphere_points, color='blue', point_size=5)\n",
    "plotter.show_grid()\n",
    "plotter.show()"
   ]
  }
 ],
 "metadata": {
  "kernelspec": {
   "display_name": "Python 3 (ipykernel)",
   "language": "python",
   "name": "python3"
  },
  "language_info": {
   "codemirror_mode": {
    "name": "ipython",
    "version": 3
   },
   "file_extension": ".py",
   "mimetype": "text/x-python",
   "name": "python",
   "nbconvert_exporter": "python",
   "pygments_lexer": "ipython3",
   "version": "3.9.10"
  }
 },
 "nbformat": 4,
 "nbformat_minor": 5
}
