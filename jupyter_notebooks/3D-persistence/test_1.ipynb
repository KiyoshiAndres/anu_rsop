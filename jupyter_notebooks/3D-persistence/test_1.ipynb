{
 "cells": [
  {
   "cell_type": "code",
   "execution_count": 1,
   "id": "c4739e30-aa33-43dc-94c0-fdadd6ebe56d",
   "metadata": {},
   "outputs": [],
   "source": [
    "import persistence_functions as pf"
   ]
  },
  {
   "cell_type": "code",
   "execution_count": 2,
   "id": "e9b7a6f9-2478-44e9-9cc6-c7577f33f5b2",
   "metadata": {},
   "outputs": [],
   "source": [
    "direction = [0,0,1]"
   ]
  },
  {
   "cell_type": "code",
   "execution_count": 3,
   "id": "ff06a5ed-fa7b-4dda-b6da-49fad938c983",
   "metadata": {},
   "outputs": [],
   "source": [
    "n = 14\n",
    "points = [[[n,n,n], [n,n,n]]for n in range( n +1)]"
   ]
  },
  {
   "cell_type": "code",
   "execution_count": 4,
   "id": "e76a398d-1349-470c-8e33-9cccdd09d91f",
   "metadata": {},
   "outputs": [
    {
     "name": "stdout",
     "output_type": "stream",
     "text": [
      "[[[0, 0, 0], [0, 0, 0]], [[1, 1, 1], [1, 1, 1]], [[2, 2, 2], [2, 2, 2]], [[3, 3, 3], [3, 3, 3]], [[4, 4, 4], [4, 4, 4]], [[5, 5, 5], [5, 5, 5]], [[6, 6, 6], [6, 6, 6]], [[7, 7, 7], [7, 7, 7]], [[8, 8, 8], [8, 8, 8]], [[9, 9, 9], [9, 9, 9]], [[10, 10, 10], [10, 10, 10]], [[11, 11, 11], [11, 11, 11]], [[12, 12, 12], [12, 12, 12]], [[13, 13, 13], [13, 13, 13]], [[14, 14, 14], [14, 14, 14]]]\n"
     ]
    }
   ],
   "source": [
    "print(points)"
   ]
  },
  {
   "cell_type": "code",
   "execution_count": 5,
   "id": "509f627b-756f-4454-b794-bb013b9398b4",
   "metadata": {},
   "outputs": [],
   "source": [
    "pre_edges = [\n",
    "    # Format: [[index_i, index_j]]\n",
    "    [1, 2],\n",
    "    [2, 4],\n",
    "    [11, 12],\n",
    "    [1, 3],\n",
    "    [4, 7],\n",
    "    [13, 14],\n",
    "    [3, 8],\n",
    "    [6,7],\n",
    "    [8,9],\n",
    "    [5,6],\n",
    "    [9,10],\n",
    "    [1,11]\n",
    "]"
   ]
  },
  {
   "cell_type": "code",
   "execution_count": 6,
   "id": "6119198b-38bc-4491-bf8d-d967918bdeb0",
   "metadata": {},
   "outputs": [],
   "source": [
    "# reindexed_edges = pf.reindex_edges(pre_edges)"
   ]
  },
  {
   "cell_type": "code",
   "execution_count": 7,
   "id": "2f67202b-7775-4fd8-83d4-49f5e6473657",
   "metadata": {},
   "outputs": [],
   "source": [
    "pre_formatted_edges = []\n",
    "for edge in pre_edges:\n",
    "    x,y = edge\n",
    "    pre_formatted_edges.append([[x, y], [1,1,1]])"
   ]
  },
  {
   "cell_type": "code",
   "execution_count": 8,
   "id": "aa3a0365-ee50-4a1d-9587-27a6b4ba8639",
   "metadata": {},
   "outputs": [],
   "source": [
    "pre_vertices = pf.append_height_vertices(direction, points)"
   ]
  },
  {
   "cell_type": "code",
   "execution_count": 9,
   "id": "3b946048-a761-4439-96f0-7b290fee8d57",
   "metadata": {},
   "outputs": [
    {
     "name": "stdout",
     "output_type": "stream",
     "text": [
      "[[[0, 0, 0], 0, [0, 0, 0]], [[1, 1, 1], 1, [1, 1, 1]], [[2, 2, 2], 2, [2, 2, 2]], [[3, 3, 3], 3, [3, 3, 3]], [[4, 4, 4], 4, [4, 4, 4]], [[5, 5, 5], 5, [5, 5, 5]], [[6, 6, 6], 6, [6, 6, 6]], [[7, 7, 7], 7, [7, 7, 7]], [[8, 8, 8], 8, [8, 8, 8]], [[9, 9, 9], 9, [9, 9, 9]], [[10, 10, 10], 10, [10, 10, 10]], [[11, 11, 11], 11, [11, 11, 11]], [[12, 12, 12], 12, [12, 12, 12]], [[13, 13, 13], 13, [13, 13, 13]], [[14, 14, 14], 14, [14, 14, 14]]]\n"
     ]
    }
   ],
   "source": [
    "print(pre_vertices)"
   ]
  },
  {
   "cell_type": "code",
   "execution_count": 10,
   "id": "2fc7510f-ed55-4acd-b363-3dd67dc9b678",
   "metadata": {},
   "outputs": [],
   "source": [
    "vertices = pf.format_vertices(pre_vertices)"
   ]
  },
  {
   "cell_type": "code",
   "execution_count": 11,
   "id": "ba992a45-753a-43c9-a964-114bc76cc36d",
   "metadata": {
    "scrolled": true
   },
   "outputs": [
    {
     "name": "stdout",
     "output_type": "stream",
     "text": [
      "edges---------------------------------\n",
      "[[1, 2], [1, 1, 1]]\n",
      "1\n",
      "2\n",
      "edges---------------------------------\n",
      "[[2, 4], [1, 1, 1]]\n",
      "2\n",
      "4\n",
      "edges---------------------------------\n",
      "[[11, 12], [1, 1, 1]]\n",
      "11\n",
      "12\n",
      "edges---------------------------------\n",
      "[[1, 3], [1, 1, 1]]\n",
      "1\n",
      "3\n",
      "edges---------------------------------\n",
      "[[4, 7], [1, 1, 1]]\n",
      "4\n",
      "7\n",
      "edges---------------------------------\n",
      "[[13, 14], [1, 1, 1]]\n",
      "13\n",
      "14\n",
      "edges---------------------------------\n",
      "[[3, 8], [1, 1, 1]]\n",
      "3\n",
      "8\n",
      "edges---------------------------------\n",
      "[[6, 7], [1, 1, 1]]\n",
      "6\n",
      "7\n",
      "edges---------------------------------\n",
      "[[8, 9], [1, 1, 1]]\n",
      "8\n",
      "9\n",
      "edges---------------------------------\n",
      "[[5, 6], [1, 1, 1]]\n",
      "5\n",
      "6\n",
      "edges---------------------------------\n",
      "[[9, 10], [1, 1, 1]]\n",
      "9\n",
      "10\n",
      "edges---------------------------------\n",
      "[[1, 11], [1, 1, 1]]\n",
      "1\n",
      "11\n"
     ]
    }
   ],
   "source": [
    "edges = pf.format_edges(vertices, pre_formatted_edges)"
   ]
  },
  {
   "cell_type": "code",
   "execution_count": 12,
   "id": "b7e26931-a4cc-4de3-a6bb-989609a318c7",
   "metadata": {},
   "outputs": [
    {
     "name": "stdout",
     "output_type": "stream",
     "text": [
      "dictionary of indices\n",
      "{0: 0, 1: 1, 2: 2, 3: 3, 4: 4, 5: 5, 6: 6, 7: 7, 8: 8, 9: 9, 10: 10, 11: 11, 12: 12, 13: 13, 14: 14}\n"
     ]
    }
   ],
   "source": [
    "graph = pf.process_graph(vertices, edges, direction)"
   ]
  },
  {
   "cell_type": "code",
   "execution_count": 13,
   "id": "d5c44faf-5a5b-4746-849e-26d541a0d534",
   "metadata": {},
   "outputs": [],
   "source": [
    "filtration = pf.group_events_by_height(graph[0], graph[1])"
   ]
  },
  {
   "cell_type": "markdown",
   "id": "9d7e4e14-ca03-4181-8011-82dc353f5e68",
   "metadata": {},
   "source": [
    "# Filtration Algorithm Start"
   ]
  },
  {
   "cell_type": "code",
   "execution_count": 14,
   "id": "d5345424-10a2-4f30-b7ea-b543f27d9111",
   "metadata": {},
   "outputs": [
    {
     "name": "stdout",
     "output_type": "stream",
     "text": [
      "Initialized UnionFind:\n",
      "parent: [0, 1, 2, 3, 4, 5, 6, 7, 8, 9, 10, 11, 12, 13, 14]\n",
      "rank  : [0, 1, 2, 3, 4, 5, 6, 7, 8, 9, 10, 11, 12, 13, 14]\n",
      "\n"
     ]
    }
   ],
   "source": [
    "uf = pf.UnionFind(graph[0])"
   ]
  },
  {
   "cell_type": "code",
   "execution_count": 15,
   "id": "cfbbd628-0ca3-4918-81b4-53fe0a25fca7",
   "metadata": {},
   "outputs": [],
   "source": [
    "# Horizontal Step\n",
    "def horizontal_step(edges: list):\n",
    "    for edge in edges:\n",
    "        x ,y = edge['vertices']\n",
    "        uf.union(x, y)"
   ]
  },
  {
   "cell_type": "code",
   "execution_count": 16,
   "id": "6c8c3a5f-7fb7-4d87-b892-e28ed2f3a1f6",
   "metadata": {},
   "outputs": [],
   "source": [
    "def vertical_step(edges: list, components: dict, mergers: dict):\n",
    "    for edge in edges:\n",
    "        x ,y = edge['vertices']\n",
    "        roots = uf.union(x, y)\n",
    "        rootX = roots[x]['root']\n",
    "        rootY = roots[y]['root']\n",
    "        rankX = roots[x]['rank']\n",
    "        rankY = roots[y]['rank']\n",
    "        if rootX != rootY:\n",
    "            if rootX in components and rootY in components:\n",
    "                print(f'Component with root {rootY} got merged.')\n",
    "                print(rankX, rankY)\n",
    "                if rankY > rankX:\n",
    "                    mergers[rootY]=max(edge['height'])\n",
    "                    del components[rootY]\n",
    "                elif rankX > rankY:\n",
    "                    mergers[rootX]=max(edge['height'])\n",
    "                    del components[rootX]\n",
    "                else:\n",
    "                    mergers[rootY]=max(edge['height'])\n",
    "                    del components[rootY]"
   ]
  },
  {
   "cell_type": "code",
   "execution_count": 17,
   "id": "6a31ec73-86a4-4043-8967-07b98fb80ef0",
   "metadata": {},
   "outputs": [],
   "source": [
    "def compute_components(vertices, old_components):\n",
    "    components = old_components\n",
    "    for vertex in vertices:\n",
    "        node = vertex['new_index']\n",
    "        root = uf.find(node)  # This finds the representative of the component containing 'node'\n",
    "        if root not in components:\n",
    "            components[root] = []\n",
    "        if node not in components[root]:\n",
    "            components[root].append(node)\n",
    "    return components"
   ]
  },
  {
   "cell_type": "code",
   "execution_count": 18,
   "id": "54203d87-f294-4c69-aefb-3cd7714d4385",
   "metadata": {},
   "outputs": [],
   "source": [
    "def compute_new_births(vertices):\n",
    "    new_components = []\n",
    "    for vertex in vertices:\n",
    "        node = vertex['new_index']\n",
    "        root = uf.find(node)  # This finds the representative of the component containing 'node'\n",
    "        if root == node:\n",
    "            new_components.append(vertex)\n",
    "    for component in new_components:\n",
    "        print(f\"New Component with root {component}.\")\n",
    "    return new_components"
   ]
  },
  {
   "cell_type": "code",
   "execution_count": 19,
   "id": "10a15438-2798-47b3-a6e6-bdf06860cd5a",
   "metadata": {},
   "outputs": [
    {
     "name": "stdout",
     "output_type": "stream",
     "text": [
      "Height:  0\n",
      "Merged Components------------------------\n",
      "Component with root 0: [0]\n",
      "Merged Components------------------------\n",
      "New Births----------------------------------------------\n",
      "New Component with root {'coordinates': [0, 0, 0], 'original_index': 0, 'new_index': 0, 'height': 0, 'sign': 0}.\n",
      "New Births----------------------------------------------\n",
      "Height:  1\n",
      "Merged Components------------------------\n",
      "Component with root 0: [0]\n",
      "Component with root 1: [1]\n",
      "Merged Components------------------------\n",
      "New Births----------------------------------------------\n",
      "New Component with root {'coordinates': [1, 1, 1], 'original_index': 1, 'new_index': 1, 'height': 1, 'sign': 1}.\n",
      "New Births----------------------------------------------\n",
      "Height:  2\n",
      "Union(1, 2):\n",
      " - root of 1 is 1\n",
      " - root of 2 is 2\n",
      "Merged Components------------------------\n",
      "Component with root 0: [0]\n",
      "Component with root 1: [1, 2]\n",
      "Merged Components------------------------\n",
      "New Births----------------------------------------------\n",
      "New Births----------------------------------------------\n",
      "Height:  3\n",
      "Union(1, 3):\n",
      " - root of 1 is 1\n",
      " - root of 3 is 3\n",
      "Merged Components------------------------\n",
      "Component with root 0: [0]\n",
      "Component with root 1: [1, 2, 3]\n",
      "Merged Components------------------------\n",
      "New Births----------------------------------------------\n",
      "New Births----------------------------------------------\n",
      "Height:  4\n",
      "Union(2, 4):\n",
      " - root of 2 is 1\n",
      " - root of 4 is 4\n",
      "Merged Components------------------------\n",
      "Component with root 0: [0]\n",
      "Component with root 1: [1, 2, 3, 4]\n",
      "Merged Components------------------------\n",
      "New Births----------------------------------------------\n",
      "New Births----------------------------------------------\n",
      "Height:  5\n",
      "Merged Components------------------------\n",
      "Component with root 0: [0]\n",
      "Component with root 1: [1, 2, 3, 4]\n",
      "Component with root 5: [5]\n",
      "Merged Components------------------------\n",
      "New Births----------------------------------------------\n",
      "New Component with root {'coordinates': [5, 5, 5], 'original_index': 5, 'new_index': 5, 'height': 5, 'sign': 1}.\n",
      "New Births----------------------------------------------\n",
      "Height:  6\n",
      "Union(5, 6):\n",
      " - root of 5 is 5\n",
      " - root of 6 is 6\n",
      "Merged Components------------------------\n",
      "Component with root 0: [0]\n",
      "Component with root 1: [1, 2, 3, 4]\n",
      "Component with root 5: [5, 6]\n",
      "Merged Components------------------------\n",
      "New Births----------------------------------------------\n",
      "New Births----------------------------------------------\n",
      "Height:  7\n",
      "Union(4, 7):\n",
      " - root of 4 is 1\n",
      " - root of 7 is 7\n",
      "Union(6, 7):\n",
      " - root of 6 is 5\n",
      " - root of 7 is 1\n",
      "Component with root 1 got merged.\n",
      "5 1\n",
      "this happened toooooo_________________\n",
      "Merged Components------------------------\n",
      "Component with root 0: [0]\n",
      "Component with root 1: [1, 2, 3, 4, 5, 6, 7]\n",
      "Merged Components------------------------\n",
      "New Births----------------------------------------------\n",
      "New Births----------------------------------------------\n",
      "Height:  8\n",
      "Union(3, 8):\n",
      " - root of 3 is 1\n",
      " - root of 8 is 8\n",
      "Merged Components------------------------\n",
      "Component with root 0: [0]\n",
      "Component with root 1: [1, 2, 3, 4, 5, 6, 7, 8]\n",
      "Merged Components------------------------\n",
      "New Births----------------------------------------------\n",
      "New Births----------------------------------------------\n",
      "Height:  9\n",
      "Union(8, 9):\n",
      " - root of 8 is 1\n",
      " - root of 9 is 9\n",
      "Merged Components------------------------\n",
      "Component with root 0: [0]\n",
      "Component with root 1: [1, 2, 3, 4, 5, 6, 7, 8, 9]\n",
      "Merged Components------------------------\n",
      "New Births----------------------------------------------\n",
      "New Births----------------------------------------------\n",
      "Height:  10\n",
      "Union(9, 10):\n",
      " - root of 9 is 1\n",
      " - root of 10 is 10\n",
      "Merged Components------------------------\n",
      "Component with root 0: [0]\n",
      "Component with root 1: [1, 2, 3, 4, 5, 6, 7, 8, 9, 10]\n",
      "Merged Components------------------------\n",
      "New Births----------------------------------------------\n",
      "New Births----------------------------------------------\n",
      "Height:  11\n",
      "Union(1, 11):\n",
      " - root of 1 is 1\n",
      " - root of 11 is 11\n",
      "Merged Components------------------------\n",
      "Component with root 0: [0]\n",
      "Component with root 1: [1, 2, 3, 4, 5, 6, 7, 8, 9, 10, 11]\n",
      "Merged Components------------------------\n",
      "New Births----------------------------------------------\n",
      "New Births----------------------------------------------\n",
      "Height:  12\n",
      "Union(11, 12):\n",
      " - root of 11 is 1\n",
      " - root of 12 is 12\n",
      "Merged Components------------------------\n",
      "Component with root 0: [0]\n",
      "Component with root 1: [1, 2, 3, 4, 5, 6, 7, 8, 9, 10, 11, 12]\n",
      "Merged Components------------------------\n",
      "New Births----------------------------------------------\n",
      "New Births----------------------------------------------\n",
      "Height:  13\n",
      "Merged Components------------------------\n",
      "Component with root 0: [0]\n",
      "Component with root 1: [1, 2, 3, 4, 5, 6, 7, 8, 9, 10, 11, 12]\n",
      "Component with root 13: [13]\n",
      "Merged Components------------------------\n",
      "New Births----------------------------------------------\n",
      "New Component with root {'coordinates': [13, 13, 13], 'original_index': 13, 'new_index': 13, 'height': 13, 'sign': 1}.\n",
      "New Births----------------------------------------------\n",
      "Height:  14\n",
      "Union(13, 14):\n",
      " - root of 13 is 13\n",
      " - root of 14 is 14\n",
      "Merged Components------------------------\n",
      "Component with root 0: [0]\n",
      "Component with root 1: [1, 2, 3, 4, 5, 6, 7, 8, 9, 10, 11, 12]\n",
      "Component with root 13: [13, 14]\n",
      "Merged Components------------------------\n",
      "New Births----------------------------------------------\n",
      "New Births----------------------------------------------\n"
     ]
    }
   ],
   "source": [
    "total_components = {}\n",
    "mergers = {}\n",
    "total_vertices = []\n",
    "births = []\n",
    "for height, stage in filtration.items():\n",
    "    print('Height: ', height)\n",
    "    horizontal_edges = stage['horizontal_edges']\n",
    "    vertical_edges = stage['vertical_edges']\n",
    "    vertices = stage['points']\n",
    "\n",
    "    # We join the horizontal edges\n",
    "    horizontal_step(horizontal_edges)\n",
    "    \n",
    "    # We join the vertical edges\n",
    "    vertical_step(vertical_edges, total_components, mergers)\n",
    "    total_vertices.extend(vertices)\n",
    "\n",
    "    # We compute the new components\n",
    "\n",
    "    print(\"Merged Components------------------------\")\n",
    "    current_components = compute_components(total_vertices, total_components)\n",
    "    for root, comp in current_components.items():\n",
    "        print(f\"Component with root {root}: {comp}\")\n",
    "    print(\"Merged Components------------------------\")\n",
    "\n",
    "    total_components = current_components\n",
    "\n",
    "    # We compute the horizontal connected components at a given stage, the unmerged are new components\n",
    "    print(\"New Births----------------------------------------------\")\n",
    "    new_births = compute_new_births(vertices)\n",
    "    births.extend(new_births)\n",
    "    print(\"New Births----------------------------------------------\")"
   ]
  },
  {
   "cell_type": "code",
   "execution_count": 20,
   "id": "99bbbb60-e95c-43e8-a704-80db1894ee57",
   "metadata": {},
   "outputs": [
    {
     "name": "stdout",
     "output_type": "stream",
     "text": [
      "{'coordinates': [0, 0, 0], 'original_index': 0, 'new_index': 0, 'height': 0, 'sign': 0}\n",
      "{'coordinates': [1, 1, 1], 'original_index': 1, 'new_index': 1, 'height': 1, 'sign': 1}\n",
      "{'coordinates': [5, 5, 5], 'original_index': 5, 'new_index': 5, 'height': 5, 'sign': 1}\n",
      "{'coordinates': [13, 13, 13], 'original_index': 13, 'new_index': 13, 'height': 13, 'sign': 1}\n"
     ]
    }
   ],
   "source": [
    "for birth in births:\n",
    "    print(birth)"
   ]
  },
  {
   "cell_type": "code",
   "execution_count": 21,
   "id": "1441596b-2180-48dc-b408-1bde5ef52066",
   "metadata": {},
   "outputs": [
    {
     "name": "stdout",
     "output_type": "stream",
     "text": [
      "5 7\n"
     ]
    }
   ],
   "source": [
    "for key, merger in mergers.items():\n",
    "    print(key, merger)"
   ]
  },
  {
   "cell_type": "code",
   "execution_count": 22,
   "id": "cbabc34f-4a93-41e5-af0d-7f368d8a4864",
   "metadata": {},
   "outputs": [
    {
     "name": "stdout",
     "output_type": "stream",
     "text": [
      "{0: [0], 1: [1, 2, 3, 4, 5, 6, 7, 8, 9, 10, 11, 12], 13: [13, 14]}\n"
     ]
    }
   ],
   "source": [
    "print(total_components)"
   ]
  }
 ],
 "metadata": {
  "kernelspec": {
   "display_name": "Python 3 (ipykernel)",
   "language": "python",
   "name": "python3"
  },
  "language_info": {
   "codemirror_mode": {
    "name": "ipython",
    "version": 3
   },
   "file_extension": ".py",
   "mimetype": "text/x-python",
   "name": "python",
   "nbconvert_exporter": "python",
   "pygments_lexer": "ipython3",
   "version": "3.12.3"
  }
 },
 "nbformat": 4,
 "nbformat_minor": 5
}
