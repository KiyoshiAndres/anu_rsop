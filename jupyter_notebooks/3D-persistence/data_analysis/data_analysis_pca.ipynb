{
 "cells": [
  {
   "cell_type": "code",
   "execution_count": 1,
   "id": "31919242-2072-4d18-97f0-e4e8eb06dce6",
   "metadata": {
    "tags": []
   },
   "outputs": [],
   "source": [
    "import json\n",
    "import pandas as pd\n",
    "import numpy as np"
   ]
  },
  {
   "cell_type": "code",
   "execution_count": 2,
   "id": "acfd8b9f-2711-47b9-941f-35fc09b985e7",
   "metadata": {
    "tags": []
   },
   "outputs": [],
   "source": [
    "# 1) Load the entire JSON\n",
    "with open('../optimizations/BettiZeroSegmentations5.json') as f:\n",
    "    data = json.load(f)"
   ]
  },
  {
   "cell_type": "markdown",
   "id": "2e161db3-6f96-4483-ac0a-c00b7fcfd2bc",
   "metadata": {},
   "source": [
    "### Building The Vector"
   ]
  },
  {
   "cell_type": "markdown",
   "id": "55b1ed09-b2b0-4134-9f14-1ab855780997",
   "metadata": {},
   "source": [
    "In the preprint by Haruhisa Oda, he uses $N\\times K\\times m$ vectors, where $m$ is the number of longest bars, and $N$ is the number of projections, $K$ is the number of directions. Since I am using $3D$ persistence, I will use the same $m$ as in his papers $m=5$, but will not be doing $N\\times K$."
   ]
  },
  {
   "cell_type": "code",
   "execution_count": 3,
   "id": "b32f589c-5183-4b00-b585-bce1a7d6ed9a",
   "metadata": {
    "scrolled": true,
    "tags": []
   },
   "outputs": [
    {
     "name": "stdout",
     "output_type": "stream",
     "text": [
      "Lung segmentation-AI-19\n",
      "Lung segmentation-AI-2\n",
      "Lung segmentation-25\n",
      "Lung segmentation-20\n",
      "Lung segmentation-AI-32\n",
      "Lung segmentation-52\n",
      "Lung segmentation-48\n",
      "Lung segmentation-AI-10\n",
      "Lung segmentation-AI-25\n",
      "Lung segmentation-AI-17\n",
      "Lung segmentation-AI-15\n",
      "Lung segmentation-AI-9\n",
      "Lung segmentation-AI-20\n",
      "Lung segmentation-36\n",
      "Lung segmentation-17\n",
      "Lung segmentation-2\n",
      "Lung segmentation-34\n",
      "Lung segmentation-AI-34\n",
      "Lung segmentation-AI-29\n",
      "Lung segmentation-19\n",
      "Lung segmentation-65\n",
      "Lung segmentation-AI-48\n",
      "Lung segmentation-56\n",
      "Lung segmentation-32\n",
      "Lung segmentation-39\n",
      "Lung segmentation-4\n",
      "Lung segmentation-57\n",
      "Lung segmentation-9\n",
      "Lung segmentation-AI-39\n",
      "Lung segmentation-10\n",
      "Lung segmentation-15\n",
      "Lung segmentation-AI-36\n",
      "Lung segmentation-AI-4\n"
     ]
    }
   ],
   "source": [
    "seg_vectors = {}\n",
    "# 2) Loop over each segmentation block...\n",
    "for seg_name, seg_samples in data.items():\n",
    "    print(seg_name)\n",
    "    if \"-AI-\" not in seg_name:\n",
    "        pca_vector = []\n",
    "        for val in seg_samples.values():\n",
    "            for bar in val['largest_bars']:\n",
    "                pca_vector.append(bar[1]-bar[0])      \n",
    "        seg_vectors[seg_name] = pca_vector"
   ]
  },
  {
   "cell_type": "markdown",
   "id": "d7ba2362-7c44-41de-93f6-c004526b0049",
   "metadata": {},
   "source": [
    "### Conducting PCA"
   ]
  },
  {
   "cell_type": "code",
   "execution_count": 4,
   "id": "decaad40-acaa-44c1-81dc-60eb25624a45",
   "metadata": {
    "tags": []
   },
   "outputs": [],
   "source": [
    "from sklearn.preprocessing import StandardScaler\n",
    "from sklearn.decomposition import PCA\n",
    "import matplotlib.pyplot as plt"
   ]
  },
  {
   "cell_type": "code",
   "execution_count": 5,
   "id": "0c4e42c7-5759-4601-b8ea-382d0bfd512a",
   "metadata": {
    "tags": []
   },
   "outputs": [
    {
     "name": "stdout",
     "output_type": "stream",
     "text": [
      "Explained variance ratios: [0.57655737 0.09238007]\n"
     ]
    },
    {
     "data": {
      "text/html": [
       "<div>\n",
       "<style scoped>\n",
       "    .dataframe tbody tr th:only-of-type {\n",
       "        vertical-align: middle;\n",
       "    }\n",
       "\n",
       "    .dataframe tbody tr th {\n",
       "        vertical-align: top;\n",
       "    }\n",
       "\n",
       "    .dataframe thead th {\n",
       "        text-align: right;\n",
       "    }\n",
       "</style>\n",
       "<table border=\"1\" class=\"dataframe\">\n",
       "  <thead>\n",
       "    <tr style=\"text-align: right;\">\n",
       "      <th></th>\n",
       "      <th>PC1</th>\n",
       "      <th>PC2</th>\n",
       "    </tr>\n",
       "  </thead>\n",
       "  <tbody>\n",
       "    <tr>\n",
       "      <th>25</th>\n",
       "      <td>-9.221250</td>\n",
       "      <td>7.018030</td>\n",
       "    </tr>\n",
       "    <tr>\n",
       "      <th>20</th>\n",
       "      <td>-29.246008</td>\n",
       "      <td>4.313358</td>\n",
       "    </tr>\n",
       "    <tr>\n",
       "      <th>52</th>\n",
       "      <td>11.967580</td>\n",
       "      <td>-11.550573</td>\n",
       "    </tr>\n",
       "    <tr>\n",
       "      <th>48</th>\n",
       "      <td>18.134399</td>\n",
       "      <td>10.983495</td>\n",
       "    </tr>\n",
       "    <tr>\n",
       "      <th>36</th>\n",
       "      <td>1.227210</td>\n",
       "      <td>-14.667312</td>\n",
       "    </tr>\n",
       "  </tbody>\n",
       "</table>\n",
       "</div>"
      ],
      "text/plain": [
       "          PC1        PC2\n",
       "25  -9.221250   7.018030\n",
       "20 -29.246008   4.313358\n",
       "52  11.967580 -11.550573\n",
       "48  18.134399  10.983495\n",
       "36   1.227210 -14.667312"
      ]
     },
     "metadata": {},
     "output_type": "display_data"
    },
    {
     "data": {
      "image/png": "[encoded data removed]",
      "text/plain": [
       "<Figure size 600x500 with 1 Axes>"
      ]
     },
     "metadata": {},
     "output_type": "display_data"
    }
   ],
   "source": [
    "# -------------------------------------------------\n",
    "# 1)  Pack the dict into a (n_samples, n_features) matrix\n",
    "# -------------------------------------------------\n",
    "names   = list(seg_vectors.keys())              # preserve order\n",
    "X_array = np.vstack([seg_vectors[n] for n in names])\n",
    "\n",
    "# -------------------------------------------------\n",
    "# 2)  (Recommended) z-score the features\n",
    "# -------------------------------------------------\n",
    "scaler = StandardScaler()\n",
    "X_std = scaler.fit_transform(X_array)\n",
    "\n",
    "# -------------------------------------------------\n",
    "# 3)  Fit PCA and get the scores\n",
    "# -------------------------------------------------\n",
    "pca = PCA(n_components=2, svd_solver='auto', random_state=0)\n",
    "PC_scores = pca.fit_transform(X_std)         # shape: (n_samples, 2)\n",
    "\n",
    "# Pack into a neat DataFrame\n",
    "numbers = [int(s.split('-')[-1]) for s in names]\n",
    "pca_scores = pd.DataFrame(PC_scores, columns=['PC1', 'PC2'], index=numbers)\n",
    "\n",
    "# -------------------------------------------------\n",
    "# 4)  Inspect results\n",
    "# -------------------------------------------------\n",
    "print('Explained variance ratios:', pca.explained_variance_ratio_)\n",
    "display(pca_scores.head())\n",
    "\n",
    "# Optional visualisation\n",
    "plt.figure(figsize=(6, 5))\n",
    "plt.scatter(pca_scores['PC1'], pca_scores['PC2'])\n",
    "for txt, (x, y) in pca_scores.iterrows():\n",
    "    plt.annotate(txt, (x, y), fontsize=8, alpha=0.7)\n",
    "plt.xlabel('PC1')\n",
    "plt.ylabel('PC2')\n",
    "plt.title('Segmentation vectors in the PC1–PC2 plane')\n",
    "plt.tight_layout()\n",
    "plt.show()"
   ]
  },
  {
   "cell_type": "code",
   "execution_count": null,
   "id": "bd2767c9-f341-4c7b-bc72-883c10a68f00",
   "metadata": {},
   "outputs": [],
   "source": []
  }
 ],
 "metadata": {
  "kernelspec": {
   "display_name": "Python 3 (ipykernel)",
   "language": "python",
   "name": "python3"
  },
  "language_info": {
   "codemirror_mode": {
    "name": "ipython",
    "version": 3
   },
   "file_extension": ".py",
   "mimetype": "text/x-python",
   "name": "python",
   "nbconvert_exporter": "python",
   "pygments_lexer": "ipython3",
   "version": "3.12.3"
  }
 },
 "nbformat": 4,
 "nbformat_minor": 5
}
