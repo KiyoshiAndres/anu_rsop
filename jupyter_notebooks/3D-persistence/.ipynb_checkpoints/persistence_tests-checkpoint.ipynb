{
 "cells": [
  {
   "cell_type": "code",
   "execution_count": 1,
   "id": "bf4b949c-78e0-42fa-bc13-45c69a6da7b7",
   "metadata": {
    "tags": []
   },
   "outputs": [],
   "source": [
    "from persistence_functions import process_graph, compute_critical_points, format_graph, subdivide_edges"
   ]
  },
  {
   "cell_type": "markdown",
   "id": "2aac43b3-1c64-47d4-b7a8-f42ff92cb038",
   "metadata": {},
   "source": [
    "### Explanation of Algorithm"
   ]
  },
  {
   "cell_type": "markdown",
   "id": "0f601944-dade-4935-9605-f20d9276b66c",
   "metadata": {},
   "source": [
    "We start with a set of vertices and edges. Our vertices are dictionaries that contain the following data:\n",
    "Our edges are dictionaries that contain the following data:\n",
    "\n",
    "The set of vertices and edges are processed so that they now contain a height with respect to some direction. They are also given a new ordering with respect to that height, and with respect to their x,y,z coordinates (with x<y<z).\n",
    "\n",
    "\n",
    "\n",
    "After the vertices and edges are processed, they are ready to be fed into the Union Find algorithm. There are many cases:\n",
    "\n",
    "\n",
    "\n",
    "Nth step:\n",
    "We perform UnionFind on the set of vertices at Nth height, and a subset of edges for which all endpoints have height Nth height, generating a set of connected components. \n",
    "\n",
    "We then perform UnionFind on the edges of mixed height (<Nth height, Nth height), and all components.\n",
    "\n",
    "At the end of the Union Find, we state:\n",
    "\n",
    "1- Which are new connected components (If the root of the connected component does not change after this step).\n",
    "\n",
    "\n",
    "2- Which are continuation of previous connected components (If from the N-1th set of components, there is a pairing with at least one Nth step component: Y shape possibly)\n",
    "\n",
    "\n",
    "3- Which merge two or more connected components (If from the N-1th set of components, multiple components are paired with possibly many Nth component)\n",
    "\n",
    "To decide this, we only need to check which N-1th components change root. We don't care about the merged Nth components.\n",
    "To keep track of the unmerged Nth components, we keep track which do not change root.\n",
    "\n",
    "The output of the Nth stage is a set of connected components, as well as an indicator of which components got merged and which components got created."
   ]
  },
  {
   "cell_type": "code",
   "execution_count": 2,
   "id": "25f6e4be-862a-494d-9d3c-e53b34c242bb",
   "metadata": {},
   "outputs": [],
   "source": [
    "def compute_horizontal_step(vertices: list, horizontal_edges: list) -> list:\n",
    "    '''Input: List of vertices of height n, and list of horizontal edges of height n.\n",
    "    Output: TODO\n",
    "    '''\n",
    "    components = []\n",
    "    return components"
   ]
  },
  {
   "cell_type": "code",
   "execution_count": 3,
   "id": "2393e60c-40c5-4aa4-b57b-b3a233f06acd",
   "metadata": {},
   "outputs": [],
   "source": [
    "def compute_vertical_step(previous_components: list, current_components: list, angled_edges: list) -> list:\n",
    "    '''Input: List of vertices of height n, and list of horizontal edges of height n.\n",
    "    Output: TODO\n",
    "    Prints: \n",
    "        New Connected Components (Subset of current__components):\n",
    "        Merged Components (Subset of previous_components):\n",
    "    '''\n",
    "    for edge in angled_edges:\n",
    "        # UnionFind merge current connected component with previous_connected_component\n",
    "        # If current connected component was already merged with that edge do nothing\n",
    "        # If current connected component wasn't already merged with that edge, add root to a set\n",
    "        edge\n",
    "        \n",
    "    \n",
    "    new_connected_components = []\n",
    "    merged_components = []\n",
    "    components = []\n",
    "    print(\"New Connected Components: {}\".format(new_connected_components))\n",
    "    print(\"Merged Components: {}\".format(merged_components))\n",
    "    return components"
   ]
  },
  {
   "cell_type": "code",
   "execution_count": 4,
   "id": "ad6d983d-66cb-4b81-8c1d-2459f042859b",
   "metadata": {},
   "outputs": [],
   "source": [
    "def compute_ordinary_0(graph: list) -> list:\n",
    "    '''\n",
    "    Input: Graph of vertices and edges\n",
    "    Output: A list of Components [root, birth, death]\n",
    "    '''\n",
    "    components = []\n",
    "    return components"
   ]
  },
  {
   "cell_type": "code",
   "execution_count": 5,
   "id": "a1e5908a-3744-42b2-8a15-c4ca008123b4",
   "metadata": {},
   "outputs": [],
   "source": [
    "points = [\n",
    "    # Format: [index, height, vector n]\n",
    "    [[1,1,1], 1, [1, 1, -1]],\n",
    "    [[2,2,2], 2, [2, 2, -2]],\n",
    "    [[3,3,3], 2, [3, 2, 4]],\n",
    "    [[4,4,4], 3, [4, 3, 3]],\n",
    "    [[5,5,5], 4, [5, 4, 2]],\n",
    "    [[6,6,6], 6, [6, 6, 6]],\n",
    "    [[7,7,7], 7, [7, 7, 7]]\n",
    "]\n",
    "\n",
    "edges = [\n",
    "    # Format: [[index_i, index_j], height, vector n]\n",
    "    [[1, 2], [1,2], [1, 1, -1]],\n",
    "    [[2, 3], [2,2], [2, 2, -2]],\n",
    "    [[3, 4], [2,3], [3, 2, 4]],\n",
    "    [[4, 5], [3,4], [4, 3, 3]],\n",
    "    [[6, 7], [6,7], [5, 4, 2]],\n",
    "    [[5, 6], [4,6], [6, 6, 6]]\n",
    "]\n",
    "graph = [points, edges]"
   ]
  },
  {
   "cell_type": "code",
   "execution_count": 6,
   "id": "577af0bd-659d-4554-9880-ef1638fc42ad",
   "metadata": {},
   "outputs": [],
   "source": [
    "formatted_vertices, formatted_edges = format_graph(graph)"
   ]
  },
  {
   "cell_type": "code",
   "execution_count": 7,
   "id": "d2dbe121-6a08-4a60-860d-f52722a8dd29",
   "metadata": {},
   "outputs": [
    {
     "name": "stdout",
     "output_type": "stream",
     "text": [
      "[{'vertices': [1, 2], 'height': [1, 2], 'n': [1, 1, -1]}, {'vertices': [2, 3], 'height': [[2, 2]], 'n': [2, 2, -2]}, {'vertices': [3, 4], 'height': [2, 3], 'n': [3, 2, 4]}, {'vertices': [4, 5], 'height': [3, 4], 'n': [4, 3, 3]}, {'vertices': [6, 7], 'height': [6, 7], 'n': [5, 4, 2]}, {'vertices': [5, 6], 'height': [4, 6], 'n': [6, 6, 6]}]\n"
     ]
    }
   ],
   "source": [
    "print(formatted_edges)"
   ]
  },
  {
   "cell_type": "code",
   "execution_count": 8,
   "id": "523fef67-9171-4008-9156-937ea22b0904",
   "metadata": {
    "tags": []
   },
   "outputs": [
    {
     "name": "stdout",
     "output_type": "stream",
     "text": [
      "2\n",
      "{'vertices': [1, 2], 'height': [1, 2], 'n': [1, 1, -1]}\n",
      "[2, 2]\n",
      "{'vertices': [2, 3], 'height': [[2, 2]], 'n': [2, 2, -2]}\n",
      "3\n",
      "{'vertices': [3, 4], 'height': [2, 3], 'n': [3, 2, 4]}\n",
      "4\n",
      "{'vertices': [4, 5], 'height': [3, 4], 'n': [4, 3, 3]}\n",
      "7\n",
      "{'vertices': [6, 7], 'height': [6, 7], 'n': [5, 4, 2]}\n",
      "6\n",
      "{'vertices': [5, 6], 'height': [4, 6], 'n': [6, 6, 6]}\n"
     ]
    },
    {
     "ename": "TypeError",
     "evalue": "'<' not supported between instances of 'list' and 'int'",
     "output_type": "error",
     "traceback": [
      "\u001b[0;31m---------------------------------------------------------------------------\u001b[0m",
      "\u001b[0;31mTypeError\u001b[0m                                 Traceback (most recent call last)",
      "Cell \u001b[0;32mIn[8], line 1\u001b[0m\n\u001b[0;32m----> 1\u001b[0m processed_graph \u001b[38;5;241m=\u001b[39m \u001b[43mprocess_graph\u001b[49m\u001b[43m(\u001b[49m\u001b[43mformatted_vertices\u001b[49m\u001b[43m,\u001b[49m\u001b[43m \u001b[49m\u001b[43mformatted_edges\u001b[49m\u001b[43m,\u001b[49m\u001b[43m \u001b[49m\u001b[43m[\u001b[49m\u001b[38;5;241;43m1\u001b[39;49m\u001b[43m,\u001b[49m\u001b[38;5;241;43m0\u001b[39;49m\u001b[43m,\u001b[49m\u001b[38;5;241;43m0\u001b[39;49m\u001b[43m]\u001b[49m\u001b[43m)\u001b[49m\n",
      "File \u001b[0;32m~/anu_rsop/jupyter_notebooks/3D-persistence/persistence_functions.py:149\u001b[0m, in \u001b[0;36mprocess_graph\u001b[0;34m(vertices, edges, direction)\u001b[0m\n\u001b[1;32m    143\u001b[0m \u001b[38;5;28;01mdef\u001b[39;00m \u001b[38;5;21mprocess_graph\u001b[39m(vertices, edges, direction):\n\u001b[1;32m    144\u001b[0m \u001b[38;5;250m    \u001b[39m\u001b[38;5;124;03m\"\"\"\u001b[39;00m\n\u001b[1;32m    145\u001b[0m \u001b[38;5;124;03m        The input are vertices and edges and a direction.\u001b[39;00m\n\u001b[1;32m    146\u001b[0m \u001b[38;5;124;03m        \u001b[39;00m\n\u001b[1;32m    147\u001b[0m \u001b[38;5;124;03m        The output is a graph ordered by height, and by x,y,z. The normal vectors are replaced with the sign.\u001b[39;00m\n\u001b[1;32m    148\u001b[0m \u001b[38;5;124;03m    \"\"\"\u001b[39;00m\n\u001b[0;32m--> 149\u001b[0m     processed_graph \u001b[38;5;241m=\u001b[39m \u001b[43morder_graph\u001b[49m\u001b[43m(\u001b[49m\u001b[43mvertices\u001b[49m\u001b[43m,\u001b[49m\u001b[43m \u001b[49m\u001b[43medges\u001b[49m\u001b[43m)\u001b[49m\n\u001b[1;32m    150\u001b[0m     signed_graph \u001b[38;5;241m=\u001b[39m obtain_sign(processed_graph, direction)\n\u001b[1;32m    151\u001b[0m     \u001b[38;5;28;01mreturn\u001b[39;00m signed_graph\n",
      "File \u001b[0;32m~/anu_rsop/jupyter_notebooks/3D-persistence/persistence_functions.py:224\u001b[0m, in \u001b[0;36morder_graph\u001b[0;34m(vertices, edges)\u001b[0m\n\u001b[1;32m    222\u001b[0m     \u001b[38;5;28mprint\u001b[39m(edge)\n\u001b[1;32m    223\u001b[0m \u001b[38;5;66;03m# Step 4: Sort the edges\u001b[39;00m\n\u001b[0;32m--> 224\u001b[0m sorted_edges \u001b[38;5;241m=\u001b[39m \u001b[38;5;28;43msorted\u001b[39;49m\u001b[43m(\u001b[49m\n\u001b[1;32m    225\u001b[0m \u001b[43m    \u001b[49m\u001b[43medges\u001b[49m\u001b[43m,\u001b[49m\n\u001b[1;32m    226\u001b[0m \u001b[43m    \u001b[49m\u001b[43mkey\u001b[49m\u001b[38;5;241;43m=\u001b[39;49m\u001b[38;5;28;43;01mlambda\u001b[39;49;00m\u001b[43m \u001b[49m\u001b[43me\u001b[49m\u001b[43m:\u001b[49m\u001b[43m \u001b[49m\u001b[43m(\u001b[49m\u001b[38;5;28;43mmax\u001b[39;49m\u001b[43m(\u001b[49m\u001b[43me\u001b[49m\u001b[43m[\u001b[49m\u001b[38;5;124;43m'\u001b[39;49m\u001b[38;5;124;43mheight\u001b[39;49m\u001b[38;5;124;43m'\u001b[39;49m\u001b[43m]\u001b[49m\u001b[43m)\u001b[49m\u001b[43m,\u001b[49m\u001b[43m \u001b[49m\u001b[38;5;28;43mmin\u001b[39;49m\u001b[43m(\u001b[49m\u001b[43me\u001b[49m\u001b[43m[\u001b[49m\u001b[38;5;124;43m'\u001b[39;49m\u001b[38;5;124;43mvertices\u001b[39;49m\u001b[38;5;124;43m'\u001b[39;49m\u001b[43m]\u001b[49m\u001b[43m)\u001b[49m\u001b[43m)\u001b[49m\n\u001b[1;32m    227\u001b[0m \u001b[43m\u001b[49m\u001b[43m)\u001b[49m\n\u001b[1;32m    229\u001b[0m output_vertices \u001b[38;5;241m=\u001b[39m [ [v[\u001b[38;5;124m'\u001b[39m\u001b[38;5;124mnew_index\u001b[39m\u001b[38;5;124m'\u001b[39m], v[\u001b[38;5;124m'\u001b[39m\u001b[38;5;124mh\u001b[39m\u001b[38;5;124m'\u001b[39m], v[\u001b[38;5;124m'\u001b[39m\u001b[38;5;124mn\u001b[39m\u001b[38;5;124m'\u001b[39m] ] \u001b[38;5;28;01mfor\u001b[39;00m v \u001b[38;5;129;01min\u001b[39;00m sorted_vertices ]\n\u001b[1;32m    230\u001b[0m output_edges \u001b[38;5;241m=\u001b[39m [ [e[\u001b[38;5;124m'\u001b[39m\u001b[38;5;124mvertices\u001b[39m\u001b[38;5;124m'\u001b[39m], e[\u001b[38;5;124m'\u001b[39m\u001b[38;5;124mheight\u001b[39m\u001b[38;5;124m'\u001b[39m], e[\u001b[38;5;124m'\u001b[39m\u001b[38;5;124mn\u001b[39m\u001b[38;5;124m'\u001b[39m] ] \u001b[38;5;28;01mfor\u001b[39;00m e \u001b[38;5;129;01min\u001b[39;00m sorted_edges ]\n",
      "\u001b[0;31mTypeError\u001b[0m: '<' not supported between instances of 'list' and 'int'"
     ]
    }
   ],
   "source": [
    "processed_graph = process_graph(formatted_vertices, formatted_edges, [1,0,0])"
   ]
  },
  {
   "cell_type": "code",
   "execution_count": null,
   "id": "c05dc97c-a8ba-4bab-83e1-696c0846e13f",
   "metadata": {},
   "outputs": [],
   "source": [
    "subdivide_edges(formatted_edges)"
   ]
  },
  {
   "cell_type": "code",
   "execution_count": null,
   "id": "c926a62e-5e86-4f83-8a4d-c8f5a95e29ca",
   "metadata": {
    "tags": []
   },
   "outputs": [],
   "source": [
    "print(processed_graph)"
   ]
  },
  {
   "cell_type": "code",
   "execution_count": null,
   "id": "26a51b12-e933-40de-ba69-3bbcc39f226e",
   "metadata": {
    "tags": []
   },
   "outputs": [],
   "source": [
    "critical_points = compute_critical_points(processed_graph)\n",
    "print(critical_points)"
   ]
  },
  {
   "cell_type": "code",
   "execution_count": null,
   "id": "7826672b-509c-4782-86e0-86284952b989",
   "metadata": {},
   "outputs": [],
   "source": []
  }
 ],
 "metadata": {
  "kernelspec": {
   "display_name": "Python 3 (ipykernel)",
   "language": "python",
   "name": "python3"
  },
  "language_info": {
   "codemirror_mode": {
    "name": "ipython",
    "version": 3
   },
   "file_extension": ".py",
   "mimetype": "text/x-python",
   "name": "python",
   "nbconvert_exporter": "python",
   "pygments_lexer": "ipython3",
   "version": "3.12.3"
  }
 },
 "nbformat": 4,
 "nbformat_minor": 5
}
