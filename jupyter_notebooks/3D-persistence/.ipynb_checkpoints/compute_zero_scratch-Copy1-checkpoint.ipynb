{
 "cells": [
  {
   "cell_type": "code",
   "execution_count": 1,
   "id": "8165b69e-0513-49a8-8e53-5e79e2dd1e15",
   "metadata": {},
   "outputs": [],
   "source": [
    "import persistence_functions as pf"
   ]
  },
  {
   "cell_type": "code",
   "execution_count": 2,
   "id": "0baa4a1e-e519-4ee7-8455-ff3fb0a58d33",
   "metadata": {},
   "outputs": [],
   "source": [
    "direction = [0,0,1]"
   ]
  },
  {
   "cell_type": "code",
   "execution_count": 3,
   "id": "4ae845b7-82d2-456f-bd5b-ce4f267498ab",
   "metadata": {},
   "outputs": [],
   "source": [
    "points = [\n",
    "    # Format: [coord, height, vector n]\n",
    "    [[1,1,1], 1, [1, 1, -1]],\n",
    "    [[5,5,5], 4, [5, 4, 2]],\n",
    "    [[2,2,2], 5, [2, 2, -2]],\n",
    "    [[3,3,3], 2, [3, 2, 4]],\n",
    "    [[4,4,4], 3, [4, 3, 3]],\n",
    "    [[6,6,6], 6, [6, 6, 6]],\n",
    "    [[7,7,7], 7, [7, 7, 7]]\n",
    "]"
   ]
  },
  {
   "cell_type": "code",
   "execution_count": 4,
   "id": "003338f2-fa19-486e-b61f-e5d705628d92",
   "metadata": {},
   "outputs": [],
   "source": [
    "pre_edges = [\n",
    "    # Format: [[index_i, index_j]]\n",
    "    [1, 2],\n",
    "    [2, 3],\n",
    "    [6, 4],\n",
    "    [4, 5],\n",
    "    [3, 4],\n",
    "    [5, 6],\n",
    "    [6, 7]\n",
    "]"
   ]
  },
  {
   "cell_type": "code",
   "execution_count": 5,
   "id": "1792cee3-9e53-415d-90bf-5adb93406c68",
   "metadata": {},
   "outputs": [],
   "source": [
    "reindexed_edges = pf.reindex_edges(pre_edges)"
   ]
  },
  {
   "cell_type": "code",
   "execution_count": 6,
   "id": "cdec63bb-41b8-4713-afd2-87a4d3db41d7",
   "metadata": {},
   "outputs": [],
   "source": [
    "pre_formatted_edges = []\n",
    "for edge in reindexed_edges:\n",
    "    x,y = edge\n",
    "    pre_formatted_edges.append([[x, y], [1,1,1]])"
   ]
  },
  {
   "cell_type": "code",
   "execution_count": 7,
   "id": "0f0ac15f-05fa-424e-8ce0-3cebc3190cd1",
   "metadata": {},
   "outputs": [],
   "source": [
    "vertices = pf.format_vertices(points)"
   ]
  },
  {
   "cell_type": "code",
   "execution_count": 8,
   "id": "6478a016-7e3a-4c41-9b98-0ba4c4ce6d41",
   "metadata": {},
   "outputs": [
    {
     "name": "stdout",
     "output_type": "stream",
     "text": [
      "[[[0, 1], [1, 1, 1]], [[1, 2], [1, 1, 1]], [[5, 3], [1, 1, 1]], [[3, 4], [1, 1, 1]], [[2, 3], [1, 1, 1]], [[4, 5], [1, 1, 1]], [[5, 6], [1, 1, 1]]]\n",
      "[{'vertices': [0, 1], 'height': [1, 4], 'n': [1, 1, 1]}, {'vertices': [1, 2], 'height': [4, 5], 'n': [1, 1, 1]}, {'vertices': [5, 3], 'height': [6, 2], 'n': [1, 1, 1]}, {'vertices': [3, 4], 'height': [2, 3], 'n': [1, 1, 1]}, {'vertices': [2, 3], 'height': [5, 2], 'n': [1, 1, 1]}, {'vertices': [4, 5], 'height': [3, 6], 'n': [1, 1, 1]}, {'vertices': [5, 6], 'height': [6, 7], 'n': [1, 1, 1]}]\n"
     ]
    }
   ],
   "source": [
    "edges = pf.format_edges(vertices, pre_formatted_edges)"
   ]
  },
  {
   "cell_type": "code",
   "execution_count": 9,
   "id": "069aab32-62e4-49ba-b2ec-1c333c9840cf",
   "metadata": {},
   "outputs": [
    {
     "name": "stdout",
     "output_type": "stream",
     "text": [
      "{'vertices': [0, 1], 'height': [1, 4], 'n': [1, 1, 1]}\n",
      "{'vertices': [1, 2], 'height': [4, 5], 'n': [1, 1, 1]}\n",
      "{'vertices': [5, 3], 'height': [6, 2], 'n': [1, 1, 1]}\n",
      "{'vertices': [3, 4], 'height': [2, 3], 'n': [1, 1, 1]}\n",
      "{'vertices': [2, 3], 'height': [5, 2], 'n': [1, 1, 1]}\n",
      "{'vertices': [4, 5], 'height': [3, 6], 'n': [1, 1, 1]}\n",
      "{'vertices': [5, 6], 'height': [6, 7], 'n': [1, 1, 1]}\n"
     ]
    }
   ],
   "source": [
    "for edge in edges:\n",
    "    print(edge)"
   ]
  },
  {
   "cell_type": "code",
   "execution_count": 10,
   "id": "cfb66ea9-f6a5-44e3-9b3d-4a6fcc2e7e28",
   "metadata": {},
   "outputs": [
    {
     "name": "stdout",
     "output_type": "stream",
     "text": [
      "dictionary of indices\n",
      "{0: 0, 3: 1, 4: 2, 1: 3, 2: 4, 5: 5, 6: 6}\n"
     ]
    }
   ],
   "source": [
    "graph = pf.process_graph(vertices, edges, direction)"
   ]
  },
  {
   "cell_type": "code",
   "execution_count": 11,
   "id": "bf881c25-c86e-47e5-9056-00949a03eb1f",
   "metadata": {},
   "outputs": [],
   "source": [
    "filtration = pf.group_events_by_height(graph[0], graph[1])"
   ]
  },
  {
   "cell_type": "markdown",
   "id": "0451d05d-0d41-4159-99fb-7411fbe52a23",
   "metadata": {},
   "source": [
    "# Filtration Algorithm Start"
   ]
  },
  {
   "cell_type": "code",
   "execution_count": 12,
   "id": "e8dd65ac-622c-4ead-a108-d78377b5e84d",
   "metadata": {},
   "outputs": [
    {
     "name": "stdout",
     "output_type": "stream",
     "text": [
      "Initialized UnionFind:\n",
      "parent: [0, 1, 2, 3, 4, 5, 6]\n",
      "rank  : [0, 1, 2, 3, 4, 5, 6]\n",
      "\n"
     ]
    }
   ],
   "source": [
    "uf = pf.UnionFind(graph[0])"
   ]
  },
  {
   "cell_type": "code",
   "execution_count": 13,
   "id": "3196b416-a849-4a2b-9df2-de66eb0a9d04",
   "metadata": {},
   "outputs": [],
   "source": [
    "# Horizontal Step\n",
    "def horizontal_step(edges: list):\n",
    "    for edge in edges:\n",
    "        x ,y = edge['vertices']\n",
    "        uf.union(x, y)"
   ]
  },
  {
   "cell_type": "code",
   "execution_count": 14,
   "id": "5e9f1a4d-8fcf-492f-af3b-11ac3a7614c1",
   "metadata": {},
   "outputs": [],
   "source": [
    "def vertical_step(edges: list, components: dict, mergers: dict):\n",
    "    for edge in edges:\n",
    "        x ,y = edge['vertices']\n",
    "        roots = uf.union(x, y)\n",
    "        rootX = roots[x]['root']\n",
    "        rootY = roots[y]['root']\n",
    "        rankX = roots[x]['rank']\n",
    "        rankY = roots[y]['rank']\n",
    "        if rootX != rootY:\n",
    "            if rootX in components and rootY in components:\n",
    "                print(f'Component with root {rootY} got merged.')\n",
    "                if rankY > rankX:\n",
    "                    mergers[rootY]=max(edge['height'])\n",
    "                    del components[rootY]\n",
    "                elif rankX < rankY:\n",
    "                    mergers[rootX]=max(edge['height'])\n",
    "                    del components[rootX]\n",
    "                else:\n",
    "                    print('Both born at the same time, defaulting to merging Y')\n",
    "                    mergers[rootY]=max(edge['height'])\n",
    "                    del components[rootY]\n",
    "            \n",
    "            # check if rootX and rootY belong to a list of roots of components.\n",
    "            # if they belong to a list of previous components, that means that two components are merged.\n",
    "            # say that the component with newest rank is merged. We have death.\n",
    "        "
   ]
  },
  {
   "cell_type": "code",
   "execution_count": 15,
   "id": "287bc94b-c3eb-4c9d-bd50-92d6f4dd4315",
   "metadata": {},
   "outputs": [
    {
     "name": "stdout",
     "output_type": "stream",
     "text": [
      "{1: {'points': [{'coordinates': [1, 1, 1], 'original_index': 0, 'new_index': 0, 'height': 1, 'sign': -1}], 'horizontal_edges': [], 'vertical_edges': []}, 2: {'points': [{'coordinates': [3, 3, 3], 'original_index': 3, 'new_index': 1, 'height': 2, 'sign': 1}], 'horizontal_edges': [], 'vertical_edges': []}, 3: {'points': [{'coordinates': [4, 4, 4], 'original_index': 4, 'new_index': 2, 'height': 3, 'sign': 1}], 'horizontal_edges': [], 'vertical_edges': [{'vertices': [1, 2], 'height': [2, 3], 'sign': 1}]}, 4: {'points': [{'coordinates': [5, 5, 5], 'original_index': 1, 'new_index': 3, 'height': 4, 'sign': 1}], 'horizontal_edges': [], 'vertical_edges': [{'vertices': [0, 3], 'height': [1, 4], 'sign': 1}]}, 5: {'points': [{'coordinates': [2, 2, 2], 'original_index': 2, 'new_index': 4, 'height': 5, 'sign': -1}], 'horizontal_edges': [], 'vertical_edges': [{'vertices': [4, 1], 'height': [5, 2], 'sign': 1}, {'vertices': [3, 4], 'height': [4, 5], 'sign': 1}]}, 6: {'points': [{'coordinates': [6, 6, 6], 'original_index': 5, 'new_index': 5, 'height': 6, 'sign': 1}], 'horizontal_edges': [], 'vertical_edges': [{'vertices': [5, 1], 'height': [6, 2], 'sign': 1}, {'vertices': [2, 5], 'height': [3, 6], 'sign': 1}]}, 7: {'points': [{'coordinates': [7, 7, 7], 'original_index': 6, 'new_index': 6, 'height': 7, 'sign': 1}], 'horizontal_edges': [], 'vertical_edges': [{'vertices': [5, 6], 'height': [6, 7], 'sign': 1}]}}\n"
     ]
    }
   ],
   "source": [
    "print(filtration)"
   ]
  },
  {
   "cell_type": "code",
   "execution_count": 16,
   "id": "bf821720-9f9f-4bc3-b14e-d449e43c1382",
   "metadata": {},
   "outputs": [],
   "source": [
    "def compute_horizontal_components(vertices):\n",
    "    components = {}\n",
    "    for vertex in vertices:\n",
    "        node = vertex['new_index']\n",
    "        root = uf.find(node)  # This finds the representative of the component containing 'node'\n",
    "        if root not in components:\n",
    "            components[root] = []\n",
    "        components[root].append(node)\n",
    "\n",
    "    print(\"Horizontal connected components:\")\n",
    "    for root, comp in components.items():\n",
    "        print(f\"Component with root {root}: {comp}\")"
   ]
  },
  {
   "cell_type": "code",
   "execution_count": 17,
   "id": "aef4d62e-f902-405f-9cbc-1e9962e58fd1",
   "metadata": {},
   "outputs": [],
   "source": [
    "def compute_vertical_components(vertices):\n",
    "    components = {}\n",
    "    for vertex in vertices:\n",
    "        print(vertex)\n",
    "        node = vertex['new_index']\n",
    "        root = uf.find(node)  # This finds the representative of the component containing 'node'\n",
    "        if root not in components:\n",
    "            components[root] = []\n",
    "        components[root].append(node)\n",
    "\n",
    "    print(\"Vertical connected components:\")\n",
    "    for root, comp in components.items():\n",
    "        print(f\"Component with root {root}: {comp}\")"
   ]
  },
  {
   "cell_type": "code",
   "execution_count": 18,
   "id": "5306a413-a1e9-4ca7-9c06-e1913610d4c3",
   "metadata": {},
   "outputs": [],
   "source": [
    "def compute_components(vertices, old_components):\n",
    "    components = old_components\n",
    "    for vertex in vertices:\n",
    "        node = vertex['new_index']\n",
    "        root = uf.find(node)  # This finds the representative of the component containing 'node'\n",
    "        if root not in components:\n",
    "            components[root] = []\n",
    "        if node not in components[root]:\n",
    "            components[root].append(node)\n",
    "    return components"
   ]
  },
  {
   "cell_type": "code",
   "execution_count": 19,
   "id": "0cab5aaa-bf42-45f2-b777-3540c5f5faca",
   "metadata": {},
   "outputs": [],
   "source": [
    "def compute_new_births(vertices):\n",
    "    new_components = []\n",
    "    for vertex in vertices:\n",
    "        node = vertex['new_index']\n",
    "        root = uf.find(node)  # This finds the representative of the component containing 'node'\n",
    "        if root == node:\n",
    "            new_components.append(vertex)\n",
    "    for component in new_components:\n",
    "        print(f\"New Component with root {component}.\")\n",
    "    return new_components"
   ]
  },
  {
   "cell_type": "code",
   "execution_count": 20,
   "id": "e29cb10d-28ed-404b-a270-49fead7453de",
   "metadata": {},
   "outputs": [
    {
     "name": "stdout",
     "output_type": "stream",
     "text": [
      "Height:  1\n",
      "Horizontal connected components:\n",
      "Component with root 0: [0]\n",
      "Previous Components------------------------\n",
      "Previous Components------------------------\n",
      "Merged Components------------------------\n",
      "Component with root 0: [0]\n",
      "Merged Components------------------------\n",
      "New Births----------------------------------------------\n",
      "New Component with root {'coordinates': [1, 1, 1], 'original_index': 0, 'new_index': 0, 'height': 1, 'sign': -1}.\n",
      "New Births----------------------------------------------\n",
      "Height:  2\n",
      "Horizontal connected components:\n",
      "Component with root 1: [1]\n",
      "Previous Components------------------------\n",
      "Component with root 0: [0]\n",
      "Previous Components------------------------\n",
      "Merged Components------------------------\n",
      "Component with root 0: [0]\n",
      "Component with root 1: [1]\n",
      "Merged Components------------------------\n",
      "New Births----------------------------------------------\n",
      "New Component with root {'coordinates': [3, 3, 3], 'original_index': 3, 'new_index': 1, 'height': 2, 'sign': 1}.\n",
      "New Births----------------------------------------------\n",
      "Height:  3\n",
      "Horizontal connected components:\n",
      "Component with root 2: [2]\n",
      "Previous Components------------------------\n",
      "Component with root 0: [0]\n",
      "Component with root 1: [1]\n",
      "Previous Components------------------------\n",
      "Union(1, 2):\n",
      " - root of 1 is 1\n",
      " - root of 2 is 2\n",
      "Merged Components------------------------\n",
      "find(2): 2 is not its own parent (parent[2] = 1), so compressing path...\n",
      "Component with root 0: [0]\n",
      "Component with root 1: [1, 2]\n",
      "Merged Components------------------------\n",
      "New Births----------------------------------------------\n",
      "find(2): 2 is not its own parent (parent[2] = 1), so compressing path...\n",
      "New Births----------------------------------------------\n",
      "Height:  4\n",
      "Horizontal connected components:\n",
      "Component with root 3: [3]\n",
      "Previous Components------------------------\n",
      "Component with root 0: [0]\n",
      "Component with root 1: [1, 2]\n",
      "Previous Components------------------------\n",
      "Union(0, 3):\n",
      " - root of 0 is 0\n",
      " - root of 3 is 3\n",
      "Merged Components------------------------\n",
      "find(2): 2 is not its own parent (parent[2] = 1), so compressing path...\n",
      "find(3): 3 is not its own parent (parent[3] = 0), so compressing path...\n",
      "Component with root 0: [0, 3]\n",
      "Component with root 1: [1, 2]\n",
      "Merged Components------------------------\n",
      "New Births----------------------------------------------\n",
      "find(3): 3 is not its own parent (parent[3] = 0), so compressing path...\n",
      "New Births----------------------------------------------\n",
      "Height:  5\n",
      "Horizontal connected components:\n",
      "Component with root 4: [4]\n",
      "Previous Components------------------------\n",
      "Component with root 0: [0, 3]\n",
      "Component with root 1: [1, 2]\n",
      "Previous Components------------------------\n",
      "Union(4, 1):\n",
      " - root of 4 is 4\n",
      " - root of 1 is 1\n",
      "Union(3, 4):\n",
      "find(3): 3 is not its own parent (parent[3] = 0), so compressing path...\n",
      "find(4): 4 is not its own parent (parent[4] = 1), so compressing path...\n",
      " - root of 3 is 0\n",
      " - root of 4 is 1\n",
      "Component with root 1 got merged.\n",
      "Merged Components------------------------\n",
      "find(1): 1 is not its own parent (parent[1] = 0), so compressing path...\n",
      "find(2): 2 is not its own parent (parent[2] = 1), so compressing path...\n",
      "find(1): 1 is not its own parent (parent[1] = 0), so compressing path...\n",
      "find(3): 3 is not its own parent (parent[3] = 0), so compressing path...\n",
      "find(4): 4 is not its own parent (parent[4] = 1), so compressing path...\n",
      "find(1): 1 is not its own parent (parent[1] = 0), so compressing path...\n",
      "Component with root 0: [0, 3, 1, 2, 4]\n",
      "Merged Components------------------------\n",
      "New Births----------------------------------------------\n",
      "find(4): 4 is not its own parent (parent[4] = 0), so compressing path...\n",
      "New Births----------------------------------------------\n",
      "Height:  6\n",
      "Horizontal connected components:\n",
      "Component with root 5: [5]\n",
      "Previous Components------------------------\n",
      "Component with root 0: [0, 3, 1, 2, 4]\n",
      "Previous Components------------------------\n",
      "Union(5, 1):\n",
      "find(1): 1 is not its own parent (parent[1] = 0), so compressing path...\n",
      " - root of 5 is 5\n",
      " - root of 1 is 0\n",
      "Union(2, 5):\n",
      "find(2): 2 is not its own parent (parent[2] = 0), so compressing path...\n",
      "find(5): 5 is not its own parent (parent[5] = 0), so compressing path...\n",
      " - root of 2 is 0\n",
      " - root of 5 is 0\n",
      " - Both nodes have the same root; they are already connected.\n",
      "\n",
      "Merged Components------------------------\n",
      "find(1): 1 is not its own parent (parent[1] = 0), so compressing path...\n",
      "find(2): 2 is not its own parent (parent[2] = 0), so compressing path...\n",
      "find(3): 3 is not its own parent (parent[3] = 0), so compressing path...\n",
      "find(4): 4 is not its own parent (parent[4] = 0), so compressing path...\n",
      "find(5): 5 is not its own parent (parent[5] = 0), so compressing path...\n",
      "Component with root 0: [0, 3, 1, 2, 4, 5]\n",
      "Merged Components------------------------\n",
      "New Births----------------------------------------------\n",
      "find(5): 5 is not its own parent (parent[5] = 0), so compressing path...\n",
      "New Births----------------------------------------------\n",
      "Height:  7\n",
      "Horizontal connected components:\n",
      "Component with root 6: [6]\n",
      "Previous Components------------------------\n",
      "Component with root 0: [0, 3, 1, 2, 4, 5]\n",
      "Previous Components------------------------\n",
      "Union(5, 6):\n",
      "find(5): 5 is not its own parent (parent[5] = 0), so compressing path...\n",
      " - root of 5 is 0\n",
      " - root of 6 is 6\n",
      "Merged Components------------------------\n",
      "find(1): 1 is not its own parent (parent[1] = 0), so compressing path...\n",
      "find(2): 2 is not its own parent (parent[2] = 0), so compressing path...\n",
      "find(3): 3 is not its own parent (parent[3] = 0), so compressing path...\n",
      "find(4): 4 is not its own parent (parent[4] = 0), so compressing path...\n",
      "find(5): 5 is not its own parent (parent[5] = 0), so compressing path...\n",
      "find(6): 6 is not its own parent (parent[6] = 0), so compressing path...\n",
      "Component with root 0: [0, 3, 1, 2, 4, 5, 6]\n",
      "Merged Components------------------------\n",
      "New Births----------------------------------------------\n",
      "find(6): 6 is not its own parent (parent[6] = 0), so compressing path...\n",
      "New Births----------------------------------------------\n"
     ]
    }
   ],
   "source": [
    "total_components = {}\n",
    "mergers = {}\n",
    "total_vertices = []\n",
    "births = []\n",
    "for height, stage in filtration.items():\n",
    "    print('Height: ', height)\n",
    "    horizontal_edges = stage['horizontal_edges']\n",
    "    vertical_edges = stage['vertical_edges']\n",
    "    vertices = stage['points']\n",
    "\n",
    "    # We join the horizontal edges\n",
    "    horizontal_step(horizontal_edges)\n",
    "\n",
    "    # We compute the horizontal connected components at a given stage\n",
    "    compute_horizontal_components(vertices)\n",
    "\n",
    "\n",
    "    # We compute the previous components\n",
    "\n",
    "    print(\"Previous Components------------------------\")\n",
    "    for root, comp in total_components.items():\n",
    "        print(f\"Component with root {root}: {comp}\")\n",
    "    print(\"Previous Components------------------------\")\n",
    "    \n",
    "    # We join the vertical edges\n",
    "    vertical_step(vertical_edges, total_components, mergers)\n",
    "    total_vertices.extend(vertices)\n",
    "\n",
    "    # We compute the new components\n",
    "\n",
    "    print(\"Merged Components------------------------\")\n",
    "    current_components = compute_components(total_vertices, total_components)\n",
    "    for root, comp in current_components.items():\n",
    "        print(f\"Component with root {root}: {comp}\")\n",
    "    print(\"Merged Components------------------------\")\n",
    "\n",
    "    total_components = current_components\n",
    "\n",
    "    # We compute the horizontal connected components at a given stage, the unmerged are new components\n",
    "    print(\"New Births----------------------------------------------\")\n",
    "    new_births = compute_new_births(vertices)\n",
    "    births.extend(new_births)\n",
    "    print(\"New Births----------------------------------------------\")"
   ]
  },
  {
   "cell_type": "code",
   "execution_count": 21,
   "id": "d7aebed8-e041-4bdb-9eb4-ba8716c67449",
   "metadata": {},
   "outputs": [
    {
     "name": "stdout",
     "output_type": "stream",
     "text": [
      "{'coordinates': [1, 1, 1], 'original_index': 0, 'new_index': 0, 'height': 1, 'sign': -1}\n",
      "{'coordinates': [3, 3, 3], 'original_index': 3, 'new_index': 1, 'height': 2, 'sign': 1}\n"
     ]
    }
   ],
   "source": [
    "for birth in births:\n",
    "    print(birth)"
   ]
  },
  {
   "cell_type": "code",
   "execution_count": 25,
   "id": "35163f45-919a-4db9-b707-72826e039ac3",
   "metadata": {},
   "outputs": [
    {
     "name": "stdout",
     "output_type": "stream",
     "text": [
      "1 5\n"
     ]
    }
   ],
   "source": [
    "for key, merger in mergers.items():\n",
    "    print(key, merger)"
   ]
  },
  {
   "cell_type": "code",
   "execution_count": 22,
   "id": "db8c4a03-13ab-4f07-b4ce-15dd7db2a1c7",
   "metadata": {},
   "outputs": [
    {
     "name": "stdout",
     "output_type": "stream",
     "text": [
      "Final connected components:\n",
      "Component with root 0: [0]\n"
     ]
    }
   ],
   "source": [
    "# After processing all edges, we collect the connected components.\n",
    "components = {}\n",
    "for node in range(len(vertices)):\n",
    "    root = uf.find(node)  # This finds the representative of the component containing 'node'\n",
    "    if root not in components:\n",
    "        components[root] = []\n",
    "    components[root].append(node)\n",
    "\n",
    "print(\"Final connected components:\")\n",
    "for root, comp in components.items():\n",
    "    print(f\"Component with root {root}: {comp}\")"
   ]
  }
 ],
 "metadata": {
  "kernelspec": {
   "display_name": "Python 3 (ipykernel)",
   "language": "python",
   "name": "python3"
  },
  "language_info": {
   "codemirror_mode": {
    "name": "ipython",
    "version": 3
   },
   "file_extension": ".py",
   "mimetype": "text/x-python",
   "name": "python",
   "nbconvert_exporter": "python",
   "pygments_lexer": "ipython3",
   "version": "3.12.3"
  }
 },
 "nbformat": 4,
 "nbformat_minor": 5
}
