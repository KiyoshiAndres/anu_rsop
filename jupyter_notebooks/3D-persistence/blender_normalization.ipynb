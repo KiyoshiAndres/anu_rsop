{
 "cells": [
  {
   "cell_type": "raw",
   "id": "d39ef802-bf68-4db2-9a53-afc5192ab1d2",
   "metadata": {},
   "source": [
    "points = [\n",
    "    # Format: [index, height, vector n]\n",
    "    [[1,1,1], 1, [1, 1, -1]],\n",
    "    [[2,2,2], 2, [2, 2, -2]],\n",
    "    [[3,3,3], 2, [3, 2, 4]],\n",
    "    [[4,4,4], 3, [4, 3, 3]],\n",
    "    [[5,5,5], 4, [5, 4, 2]],\n",
    "    [[6,6,6], 6, [6, 6, 6]],\n",
    "    [[7,7,7], 7, [7, 7, 7]]\n",
    "]\n",
    "\n",
    "edges = [\n",
    "    # Format: [[index_i, index_j], height, vector n]\n",
    "    [[1, 2], 2, [1, 1, -1]],\n",
    "    [[2, 3], 2, [2, 2, -2]],\n",
    "    [[3, 4], 3, [3, 2, 4]],\n",
    "    [[4, 5], 4, [4, 3, 3]],\n",
    "    [[6, 7], 7, [5, 4, 2]],\n",
    "    [[5, 6], 8, [6, 6, 6]]\n",
    "]\n",
    "graph = [points, edges]"
   ]
  },
  {
   "cell_type": "markdown",
   "id": "25b63dbc-a6f1-4c4f-b288-f42444f9bfb0",
   "metadata": {},
   "source": [
    "## We want data as above"
   ]
  },
  {
   "cell_type": "markdown",
   "id": "71fc85de-7377-4b47-837e-081df04d6c54",
   "metadata": {},
   "source": [
    "### NOTE!\n",
    "The points and edges need not be ordered by height, that will happen later."
   ]
  },
  {
   "cell_type": "code",
   "execution_count": 1,
   "id": "05c17176-35a0-4918-9a05-07ef25d05785",
   "metadata": {},
   "outputs": [],
   "source": [
    "import trimesh\n",
    "import pyvista as pv"
   ]
  },
  {
   "cell_type": "code",
   "execution_count": 4,
   "id": "643a20da-57b7-4b38-97e0-818dddcba160",
   "metadata": {},
   "outputs": [],
   "source": [
    "# Load the .obj file\n",
    "torus_mesh = trimesh.load('../shared/triangulated_torus_2.obj')"
   ]
  },
  {
   "cell_type": "code",
   "execution_count": null,
   "id": "6bb070ed-84b2-4f90-9a08-8a2163fa887e",
   "metadata": {},
   "outputs": [],
   "source": [
    "# Print basic information about the mesh\n",
    "\n",
    "torus_vertices = torus_mesh.vertices\n",
    "torus_edges = torus_mesh.edges_unique\n",
    "torus_faces = torus_mesh.faces\n",
    "torus_normals = torus_mesh.vertex_normals"
   ]
  },
  {
   "cell_type": "code",
   "execution_count": null,
   "id": "72edcb7e-8e84-4a7b-b1b4-84f1c319af2d",
   "metadata": {},
   "outputs": [],
   "source": [
    "def vertex_height_dictionary(vertices):\n",
    "    height_dictionary = {}\n",
    "    return height_dictionary"
   ]
  },
  {
   "cell_type": "code",
   "execution_count": null,
   "id": "35e7dda4-d9e0-4194-ad95-81e6b7e8bce7",
   "metadata": {},
   "outputs": [],
   "source": [
    "def format_blender_vertices(vertices):\n",
    "    points = []\n",
    "    \n",
    "    return points"
   ]
  },
  {
   "cell_type": "code",
   "execution_count": null,
   "id": "bcc0af88-29e3-4129-9ac9-3c5f6382810c",
   "metadata": {},
   "outputs": [],
   "source": [
    "def format_blender_edges():\n",
    "    edges = []\n",
    "\n",
    "    return edges"
   ]
  }
 ],
 "metadata": {
  "kernelspec": {
   "display_name": "Python 3 (ipykernel)",
   "language": "python",
   "name": "python3"
  },
  "language_info": {
   "codemirror_mode": {
    "name": "ipython",
    "version": 3
   },
   "file_extension": ".py",
   "mimetype": "text/x-python",
   "name": "python",
   "nbconvert_exporter": "python",
   "pygments_lexer": "ipython3",
   "version": "3.12.3"
  }
 },
 "nbformat": 4,
 "nbformat_minor": 5
}
