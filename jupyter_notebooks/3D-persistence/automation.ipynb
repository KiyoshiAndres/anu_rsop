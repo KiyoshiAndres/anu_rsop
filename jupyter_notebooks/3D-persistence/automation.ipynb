{
 "cells": [
  {
   "cell_type": "code",
   "execution_count": 1,
   "id": "f025c3b3-15c5-43dd-82d5-2a2484fb3466",
   "metadata": {
    "tags": []
   },
   "outputs": [],
   "source": [
    "import persistence_homology as ph"
   ]
  },
  {
   "cell_type": "code",
   "execution_count": 2,
   "id": "2d4307a9-867d-49b2-ac61-cdcb7ea14d3c",
   "metadata": {
    "tags": []
   },
   "outputs": [],
   "source": [
    "import csv"
   ]
  },
  {
   "cell_type": "code",
   "execution_count": 3,
   "id": "a3f44902-fc0f-488f-8a37-a3a9b63b1794",
   "metadata": {
    "tags": []
   },
   "outputs": [],
   "source": [
    "def read_csv(path):\n",
    "    with open(path, newline=\"\") as f:\n",
    "        reader = csv.reader(f)\n",
    "        output = []\n",
    "        for row in reader:\n",
    "            values = []\n",
    "            for value in row:\n",
    "                if len(row) == 3:\n",
    "                    values.append(float(value))\n",
    "                elif len(row) == 2:\n",
    "                    values.append(int(value))\n",
    "            output.append(values)\n",
    "        return output"
   ]
  },
  {
   "cell_type": "code",
   "execution_count": 4,
   "id": "9a79a662-bf23-4e99-a8ae-10d65f924ad0",
   "metadata": {
    "tags": []
   },
   "outputs": [],
   "source": [
    "folder_path = './lung_segmentations/Lung segmentation-10'\n",
    "edges_path = '/edges.csv'\n",
    "vertices_path = '/vertices.csv'"
   ]
  },
  {
   "cell_type": "code",
   "execution_count": 5,
   "id": "795db3b7-3f4b-4ed6-990b-e9facb965a46",
   "metadata": {
    "tags": []
   },
   "outputs": [],
   "source": [
    "vertices = read_csv(folder_path + vertices_path)\n",
    "edges = read_csv(folder_path + edges_path)"
   ]
  },
  {
   "cell_type": "code",
   "execution_count": 15,
   "id": "b880eba8-d244-4855-bba8-87a51b9b980a",
   "metadata": {
    "tags": []
   },
   "outputs": [],
   "source": [
    "directions = [[0,0,1], [0,1,0], [1,0,0]]"
   ]
  },
  {
   "cell_type": "code",
   "execution_count": 7,
   "id": "9b02fda9-3b73-47b5-be57-5867f1162571",
   "metadata": {
    "tags": []
   },
   "outputs": [],
   "source": []
  },
  {
   "cell_type": "markdown",
   "id": "c0ea8e14-3b08-4143-b2e5-4d662b3aa242",
   "metadata": {},
   "source": [
    "# Filtration Algorithm Start"
   ]
  },
  {
   "cell_type": "code",
   "execution_count": null,
   "id": "269d6361-2054-4f12-8c7d-b0059f800919",
   "metadata": {},
   "outputs": [],
   "source": [
    "for direction in directions:\n",
    "    bz = ph.BettiZero(direction, vertices, edges)\n",
    "    components, mergers, verts, births = bz.compute_persistence()\n",
    "    intervals = ph.compute_intervals(births, mergers)\n",
    "    print(intervals)\n",
    "    print(ph.compute_largest_bar(intervals))"
   ]
  }
 ],
 "metadata": {
  "kernelspec": {
   "display_name": "Python 3 (ipykernel)",
   "language": "python",
   "name": "python3"
  },
  "language_info": {
   "codemirror_mode": {
    "name": "ipython",
    "version": 3
   },
   "file_extension": ".py",
   "mimetype": "text/x-python",
   "name": "python",
   "nbconvert_exporter": "python",
   "pygments_lexer": "ipython3",
   "version": "3.9.10"
  }
 },
 "nbformat": 4,
 "nbformat_minor": 5
}
