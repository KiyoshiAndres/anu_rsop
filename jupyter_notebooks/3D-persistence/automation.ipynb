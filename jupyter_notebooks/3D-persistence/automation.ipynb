{
 "cells": [
  {
   "cell_type": "code",
   "execution_count": 1,
   "id": "f025c3b3-15c5-43dd-82d5-2a2484fb3466",
   "metadata": {},
   "outputs": [],
   "source": [
    "import persistence_homology as ph"
   ]
  },
  {
   "cell_type": "code",
   "execution_count": 2,
   "id": "2d4307a9-867d-49b2-ac61-cdcb7ea14d3c",
   "metadata": {},
   "outputs": [],
   "source": [
    "import csv"
   ]
  },
  {
   "cell_type": "code",
   "execution_count": 3,
   "id": "a3f44902-fc0f-488f-8a37-a3a9b63b1794",
   "metadata": {},
   "outputs": [],
   "source": [
    "def read_csv(path):\n",
    "    with open(path, newline=\"\") as f:\n",
    "        reader = csv.reader(f)\n",
    "        output = []\n",
    "        for row in reader:\n",
    "            values = []\n",
    "            for value in row:\n",
    "                if len(row) == 3:\n",
    "                    values.append(float(value))\n",
    "                elif len(row) == 2:\n",
    "                    values.append(int(value))\n",
    "            output.append(values)\n",
    "        return output"
   ]
  },
  {
   "cell_type": "code",
   "execution_count": 4,
   "id": "9a79a662-bf23-4e99-a8ae-10d65f924ad0",
   "metadata": {},
   "outputs": [],
   "source": [
    "folder_path = './lung_segmentations/segmentation-10'\n",
    "edges_path = '/edges.csv'\n",
    "vertices_path = '/vertices.csv'"
   ]
  },
  {
   "cell_type": "code",
   "execution_count": 5,
   "id": "795db3b7-3f4b-4ed6-990b-e9facb965a46",
   "metadata": {},
   "outputs": [],
   "source": [
    "vertices = read_csv(folder_path + vertices_path)\n",
    "edges = read_csv(folder_path + edges_path)"
   ]
  },
  {
   "cell_type": "code",
   "execution_count": 6,
   "id": "b880eba8-d244-4855-bba8-87a51b9b980a",
   "metadata": {},
   "outputs": [],
   "source": [
    "direction = [0,0,1]"
   ]
  },
  {
   "cell_type": "code",
   "execution_count": 7,
   "id": "9b02fda9-3b73-47b5-be57-5867f1162571",
   "metadata": {},
   "outputs": [],
   "source": [
    "points = [[vertex, [0,0,0]] for vertex in vertices]\n",
    "pre_edges = edges\n",
    "pre_formatted_edges = []\n",
    "for edge in pre_edges:\n",
    "    x,y = edge\n",
    "    pre_formatted_edges.append([[x, y], [1,1,1]])\n",
    "pre_vertices = ph.append_height_vertices(direction, points)\n",
    "vertices = ph.format_vertices(pre_vertices)\n",
    "edges = ph.format_edges(vertices, pre_formatted_edges)\n",
    "pre_graph = ph.process_graph(vertices, edges, direction)\n",
    "graph = pre_graph['signed_graph']\n",
    "original_to_new_indices = pre_graph['index_translation']\n",
    "new_to_original_indices = {v: k for k, v in original_to_new_indices.items()}\n",
    "filtration = ph.group_events_by_height(graph[0], graph[1])\n"
   ]
  },
  {
   "cell_type": "markdown",
   "id": "c0ea8e14-3b08-4143-b2e5-4d662b3aa242",
   "metadata": {},
   "source": [
    "# Filtration Algorithm Start"
   ]
  },
  {
   "cell_type": "code",
   "execution_count": 8,
   "id": "74c90533-f9fe-410b-9cb5-1b327f204056",
   "metadata": {},
   "outputs": [],
   "source": [
    "uf = ph.UnionFind(graph[0])"
   ]
  },
  {
   "cell_type": "code",
   "execution_count": 14,
   "id": "82504202-e896-4620-874c-92fd41d051b9",
   "metadata": {},
   "outputs": [],
   "source": [
    "# Horizontal Step\n",
    "def horizontal_step(edges: list):\n",
    "    for edge in edges:\n",
    "        x ,y = edge['vertices']\n",
    "        uf.union(x, y)\n",
    "        \n",
    "def vertical_step(edges: list, components: dict, mergers: dict):\n",
    "    for edge in edges:\n",
    "        x ,y = edge['vertices']\n",
    "        roots = uf.union(x, y)\n",
    "        rootX = roots[x]['root']\n",
    "        rootY = roots[y]['root']\n",
    "        rankX = roots[x]['rank']\n",
    "        rankY = roots[y]['rank']\n",
    "        if rootX != rootY:\n",
    "            if rootX in components and rootY in components:\n",
    "                if rankY > rankX:\n",
    "                    mergers[rootY]=max(edge['height'])\n",
    "                    del components[rootY]\n",
    "                elif rankX > rankY:\n",
    "                    mergers[rootX]=max(edge['height'])\n",
    "                    del components[rootX]\n",
    "                else:\n",
    "                    mergers[rootY]=max(edge['height'])\n",
    "                    del components[rootY]\n",
    "                    \n",
    "def compute_components(vertices, old_components):\n",
    "    components = old_components\n",
    "    for vertex in vertices:\n",
    "        node = vertex['new_index']\n",
    "        root = uf.find(node)  # This finds the representative of the component containing 'node'\n",
    "        if root not in components:\n",
    "            components[root] = []\n",
    "        if node not in components[root]:\n",
    "            components[root].append(node)\n",
    "    return components\n",
    "\n",
    "def compute_new_births(vertices):\n",
    "    new_components = []\n",
    "    for vertex in vertices:\n",
    "        node = vertex['new_index']\n",
    "        root = uf.find(node)  # This finds the representative of the component containing 'node'\n",
    "        if root == node:\n",
    "            new_components.append(vertex)\n",
    "    return new_components\n",
    "\n",
    "def compute_intervals(births, mergers):\n",
    "    \"\"\"birth {'coordinates': [284.0, 315.0, 93.5], 'original_index': 18104, 'new_index': 0, 'height': 93.5, 'sign': 0}\n",
    "    merger 5 98.5\"\"\"\n",
    "    intervals = []\n",
    "    for birth in births:\n",
    "        left_bound = birth['height']\n",
    "        right_bound = -1\n",
    "        index = birth['new_index']\n",
    "        if index in mergers.keys():\n",
    "            right_bound = mergers[index]\n",
    "        intervals.append([left_bound, right_bound])\n",
    "    return intervals\n",
    "    \n",
    "def length_of_interval(interval):\n",
    "    if interval[1] == -1:\n",
    "        return -1\n",
    "    else:\n",
    "        return interval[1] - interval[0]"
   ]
  },
  {
   "cell_type": "code",
   "execution_count": 10,
   "id": "f0f67da3-6102-4872-8cf2-847f4e9ff157",
   "metadata": {},
   "outputs": [],
   "source": [
    "total_components = {}\n",
    "mergers = {}\n",
    "total_vertices = []\n",
    "births = []\n",
    "for height, stage in filtration.items():\n",
    "    horizontal_edges = stage['horizontal_edges']\n",
    "    vertical_edges = stage['vertical_edges']\n",
    "    vertices = stage['points']\n",
    "\n",
    "    # We join the horizontal edges\n",
    "    horizontal_step(horizontal_edges)\n",
    "    \n",
    "    # We join the vertical edges\n",
    "    vertical_step(vertical_edges, total_components, mergers)\n",
    "    total_vertices.extend(vertices)\n",
    "\n",
    "    # We compute the new components\n",
    "    current_components = compute_components(total_vertices, total_components)\n",
    "    total_components = current_components\n",
    "\n",
    "    # We compute the horizontal connected components at a given stage, the unmerged are new components\n",
    "    new_births = compute_new_births(vertices)\n",
    "    births.extend(new_births)"
   ]
  },
  {
   "cell_type": "code",
   "execution_count": 12,
   "id": "843caf6a-77be-4141-85d5-4e421e86f0be",
   "metadata": {},
   "outputs": [],
   "source": [
    "intervals = compute_intervals(births, mergers)"
   ]
  },
  {
   "cell_type": "code",
   "execution_count": 15,
   "id": "ff3cb048-daa3-4815-8dd8-cd73d1ae25a6",
   "metadata": {},
   "outputs": [],
   "source": [
    "def compute_largest_bar(intervals):\n",
    "    largest_bar = 0\n",
    "    for interval in intervals:\n",
    "        if length_of_interval(interval) > largest_bar:\n",
    "            largest_bar = length_of_interval(interval)\n",
    "    return largest_bar"
   ]
  },
  {
   "cell_type": "code",
   "execution_count": 16,
   "id": "9f87abae-af6f-44fd-81bc-b10e073a8816",
   "metadata": {},
   "outputs": [
    {
     "name": "stdout",
     "output_type": "stream",
     "text": [
      "56.0\n"
     ]
    }
   ],
   "source": [
    "print(compute_largest_bar(intervals))"
   ]
  }
 ],
 "metadata": {
  "kernelspec": {
   "display_name": "Python 3 (ipykernel)",
   "language": "python",
   "name": "python3"
  },
  "language_info": {
   "codemirror_mode": {
    "name": "ipython",
    "version": 3
   },
   "file_extension": ".py",
   "mimetype": "text/x-python",
   "name": "python",
   "nbconvert_exporter": "python",
   "pygments_lexer": "ipython3",
   "version": "3.12.3"
  }
 },
 "nbformat": 4,
 "nbformat_minor": 5
}
