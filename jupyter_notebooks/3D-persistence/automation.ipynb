{
 "cells": [
  {
   "cell_type": "code",
   "execution_count": 1,
   "id": "f025c3b3-15c5-43dd-82d5-2a2484fb3466",
   "metadata": {
    "tags": []
   },
   "outputs": [],
   "source": [
    "import persistence_homology as ph"
   ]
  },
  {
   "cell_type": "code",
   "execution_count": 2,
   "id": "2d4307a9-867d-49b2-ac61-cdcb7ea14d3c",
   "metadata": {
    "tags": []
   },
   "outputs": [],
   "source": [
    "import csv"
   ]
  },
  {
   "cell_type": "code",
   "execution_count": 3,
   "id": "a3f44902-fc0f-488f-8a37-a3a9b63b1794",
   "metadata": {
    "tags": []
   },
   "outputs": [],
   "source": [
    "def read_csv(path):\n",
    "    with open(path, newline=\"\") as f:\n",
    "        reader = csv.reader(f)\n",
    "        output = []\n",
    "        for row in reader:\n",
    "            values = []\n",
    "            for value in row:\n",
    "                if len(row) == 3:\n",
    "                    values.append(float(value))\n",
    "                elif len(row) == 2:\n",
    "                    values.append(int(value))\n",
    "            output.append(values)\n",
    "        return output"
   ]
  },
  {
   "cell_type": "code",
   "execution_count": 4,
   "id": "9a79a662-bf23-4e99-a8ae-10d65f924ad0",
   "metadata": {
    "tags": []
   },
   "outputs": [],
   "source": [
    "folder_path = './lung_segmentations/Lung segmentation-10'\n",
    "edges_path = '/edges.csv'\n",
    "vertices_path = '/vertices.csv'"
   ]
  },
  {
   "cell_type": "code",
   "execution_count": 5,
   "id": "795db3b7-3f4b-4ed6-990b-e9facb965a46",
   "metadata": {
    "tags": []
   },
   "outputs": [],
   "source": [
    "vertices = read_csv(folder_path + vertices_path)\n",
    "edges = read_csv(folder_path + edges_path)"
   ]
  },
  {
   "cell_type": "code",
   "execution_count": 6,
   "id": "b880eba8-d244-4855-bba8-87a51b9b980a",
   "metadata": {
    "tags": []
   },
   "outputs": [],
   "source": [
    "direction = [0,0,1]"
   ]
  },
  {
   "cell_type": "code",
   "execution_count": 7,
   "id": "9b02fda9-3b73-47b5-be57-5867f1162571",
   "metadata": {
    "tags": []
   },
   "outputs": [],
   "source": [
    "filtration, new_to_original_indices = ph.make_filtration(vertices, edges, direction)"
   ]
  },
  {
   "cell_type": "markdown",
   "id": "c0ea8e14-3b08-4143-b2e5-4d662b3aa242",
   "metadata": {},
   "source": [
    "# Filtration Algorithm Start"
   ]
  },
  {
   "cell_type": "code",
   "execution_count": 8,
   "id": "f2fa5cad-8da3-458f-959b-35feece1b8a8",
   "metadata": {},
   "outputs": [],
   "source": [
    "bz = ph.BettiZero(direction, vertices, edges)   # <-- each instance gets its own uf"
   ]
  },
  {
   "cell_type": "code",
   "execution_count": 9,
   "id": "d3fa341b-ab5b-40a1-9deb-b7a900593fa3",
   "metadata": {},
   "outputs": [],
   "source": [
    "components, mergers, verts, births = bz.compute_persistence()"
   ]
  },
  {
   "cell_type": "code",
   "execution_count": 11,
   "id": "f9d3b4ed-fb79-45e6-b2e6-8cab1dd2a624",
   "metadata": {},
   "outputs": [],
   "source": [
    "intervals = ph.compute_intervals(births, mergers)"
   ]
  },
  {
   "cell_type": "code",
   "execution_count": 12,
   "id": "791d3967-0749-4ea7-82eb-08c28b1e4548",
   "metadata": {
    "tags": []
   },
   "outputs": [
    {
     "name": "stdout",
     "output_type": "stream",
     "text": [
      "[[93.5, -1], [94.5, 98.5], [95.5, 112.5], [96.5, 103.5], [100.5, 108.5], [102.5, 103.5], [103.5, 129.5], [103.5, 107.5], [106.5, 107.5], [107.5, 113.5], [107.5, 127.5], [113.5, 123.5], [114.5, 170.5], [116.5, 119.5], [120.5, -1], [120.5, 149.5], [121.5, 123.5], [123.5, -1], [125.5, 126.5], [126.5, 144.5], [129.5, 132.5], [130.5, 131.5], [132.5, 145.5], [132.5, 133.5], [133.5, 134.5], [136.5, 137.5], [137.5, 139.5], [140.5, 146.5], [140.5, 145.5], [140.5, 141.5], [141.5, 143.5], [142.5, 143.5], [150.5, 154.5], [152.5, 153.5], [152.5, -1], [156.5, -1], [157.5, -1], [172.5, -1]]\n"
     ]
    }
   ],
   "source": [
    "print(intervals)"
   ]
  },
  {
   "cell_type": "code",
   "execution_count": 13,
   "id": "9f87abae-af6f-44fd-81bc-b10e073a8816",
   "metadata": {
    "tags": []
   },
   "outputs": [
    {
     "name": "stdout",
     "output_type": "stream",
     "text": [
      "(56.0, [114.5, 170.5])\n"
     ]
    }
   ],
   "source": [
    "print(ph.compute_largest_bar(intervals))"
   ]
  }
 ],
 "metadata": {
  "kernelspec": {
   "display_name": "Python 3 (ipykernel)",
   "language": "python",
   "name": "python3"
  },
  "language_info": {
   "codemirror_mode": {
    "name": "ipython",
    "version": 3
   },
   "file_extension": ".py",
   "mimetype": "text/x-python",
   "name": "python",
   "nbconvert_exporter": "python",
   "pygments_lexer": "ipython3",
   "version": "3.9.10"
  }
 },
 "nbformat": 4,
 "nbformat_minor": 5
}
