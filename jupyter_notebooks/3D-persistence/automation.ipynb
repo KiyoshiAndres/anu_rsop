{
 "cells": [
  {
   "cell_type": "code",
   "execution_count": 1,
   "id": "f025c3b3-15c5-43dd-82d5-2a2484fb3466",
   "metadata": {
    "tags": []
   },
   "outputs": [],
   "source": [
    "import persistence_homology as ph"
   ]
  },
  {
   "cell_type": "code",
   "execution_count": 2,
   "id": "2d4307a9-867d-49b2-ac61-cdcb7ea14d3c",
   "metadata": {
    "tags": []
   },
   "outputs": [],
   "source": [
    "import csv\n",
    "import os\n",
    "import json\n",
    "from pathlib import Path\n",
    "import logging"
   ]
  },
  {
   "cell_type": "code",
   "execution_count": 3,
   "id": "7b9f3340-71d2-4d2a-b3af-d71292bebcd4",
   "metadata": {},
   "outputs": [],
   "source": [
    "log_path = Path(\"notebook_demo.log\")\n",
    "logging.basicConfig(\n",
    "    filename='automation.log',         # log file path\n",
    "    filemode='a',                  # 'w' to overwrite each run, 'a' to append\n",
    "    format='%(asctime)s %(levelname)-8s %(name)s: %(message)s',\n",
    "    datefmt='%Y-%m-%d %H:%M:%S',\n",
    "    level=logging.INFO             # minimum level to record\n",
    ")\n",
    "logger = logging.getLogger(__name__)\n",
    "\n",
    "logger.info(\"Notebook logging started\")"
   ]
  },
  {
   "cell_type": "code",
   "execution_count": 4,
   "id": "a3f44902-fc0f-488f-8a37-a3a9b63b1794",
   "metadata": {
    "tags": []
   },
   "outputs": [],
   "source": [
    "def read_csv(path):\n",
    "    with open(path, newline=\"\") as f:\n",
    "        reader = csv.reader(f)\n",
    "        output = []\n",
    "        for row in reader:\n",
    "            values = []\n",
    "            for value in row:\n",
    "                if len(row) == 3:\n",
    "                    values.append(float(value))\n",
    "                elif len(row) == 2:\n",
    "                    values.append(int(value))\n",
    "            output.append(values)\n",
    "        return output\n",
    "def get_subfolders(path):\n",
    "    \"\"\"\n",
    "    Return a list of names of all subdirectories in the given path.\n",
    "    \"\"\"\n",
    "    return [\n",
    "        name for name in os.listdir(path)\n",
    "        if os.path.isdir(os.path.join(path, name))\n",
    "    ]\n",
    "def write_json(json_file_name, data):\n",
    "    output_path = Path(\"{}.json\".format(json_file_name))\n",
    "    with output_path.open(\"w\", encoding=\"utf-8\") as f:\n",
    "        json.dump(\n",
    "            data,            # Python object\n",
    "            f,               # file handle\n",
    "            ensure_ascii=False,  # keep unicode chars if any\n",
    "            indent=4             # pretty-print with 4-space indent\n",
    "        )"
   ]
  },
  {
   "cell_type": "code",
   "execution_count": 5,
   "id": "66af5b86-4ffb-4310-a621-1183f33e3907",
   "metadata": {
    "tags": []
   },
   "outputs": [],
   "source": [
    "segmentation_folder_path = \"./lung_segmentations\"\n",
    "lung_segmentations = get_subfolders(segmentation_folder_path)"
   ]
  },
  {
   "cell_type": "markdown",
   "id": "c0ea8e14-3b08-4143-b2e5-4d662b3aa242",
   "metadata": {},
   "source": [
    "# Filtration Algorithm Start"
   ]
  },
  {
   "cell_type": "code",
   "execution_count": 6,
   "id": "269d6361-2054-4f12-8c7d-b0059f800919",
   "metadata": {
    "tags": []
   },
   "outputs": [
    {
     "name": "stdout",
     "output_type": "stream",
     "text": [
      "Lung Segmentation-Lung segmentation-AI-19:\n",
      "Direction: [-1.  0.  0.]. Largest Bar: (np.float64(39.0), [np.float64(-353.5), np.float64(-314.5)]).\n",
      "Direction: [-0.95105652 -0.30901699  0.        ]. Largest Bar: (np.float64(31.837915231136947), [np.float64(-413.1437101096987), np.float64(-381.30579487856176)]).\n",
      "Direction: [-0.95105652  0.30901699  0.        ]. Largest Bar: (np.float64(47.4327981489061), [np.float64(-264.0325350256209), np.float64(-216.59973687671481)]).\n"
     ]
    },
    {
     "ename": "KeyboardInterrupt",
     "evalue": "",
     "output_type": "error",
     "traceback": [
      "\u001b[0;31m---------------------------------------------------------------------------\u001b[0m",
      "\u001b[0;31mKeyboardInterrupt\u001b[0m                         Traceback (most recent call last)",
      "Cell \u001b[0;32mIn[6], line 12\u001b[0m\n\u001b[1;32m     10\u001b[0m \u001b[38;5;28;01mfor\u001b[39;00m direction \u001b[38;5;129;01min\u001b[39;00m directions:\n\u001b[1;32m     11\u001b[0m     bz \u001b[38;5;241m=\u001b[39m ph\u001b[38;5;241m.\u001b[39mBettiZero(direction, vertices, edges)\n\u001b[0;32m---> 12\u001b[0m     components, mergers, verts, births \u001b[38;5;241m=\u001b[39m \u001b[43mbz\u001b[49m\u001b[38;5;241;43m.\u001b[39;49m\u001b[43mcompute_persistence\u001b[49m\u001b[43m(\u001b[49m\u001b[43m)\u001b[49m\n\u001b[1;32m     13\u001b[0m     intervals \u001b[38;5;241m=\u001b[39m ph\u001b[38;5;241m.\u001b[39mcompute_intervals(births, mergers)\n\u001b[1;32m     14\u001b[0m     largest_bar \u001b[38;5;241m=\u001b[39m ph\u001b[38;5;241m.\u001b[39mcompute_largest_bar(intervals)\n",
      "File \u001b[0;32m~/anu_rsop/jupyter_notebooks/3D-persistence/persistence_homology.py:73\u001b[0m, in \u001b[0;36mBettiZero.compute_persistence\u001b[0;34m(self)\u001b[0m\n\u001b[1;32m     70\u001b[0m all_vertices\u001b[38;5;241m.\u001b[39mextend(verts)\n\u001b[1;32m     72\u001b[0m \u001b[38;5;66;03m# 3 propagate components upward\u001b[39;00m\n\u001b[0;32m---> 73\u001b[0m components \u001b[38;5;241m=\u001b[39m \u001b[38;5;28;43mself\u001b[39;49m\u001b[38;5;241;43m.\u001b[39;49m\u001b[43mcompute_components\u001b[49m\u001b[43m(\u001b[49m\u001b[43mall_vertices\u001b[49m\u001b[43m,\u001b[49m\u001b[43m \u001b[49m\u001b[43mcomponents\u001b[49m\u001b[43m,\u001b[49m\u001b[43m \u001b[49m\u001b[38;5;28;43mself\u001b[39;49m\u001b[38;5;241;43m.\u001b[39;49m\u001b[43muf\u001b[49m\u001b[43m)\u001b[49m\n\u001b[1;32m     75\u001b[0m \u001b[38;5;66;03m# 4 new births *inside* the slice\u001b[39;00m\n\u001b[1;32m     76\u001b[0m births\u001b[38;5;241m.\u001b[39mextend(\u001b[38;5;28mself\u001b[39m\u001b[38;5;241m.\u001b[39mcompute_new_births(verts, \u001b[38;5;28mself\u001b[39m\u001b[38;5;241m.\u001b[39muf))\n",
      "File \u001b[0;32m~/anu_rsop/jupyter_notebooks/3D-persistence/persistence_homology.py:111\u001b[0m, in \u001b[0;36mBettiZero.compute_components\u001b[0;34m(vertices, old_components, uf)\u001b[0m\n\u001b[1;32m    109\u001b[0m     node \u001b[38;5;241m=\u001b[39m v[\u001b[38;5;124m'\u001b[39m\u001b[38;5;124mnew_index\u001b[39m\u001b[38;5;124m'\u001b[39m]\n\u001b[1;32m    110\u001b[0m     root \u001b[38;5;241m=\u001b[39m uf\u001b[38;5;241m.\u001b[39mfind(node)\n\u001b[0;32m--> 111\u001b[0m     \u001b[43mcomps\u001b[49m\u001b[38;5;241;43m.\u001b[39;49m\u001b[43msetdefault\u001b[49m\u001b[43m(\u001b[49m\u001b[43mroot\u001b[49m\u001b[43m,\u001b[49m\u001b[43m \u001b[49m\u001b[43m[\u001b[49m\u001b[43m]\u001b[49m\u001b[43m)\u001b[49m\u001b[38;5;241m.\u001b[39mappend(node)\n\u001b[1;32m    112\u001b[0m \u001b[38;5;28;01mreturn\u001b[39;00m comps\n",
      "\u001b[0;31mKeyboardInterrupt\u001b[0m: "
     ]
    }
   ],
   "source": [
    "json_data = []\n",
    "for lung_segmentation in lung_segmentations:\n",
    "    folder_path = './lung_segmentations/{}'.format(lung_segmentation)\n",
    "    edges_path = '/edges.csv'\n",
    "    vertices_path = '/vertices.csv'\n",
    "    vertices = read_csv(folder_path + vertices_path)\n",
    "    edges = read_csv(folder_path + edges_path)\n",
    "    directions = ph.generate_sphere_points(20, 5, 0.0000001)\n",
    "    print(\"Lung Segmentation-{}:\".format(lung_segmentation))\n",
    "    segmentation_data = []\n",
    "    for direction in directions:\n",
    "        bz = ph.BettiZero(direction, vertices, edges)\n",
    "        components, mergers, verts, births = bz.compute_persistence()\n",
    "        intervals = ph.compute_intervals(births, mergers)\n",
    "        largest_bar = ph.compute_largest_bar(intervals)\n",
    "        data = {\n",
    "            \"direction\": direction,\n",
    "            \"intervals\": intervals,\n",
    "            \"largest_bar\": largest_bar,\n",
    "            \"components\": list(components)\n",
    "        }\n",
    "        segmentation_data.append(data)\n",
    "        print(\"Direction: {}. Largest Bar: {}.\".format(direction, largest_bar))\n",
    "        logger.info(data)\n",
    "write_json(\"BettiZeroSegmentations\", json_data)"
   ]
  },
  {
   "cell_type": "code",
   "execution_count": null,
   "id": "188ac4a6-4aee-4084-a82c-47a0ff8c2693",
   "metadata": {
    "tags": []
   },
   "outputs": [],
   "source": [
    "print(json_data)"
   ]
  }
 ],
 "metadata": {
  "kernelspec": {
   "display_name": "Python 3 (ipykernel)",
   "language": "python",
   "name": "python3"
  },
  "language_info": {
   "codemirror_mode": {
    "name": "ipython",
    "version": 3
   },
   "file_extension": ".py",
   "mimetype": "text/x-python",
   "name": "python",
   "nbconvert_exporter": "python",
   "pygments_lexer": "ipython3",
   "version": "3.12.3"
  }
 },
 "nbformat": 4,
 "nbformat_minor": 5
}
