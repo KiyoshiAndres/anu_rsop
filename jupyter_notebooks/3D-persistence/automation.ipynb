{
 "cells": [
  {
   "cell_type": "code",
   "execution_count": 1,
   "id": "f025c3b3-15c5-43dd-82d5-2a2484fb3466",
   "metadata": {},
   "outputs": [],
   "source": [
    "import persistence_homology as ph"
   ]
  },
  {
   "cell_type": "code",
   "execution_count": 2,
   "id": "2d4307a9-867d-49b2-ac61-cdcb7ea14d3c",
   "metadata": {},
   "outputs": [],
   "source": [
    "import csv"
   ]
  },
  {
   "cell_type": "code",
   "execution_count": 3,
   "id": "a3f44902-fc0f-488f-8a37-a3a9b63b1794",
   "metadata": {},
   "outputs": [],
   "source": [
    "def read_csv(path):\n",
    "    with open(path, newline=\"\") as f:\n",
    "        reader = csv.reader(f)\n",
    "        output = []\n",
    "        for row in reader:\n",
    "            values = []\n",
    "            for value in row:\n",
    "                if len(row) == 3:\n",
    "                    values.append(float(value))\n",
    "                elif len(row) == 2:\n",
    "                    values.append(int(value))\n",
    "            output.append(values)\n",
    "        return output"
   ]
  },
  {
   "cell_type": "code",
   "execution_count": 4,
   "id": "9a79a662-bf23-4e99-a8ae-10d65f924ad0",
   "metadata": {},
   "outputs": [],
   "source": [
    "folder_path = './lung_segmentations/segmentation-10'\n",
    "edges_path = '/edges.csv'\n",
    "vertices_path = '/vertices.csv'"
   ]
  },
  {
   "cell_type": "code",
   "execution_count": 5,
   "id": "795db3b7-3f4b-4ed6-990b-e9facb965a46",
   "metadata": {},
   "outputs": [],
   "source": [
    "vertices = read_csv(folder_path + vertices_path)\n",
    "edges = read_csv(folder_path + edges_path)"
   ]
  },
  {
   "cell_type": "code",
   "execution_count": 6,
   "id": "b880eba8-d244-4855-bba8-87a51b9b980a",
   "metadata": {},
   "outputs": [],
   "source": [
    "direction = [0,0,1]"
   ]
  },
  {
   "cell_type": "code",
   "execution_count": 7,
   "id": "9b02fda9-3b73-47b5-be57-5867f1162571",
   "metadata": {},
   "outputs": [],
   "source": [
    "points = [[vertex, [0,0,0]] for vertex in vertices]\n",
    "pre_edges = edges\n",
    "pre_formatted_edges = []\n",
    "for edge in pre_edges:\n",
    "    x,y = edge\n",
    "    pre_formatted_edges.append([[x, y], [1,1,1]])\n",
    "pre_vertices = ph.append_height_vertices(direction, points)\n",
    "vertices = ph.format_vertices(pre_vertices)\n",
    "edges = ph.format_edges(vertices, pre_formatted_edges)\n",
    "pre_graph = ph.process_graph(vertices, edges, direction)\n",
    "graph = pre_graph['signed_graph']\n",
    "original_to_new_indices = pre_graph['index_translation']\n",
    "new_to_original_indices = {v: k for k, v in original_to_new_indices.items()}\n",
    "filtration = ph.group_events_by_height(graph[0], graph[1])\n"
   ]
  },
  {
   "cell_type": "markdown",
   "id": "c0ea8e14-3b08-4143-b2e5-4d662b3aa242",
   "metadata": {},
   "source": [
    "# Filtration Algorithm Start"
   ]
  },
  {
   "cell_type": "code",
   "execution_count": 8,
   "id": "74c90533-f9fe-410b-9cb5-1b327f204056",
   "metadata": {},
   "outputs": [],
   "source": [
    "uf = ph.UnionFind(graph[0])"
   ]
  },
  {
   "cell_type": "code",
   "execution_count": 9,
   "id": "82504202-e896-4620-874c-92fd41d051b9",
   "metadata": {},
   "outputs": [],
   "source": [
    "# Horizontal Step\n",
    "def horizontal_step(edges: list, uf):\n",
    "    for edge in edges:\n",
    "        x ,y = edge['vertices']\n",
    "        uf.union(x, y)\n",
    "        \n",
    "def vertical_step(edges: list, components: dict, mergers: dict, uf):\n",
    "    for edge in edges:\n",
    "        x ,y = edge['vertices']\n",
    "        roots = uf.union(x, y)\n",
    "        rootX = roots[x]['root']\n",
    "        rootY = roots[y]['root']\n",
    "        rankX = roots[x]['rank']\n",
    "        rankY = roots[y]['rank']\n",
    "        if rootX != rootY:\n",
    "            if rootX in components and rootY in components:\n",
    "                if rankY > rankX:\n",
    "                    mergers[rootY]=max(edge['height'])\n",
    "                    del components[rootY]\n",
    "                elif rankX > rankY:\n",
    "                    mergers[rootX]=max(edge['height'])\n",
    "                    del components[rootX]\n",
    "                else:\n",
    "                    mergers[rootY]=max(edge['height'])\n",
    "                    del components[rootY]\n",
    "                    \n",
    "def compute_components(vertices, old_components, uf):\n",
    "    components = old_components\n",
    "    for vertex in vertices:\n",
    "        node = vertex['new_index']\n",
    "        root = uf.find(node)  # This finds the representative of the component containing 'node'\n",
    "        if root not in components:\n",
    "            components[root] = []\n",
    "        if node not in components[root]:\n",
    "            components[root].append(node)\n",
    "    return components\n",
    "\n",
    "def compute_new_births(vertices, uf):\n",
    "    new_components = []\n",
    "    for vertex in vertices:\n",
    "        node = vertex['new_index']\n",
    "        root = uf.find(node)  # This finds the representative of the component containing 'node'\n",
    "        if root == node:\n",
    "            new_components.append(vertex)\n",
    "    return new_components\n",
    "\n",
    "def compute_intervals(births, mergers):\n",
    "    \"\"\"birth {'coordinates': [284.0, 315.0, 93.5], 'original_index': 18104, 'new_index': 0, 'height': 93.5, 'sign': 0}\n",
    "    merger 5 98.5\"\"\"\n",
    "    intervals = []\n",
    "    for birth in births:\n",
    "        left_bound = birth['height']\n",
    "        right_bound = -1\n",
    "        index = birth['new_index']\n",
    "        if index in mergers.keys():\n",
    "            right_bound = mergers[index]\n",
    "        intervals.append([left_bound, right_bound])\n",
    "    return intervals\n",
    "    \n",
    "def length_of_interval(interval):\n",
    "    if interval[1] == -1:\n",
    "        return -1\n",
    "    else:\n",
    "        return interval[1] - interval[0]"
   ]
  },
  {
   "cell_type": "code",
   "execution_count": 10,
   "id": "f0f67da3-6102-4872-8cf2-847f4e9ff157",
   "metadata": {},
   "outputs": [],
   "source": [
    "def compute_persistence(filtration):\n",
    "    total_components = {}\n",
    "    mergers = {}\n",
    "    total_vertices = []\n",
    "    births = []\n",
    "\n",
    "    for height, stage in filtration.items():\n",
    "        horizontal_edges = stage['horizontal_edges']\n",
    "        vertical_edges = stage['vertical_edges']\n",
    "        vertices = stage['points']\n",
    "    \n",
    "        # We join the horizontal edges\n",
    "        horizontal_step(horizontal_edges)\n",
    "        \n",
    "        # We join the vertical edges\n",
    "        vertical_step(vertical_edges, total_components, mergers)\n",
    "        total_vertices.extend(vertices)\n",
    "    \n",
    "        # We compute the new components\n",
    "        current_components = compute_components(total_vertices, total_components)\n",
    "        total_components = current_components\n",
    "    \n",
    "        # We compute the horizontal connected components at a given stage, the unmerged are new components\n",
    "        new_births = compute_new_births(vertices)\n",
    "        births.extend(new_births)\n",
    "    \n",
    "    return total_components, mergers, total_vertices, births"
   ]
  },
  {
   "cell_type": "code",
   "execution_count": 11,
   "id": "3bd9e699-9a10-4f12-837c-97f2768e0f10",
   "metadata": {},
   "outputs": [],
   "source": [
    "total_components, mergers, total_vertices, births = compute_persistence(filtration)"
   ]
  },
  {
   "cell_type": "code",
   "execution_count": 12,
   "id": "d36ac47a-adbb-4768-aa38-97fdd707e78d",
   "metadata": {},
   "outputs": [
    {
     "name": "stdout",
     "output_type": "stream",
     "text": [
      "[{'coordinates': [284.0, 315.0, 93.5], 'original_index': 18104, 'new_index': 0, 'height': 93.5, 'sign': 0}, {'coordinates': [279.0, 299.0, 94.5], 'original_index': 17293, 'new_index': 5, 'height': 94.5, 'sign': 0}, {'coordinates': [306.0, 319.0, 95.5], 'original_index': 24411, 'new_index': 47, 'height': 95.5, 'sign': 0}, {'coordinates': [299.0, 304.0, 96.5], 'original_index': 22256, 'new_index': 129, 'height': 96.5, 'sign': 0}, {'coordinates': [292.0, 328.0, 100.5], 'original_index': 20514, 'new_index': 322, 'height': 100.5, 'sign': 0}, {'coordinates': [289.0, 334.0, 102.5], 'original_index': 19459, 'new_index': 433, 'height': 102.5, 'sign': 0}, {'coordinates': [303.0, 277.0, 103.5], 'original_index': 23535, 'new_index': 540, 'height': 103.5, 'sign': 0}, {'coordinates': [311.0, 274.0, 103.5], 'original_index': 25143, 'new_index': 541, 'height': 103.5, 'sign': 0}, {'coordinates': [281.0, 318.0, 106.5], 'original_index': 17536, 'new_index': 830, 'height': 106.5, 'sign': 0}, {'coordinates': [308.0, 284.0, 107.5], 'original_index': 24721, 'new_index': 965, 'height': 107.5, 'sign': 0}, {'coordinates': [321.0, 308.0, 107.5], 'original_index': 25844, 'new_index': 967, 'height': 107.5, 'sign': 0}, {'coordinates': [323.0, 287.0, 113.5], 'original_index': 25882, 'new_index': 1591, 'height': 113.5, 'sign': 0}, {'coordinates': [181.0, 334.0, 114.5], 'original_index': 535, 'new_index': 1652, 'height': 114.5, 'sign': 0}, {'coordinates': [299.0, 317.0, 116.5], 'original_index': 22335, 'new_index': 1879, 'height': 116.5, 'sign': 0}, {'coordinates': [190.0, 329.0, 120.5], 'original_index': 1624, 'new_index': 2440, 'height': 120.5, 'sign': 0}, {'coordinates': [201.0, 281.0, 120.5], 'original_index': 3124, 'new_index': 2441, 'height': 120.5, 'sign': 0}, {'coordinates': [189.0, 328.0, 121.5], 'original_index': 1521, 'new_index': 2598, 'height': 121.5, 'sign': 0}, {'coordinates': [280.0, 309.0, 123.5], 'original_index': 17398, 'new_index': 2949, 'height': 123.5, 'sign': 0}, {'coordinates': [200.0, 279.0, 125.5], 'original_index': 2863, 'new_index': 3277, 'height': 125.5, 'sign': 0}, {'coordinates': [282.0, 311.0, 126.5], 'original_index': 17698, 'new_index': 3471, 'height': 126.5, 'sign': 0}, {'coordinates': [172.0, 320.0, 129.5], 'original_index': 36, 'new_index': 3903, 'height': 129.5, 'sign': 0}, {'coordinates': [197.0, 283.0, 130.5], 'original_index': 2299, 'new_index': 4063, 'height': 130.5, 'sign': 0}, {'coordinates': [307.0, 257.0, 132.5], 'original_index': 24450, 'new_index': 4408, 'height': 132.5, 'sign': 0}, {'coordinates': [309.0, 258.0, 132.5], 'original_index': 24836, 'new_index': 4410, 'height': 132.5, 'sign': 0}, {'coordinates': [312.0, 252.0, 133.5], 'original_index': 25218, 'new_index': 4579, 'height': 133.5, 'sign': 0}, {'coordinates': [203.0, 287.0, 136.5], 'original_index': 3672, 'new_index': 5071, 'height': 136.5, 'sign': 0}, {'coordinates': [312.0, 264.0, 137.5], 'original_index': 25237, 'new_index': 5249, 'height': 137.5, 'sign': 0}, {'coordinates': [170.0, 271.0, 140.5], 'original_index': 1, 'new_index': 5806, 'height': 140.5, 'sign': 0}, {'coordinates': [174.0, 300.0, 140.5], 'original_index': 79, 'new_index': 5815, 'height': 140.5, 'sign': 0}, {'coordinates': [177.0, 272.0, 140.5], 'original_index': 211, 'new_index': 5816, 'height': 140.5, 'sign': 0}, {'coordinates': [295.0, 314.0, 141.5], 'original_index': 21282, 'new_index': 6171, 'height': 141.5, 'sign': 0}, {'coordinates': [292.0, 306.0, 142.5], 'original_index': 20419, 'new_index': 6553, 'height': 142.5, 'sign': 0}, {'coordinates': [313.0, 233.0, 150.5], 'original_index': 25322, 'new_index': 9499, 'height': 150.5, 'sign': 0}, {'coordinates': [209.0, 283.0, 152.5], 'original_index': 4394, 'new_index': 9970, 'height': 152.5, 'sign': 0}, {'coordinates': [288.0, 308.0, 152.5], 'original_index': 19156, 'new_index': 10053, 'height': 152.5, 'sign': 0}, {'coordinates': [212.0, 304.0, 156.5], 'original_index': 4696, 'new_index': 11727, 'height': 156.5, 'sign': 0}, {'coordinates': [211.0, 303.0, 157.5], 'original_index': 4622, 'new_index': 12178, 'height': 157.5, 'sign': 0}, {'coordinates': [311.0, 289.0, 172.5], 'original_index': 25172, 'new_index': 17131, 'height': 172.5, 'sign': 0}]\n"
     ]
    }
   ],
   "source": [
    "print(births)"
   ]
  },
  {
   "cell_type": "code",
   "execution_count": 13,
   "id": "843caf6a-77be-4141-85d5-4e421e86f0be",
   "metadata": {},
   "outputs": [],
   "source": [
    "intervals = compute_intervals(births, mergers)"
   ]
  },
  {
   "cell_type": "code",
   "execution_count": 16,
   "id": "31748e86-145f-4894-92b9-165f730bbd10",
   "metadata": {},
   "outputs": [
    {
     "name": "stdout",
     "output_type": "stream",
     "text": [
      "[[93.5, -1], [94.5, 98.5], [95.5, 112.5], [96.5, 103.5], [100.5, 108.5], [102.5, 103.5], [103.5, 129.5], [103.5, 107.5], [106.5, 107.5], [107.5, 113.5], [107.5, 127.5], [113.5, 123.5], [114.5, 170.5], [116.5, 119.5], [120.5, -1], [120.5, 149.5], [121.5, 123.5], [123.5, -1], [125.5, 126.5], [126.5, 144.5], [129.5, 132.5], [130.5, 131.5], [132.5, 145.5], [132.5, 133.5], [133.5, 134.5], [136.5, 137.5], [137.5, 139.5], [140.5, 146.5], [140.5, 145.5], [140.5, 141.5], [141.5, 143.5], [142.5, 143.5], [150.5, 154.5], [152.5, 153.5], [152.5, -1], [156.5, -1], [157.5, -1], [172.5, -1]]\n"
     ]
    }
   ],
   "source": [
    "print(intervals)"
   ]
  },
  {
   "cell_type": "code",
   "execution_count": 14,
   "id": "ff3cb048-daa3-4815-8dd8-cd73d1ae25a6",
   "metadata": {},
   "outputs": [],
   "source": [
    "def compute_largest_bar(intervals):\n",
    "    largest_bar = 0\n",
    "    for interval in intervals:\n",
    "        if length_of_interval(interval) > largest_bar:\n",
    "            largest_bar = length_of_interval(interval)\n",
    "    return largest_bar"
   ]
  },
  {
   "cell_type": "code",
   "execution_count": 15,
   "id": "9f87abae-af6f-44fd-81bc-b10e073a8816",
   "metadata": {},
   "outputs": [
    {
     "name": "stdout",
     "output_type": "stream",
     "text": [
      "56.0\n"
     ]
    }
   ],
   "source": [
    "print(compute_largest_bar(intervals))"
   ]
  }
 ],
 "metadata": {
  "kernelspec": {
   "display_name": "Python 3 (ipykernel)",
   "language": "python",
   "name": "python3"
  },
  "language_info": {
   "codemirror_mode": {
    "name": "ipython",
    "version": 3
   },
   "file_extension": ".py",
   "mimetype": "text/x-python",
   "name": "python",
   "nbconvert_exporter": "python",
   "pygments_lexer": "ipython3",
   "version": "3.12.3"
  }
 },
 "nbformat": 4,
 "nbformat_minor": 5
}
