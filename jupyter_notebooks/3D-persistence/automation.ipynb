{
 "cells": [
  {
   "cell_type": "code",
   "execution_count": null,
   "id": "f025c3b3-15c5-43dd-82d5-2a2484fb3466",
   "metadata": {
    "tags": []
   },
   "outputs": [],
   "source": [
    "import persistence_homology as ph"
   ]
  },
  {
   "cell_type": "code",
   "execution_count": null,
   "id": "2d4307a9-867d-49b2-ac61-cdcb7ea14d3c",
   "metadata": {
    "tags": []
   },
   "outputs": [],
   "source": [
    "import csv\n",
    "import os\n",
    "import json\n",
    "from pathlib import Path\n",
    "import logging"
   ]
  },
  {
   "cell_type": "code",
   "execution_count": null,
   "id": "7b9f3340-71d2-4d2a-b3af-d71292bebcd4",
   "metadata": {},
   "outputs": [],
   "source": [
    "log_path = Path(\"notebook_demo.log\")\n",
    "logging.basicConfig(\n",
    "    filename='automation.log',         # log file path\n",
    "    filemode='a',                  # 'w' to overwrite each run, 'a' to append\n",
    "    format='%(asctime)s %(levelname)-8s %(name)s: %(message)s',\n",
    "    datefmt='%Y-%m-%d %H:%M:%S',\n",
    "    level=logging.INFO             # minimum level to record\n",
    ")\n",
    "logger = logging.getLogger(__name__)\n",
    "\n",
    "logger.info(\"Notebook logging started\")"
   ]
  },
  {
   "cell_type": "code",
   "execution_count": null,
   "id": "a3f44902-fc0f-488f-8a37-a3a9b63b1794",
   "metadata": {
    "tags": []
   },
   "outputs": [],
   "source": [
    "def read_csv(path):\n",
    "    with open(path, newline=\"\") as f:\n",
    "        reader = csv.reader(f)\n",
    "        output = []\n",
    "        for row in reader:\n",
    "            values = []\n",
    "            for value in row:\n",
    "                if len(row) == 3:\n",
    "                    values.append(float(value))\n",
    "                elif len(row) == 2:\n",
    "                    values.append(int(value))\n",
    "            output.append(values)\n",
    "        return output\n",
    "def get_subfolders(path):\n",
    "    \"\"\"\n",
    "    Return a list of names of all subdirectories in the given path.\n",
    "    \"\"\"\n",
    "    return [\n",
    "        name for name in os.listdir(path)\n",
    "        if os.path.isdir(os.path.join(path, name))\n",
    "    ]\n",
    "def write_json(json_file_name, data):\n",
    "    output_path = Path(\"{}.json\".format(json_file_name))\n",
    "    with output_path.open(\"w\", encoding=\"utf-8\") as f:\n",
    "        json.dump(\n",
    "            data,            # Python object\n",
    "            f,               # file handle\n",
    "            ensure_ascii=False,  # keep unicode chars if any\n",
    "            indent=4             # pretty-print with 4-space indent\n",
    "        )"
   ]
  },
  {
   "cell_type": "code",
   "execution_count": null,
   "id": "66af5b86-4ffb-4310-a621-1183f33e3907",
   "metadata": {
    "tags": []
   },
   "outputs": [],
   "source": [
    "segmentation_folder_path = \"./lung_segmentations\"\n",
    "lung_segmentations = get_subfolders(segmentation_folder_path)"
   ]
  },
  {
   "cell_type": "markdown",
   "id": "c0ea8e14-3b08-4143-b2e5-4d662b3aa242",
   "metadata": {},
   "source": [
    "# Filtration Algorithm Start"
   ]
  },
  {
   "cell_type": "code",
   "execution_count": null,
   "id": "269d6361-2054-4f12-8c7d-b0059f800919",
   "metadata": {
    "tags": []
   },
   "outputs": [],
   "source": [
    "json_data = []\n",
    "for lung_segmentation in lung_segmentations:\n",
    "    folder_path = './lung_segmentations/{}'.format(lung_segmentation)\n",
    "    edges_path = '/edges.csv'\n",
    "    vertices_path = '/vertices.csv'\n",
    "    vertices = read_csv(folder_path + vertices_path)\n",
    "    edges = read_csv(folder_path + edges_path)\n",
    "    directions = ph.generate_sphere_points(20, 5, 0.0000001)\n",
    "    directions = [[0,0,1]]\n",
    "    print(\"Lung Segmentation-{}:\".format(lung_segmentation))\n",
    "    for direction in directions:\n",
    "        bz = ph.BettiZero(direction, vertices, edges)\n",
    "        components, mergers, verts, births = bz.compute_persistence()\n",
    "        intervals = ph.compute_intervals(births, mergers)\n",
    "        largest_bar = ph.compute_largest_bar(intervals)\n",
    "        data = {\n",
    "            \"segmentation\": lung_segmentation,\n",
    "            \"direction\": direction,\n",
    "            \"intervals\": intervals,\n",
    "            \"largest_bar\": largest_bar,\n",
    "            \"components\": components.keys()\n",
    "        }\n",
    "        json_data.append(data)\n",
    "        print(\"Direction: {}. Largest Bar: {}.\".format(direction, largest_bar))\n",
    "        logger.info(data)\n",
    "write_json(\"BettiZeroSegmentations\", json_data)"
   ]
  }
 ],
 "metadata": {
  "kernelspec": {
   "display_name": "Python 3 (ipykernel)",
   "language": "python",
   "name": "python3"
  },
  "language_info": {
   "codemirror_mode": {
    "name": "ipython",
    "version": 3
   },
   "file_extension": ".py",
   "mimetype": "text/x-python",
   "name": "python",
   "nbconvert_exporter": "python",
   "pygments_lexer": "ipython3",
   "version": "3.9.10"
  }
 },
 "nbformat": 4,
 "nbformat_minor": 5
}
