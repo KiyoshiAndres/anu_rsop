{
 "cells": [
  {
   "cell_type": "code",
   "execution_count": 1,
   "id": "f025c3b3-15c5-43dd-82d5-2a2484fb3466",
   "metadata": {
    "tags": []
   },
   "outputs": [],
   "source": [
    "import persistence_homology as ph"
   ]
  },
  {
   "cell_type": "code",
   "execution_count": 2,
   "id": "2d4307a9-867d-49b2-ac61-cdcb7ea14d3c",
   "metadata": {
    "tags": []
   },
   "outputs": [],
   "source": [
    "import csv\n",
    "import os"
   ]
  },
  {
   "cell_type": "code",
   "execution_count": 3,
   "id": "a3f44902-fc0f-488f-8a37-a3a9b63b1794",
   "metadata": {
    "tags": []
   },
   "outputs": [],
   "source": [
    "def read_csv(path):\n",
    "    with open(path, newline=\"\") as f:\n",
    "        reader = csv.reader(f)\n",
    "        output = []\n",
    "        for row in reader:\n",
    "            values = []\n",
    "            for value in row:\n",
    "                if len(row) == 3:\n",
    "                    values.append(float(value))\n",
    "                elif len(row) == 2:\n",
    "                    values.append(int(value))\n",
    "            output.append(values)\n",
    "        return output\n",
    "def get_subfolders(path):\n",
    "    \"\"\"\n",
    "    Return a list of names of all subdirectories in the given path.\n",
    "    \"\"\"\n",
    "    return [\n",
    "        name for name in os.listdir(path)\n",
    "        if os.path.isdir(os.path.join(path, name))\n",
    "    ]"
   ]
  },
  {
   "cell_type": "code",
   "execution_count": 4,
   "id": "66af5b86-4ffb-4310-a621-1183f33e3907",
   "metadata": {
    "tags": []
   },
   "outputs": [],
   "source": [
    "segmentation_folder_path = \"./lung_segmentations\"\n",
    "lung_segmentations = get_subfolders(segmentation_folder_path)"
   ]
  },
  {
   "cell_type": "markdown",
   "id": "c0ea8e14-3b08-4143-b2e5-4d662b3aa242",
   "metadata": {},
   "source": [
    "# Filtration Algorithm Start"
   ]
  },
  {
   "cell_type": "code",
   "execution_count": 5,
   "id": "269d6361-2054-4f12-8c7d-b0059f800919",
   "metadata": {
    "tags": []
   },
   "outputs": [
    {
     "name": "stdout",
     "output_type": "stream",
     "text": [
      "Lung Segmentation-Lung segmentation-AI-25:\n",
      "Direction: [-1.  0.  0.]. Largest Bar: (31.0, [-325.5, -294.5]).\n",
      "Direction: [-0.95105652 -0.30901699  0.        ]. Largest Bar: (24.871502622695857, [-397.6627449841028, -372.79124236140694]).\n",
      "Direction: [-0.95105652  0.30901699  0.        ]. Largest Bar: (25.465531078275433, [-212.53755982033897, -187.07202874206354]).\n",
      "Direction: [-0.80901699 -0.58778525  0.        ]. Largest Bar: (27.379716488251006, [-450.0924237703595, -422.7127072821085]).\n",
      "Direction: [-0.80901699  0.          0.58778525]. Largest Bar: (30.293684122300704, [-180.38140112185175, -150.08771699955105]).\n",
      "Direction: [-0.80901699  0.         -0.58778525]. Largest Bar: (43.69341587602952, [-362.3041857962633, -318.6107699202338]).\n",
      "Direction: [-0.80901699  0.58778525  0.        ]. Largest Bar: (26.22910461107884, [-70.4135735049002, -44.18446889382136]).\n"
     ]
    },
    {
     "name": "stderr",
     "output_type": "stream",
     "text": [
      "Exception ignored in: <bound method IPythonKernel._clean_thread_parent_frames of <ipykernel.ipkernel.IPythonKernel object at 0x103853fa0>>\n",
      "Traceback (most recent call last):\n",
      "  File \"/Users/kiyoshitakeuchi/miniforge3/lib/python3.9/site-packages/ipykernel/ipkernel.py\", line 775, in _clean_thread_parent_frames\n",
      "    def _clean_thread_parent_frames(\n",
      "KeyboardInterrupt: \n"
     ]
    },
    {
     "ename": "KeyboardInterrupt",
     "evalue": "",
     "output_type": "error",
     "traceback": [
      "\u001b[0;31m---------------------------------------------------------------------------\u001b[0m",
      "\u001b[0;31mKeyboardInterrupt\u001b[0m                         Traceback (most recent call last)",
      "Cell \u001b[0;32mIn[5], line 11\u001b[0m\n\u001b[1;32m      9\u001b[0m \u001b[38;5;28;01mfor\u001b[39;00m direction \u001b[38;5;129;01min\u001b[39;00m directions:\n\u001b[1;32m     10\u001b[0m     bz \u001b[38;5;241m=\u001b[39m ph\u001b[38;5;241m.\u001b[39mBettiZero(direction, vertices, edges)\n\u001b[0;32m---> 11\u001b[0m     components, mergers, verts, births \u001b[38;5;241m=\u001b[39m \u001b[43mbz\u001b[49m\u001b[38;5;241;43m.\u001b[39;49m\u001b[43mcompute_persistence\u001b[49m\u001b[43m(\u001b[49m\u001b[43m)\u001b[49m\n\u001b[1;32m     12\u001b[0m     intervals \u001b[38;5;241m=\u001b[39m ph\u001b[38;5;241m.\u001b[39mcompute_intervals(births, mergers)\n\u001b[1;32m     13\u001b[0m     \u001b[38;5;28mprint\u001b[39m(\u001b[38;5;124m\"\u001b[39m\u001b[38;5;124mDirection: \u001b[39m\u001b[38;5;132;01m{}\u001b[39;00m\u001b[38;5;124m. Largest Bar: \u001b[39m\u001b[38;5;132;01m{}\u001b[39;00m\u001b[38;5;124m.\u001b[39m\u001b[38;5;124m\"\u001b[39m\u001b[38;5;241m.\u001b[39mformat(direction, ph\u001b[38;5;241m.\u001b[39mcompute_largest_bar(intervals)))\n",
      "File \u001b[0;32m~/Documents/GitHub/anu_rsop/jupyter_notebooks/3D-persistence/persistence_homology.py:73\u001b[0m, in \u001b[0;36mBettiZero.compute_persistence\u001b[0;34m(self)\u001b[0m\n\u001b[1;32m     70\u001b[0m all_vertices\u001b[38;5;241m.\u001b[39mextend(verts)\n\u001b[1;32m     72\u001b[0m \u001b[38;5;66;03m# 3 propagate components upward\u001b[39;00m\n\u001b[0;32m---> 73\u001b[0m components \u001b[38;5;241m=\u001b[39m \u001b[38;5;28;43mself\u001b[39;49m\u001b[38;5;241;43m.\u001b[39;49m\u001b[43mcompute_components\u001b[49m\u001b[43m(\u001b[49m\u001b[43mall_vertices\u001b[49m\u001b[43m,\u001b[49m\u001b[43m \u001b[49m\u001b[43mcomponents\u001b[49m\u001b[43m,\u001b[49m\u001b[43m \u001b[49m\u001b[38;5;28;43mself\u001b[39;49m\u001b[38;5;241;43m.\u001b[39;49m\u001b[43muf\u001b[49m\u001b[43m)\u001b[49m\n\u001b[1;32m     75\u001b[0m \u001b[38;5;66;03m# 4 new births *inside* the slice\u001b[39;00m\n\u001b[1;32m     76\u001b[0m births\u001b[38;5;241m.\u001b[39mextend(\u001b[38;5;28mself\u001b[39m\u001b[38;5;241m.\u001b[39mcompute_new_births(verts, \u001b[38;5;28mself\u001b[39m\u001b[38;5;241m.\u001b[39muf))\n",
      "File \u001b[0;32m~/Documents/GitHub/anu_rsop/jupyter_notebooks/3D-persistence/persistence_homology.py:110\u001b[0m, in \u001b[0;36mBettiZero.compute_components\u001b[0;34m(vertices, old_components, uf)\u001b[0m\n\u001b[1;32m    108\u001b[0m \u001b[38;5;28;01mfor\u001b[39;00m v \u001b[38;5;129;01min\u001b[39;00m vertices:\n\u001b[1;32m    109\u001b[0m     node \u001b[38;5;241m=\u001b[39m v[\u001b[38;5;124m'\u001b[39m\u001b[38;5;124mnew_index\u001b[39m\u001b[38;5;124m'\u001b[39m]\n\u001b[0;32m--> 110\u001b[0m     root \u001b[38;5;241m=\u001b[39m \u001b[43muf\u001b[49m\u001b[38;5;241;43m.\u001b[39;49m\u001b[43mfind\u001b[49m\u001b[43m(\u001b[49m\u001b[43mnode\u001b[49m\u001b[43m)\u001b[49m\n\u001b[1;32m    111\u001b[0m     comps\u001b[38;5;241m.\u001b[39msetdefault(root, [])\u001b[38;5;241m.\u001b[39mappend(node)\n\u001b[1;32m    112\u001b[0m \u001b[38;5;28;01mreturn\u001b[39;00m comps\n",
      "\u001b[0;31mKeyboardInterrupt\u001b[0m: "
     ]
    }
   ],
   "source": [
    "for lung_segmentation in lung_segmentations:\n",
    "    folder_path = './lung_segmentations/{}'.format(lung_segmentation)\n",
    "    edges_path = '/edges.csv'\n",
    "    vertices_path = '/vertices.csv'\n",
    "    vertices = read_csv(folder_path + vertices_path)\n",
    "    edges = read_csv(folder_path + edges_path)\n",
    "    directions = ph.generate_sphere_points(20, 5, 0.0000001)\n",
    "    print(\"Lung Segmentation-{}:\".format(lung_segmentation))\n",
    "    for direction in directions:\n",
    "        bz = ph.BettiZero(direction, vertices, edges)\n",
    "        components, mergers, verts, births = bz.compute_persistence()\n",
    "        intervals = ph.compute_intervals(births, mergers)\n",
    "        print(\"Direction: {}. Largest Bar: {}.\".format(direction, ph.compute_largest_bar(intervals)))"
   ]
  }
 ],
 "metadata": {
  "kernelspec": {
   "display_name": "Python 3 (ipykernel)",
   "language": "python",
   "name": "python3"
  },
  "language_info": {
   "codemirror_mode": {
    "name": "ipython",
    "version": 3
   },
   "file_extension": ".py",
   "mimetype": "text/x-python",
   "name": "python",
   "nbconvert_exporter": "python",
   "pygments_lexer": "ipython3",
   "version": "3.9.10"
  }
 },
 "nbformat": 4,
 "nbformat_minor": 5
}
