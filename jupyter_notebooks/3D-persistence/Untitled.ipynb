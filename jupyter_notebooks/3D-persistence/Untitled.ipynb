{
 "cells": [
  {
   "cell_type": "code",
   "execution_count": null,
   "id": "42b69828-ca02-4cef-aefd-d2604382af13",
   "metadata": {},
   "outputs": [],
   "source": [
    "def union(self, x, y):\n",
    "        \"\"\"\n",
    "        The 'union' function merges the sets containing 'x' and 'y'.\n",
    "        It first finds the roots of both nodes, and if they are different,\n",
    "        it attaches the tree with lower rank to the tree with higher rank.\n",
    "        If the ranks are equal, it arbitrarily chooses one as the new root\n",
    "        and increments its rank.\n",
    "        \"\"\"\n",
    "        print(f\"Union({x}, {y}):\")\n",
    "        rootX = self.find(x)\n",
    "        rootY = self.find(y)\n",
    "        rankX = self.rank[rootX]\n",
    "        rankY = self.rank[rootY]\n",
    "        print(f\" - root of {x} is {rootX}\")\n",
    "        print(f\" - root of {y} is {rootY}\")\n",
    "\n",
    "        if rootX == rootY:\n",
    "            print(\" - Both nodes have the same root; they are already connected.\\n\")\n",
    "            return {x: {'root': rootX, 'rank': rankX}, y: {'root': rootY, 'rank': rankY}}\n",
    "\n",
    "        # Union by rank: attach the smaller tree under the larger tree\n",
    "        if rankX > rankY:\n",
    "            self.parent[rootX] = rootY\n",
    "        elif rankX < rankY:\n",
    "            self.parent[rootY] = rootX\n",
    "        else:\n",
    "            # If ranks are equal, default to the first.\n",
    "            self.parent[rootY] = rootX\n",
    "            print(\"This should not be happening.\")\n",
    "\n",
    "        return {x: {'root': rootX, 'rank': rankX}, y: {'root': rootY, 'rank': rankY}}\n",
    "        \n",
    "        print(\" Current parent array:\", self.parent)\n",
    "        print(\" Current rank array  :\", self.rank)\n",
    "        print()"
   ]
  }
 ],
 "metadata": {
  "kernelspec": {
   "display_name": "Python 3 (ipykernel)",
   "language": "python",
   "name": "python3"
  },
  "language_info": {
   "codemirror_mode": {
    "name": "ipython",
    "version": 3
   },
   "file_extension": ".py",
   "mimetype": "text/x-python",
   "name": "python",
   "nbconvert_exporter": "python",
   "pygments_lexer": "ipython3",
   "version": "3.12.3"
  }
 },
 "nbformat": 4,
 "nbformat_minor": 5
}
