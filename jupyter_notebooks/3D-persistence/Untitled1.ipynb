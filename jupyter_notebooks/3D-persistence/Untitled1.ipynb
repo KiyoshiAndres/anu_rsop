{
 "cells": [
  {
   "cell_type": "code",
   "execution_count": 7,
   "id": "87c016ef-cadc-4083-bad9-679ea76279c6",
   "metadata": {},
   "outputs": [
    {
     "ename": "IndexError",
     "evalue": "list index out of range",
     "output_type": "error",
     "traceback": [
      "\u001b[0;31m---------------------------------------------------------------------------\u001b[0m",
      "\u001b[0;31m_RemoteTraceback\u001b[0m                          Traceback (most recent call last)",
      "\u001b[0;31m_RemoteTraceback\u001b[0m: \n\"\"\"\nTraceback (most recent call last):\n  File \"/usr/lib/python3.12/concurrent/futures/process.py\", line 263, in _process_worker\n    r = call_item.fn(*call_item.args, **call_item.kwargs)\n        ^^^^^^^^^^^^^^^^^^^^^^^^^^^^^^^^^^^^^^^^^^^^^^^^^\n  File \"/tmp/ipykernel_1691135/3321573682.py\", line 28, in process_direction\n    bz = BettiZero(direction, vertices, edges)\n         ^^^^^^^^^^^^^^^^^^^^^^^^^^^^^^^^^^^^^\n  File \"/home/kiyoshi/anu_rsop/jupyter_notebooks/3D-persistence/persistence_homology.py\", line 51, in __init__\n    self.filtration, self.new_to_original = make_filtration(\n                                            ^^^^^^^^^^^^^^^^\n  File \"/home/kiyoshi/anu_rsop/jupyter_notebooks/3D-persistence/persistence_homology.py\", line 181, in make_filtration\n    edges = format_edges(vertices, pre_formatted_edges)\n            ^^^^^^^^^^^^^^^^^^^^^^^^^^^^^^^^^^^^^^^^^^^\n  File \"/home/kiyoshi/anu_rsop/jupyter_notebooks/3D-persistence/persistence_homology.py\", line 344, in format_edges\n    r_height = points[r_vertex_index]['height']\n               ~~~~~~^^^^^^^^^^^^^^^^\nIndexError: list index out of range\n\"\"\"",
      "\nThe above exception was the direct cause of the following exception:\n",
      "\u001b[0;31mIndexError\u001b[0m                                Traceback (most recent call last)",
      "Cell \u001b[0;32mIn[7], line 54\u001b[0m\n\u001b[1;32m     49\u001b[0m \u001b[38;5;28;01mwith\u001b[39;00m ProcessPoolExecutor() \u001b[38;5;28;01mas\u001b[39;00m ex:\n\u001b[1;32m     50\u001b[0m     future_map \u001b[38;5;241m=\u001b[39m {\n\u001b[1;32m     51\u001b[0m         ex\u001b[38;5;241m.\u001b[39msubmit(process_direction, (d, vertices, edges)): d\n\u001b[1;32m     52\u001b[0m         \u001b[38;5;28;01mfor\u001b[39;00m d \u001b[38;5;129;01min\u001b[39;00m directions\n\u001b[1;32m     53\u001b[0m     }\n\u001b[0;32m---> 54\u001b[0m     seg_results \u001b[38;5;241m=\u001b[39m [\u001b[43mf\u001b[49m\u001b[38;5;241;43m.\u001b[39;49m\u001b[43mresult\u001b[49m\u001b[43m(\u001b[49m\u001b[43m)\u001b[49m \u001b[38;5;28;01mfor\u001b[39;00m f \u001b[38;5;129;01min\u001b[39;00m as_completed(future_map)]\n\u001b[1;32m     56\u001b[0m json_data\u001b[38;5;241m.\u001b[39mappend({\u001b[38;5;124m\"\u001b[39m\u001b[38;5;124msegmentation\u001b[39m\u001b[38;5;124m\"\u001b[39m: seg_folder\u001b[38;5;241m.\u001b[39mname, \u001b[38;5;124m\"\u001b[39m\u001b[38;5;124mresults\u001b[39m\u001b[38;5;124m\"\u001b[39m: seg_results})\n\u001b[1;32m     57\u001b[0m \u001b[38;5;28mprint\u001b[39m(\u001b[38;5;124mf\u001b[39m\u001b[38;5;124m\"\u001b[39m\u001b[38;5;124m✓ Processed \u001b[39m\u001b[38;5;132;01m{\u001b[39;00mseg_folder\u001b[38;5;241m.\u001b[39mname\u001b[38;5;132;01m}\u001b[39;00m\u001b[38;5;124m\"\u001b[39m)\n",
      "File \u001b[0;32m/usr/lib/python3.12/concurrent/futures/_base.py:449\u001b[0m, in \u001b[0;36mFuture.result\u001b[0;34m(self, timeout)\u001b[0m\n\u001b[1;32m    447\u001b[0m     \u001b[38;5;28;01mraise\u001b[39;00m CancelledError()\n\u001b[1;32m    448\u001b[0m \u001b[38;5;28;01melif\u001b[39;00m \u001b[38;5;28mself\u001b[39m\u001b[38;5;241m.\u001b[39m_state \u001b[38;5;241m==\u001b[39m FINISHED:\n\u001b[0;32m--> 449\u001b[0m     \u001b[38;5;28;01mreturn\u001b[39;00m \u001b[38;5;28;43mself\u001b[39;49m\u001b[38;5;241;43m.\u001b[39;49m\u001b[43m__get_result\u001b[49m\u001b[43m(\u001b[49m\u001b[43m)\u001b[49m\n\u001b[1;32m    451\u001b[0m \u001b[38;5;28mself\u001b[39m\u001b[38;5;241m.\u001b[39m_condition\u001b[38;5;241m.\u001b[39mwait(timeout)\n\u001b[1;32m    453\u001b[0m \u001b[38;5;28;01mif\u001b[39;00m \u001b[38;5;28mself\u001b[39m\u001b[38;5;241m.\u001b[39m_state \u001b[38;5;129;01min\u001b[39;00m [CANCELLED, CANCELLED_AND_NOTIFIED]:\n",
      "File \u001b[0;32m/usr/lib/python3.12/concurrent/futures/_base.py:401\u001b[0m, in \u001b[0;36mFuture.__get_result\u001b[0;34m(self)\u001b[0m\n\u001b[1;32m    399\u001b[0m \u001b[38;5;28;01mif\u001b[39;00m \u001b[38;5;28mself\u001b[39m\u001b[38;5;241m.\u001b[39m_exception:\n\u001b[1;32m    400\u001b[0m     \u001b[38;5;28;01mtry\u001b[39;00m:\n\u001b[0;32m--> 401\u001b[0m         \u001b[38;5;28;01mraise\u001b[39;00m \u001b[38;5;28mself\u001b[39m\u001b[38;5;241m.\u001b[39m_exception\n\u001b[1;32m    402\u001b[0m     \u001b[38;5;28;01mfinally\u001b[39;00m:\n\u001b[1;32m    403\u001b[0m         \u001b[38;5;66;03m# Break a reference cycle with the exception in self._exception\u001b[39;00m\n\u001b[1;32m    404\u001b[0m         \u001b[38;5;28mself\u001b[39m \u001b[38;5;241m=\u001b[39m \u001b[38;5;28;01mNone\u001b[39;00m\n",
      "\u001b[0;31mIndexError\u001b[0m: list index out of range"
     ]
    }
   ],
   "source": [
    "# --- Optimised β₀ persistence workflow ---------------------------------\n",
    "# Rewrites the original triple‑nested loop to:\n",
    "#   • Re‑use vertices/edges per segmentation (loaded once)\n",
    "#   • Distribute direction work in parallel across CPU cores\n",
    "#   • Collect JSON in‑memory and write once at the end\n",
    "\n",
    "import json, pathlib, pandas as pd\n",
    "from concurrent.futures import ProcessPoolExecutor, as_completed\n",
    "\n",
    "from persistence_homology import (\n",
    "    BettiZero,\n",
    "    compute_intervals,\n",
    "    compute_largest_bar,\n",
    "    generate_sphere_points,\n",
    ")\n",
    "\n",
    "root = pathlib.Path(\"./lung_segmentations\")\n",
    "\n",
    "def load_vertices_edges(seg_folder: pathlib.Path):\n",
    "    \"\"\"Read vertices/edges only once per segmentation.\"\"\"\n",
    "    verts = pd.read_csv(seg_folder / \"vertices.csv\").values.tolist()\n",
    "    edges = pd.read_csv(seg_folder / \"edges.csv\").values.tolist()\n",
    "    return verts, edges\n",
    "\n",
    "def process_direction(args):\n",
    "    \"\"\"Run β₀ persistence for one direction (runs in worker).\"\"\"\n",
    "    direction, vertices, edges = args\n",
    "    bz = BettiZero(direction, vertices, edges)\n",
    "    comps, mergers, verts, births = bz.compute_persistence()\n",
    "    intervals = compute_intervals(births, mergers)\n",
    "    length, bar = compute_largest_bar(intervals)\n",
    "    return {\n",
    "        \"direction\": direction,\n",
    "        \"intervals\": intervals,\n",
    "        \"largest_bar\": bar,\n",
    "        \"largest_length\": length,\n",
    "        \"components\": list(comps),\n",
    "    }\n",
    "\n",
    "json_data = []\n",
    "\n",
    "for seg_folder in root.iterdir():\n",
    "    if not seg_folder.is_dir():\n",
    "        continue\n",
    "    vertices, edges = load_vertices_edges(seg_folder)\n",
    "    directions = generate_sphere_points(20, 5, 1e-7)\n",
    "\n",
    "    # Parallel processing over directions\n",
    "    with ProcessPoolExecutor() as ex:\n",
    "        future_map = {\n",
    "            ex.submit(process_direction, (d, vertices, edges)): d\n",
    "            for d in directions\n",
    "        }\n",
    "        seg_results = [f.result() for f in as_completed(future_map)]\n",
    "\n",
    "    json_data.append({\"segmentation\": seg_folder.name, \"results\": seg_results})\n",
    "    print(f\"✓ Processed {seg_folder.name}\")\n",
    "\n",
    "# Single JSON write at the end\n",
    "with open(\"BettiZeroSegmentations.json\", \"w\") as fp:\n",
    "    json.dump(json_data, fp, indent=2)\n",
    "\n",
    "print(\"✅ All segmentations done → BettiZeroSegmentations.json\")\n",
    "\n",
    "\n"
   ]
  },
  {
   "cell_type": "code",
   "execution_count": 2,
   "id": "5b916c2b-4a1d-40d4-9b93-38d27b946278",
   "metadata": {},
   "outputs": [],
   "source": [
    "import os"
   ]
  },
  {
   "cell_type": "code",
   "execution_count": 5,
   "id": "0f79e63b-7b71-40e5-9519-da3bc3ae63c7",
   "metadata": {},
   "outputs": [
    {
     "data": {
      "text/plain": [
       "20"
      ]
     },
     "execution_count": 5,
     "metadata": {},
     "output_type": "execute_result"
    }
   ],
   "source": [
    "os.cpu_count()"
   ]
  }
 ],
 "metadata": {
  "kernelspec": {
   "display_name": "Python 3 (ipykernel)",
   "language": "python",
   "name": "python3"
  },
  "language_info": {
   "codemirror_mode": {
    "name": "ipython",
    "version": 3
   },
   "file_extension": ".py",
   "mimetype": "text/x-python",
   "name": "python",
   "nbconvert_exporter": "python",
   "pygments_lexer": "ipython3",
   "version": "3.12.3"
  }
 },
 "nbformat": 4,
 "nbformat_minor": 5
}
