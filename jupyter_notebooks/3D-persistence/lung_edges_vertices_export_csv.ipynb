{
 "cells": [
  {
   "cell_type": "code",
   "execution_count": 12,
   "id": "590d4ec3-98d9-44f8-8333-6e39c0b37ac2",
   "metadata": {},
   "outputs": [],
   "source": [
    "import nrrd\n",
    "import numpy as np\n",
    "import os\n",
    "from skimage import measure\n",
    "import csv"
   ]
  },
  {
   "cell_type": "code",
   "execution_count": 2,
   "id": "569411fa-003a-4527-846c-5b66b958eaf3",
   "metadata": {},
   "outputs": [],
   "source": [
    "def create_directory(directory_name):\n",
    "    if not os.path.exists(directory_name):\n",
    "        os.makedirs(directory_name)\n",
    "    return None\n",
    "\n",
    "def faces_to_edges(faces):\n",
    "    edges = []\n",
    "    for face in faces:\n",
    "        edges.append(sorted([face[0],face[1]]))\n",
    "        edges.append(sorted([face[1],face[2]]))\n",
    "        edges.append(sorted([face[2],face[0]]))\n",
    "    seen = set()\n",
    "    unique_pairs = []\n",
    "    \n",
    "    for pair in edges:\n",
    "        tup = tuple(pair)  # convert to tuple so it’s hashable\n",
    "        if tup not in seen:\n",
    "            seen.add(tup)\n",
    "            unique_pairs.append(pair)\n",
    "    return unique_pairs"
   ]
  },
  {
   "cell_type": "code",
   "execution_count": 3,
   "id": "bed918ed-7e9d-481e-8e95-d013cba83e09",
   "metadata": {},
   "outputs": [],
   "source": [
    "segmentation_folder_path = '../segmentations/'"
   ]
  },
  {
   "cell_type": "code",
   "execution_count": 4,
   "id": "cd3dcbeb-dd6e-4a46-9b6f-f2518cd2ba5d",
   "metadata": {},
   "outputs": [],
   "source": [
    "segmentation_file_name = 'Lung segmentation-10.seg.nrrd'"
   ]
  },
  {
   "cell_type": "code",
   "execution_count": 7,
   "id": "d6b0aa72-75b7-4ef1-8d1c-2646b284c9e2",
   "metadata": {},
   "outputs": [],
   "source": [
    "folder_path = './lung_segmentations'"
   ]
  },
  {
   "cell_type": "code",
   "execution_count": 8,
   "id": "a199027b-3b0a-4b74-b0a7-fa12d6bd70b1",
   "metadata": {},
   "outputs": [],
   "source": [
    "file_name = 'segmentation-10'"
   ]
  },
  {
   "cell_type": "code",
   "execution_count": 6,
   "id": "79cfd514-58b4-4729-a277-eda3522a6b6c",
   "metadata": {},
   "outputs": [],
   "source": [
    "data, header = nrrd.read( segmentation_folder_path + segmentation_file_name )\n",
    "masks = {}\n",
    "for i in range(data.shape[0]):\n",
    "    seg_id = header.get(f\"Segment{i}_ID\")\n",
    "    label_val = int(header.get(f\"Segment{i}_LabelValue\"))\n",
    "    mask = data[i] == label_val\n",
    "    masks[seg_id] = mask\n",
    "\n",
    "# Volume data\n",
    "volume_data = masks['lungs']\n",
    "\n",
    "# Isosurface value\n",
    "iso_value = 0.5\n",
    "\n",
    "# Extract the isosurface\n",
    "vertices, faces, normals, values = measure.marching_cubes(volume_data, iso_value)\n",
    "\n",
    "edges = faces_to_edges(faces)"
   ]
  },
  {
   "cell_type": "code",
   "execution_count": 10,
   "id": "8638a465-640e-4dba-846a-40a5d2f256a5",
   "metadata": {},
   "outputs": [],
   "source": [
    "create_directory(f\"{folder_path}/{file_name}\")"
   ]
  },
  {
   "cell_type": "code",
   "execution_count": 14,
   "id": "047e3684-30a1-4f9b-892e-40c86d73f122",
   "metadata": {},
   "outputs": [],
   "source": [
    "with open(f\"{folder_path}/{file_name}/vertices.csv\", \"w\", newline=\"\") as csvfile:\n",
    "    writer = csv.writer(csvfile)\n",
    "    # Write each pair as a row in the CSV\n",
    "    for vertex in vertices:\n",
    "        writer.writerow(vertex)"
   ]
  },
  {
   "cell_type": "code",
   "execution_count": 16,
   "id": "291a2bee-ee79-4e5a-b7ad-10968fe560b2",
   "metadata": {},
   "outputs": [],
   "source": [
    "with open(f\"{folder_path}/{file_name}/edges.csv\", \"w\", newline=\"\") as csvfile:\n",
    "    writer = csv.writer(csvfile)\n",
    "    # Write each pair as a row in the CSV\n",
    "    for edge in edges:\n",
    "        writer.writerow(edge)"
   ]
  }
 ],
 "metadata": {
  "kernelspec": {
   "display_name": "Python 3 (ipykernel)",
   "language": "python",
   "name": "python3"
  },
  "language_info": {
   "codemirror_mode": {
    "name": "ipython",
    "version": 3
   },
   "file_extension": ".py",
   "mimetype": "text/x-python",
   "name": "python",
   "nbconvert_exporter": "python",
   "pygments_lexer": "ipython3",
   "version": "3.12.3"
  }
 },
 "nbformat": 4,
 "nbformat_minor": 5
}
