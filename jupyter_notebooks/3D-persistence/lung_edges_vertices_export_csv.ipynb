{
 "cells": [
  {
   "cell_type": "code",
   "execution_count": 2,
   "id": "590d4ec3-98d9-44f8-8333-6e39c0b37ac2",
   "metadata": {},
   "outputs": [],
   "source": [
    "import nrrd\n",
    "import numpy as np\n",
    "import os\n",
    "from skimage import measure\n",
    "import csv"
   ]
  },
  {
   "cell_type": "code",
   "execution_count": 3,
   "id": "569411fa-003a-4527-846c-5b66b958eaf3",
   "metadata": {},
   "outputs": [],
   "source": [
    "def create_directory(directory_name):\n",
    "    if not os.path.exists(directory_name):\n",
    "        os.makedirs(directory_name)\n",
    "    return None\n",
    "\n",
    "def faces_to_edges(faces):\n",
    "    edges = []\n",
    "    for face in faces:\n",
    "        edges.append(sorted([face[0],face[1]]))\n",
    "        edges.append(sorted([face[1],face[2]]))\n",
    "        edges.append(sorted([face[2],face[0]]))\n",
    "    seen = set()\n",
    "    unique_pairs = []\n",
    "    \n",
    "    for pair in edges:\n",
    "        tup = tuple(pair)  # convert to tuple so it’s hashable\n",
    "        if tup not in seen:\n",
    "            seen.add(tup)\n",
    "            unique_pairs.append(pair)\n",
    "    return unique_pairs"
   ]
  },
  {
   "cell_type": "code",
   "execution_count": 4,
   "id": "bed918ed-7e9d-481e-8e95-d013cba83e09",
   "metadata": {},
   "outputs": [],
   "source": [
    "segmentation_folder_path = '../segmentations/'"
   ]
  },
  {
   "cell_type": "code",
   "execution_count": 5,
   "id": "fc382d3a-4959-452a-87e8-07fe8d7af650",
   "metadata": {},
   "outputs": [
    {
     "name": "stdout",
     "output_type": "stream",
     "text": [
      "['Lung segmentation-57.seg.nrrd', 'Lung segmentation-48.seg.nrrd', 'Lung segmentation-AI-9.seg.nrrd', 'Lung segmentation-9.seg.nrrd', 'Lung segmentation-4.seg.nrrd', 'Lung segmentation-AI-20.seg.nrrd', 'Lung segmentation-AI-29.seg.nrrd', 'Lung segmentation-AI-2.seg.nrrd', 'Lung segmentation-65.seg.nrrd', 'Lung segmentation-56.seg.nrrd', 'Lung segmentation-AI-36.seg.nrrd', 'Lung segmentation-AI-34.seg.nrrd', 'Lung segmentation-52.seg.nrrd', 'Lung segmentation-AI-19.seg.nrrd', 'Lung segmentation-AI-15.seg.nrrd', 'Lung segmentation-32.seg.nrrd', 'Lung segmentation-20.seg.nrrd', 'Lung segmentation-10.seg.nrrd', 'Lung segmentation-39.seg.nrrd', 'Lung segmentation-17.seg.nrrd', 'Lung segmentation-AI-17.seg.nrrd', 'Lung segmentation-AI-10.seg.nrrd', 'Lung segmentation-AI-4.seg.nrrd', 'Lung segmentation-AI-39.seg.nrrd', 'Lung segmentation-2.seg.nrrd', 'Lung segmentation-AI-25.seg.nrrd', 'Lung segmentation-19.seg.nrrd', 'Lung segmentation-34.seg.nrrd', 'Lung segmentation-AI-48.seg.nrrd', 'Lung segmentation-15.seg.nrrd', 'Lung segmentation-36.seg.nrrd', 'Lung segmentation-25.seg.nrrd', 'Lung segmentation-AI-32.seg.nrrd', '3000523 Unnamed Series segmentation-MONAI-19.nrrd', 'Lung segmentation-29.seg.nrrd']\n"
     ]
    }
   ],
   "source": [
    "folder_path = '../segmentations/'\n",
    "# List all entries in the folder, then filter to keep only files\n",
    "file_names = [\n",
    "    fname\n",
    "    for fname in os.listdir(folder_path)\n",
    "    if os.path.isfile(os.path.join(folder_path, fname))\n",
    "]\n",
    "\n",
    "print(file_names)  # this is your “array” of filenames"
   ]
  },
  {
   "cell_type": "code",
   "execution_count": 4,
   "id": "cd3dcbeb-dd6e-4a46-9b6f-f2518cd2ba5d",
   "metadata": {},
   "outputs": [],
   "source": [
    "segmentation_file_name = 'Lung segmentation-10.seg.nrrd'"
   ]
  },
  {
   "cell_type": "code",
   "execution_count": 10,
   "id": "c2028441-a26c-4cf9-9964-05578a2a50c6",
   "metadata": {},
   "outputs": [
    {
     "name": "stdout",
     "output_type": "stream",
     "text": [
      "Lung segmentation-57.seg.nrrd\n",
      "Lung segmentation-48.seg.nrrd\n",
      "Lung segmentation-AI-9.seg.nrrd\n",
      "Lung segmentation-9.seg.nrrd\n",
      "Lung segmentation-4.seg.nrrd\n",
      "Lung segmentation-AI-20.seg.nrrd\n",
      "Lung segmentation-AI-29.seg.nrrd\n",
      "Lung segmentation-AI-2.seg.nrrd\n",
      "Lung segmentation-65.seg.nrrd\n",
      "Lung segmentation-56.seg.nrrd\n",
      "Lung segmentation-AI-36.seg.nrrd\n",
      "Lung segmentation-AI-34.seg.nrrd\n",
      "Lung segmentation-52.seg.nrrd\n",
      "Lung segmentation-AI-19.seg.nrrd\n",
      "Lung segmentation-AI-15.seg.nrrd\n",
      "Lung segmentation-32.seg.nrrd\n",
      "Lung segmentation-20.seg.nrrd\n",
      "Lung segmentation-10.seg.nrrd\n",
      "Lung segmentation-39.seg.nrrd\n",
      "Lung segmentation-17.seg.nrrd\n",
      "Lung segmentation-AI-17.seg.nrrd\n",
      "Lung segmentation-AI-10.seg.nrrd\n",
      "Lung segmentation-AI-4.seg.nrrd\n",
      "Lung segmentation-AI-39.seg.nrrd\n",
      "Lung segmentation-2.seg.nrrd\n",
      "Lung segmentation-AI-25.seg.nrrd\n",
      "Lung segmentation-19.seg.nrrd\n",
      "Lung segmentation-34.seg.nrrd\n",
      "Lung segmentation-AI-48.seg.nrrd\n",
      "Lung segmentation-15.seg.nrrd\n",
      "Lung segmentation-36.seg.nrrd\n",
      "Lung segmentation-25.seg.nrrd\n",
      "Lung segmentation-AI-32.seg.nrrd\n",
      "3000523 Unnamed Series segmentation-MONAI-19.nrrd\n"
     ]
    },
    {
     "ename": "TypeError",
     "evalue": "int() argument must be a string, a bytes-like object or a real number, not 'NoneType'",
     "output_type": "error",
     "traceback": [
      "\u001b[0;31m---------------------------------------------------------------------------\u001b[0m",
      "\u001b[0;31mTypeError\u001b[0m                                 Traceback (most recent call last)",
      "Cell \u001b[0;32mIn[10], line 10\u001b[0m\n\u001b[1;32m      8\u001b[0m \u001b[38;5;28;01mfor\u001b[39;00m i \u001b[38;5;129;01min\u001b[39;00m \u001b[38;5;28mrange\u001b[39m(data\u001b[38;5;241m.\u001b[39mshape[\u001b[38;5;241m0\u001b[39m]):\n\u001b[1;32m      9\u001b[0m     seg_id \u001b[38;5;241m=\u001b[39m header\u001b[38;5;241m.\u001b[39mget(\u001b[38;5;124mf\u001b[39m\u001b[38;5;124m\"\u001b[39m\u001b[38;5;124mSegment\u001b[39m\u001b[38;5;132;01m{\u001b[39;00mi\u001b[38;5;132;01m}\u001b[39;00m\u001b[38;5;124m_ID\u001b[39m\u001b[38;5;124m\"\u001b[39m)\n\u001b[0;32m---> 10\u001b[0m     label_val \u001b[38;5;241m=\u001b[39m \u001b[38;5;28;43mint\u001b[39;49m\u001b[43m(\u001b[49m\u001b[43mheader\u001b[49m\u001b[38;5;241;43m.\u001b[39;49m\u001b[43mget\u001b[49m\u001b[43m(\u001b[49m\u001b[38;5;124;43mf\u001b[39;49m\u001b[38;5;124;43m\"\u001b[39;49m\u001b[38;5;124;43mSegment\u001b[39;49m\u001b[38;5;132;43;01m{\u001b[39;49;00m\u001b[43mi\u001b[49m\u001b[38;5;132;43;01m}\u001b[39;49;00m\u001b[38;5;124;43m_LabelValue\u001b[39;49m\u001b[38;5;124;43m\"\u001b[39;49m\u001b[43m)\u001b[49m\u001b[43m)\u001b[49m\n\u001b[1;32m     11\u001b[0m     mask \u001b[38;5;241m=\u001b[39m data[i] \u001b[38;5;241m==\u001b[39m label_val\n\u001b[1;32m     12\u001b[0m     masks[seg_id] \u001b[38;5;241m=\u001b[39m mask\n",
      "\u001b[0;31mTypeError\u001b[0m: int() argument must be a string, a bytes-like object or a real number, not 'NoneType'"
     ]
    }
   ],
   "source": [
    "for fileName in file_names:\n",
    "    print(fileName)\n",
    "    segmentation_file_name = fileName\n",
    "    folder_path = './lung_segmentations'\n",
    "    file_name = fileName.split('.', 1)[0]\n",
    "    data, header = nrrd.read( segmentation_folder_path + segmentation_file_name )\n",
    "    masks = {}\n",
    "    for i in range(data.shape[0]):\n",
    "        seg_id = header.get(f\"Segment{i}_ID\")\n",
    "        label_val = int(header.get(f\"Segment{i}_LabelValue\"))\n",
    "        mask = data[i] == label_val\n",
    "        masks[seg_id] = mask\n",
    "    \n",
    "    # Volume data\n",
    "    volume_data = masks['lungs']\n",
    "    \n",
    "    # Isosurface value\n",
    "    iso_value = 0.5\n",
    "    \n",
    "    # Extract the isosurface\n",
    "    vertices, faces, normals, values = measure.marching_cubes(volume_data, iso_value)\n",
    "    \n",
    "    edges = faces_to_edges(faces)\n",
    "    create_directory(f\"{folder_path}/{file_name}\")\n",
    "    with open(f\"{folder_path}/{file_name}/vertices.csv\", \"w\", newline=\"\") as csvfile:\n",
    "        writer = csv.writer(csvfile)\n",
    "        # Write each pair as a row in the CSV\n",
    "        for vertex in vertices:\n",
    "            writer.writerow(vertex)\n",
    "    with open(f\"{folder_path}/{file_name}/edges.csv\", \"w\", newline=\"\") as csvfile:\n",
    "        writer = csv.writer(csvfile)\n",
    "        # Write each pair as a row in the CSV\n",
    "        for edge in edges:\n",
    "            writer.writerow(edge)"
   ]
  },
  {
   "cell_type": "code",
   "execution_count": 5,
   "id": "d6b0aa72-75b7-4ef1-8d1c-2646b284c9e2",
   "metadata": {},
   "outputs": [],
   "source": [
    "folder_path = './lung_segmentations'"
   ]
  },
  {
   "cell_type": "code",
   "execution_count": 6,
   "id": "a199027b-3b0a-4b74-b0a7-fa12d6bd70b1",
   "metadata": {},
   "outputs": [],
   "source": [
    "file_name = 'segmentation-10'"
   ]
  },
  {
   "cell_type": "code",
   "execution_count": 7,
   "id": "79cfd514-58b4-4729-a277-eda3522a6b6c",
   "metadata": {},
   "outputs": [],
   "source": [
    "data, header = nrrd.read( segmentation_folder_path + segmentation_file_name )\n",
    "masks = {}\n",
    "for i in range(data.shape[0]):\n",
    "    seg_id = header.get(f\"Segment{i}_ID\")\n",
    "    label_val = int(header.get(f\"Segment{i}_LabelValue\"))\n",
    "    mask = data[i] == label_val\n",
    "    masks[seg_id] = mask\n",
    "\n",
    "# Volume data\n",
    "volume_data = masks['lungs']\n",
    "\n",
    "# Isosurface value\n",
    "iso_value = 0.5\n",
    "\n",
    "# Extract the isosurface\n",
    "vertices, faces, normals, values = measure.marching_cubes(volume_data, iso_value)\n",
    "\n",
    "edges = faces_to_edges(faces)"
   ]
  },
  {
   "cell_type": "code",
   "execution_count": 8,
   "id": "8638a465-640e-4dba-846a-40a5d2f256a5",
   "metadata": {},
   "outputs": [],
   "source": [
    "create_directory(f\"{folder_path}/{file_name}\")"
   ]
  },
  {
   "cell_type": "code",
   "execution_count": 9,
   "id": "047e3684-30a1-4f9b-892e-40c86d73f122",
   "metadata": {},
   "outputs": [],
   "source": [
    "with open(f\"{folder_path}/{file_name}/vertices.csv\", \"w\", newline=\"\") as csvfile:\n",
    "    writer = csv.writer(csvfile)\n",
    "    # Write each pair as a row in the CSV\n",
    "    for vertex in vertices:\n",
    "        writer.writerow(vertex)"
   ]
  },
  {
   "cell_type": "code",
   "execution_count": 10,
   "id": "291a2bee-ee79-4e5a-b7ad-10968fe560b2",
   "metadata": {},
   "outputs": [],
   "source": [
    "with open(f\"{folder_path}/{file_name}/edges.csv\", \"w\", newline=\"\") as csvfile:\n",
    "    writer = csv.writer(csvfile)\n",
    "    # Write each pair as a row in the CSV\n",
    "    for edge in edges:\n",
    "        writer.writerow(edge)"
   ]
  }
 ],
 "metadata": {
  "kernelspec": {
   "display_name": "Python 3 (ipykernel)",
   "language": "python",
   "name": "python3"
  },
  "language_info": {
   "codemirror_mode": {
    "name": "ipython",
    "version": 3
   },
   "file_extension": ".py",
   "mimetype": "text/x-python",
   "name": "python",
   "nbconvert_exporter": "python",
   "pygments_lexer": "ipython3",
   "version": "3.12.3"
  }
 },
 "nbformat": 4,
 "nbformat_minor": 5
}
