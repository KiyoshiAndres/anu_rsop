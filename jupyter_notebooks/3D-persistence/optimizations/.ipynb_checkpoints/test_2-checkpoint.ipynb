{
 "cells": [
  {
   "cell_type": "code",
   "execution_count": 1,
   "id": "b6da1014-471c-423c-99dc-df7b65ccb396",
   "metadata": {
    "tags": []
   },
   "outputs": [
    {
     "ename": "ImportError",
     "evalue": "cannot import name 'compute_intervals' from 'persistent_homology_c' (/Users/kiyoshitakeuchi/Documents/GitHub/anu_rsop/jupyter_notebooks/3D-persistence/optimizations/persistent_homology_c.cpython-39-darwin.so)",
     "output_type": "error",
     "traceback": [
      "\u001b[0;31m---------------------------------------------------------------------------\u001b[0m",
      "\u001b[0;31mImportError\u001b[0m                               Traceback (most recent call last)",
      "Cell \u001b[0;32mIn[1], line 6\u001b[0m\n\u001b[1;32m      4\u001b[0m \u001b[38;5;28;01mimport\u001b[39;00m \u001b[38;5;21;01mos\u001b[39;00m\u001b[38;5;241m,\u001b[39m \u001b[38;5;21;01mcsv\u001b[39;00m\n\u001b[1;32m      5\u001b[0m \u001b[38;5;28;01mimport\u001b[39;00m \u001b[38;5;21;01mcProfile\u001b[39;00m\u001b[38;5;241m,\u001b[39m \u001b[38;5;21;01mpstats\u001b[39;00m\n\u001b[0;32m----> 6\u001b[0m \u001b[38;5;28;01mfrom\u001b[39;00m \u001b[38;5;21;01mpersistent_homology_c\u001b[39;00m \u001b[38;5;28;01mimport\u001b[39;00m (\n\u001b[1;32m      7\u001b[0m     BettiZero,\n\u001b[1;32m      8\u001b[0m     compute_intervals,\n\u001b[1;32m      9\u001b[0m     generate_sphere_points,\n\u001b[1;32m     10\u001b[0m )\n",
      "\u001b[0;31mImportError\u001b[0m: cannot import name 'compute_intervals' from 'persistent_homology_c' (/Users/kiyoshitakeuchi/Documents/GitHub/anu_rsop/jupyter_notebooks/3D-persistence/optimizations/persistent_homology_c.cpython-39-darwin.so)"
     ]
    }
   ],
   "source": [
    "import json, pathlib, pandas as pd\n",
    "import multiprocessing as mp\n",
    "from concurrent.futures import ProcessPoolExecutor, as_completed\n",
    "import os, csv\n",
    "import cProfile, pstats\n",
    "from persistent_homology_c import (\n",
    "    BettiZero,\n",
    "    generate_sphere_points,\n",
    ")"
   ]
  },
  {
   "cell_type": "code",
   "execution_count": null,
   "id": "8d9149a6-00ff-41e1-a2df-90f59108c159",
   "metadata": {
    "tags": []
   },
   "outputs": [],
   "source": [
    "from persistent_homology import compute_n_largest_bars"
   ]
  },
  {
   "cell_type": "code",
   "execution_count": null,
   "id": "a4f0b8ec-9303-40d0-84b2-6b5a294518f0",
   "metadata": {
    "tags": []
   },
   "outputs": [],
   "source": [
    "def read_csv(path):\n",
    "    with open(path, newline=\"\") as f:\n",
    "        reader = csv.reader(f)\n",
    "        output = []\n",
    "        for row in reader:\n",
    "            values = []\n",
    "            for value in row:\n",
    "                if len(row) == 3:\n",
    "                    values.append(float(value))\n",
    "                elif len(row) == 2:\n",
    "                    values.append(int(value))\n",
    "            output.append(values)\n",
    "        return output\n",
    "    \n",
    "def get_subfolders(path):\n",
    "    \"\"\"\n",
    "    Return a list of names of all subdirectories in the given path.\n",
    "    \"\"\"\n",
    "    return [\n",
    "        name for name in os.listdir(path)\n",
    "        if os.path.isdir(os.path.join(path, name))\n",
    "    ]\n",
    "\n",
    "def load_vertices_edges(seg_folder):\n",
    "    \"\"\"Read vertices/edges only once per segmentation.\"\"\"\n",
    "    folder_path = '../lung_segmentations/{}'.format(seg_folder)\n",
    "    edges_path = '/edges.csv'\n",
    "    vertices_path = '/vertices.csv'\n",
    "    verts = read_csv(folder_path + vertices_path)\n",
    "    edges = read_csv(folder_path + edges_path)\n",
    "    return verts, edges\n",
    "\n",
    "def process_direction(args):\n",
    "    \"\"\"Run β₀ persistence for one direction (runs in worker).\"\"\"\n",
    "    direction, vertices, edges = args\n",
    "    bz = BettiZero(direction, vertices, edges)\n",
    "    comps, mergers, verts, births = bz.compute_persistence()\n",
    "    intervals = compute_intervals(births, mergers)\n",
    "    bars = compute_n_largest_bars(intervals,5)\n",
    "    return {\n",
    "        \"direction\": list(direction),\n",
    "        \"intervals\": intervals,\n",
    "        \"largest_bars\": bars,\n",
    "        #\"largest_length\": length,\n",
    "        \"components\": list(comps),\n",
    "    }"
   ]
  },
  {
   "cell_type": "code",
   "execution_count": null,
   "id": "560c64b7-1806-4c23-9bac-9da8a34c5a1f",
   "metadata": {
    "tags": []
   },
   "outputs": [],
   "source": [
    "json_data = {}\n",
    "\n",
    "segmentation_folder_path = \"../lung_segmentations\"\n",
    "lung_segmentations = get_subfolders(segmentation_folder_path)"
   ]
  },
  {
   "cell_type": "code",
   "execution_count": null,
   "id": "449aca97-26ed-4c4b-b91b-98926f6a2c6e",
   "metadata": {
    "tags": []
   },
   "outputs": [],
   "source": [
    "vertices, edges = load_vertices_edges('Lung segmentation-10')\n",
    "directions = generate_sphere_points(2, 2, 1e-7)"
   ]
  },
  {
   "cell_type": "code",
   "execution_count": null,
   "id": "b560b863-0b3d-43d8-b8a5-0f711fa95af1",
   "metadata": {
    "tags": []
   },
   "outputs": [],
   "source": [
    "process_direction(([0,0,1], vertices, edges))"
   ]
  }
 ],
 "metadata": {
  "kernelspec": {
   "display_name": "Python 3 (ipykernel)",
   "language": "python",
   "name": "python3"
  },
  "language_info": {
   "codemirror_mode": {
    "name": "ipython",
    "version": 3
   },
   "file_extension": ".py",
   "mimetype": "text/x-python",
   "name": "python",
   "nbconvert_exporter": "python",
   "pygments_lexer": "ipython3",
   "version": "3.9.10"
  }
 },
 "nbformat": 4,
 "nbformat_minor": 5
}
