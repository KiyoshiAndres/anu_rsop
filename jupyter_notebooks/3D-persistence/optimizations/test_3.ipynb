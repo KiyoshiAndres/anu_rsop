{
 "cells": [
  {
   "cell_type": "code",
   "execution_count": 1,
   "id": "bb571874-4621-4710-a70e-2b740d0ae783",
   "metadata": {},
   "outputs": [],
   "source": [
    "import json, pathlib, pandas as pd\n",
    "import multiprocessing as mp\n",
    "from concurrent.futures import ProcessPoolExecutor, as_completed\n",
    "import os, csv\n",
    "import cProfile, pstats\n",
    "from persistent_homology import (\n",
    "    BettiZero,\n",
    "    compute_intervals,\n",
    "    compute_n_largest_bars,\n",
    "    generate_sphere_points,\n",
    ")"
   ]
  },
  {
   "cell_type": "code",
   "execution_count": 2,
   "id": "39f02bb5-518d-46ac-a1d6-f21b7df7f606",
   "metadata": {
    "tags": []
   },
   "outputs": [],
   "source": [
    "def read_csv(path):\n",
    "    with open(path, newline=\"\") as f:\n",
    "        reader = csv.reader(f)\n",
    "        output = []\n",
    "        for row in reader:\n",
    "            values = []\n",
    "            for value in row:\n",
    "                if len(row) == 3:\n",
    "                    values.append(float(value))\n",
    "                elif len(row) == 2:\n",
    "                    values.append(int(value))\n",
    "            output.append(values)\n",
    "        return output\n",
    "    \n",
    "def get_subfolders(path):\n",
    "    \"\"\"\n",
    "    Return a list of names of all subdirectories in the given path.\n",
    "    \"\"\"\n",
    "    return [\n",
    "        name for name in os.listdir(path)\n",
    "        if os.path.isdir(os.path.join(path, name))\n",
    "    ]\n",
    "\n",
    "def load_vertices_edges(seg_folder):\n",
    "    \"\"\"Read vertices/edges only once per segmentation.\"\"\"\n",
    "    folder_path = '../lung_segmentations/{}'.format(seg_folder)\n",
    "    edges_path = '/edges.csv'\n",
    "    vertices_path = '/vertices.csv'\n",
    "    verts = read_csv(folder_path + vertices_path)\n",
    "    edges = read_csv(folder_path + edges_path)\n",
    "    return verts, edges\n",
    "\n",
    "def process_direction(args):\n",
    "    \"\"\"Run β₀ persistence for one direction (runs in worker).\"\"\"\n",
    "    direction, vertices, edges = args\n",
    "    bz = BettiZero(direction, vertices, edges)\n",
    "    comps, mergers, verts, births = bz.compute_persistence()\n",
    "    intervals = compute_intervals(births, mergers)\n",
    "    bars = compute_n_largest_bars(intervals,5)\n",
    "    return {\n",
    "        \"direction\": list(direction),\n",
    "        \"intervals\": intervals,\n",
    "        \"largest_bars\": bars,\n",
    "        #\"largest_length\": length,\n",
    "        \"components\": list(comps),\n",
    "    }"
   ]
  },
  {
   "cell_type": "code",
   "execution_count": null,
   "id": "0e90a520-3d2d-44f2-8d33-b9b424e16372",
   "metadata": {
    "tags": []
   },
   "outputs": [],
   "source": [
    "json_data = {}\n",
    "\n",
    "segmentation_folder_path = \"../lung_segmentations\"\n",
    "lung_segmentations = get_subfolders(segmentation_folder_path)\n",
    "\n",
    "for seg_folder in lung_segmentations[:2]:\n",
    "    vertices, edges = load_vertices_edges(seg_folder)\n",
    "    directions = generate_sphere_points(12, 6, 1e-7)\n",
    "\n",
    "    # Parallel processing over directions\n",
    "    #ctx = mp.get_context('fork')\n",
    "    #with ProcessPoolExecutor(max_workers=5, mp_context=ctx) as ex:\n",
    "    with ProcessPoolExecutor(max_workers=8) as ex:\n",
    "        future_map = {\n",
    "            ex.submit(process_direction, (d, vertices, edges)): d\n",
    "            for d in directions\n",
    "        }\n",
    "        seg_results = {i : v.result() for i, v in enumerate(as_completed(future_map))}\n",
    "\n",
    "    json_data[seg_folder] = seg_results\n",
    "    print(f\"✓ Processed {seg_folder}\")\n",
    " \n",
    "# Single JSON write at the end\n",
    "with open(\"BettiZeroSegmentations2.json\", \"w\") as fp:\n",
    "    json.dump(json_data, fp, indent=2)\n",
    "\n",
    "print(\"✅ All segmentations done → BettiZeroSegmentations.json\")"
   ]
  }
 ],
 "metadata": {
  "kernelspec": {
   "display_name": "Python 3 (ipykernel)",
   "language": "python",
   "name": "python3"
  },
  "language_info": {
   "codemirror_mode": {
    "name": "ipython",
    "version": 3
   },
   "file_extension": ".py",
   "mimetype": "text/x-python",
   "name": "python",
   "nbconvert_exporter": "python",
   "pygments_lexer": "ipython3",
   "version": "3.9.10"
  }
 },
 "nbformat": 4,
 "nbformat_minor": 5
}
