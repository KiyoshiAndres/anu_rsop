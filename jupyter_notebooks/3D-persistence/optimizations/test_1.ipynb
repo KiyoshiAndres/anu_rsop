{
 "cells": [
  {
   "cell_type": "code",
   "execution_count": 1,
   "id": "0db8801c-2102-48c6-a397-e7d12a94ad20",
   "metadata": {
    "tags": []
   },
   "outputs": [],
   "source": [
    "import json, pathlib, pandas as pd\n",
    "import multiprocessing as mp\n",
    "from concurrent.futures import ProcessPoolExecutor, as_completed\n",
    "import os, csv\n",
    "import cProfile, pstats\n",
    "from persistent_homology import (\n",
    "    BettiZero,\n",
    "    compute_intervals,\n",
    "    compute_n_largest_bars,\n",
    "    generate_sphere_points,\n",
    ")"
   ]
  },
  {
   "cell_type": "code",
   "execution_count": 2,
   "id": "5cd87596-27cb-40d8-8f62-0471c47892ba",
   "metadata": {
    "tags": []
   },
   "outputs": [],
   "source": [
    "def read_csv(path):\n",
    "    with open(path, newline=\"\") as f:\n",
    "        reader = csv.reader(f)\n",
    "        output = []\n",
    "        for row in reader:\n",
    "            values = []\n",
    "            for value in row:\n",
    "                if len(row) == 3:\n",
    "                    values.append(float(value))\n",
    "                elif len(row) == 2:\n",
    "                    values.append(int(value))\n",
    "            output.append(values)\n",
    "        return output\n",
    "    \n",
    "def get_subfolders(path):\n",
    "    \"\"\"\n",
    "    Return a list of names of all subdirectories in the given path.\n",
    "    \"\"\"\n",
    "    return [\n",
    "        name for name in os.listdir(path)\n",
    "        if os.path.isdir(os.path.join(path, name))\n",
    "    ]\n",
    "\n",
    "def load_vertices_edges(seg_folder):\n",
    "    \"\"\"Read vertices/edges only once per segmentation.\"\"\"\n",
    "    folder_path = '../lung_segmentations/{}'.format(seg_folder)\n",
    "    edges_path = '/edges.csv'\n",
    "    vertices_path = '/vertices.csv'\n",
    "    verts = read_csv(folder_path + vertices_path)\n",
    "    edges = read_csv(folder_path + edges_path)\n",
    "    return verts, edges\n",
    "\n",
    "def process_direction(args):\n",
    "    \"\"\"Run β₀ persistence for one direction (runs in worker).\"\"\"\n",
    "    direction, vertices, edges = args\n",
    "    bz = BettiZero(direction, vertices, edges)\n",
    "    comps, mergers, verts, births = bz.compute_persistence()\n",
    "    intervals = compute_intervals(births, mergers)\n",
    "    bars = compute_n_largest_bars(intervals,5)\n",
    "    return {\n",
    "        \"direction\": list(direction),\n",
    "        \"intervals\": intervals,\n",
    "        \"largest_bars\": bars,\n",
    "        #\"largest_length\": length,\n",
    "        \"components\": list(comps),\n",
    "    }"
   ]
  },
  {
   "cell_type": "code",
   "execution_count": 3,
   "id": "333eef5f-2412-4e5f-ae20-a0fd0debed75",
   "metadata": {
    "tags": []
   },
   "outputs": [],
   "source": [
    "json_data = {}\n",
    "\n",
    "segmentation_folder_path = \"../lung_segmentations\"\n",
    "lung_segmentations = get_subfolders(segmentation_folder_path)"
   ]
  },
  {
   "cell_type": "code",
   "execution_count": 4,
   "id": "902ad207-f3df-4069-85fd-a5214c494d73",
   "metadata": {
    "tags": []
   },
   "outputs": [],
   "source": [
    "vertices, edges = load_vertices_edges('Lung segmentation-10')\n",
    "directions = generate_sphere_points(2, 2, 1e-7)"
   ]
  },
  {
   "cell_type": "code",
   "execution_count": 5,
   "id": "31d1526e-f3e2-4123-bc7a-46b2d2490e42",
   "metadata": {
    "tags": []
   },
   "outputs": [
    {
     "data": {
      "text/plain": [
       "{'direction': [0, 0, 1],\n",
       " 'intervals': [[93.5, 'infty'],\n",
       "  [94.5, 98.5],\n",
       "  [95.5, 112.5],\n",
       "  [96.5, 103.5],\n",
       "  [100.5, 108.5],\n",
       "  [102.5, 103.5],\n",
       "  [103.5, 129.5],\n",
       "  [103.5, 107.5],\n",
       "  [106.5, 107.5],\n",
       "  [107.5, 113.5],\n",
       "  [107.5, 127.5],\n",
       "  [113.5, 123.5],\n",
       "  [114.5, 170.5],\n",
       "  [116.5, 119.5],\n",
       "  [120.5, 'infty'],\n",
       "  [120.5, 149.5],\n",
       "  [121.5, 123.5],\n",
       "  [123.5, 'infty'],\n",
       "  [125.5, 126.5],\n",
       "  [126.5, 144.5],\n",
       "  [129.5, 132.5],\n",
       "  [130.5, 131.5],\n",
       "  [132.5, 145.5],\n",
       "  [132.5, 133.5],\n",
       "  [133.5, 134.5],\n",
       "  [136.5, 137.5],\n",
       "  [137.5, 139.5],\n",
       "  [140.5, 146.5],\n",
       "  [140.5, 145.5],\n",
       "  [140.5, 141.5],\n",
       "  [141.5, 143.5],\n",
       "  [142.5, 143.5],\n",
       "  [150.5, 154.5],\n",
       "  [152.5, 153.5],\n",
       "  [152.5, 'infty'],\n",
       "  [156.5, 'infty'],\n",
       "  [157.5, 'infty'],\n",
       "  [172.5, 'infty']],\n",
       " 'largest_bars': [(114.5, 170.5),\n",
       "  (120.5, 149.5),\n",
       "  (103.5, 129.5),\n",
       "  (107.5, 127.5),\n",
       "  (126.5, 144.5)],\n",
       " 'components': [0, 2440, 2949, 10053, 11727, 12178, 17131]}"
      ]
     },
     "execution_count": 5,
     "metadata": {},
     "output_type": "execute_result"
    }
   ],
   "source": [
    "process_direction(([0,0,1], vertices, edges))"
   ]
  },
  {
   "cell_type": "code",
   "execution_count": 6,
   "id": "fb6a0aa7-21fe-4b9d-9972-b4343457100e",
   "metadata": {
    "tags": []
   },
   "outputs": [
    {
     "name": "stdout",
     "output_type": "stream",
     "text": [
      "         99615192 function calls in 22.373 seconds\n",
      "\n",
      "   Ordered by: cumulative time\n",
      "   List reduced from 56 to 10 due to restriction <10>\n",
      "\n",
      "   ncalls  tottime  percall  cumtime  percall filename:lineno(function)\n",
      "       10    0.000    0.000   22.373    2.237 /var/folders/qd/fg0y6gy96rz748mcq02s5pcc0000gn/T/ipykernel_26339/2254060269.py:33(process_direction)\n",
      "       10    0.009    0.001   14.868    1.487 /Users/kiyoshitakeuchi/Documents/GitHub/anu_rsop/jupyter_notebooks/3D-persistence/optimizations/persistent_homology.py:71(compute_persistence)\n",
      "     3090    7.175    0.002   13.929    0.005 /Users/kiyoshitakeuchi/Documents/GitHub/anu_rsop/jupyter_notebooks/3D-persistence/optimizations/persistent_homology.py:119(compute_components)\n",
      "       10    0.081    0.008    7.504    0.750 /Users/kiyoshitakeuchi/Documents/GitHub/anu_rsop/jupyter_notebooks/3D-persistence/optimizations/persistent_homology.py:59(__init__)\n",
      "       10    0.053    0.005    7.419    0.742 /Users/kiyoshitakeuchi/Documents/GitHub/anu_rsop/jupyter_notebooks/3D-persistence/optimizations/persistent_homology.py:170(make_filtration)\n",
      " 46121200    6.005    0.000    6.005    0.000 /Users/kiyoshitakeuchi/Documents/GitHub/anu_rsop/jupyter_notebooks/3D-persistence/optimizations/persistent_homology.py:25(find)\n",
      "       10    0.005    0.001    2.818    0.282 /Users/kiyoshitakeuchi/Documents/GitHub/anu_rsop/jupyter_notebooks/3D-persistence/optimizations/persistent_homology.py:225(process_graph)\n",
      "       10    0.154    0.015    2.002    0.200 /Users/kiyoshitakeuchi/Documents/GitHub/anu_rsop/jupyter_notebooks/3D-persistence/optimizations/persistent_homology.py:274(order_graph)\n",
      "       10    1.733    0.173    1.797    0.180 /Users/kiyoshitakeuchi/Documents/GitHub/anu_rsop/jupyter_notebooks/3D-persistence/optimizations/persistent_homology.py:338(format_edges)\n",
      " 46414850    1.237    0.000    1.237    0.000 {method 'append' of 'list' objects}\n",
      "\n",
      "\n",
      "         88404702 function calls in 22.526 seconds\n",
      "\n",
      "   Ordered by: cumulative time\n",
      "   List reduced from 56 to 10 due to restriction <10>\n",
      "\n",
      "   ncalls  tottime  percall  cumtime  percall filename:lineno(function)\n",
      "       10    0.002    0.000   22.526    2.253 /var/folders/qd/fg0y6gy96rz748mcq02s5pcc0000gn/T/ipykernel_26339/2254060269.py:33(process_direction)\n",
      "       10    0.010    0.001   14.378    1.438 /Users/kiyoshitakeuchi/Documents/GitHub/anu_rsop/jupyter_notebooks/3D-persistence/optimizations/persistent_homology.py:71(compute_persistence)\n",
      "     3150    7.143    0.002   13.326    0.004 /Users/kiyoshitakeuchi/Documents/GitHub/anu_rsop/jupyter_notebooks/3D-persistence/optimizations/persistent_homology.py:119(compute_components)\n",
      "       10    0.085    0.009    8.145    0.814 /Users/kiyoshitakeuchi/Documents/GitHub/anu_rsop/jupyter_notebooks/3D-persistence/optimizations/persistent_homology.py:59(__init__)\n",
      "       10    0.057    0.006    8.056    0.806 /Users/kiyoshitakeuchi/Documents/GitHub/anu_rsop/jupyter_notebooks/3D-persistence/optimizations/persistent_homology.py:170(make_filtration)\n",
      " 40519060    5.503    0.000    5.503    0.000 /Users/kiyoshitakeuchi/Documents/GitHub/anu_rsop/jupyter_notebooks/3D-persistence/optimizations/persistent_homology.py:25(find)\n",
      "       10    0.005    0.001    3.321    0.332 /Users/kiyoshitakeuchi/Documents/GitHub/anu_rsop/jupyter_notebooks/3D-persistence/optimizations/persistent_homology.py:225(process_graph)\n",
      "       10    0.163    0.016    2.427    0.243 /Users/kiyoshitakeuchi/Documents/GitHub/anu_rsop/jupyter_notebooks/3D-persistence/optimizations/persistent_homology.py:274(order_graph)\n",
      "       10    1.754    0.175    1.819    0.182 /Users/kiyoshitakeuchi/Documents/GitHub/anu_rsop/jupyter_notebooks/3D-persistence/optimizations/persistent_homology.py:338(format_edges)\n",
      "       10    1.359    0.136    1.374    0.137 /Users/kiyoshitakeuchi/Documents/GitHub/anu_rsop/jupyter_notebooks/3D-persistence/optimizations/persistent_homology.py:179(<listcomp>)\n",
      "\n",
      "\n",
      "         101241002 function calls in 27.639 seconds\n",
      "\n",
      "   Ordered by: cumulative time\n",
      "   List reduced from 56 to 10 due to restriction <10>\n",
      "\n",
      "   ncalls  tottime  percall  cumtime  percall filename:lineno(function)\n",
      "       10    0.007    0.001   27.639    2.764 /var/folders/qd/fg0y6gy96rz748mcq02s5pcc0000gn/T/ipykernel_26339/2254060269.py:33(process_direction)\n",
      "       10    0.014    0.001   18.263    1.826 /Users/kiyoshitakeuchi/Documents/GitHub/anu_rsop/jupyter_notebooks/3D-persistence/optimizations/persistent_homology.py:71(compute_persistence)\n",
      "     3150    9.182    0.003   17.021    0.005 /Users/kiyoshitakeuchi/Documents/GitHub/anu_rsop/jupyter_notebooks/3D-persistence/optimizations/persistent_homology.py:119(compute_components)\n",
      "       10    0.107    0.011    9.367    0.937 /Users/kiyoshitakeuchi/Documents/GitHub/anu_rsop/jupyter_notebooks/3D-persistence/optimizations/persistent_homology.py:59(__init__)\n",
      "       10    0.067    0.007    9.256    0.926 /Users/kiyoshitakeuchi/Documents/GitHub/anu_rsop/jupyter_notebooks/3D-persistence/optimizations/persistent_homology.py:170(make_filtration)\n",
      " 46937000    6.949    0.000    6.949    0.000 /Users/kiyoshitakeuchi/Documents/GitHub/anu_rsop/jupyter_notebooks/3D-persistence/optimizations/persistent_homology.py:25(find)\n",
      "       10    0.005    0.001    3.494    0.349 /Users/kiyoshitakeuchi/Documents/GitHub/anu_rsop/jupyter_notebooks/3D-persistence/optimizations/persistent_homology.py:225(process_graph)\n",
      "       10    0.172    0.017    2.509    0.251 /Users/kiyoshitakeuchi/Documents/GitHub/anu_rsop/jupyter_notebooks/3D-persistence/optimizations/persistent_homology.py:274(order_graph)\n",
      "       10    2.132    0.213    2.220    0.222 /Users/kiyoshitakeuchi/Documents/GitHub/anu_rsop/jupyter_notebooks/3D-persistence/optimizations/persistent_homology.py:338(format_edges)\n",
      "       10    2.000    0.200    2.020    0.202 /Users/kiyoshitakeuchi/Documents/GitHub/anu_rsop/jupyter_notebooks/3D-persistence/optimizations/persistent_homology.py:179(<listcomp>)\n",
      "\n",
      "\n",
      "         86907641 function calls in 22.497 seconds\n",
      "\n",
      "   Ordered by: cumulative time\n",
      "   List reduced from 56 to 10 due to restriction <10>\n",
      "\n",
      "   ncalls  tottime  percall  cumtime  percall filename:lineno(function)\n",
      "       10    0.002    0.000   22.497    2.250 /var/folders/qd/fg0y6gy96rz748mcq02s5pcc0000gn/T/ipykernel_26339/2254060269.py:33(process_direction)\n",
      "       10    0.012    0.001   13.945    1.394 /Users/kiyoshitakeuchi/Documents/GitHub/anu_rsop/jupyter_notebooks/3D-persistence/optimizations/persistent_homology.py:71(compute_persistence)\n",
      "     3090    6.590    0.002   12.905    0.004 /Users/kiyoshitakeuchi/Documents/GitHub/anu_rsop/jupyter_notebooks/3D-persistence/optimizations/persistent_homology.py:119(compute_components)\n",
      "       10    0.112    0.011    8.548    0.855 /Users/kiyoshitakeuchi/Documents/GitHub/anu_rsop/jupyter_notebooks/3D-persistence/optimizations/persistent_homology.py:59(__init__)\n",
      "       10    0.063    0.006    8.433    0.843 /Users/kiyoshitakeuchi/Documents/GitHub/anu_rsop/jupyter_notebooks/3D-persistence/optimizations/persistent_homology.py:170(make_filtration)\n",
      " 39767600    5.636    0.000    5.636    0.000 /Users/kiyoshitakeuchi/Documents/GitHub/anu_rsop/jupyter_notebooks/3D-persistence/optimizations/persistent_homology.py:25(find)\n",
      "       10    0.007    0.001    3.046    0.305 /Users/kiyoshitakeuchi/Documents/GitHub/anu_rsop/jupyter_notebooks/3D-persistence/optimizations/persistent_homology.py:225(process_graph)\n",
      "       10    0.156    0.016    2.211    0.221 /Users/kiyoshitakeuchi/Documents/GitHub/anu_rsop/jupyter_notebooks/3D-persistence/optimizations/persistent_homology.py:274(order_graph)\n",
      "       10    2.053    0.205    2.124    0.212 /Users/kiyoshitakeuchi/Documents/GitHub/anu_rsop/jupyter_notebooks/3D-persistence/optimizations/persistent_homology.py:338(format_edges)\n",
      "       10    1.751    0.175    1.768    0.177 /Users/kiyoshitakeuchi/Documents/GitHub/anu_rsop/jupyter_notebooks/3D-persistence/optimizations/persistent_homology.py:179(<listcomp>)\n",
      "\n",
      "\n"
     ]
    }
   ],
   "source": [
    "for direction in directions:\n",
    "    prof = cProfile.Profile()\n",
    "    prof.enable()\n",
    "    # code to profile\n",
    "    for _ in range(10):\n",
    "        process_direction((direction, vertices, edges))\n",
    "    prof.disable()\n",
    "    ps = pstats.Stats(prof).sort_stats(\"cumtime\")\n",
    "    ps.print_stats(10) "
   ]
  }
 ],
 "metadata": {
  "kernelspec": {
   "display_name": "Python 3 (ipykernel)",
   "language": "python",
   "name": "python3"
  },
  "language_info": {
   "codemirror_mode": {
    "name": "ipython",
    "version": 3
   },
   "file_extension": ".py",
   "mimetype": "text/x-python",
   "name": "python",
   "nbconvert_exporter": "python",
   "pygments_lexer": "ipython3",
   "version": "3.9.10"
  }
 },
 "nbformat": 4,
 "nbformat_minor": 5
}
