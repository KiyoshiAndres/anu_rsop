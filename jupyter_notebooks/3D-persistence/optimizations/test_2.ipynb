{
 "cells": [
  {
   "cell_type": "code",
   "execution_count": 2,
   "id": "b6da1014-471c-423c-99dc-df7b65ccb396",
   "metadata": {
    "tags": []
   },
   "outputs": [],
   "source": [
    "import json, pathlib, pandas as pd\n",
    "import multiprocessing as mp\n",
    "from concurrent.futures import ProcessPoolExecutor, as_completed\n",
    "import os, csv\n",
    "import cProfile, pstats\n",
    "from persistent_homology_c import (\n",
    "    BettiZero,\n",
    "    generate_sphere_points,\n",
    ")"
   ]
  },
  {
   "cell_type": "code",
   "execution_count": 3,
   "id": "8d9149a6-00ff-41e1-a2df-90f59108c159",
   "metadata": {
    "tags": []
   },
   "outputs": [],
   "source": [
    "from persistent_homology import compute_n_largest_bars,     compute_intervals"
   ]
  },
  {
   "cell_type": "code",
   "execution_count": 8,
   "id": "a4f0b8ec-9303-40d0-84b2-6b5a294518f0",
   "metadata": {
    "tags": []
   },
   "outputs": [],
   "source": [
    "def read_csv(path):\n",
    "    with open(path, newline=\"\") as f:\n",
    "        reader = csv.reader(f)\n",
    "        output = []\n",
    "        for row in reader:\n",
    "            values = []\n",
    "            for value in row:\n",
    "                if len(row) == 3:\n",
    "                    values.append(float(value))\n",
    "                elif len(row) == 2:\n",
    "                    values.append(int(value))\n",
    "            output.append(values)\n",
    "        return output\n",
    "    \n",
    "def get_subfolders(path):\n",
    "    \"\"\"\n",
    "    Return a list of names of all subdirectories in the given path.\n",
    "    \"\"\"\n",
    "    return [\n",
    "        name for name in os.listdir(path)\n",
    "        if os.path.isdir(os.path.join(path, name))\n",
    "    ]\n",
    "\n",
    "def load_vertices_edges(seg_folder):\n",
    "    \"\"\"Read vertices/edges only once per segmentation.\"\"\"\n",
    "    folder_path = '../lung_segmentations/{}'.format(seg_folder)\n",
    "    edges_path = '/edges.csv'\n",
    "    vertices_path = '/vertices.csv'\n",
    "    verts = read_csv(folder_path + vertices_path)\n",
    "    edges = read_csv(folder_path + edges_path)\n",
    "    return verts, edges\n",
    "\n",
    "def process_direction(args):\n",
    "    \"\"\"Run β₀ persistence for one direction (runs in worker).\"\"\"\n",
    "    direction, vertices, edges = args\n",
    "    bz = BettiZero(direction, vertices, edges)\n",
    "    comps, mergers, verts, births = bz.compute()\n",
    "    intervals = compute_intervals(births, mergers)\n",
    "    bars = compute_n_largest_bars(intervals,5)\n",
    "    return {\n",
    "        \"direction\": list(direction),\n",
    "        \"intervals\": intervals,\n",
    "        \"largest_bars\": bars,\n",
    "        #\"largest_length\": length,\n",
    "        \"components\": list(comps),\n",
    "    }"
   ]
  },
  {
   "cell_type": "code",
   "execution_count": 9,
   "id": "560c64b7-1806-4c23-9bac-9da8a34c5a1f",
   "metadata": {
    "tags": []
   },
   "outputs": [],
   "source": [
    "json_data = {}\n",
    "\n",
    "segmentation_folder_path = \"../lung_segmentations\"\n",
    "lung_segmentations = get_subfolders(segmentation_folder_path)"
   ]
  },
  {
   "cell_type": "code",
   "execution_count": 10,
   "id": "449aca97-26ed-4c4b-b91b-98926f6a2c6e",
   "metadata": {
    "tags": []
   },
   "outputs": [],
   "source": [
    "vertices, edges = load_vertices_edges('Lung segmentation-10')\n",
    "directions = generate_sphere_points(2, 2, 1e-7)"
   ]
  },
  {
   "cell_type": "code",
   "execution_count": 11,
   "id": "b560b863-0b3d-43d8-b8a5-0f711fa95af1",
   "metadata": {
    "tags": []
   },
   "outputs": [
    {
     "ename": "TypeError",
     "evalue": "list indices must be integers or slices, not str",
     "output_type": "error",
     "traceback": [
      "\u001b[0;31m---------------------------------------------------------------------------\u001b[0m",
      "\u001b[0;31mTypeError\u001b[0m                                 Traceback (most recent call last)",
      "Cell \u001b[0;32mIn[11], line 1\u001b[0m\n\u001b[0;32m----> 1\u001b[0m \u001b[43mprocess_direction\u001b[49m\u001b[43m(\u001b[49m\u001b[43m(\u001b[49m\u001b[43m[\u001b[49m\u001b[38;5;241;43m0\u001b[39;49m\u001b[43m,\u001b[49m\u001b[38;5;241;43m0\u001b[39;49m\u001b[43m,\u001b[49m\u001b[38;5;241;43m1\u001b[39;49m\u001b[43m]\u001b[49m\u001b[43m,\u001b[49m\u001b[43m \u001b[49m\u001b[43mvertices\u001b[49m\u001b[43m,\u001b[49m\u001b[43m \u001b[49m\u001b[43medges\u001b[49m\u001b[43m)\u001b[49m\u001b[43m)\u001b[49m\n",
      "Cell \u001b[0;32mIn[8], line 37\u001b[0m, in \u001b[0;36mprocess_direction\u001b[0;34m(args)\u001b[0m\n\u001b[1;32m     35\u001b[0m direction, vertices, edges \u001b[38;5;241m=\u001b[39m args\n\u001b[1;32m     36\u001b[0m bz \u001b[38;5;241m=\u001b[39m BettiZero(direction, vertices, edges)\n\u001b[0;32m---> 37\u001b[0m comps, mergers, verts, births \u001b[38;5;241m=\u001b[39m \u001b[43mbz\u001b[49m\u001b[38;5;241;43m.\u001b[39;49m\u001b[43mcompute\u001b[49m\u001b[43m(\u001b[49m\u001b[43m)\u001b[49m\n\u001b[1;32m     38\u001b[0m intervals \u001b[38;5;241m=\u001b[39m compute_intervals(births, mergers)\n\u001b[1;32m     39\u001b[0m bars \u001b[38;5;241m=\u001b[39m compute_n_largest_bars(intervals,\u001b[38;5;241m5\u001b[39m)\n",
      "File \u001b[0;32m~/Documents/GitHub/anu_rsop/jupyter_notebooks/3D-persistence/optimizations/persistent_homology_c.pyx:98\u001b[0m, in \u001b[0;36mpersistent_homology_c.BettiZero.compute\u001b[0;34m()\u001b[0m\n\u001b[1;32m     96\u001b[0m # Step 2: horizontal edges create immediate deaths\n\u001b[1;32m     97\u001b[0m for h, ev in self.filtration.items():\n\u001b[0;32m---> 98\u001b[0m     deaths = self.horizontal_step(ev['horizontal_edges'], births, deaths)\n\u001b[1;32m     99\u001b[0m # Step 3: vertical edges merge components\n\u001b[1;32m    100\u001b[0m uf = BettiZero.UnionFind(self.vertices)\n",
      "File \u001b[0;32m~/Documents/GitHub/anu_rsop/jupyter_notebooks/3D-persistence/optimizations/persistent_homology_c.pyx:64\u001b[0m, in \u001b[0;36mpersistent_homology_c.BettiZero.horizontal_step\u001b[0;34m()\u001b[0m\n\u001b[1;32m     62\u001b[0m x, y = e['vertices']\n\u001b[1;32m     63\u001b[0m if uf.find(x) != uf.find(y):\n\u001b[0;32m---> 64\u001b[0m     b = max(self.vertices[x]['birth'], self.vertices[y]['birth'])\n\u001b[1;32m     65\u001b[0m     deaths.append((b, e['height']))\n\u001b[1;32m     66\u001b[0m     uf.union(x, y)\n",
      "\u001b[0;31mTypeError\u001b[0m: list indices must be integers or slices, not str"
     ]
    }
   ],
   "source": [
    "process_direction(([0,0,1], vertices, edges))"
   ]
  }
 ],
 "metadata": {
  "kernelspec": {
   "display_name": "Python 3 (ipykernel)",
   "language": "python",
   "name": "python3"
  },
  "language_info": {
   "codemirror_mode": {
    "name": "ipython",
    "version": 3
   },
   "file_extension": ".py",
   "mimetype": "text/x-python",
   "name": "python",
   "nbconvert_exporter": "python",
   "pygments_lexer": "ipython3",
   "version": "3.12.3"
  }
 },
 "nbformat": 4,
 "nbformat_minor": 5
}
