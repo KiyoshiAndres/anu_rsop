{
 "cells": [
  {
   "cell_type": "markdown",
   "id": "a67bdf11-545e-42f2-91bf-e2c7caec6540",
   "metadata": {},
   "source": [
    "### Graph of a Mesh and Dual Graph of a Graph"
   ]
  },
  {
   "cell_type": "markdown",
   "id": "5a56d71d-5e0f-4aff-9045-295c7e644d1c",
   "metadata": {},
   "source": [
    "Input: A mesh with faces, edges, and vertices."
   ]
  },
  {
   "cell_type": "markdown",
   "id": "da069273-6483-4904-8151-b813cd3d0ffd",
   "metadata": {},
   "source": [
    "The height at a face is the maximum of the height at its vertices."
   ]
  },
  {
   "cell_type": "markdown",
   "id": "cec0ab8f-24d4-4936-9fc6-d547c19ad8dd",
   "metadata": {},
   "source": [
    "A vertex only needs to have a height, an index, and a normal (just in case).\n",
    "Let's say \n",
    "\n",
    "$v = [index, height, normal]$\n",
    "\n",
    "$e = [[index_1,index_2], height, normal]$\n",
    "\n",
    "$f = [[index_1,index_2,index_3], height, normal]$.\n",
    "\n",
    "Then, the data of a mesh will be a list of vertices, a list of edges, and a list of faces."
   ]
  },
  {
   "cell_type": "markdown",
   "id": "37bbadb8-6f85-48b6-9280-aac67f43600f",
   "metadata": {},
   "source": [
    "The information we get is "
   ]
  },
  {
   "cell_type": "code",
   "execution_count": null,
   "id": "9ae0387b-f062-44d6-be1e-47562e44fd01",
   "metadata": {},
   "outputs": [],
   "source": [
    "def graph(mesh):\n",
    "    "
   ]
  },
  {
   "cell_type": "code",
   "execution_count": 9,
   "id": "62e5864a-96f1-4611-b08c-5c716eeab12b",
   "metadata": {},
   "outputs": [],
   "source": [
    "def dual_graph(faces):\n",
    "    \"\"\"\n",
    "    The dual graph takes in a list of faces formatted as:\n",
    "    [[i, j, k], h, n]\n",
    "    Where the first list is the list of indices of the vertices.\n",
    "    h stands for height, which is the maximum of the height of its vertices.\n",
    "    n is the normal.\n",
    "    \"\"\"\n",
    "        # Step 1: Assign indices to faces and create vertices in the dual graph\n",
    "    face_vertices = []   # List to store vertices of the dual graph\n",
    "    face_indices = {}    # Mapping from face key to index\n",
    "    face_index = 0\n",
    "    \n",
    "    # Step 1.5: Here we create the vertices in the dual graph\n",
    "    for face in faces:\n",
    "        face_index += 1\n",
    "        f_indices, h, n = face\n",
    "        # Use the sorted tuple of face indices as a unique key\n",
    "        face_key = tuple(sorted(f_indices))\n",
    "        face_indices[face_key] = face_index\n",
    "        # Create vertex in the dual graph\n",
    "        v = [face_index, h, n, face]\n",
    "        face_vertices.append(v)\n",
    "    \n",
    "    # Step 2: Build a mapping from edges to faces that share them (this is the adjacency list)\n",
    "    edge_to_faces = {}\n",
    "    \n",
    "    for face in faces:\n",
    "        f_indices, h, n = face\n",
    "        # Get the index of this face in the dual graph\n",
    "        face_key = tuple(sorted(f_indices))\n",
    "        fi = face_indices[face_key]\n",
    "        i, j, k = f_indices\n",
    "        # Define the edges of the face (sorted to ensure consistency)\n",
    "        edges = [\n",
    "            (min(i, j), max(i, j)),\n",
    "            (min(j, k), max(j, k)),\n",
    "            (min(k, i), max(k, i))\n",
    "        ]\n",
    "        # Map each edge to the faces that include it\n",
    "        for edge in edges:\n",
    "            if edge not in edge_to_faces:\n",
    "                edge_to_faces[edge] = []\n",
    "            edge_to_faces[edge].append(fi)\n",
    "    \n",
    "    # Step 3: Create edges in the dual graph between adjacent faces\n",
    "    dual_edges = []\n",
    "    \n",
    "    for edge, face_list in edge_to_faces.items():\n",
    "        if len(face_list) == 2:\n",
    "            face1_index = face_list[0]\n",
    "            face2_index = face_list[1]\n",
    "            # Get heights of the faces\n",
    "            h1 = face_vertices[face1_index - 1][1]  # face_indices start from 1\n",
    "            h2 = face_vertices[face2_index - 1][1]\n",
    "            # The height of the edge is the maximum of the two face heights\n",
    "            edge_height = max(h1, h2)\n",
    "            # Create the edge in the dual graph\n",
    "            dual_edge = [[face1_index, face2_index], edge_height, {'edge_info': edge}]\n",
    "            dual_edges.append(dual_edge)\n",
    "    return [face_vertices, dual_edges]"
   ]
  },
  {
   "cell_type": "code",
   "execution_count": 5,
   "id": "078884de-261e-4c50-abd6-cd1019a09bbb",
   "metadata": {},
   "outputs": [],
   "source": [
    "# Sample data for faces\n",
    "faces = [\n",
    "    # Format: [[i, j, k], h, n]\n",
    "    [[1, 2, 3], 1, 'n1'],\n",
    "    [[3, 2, 4], 2, 'n2'],\n",
    "    [[4, 2, 5], 3, 'n3'],\n",
    "    [[5, 2, 6], 4, 'n4'],\n",
    "    # Add more faces as needed\n",
    "]"
   ]
  },
  {
   "cell_type": "code",
   "execution_count": 8,
   "id": "cd918f13-d910-411b-a647-469da816ee9c",
   "metadata": {
    "tags": []
   },
   "outputs": [],
   "source": [
    "# Step 1: Assign indices to faces and create vertices in the dual graph\n",
    "face_vertices = []   # List to store vertices of the dual graph\n",
    "face_indices = {}    # Mapping from face key to index\n",
    "face_index = 0\n",
    "\n",
    "# Step 1.5: Here we create the vertices in the dual graph\n",
    "for face in faces:\n",
    "    face_index += 1\n",
    "    f_indices, h, n = face\n",
    "    # Use the sorted tuple of face indices as a unique key\n",
    "    face_key = tuple(sorted(f_indices))\n",
    "    face_indices[face_key] = face_index\n",
    "    # Create vertex in the dual graph\n",
    "    v = [face_index, h, n, face]\n",
    "    face_vertices.append(v)\n",
    "\n",
    "# Step 2: Build a mapping from edges to faces that share them (this is the adjacency list)\n",
    "edge_to_faces = {}\n",
    "\n",
    "for face in faces:\n",
    "    f_indices, h, n = face\n",
    "    # Get the index of this face in the dual graph\n",
    "    face_key = tuple(sorted(f_indices))\n",
    "    fi = face_indices[face_key]\n",
    "    i, j, k = f_indices\n",
    "    # Define the edges of the face (sorted to ensure consistency)\n",
    "    edges = [\n",
    "        (min(i, j), max(i, j)),\n",
    "        (min(j, k), max(j, k)),\n",
    "        (min(k, i), max(k, i))\n",
    "    ]\n",
    "    # Map each edge to the faces that include it\n",
    "    for edge in edges:\n",
    "        if edge not in edge_to_faces:\n",
    "            edge_to_faces[edge] = []\n",
    "        edge_to_faces[edge].append(fi)\n",
    "\n",
    "# Step 3: Create edges in the dual graph between adjacent faces\n",
    "dual_edges = []\n",
    "\n",
    "for edge, face_list in edge_to_faces.items():\n",
    "    if len(face_list) == 2:\n",
    "        face1_index = face_list[0]\n",
    "        face2_index = face_list[1]\n",
    "        # Get heights of the faces\n",
    "        h1 = face_vertices[face1_index - 1][1]  # face_indices start from 1\n",
    "        h2 = face_vertices[face2_index - 1][1]\n",
    "        # The height of the edge is the maximum of the two face heights\n",
    "        edge_height = max(h1, h2)\n",
    "        # Create the edge in the dual graph\n",
    "        dual_edge = [[face1_index, face2_index], edge_height, {'edge_info': edge}]\n",
    "        dual_edges.append(dual_edge)"
   ]
  },
  {
   "cell_type": "code",
   "execution_count": null,
   "id": "6a406c60-bda9-4f2b-8a68-4f426fef08a8",
   "metadata": {},
   "outputs": [],
   "source": [
    "# Output the dual graph\n",
    "print(\"Vertices of the Dual Graph:\")\n",
    "for v in face_vertices:\n",
    "    print(f\"Vertex {v[0]}: Height={v[1]}, Data={v[2]}, Face={v[3]}\")\n",
    "\n",
    "print(\"\\nEdges of the Dual Graph:\")\n",
    "for e in dual_edges:\n",
    "    print(f\"Edge between Vertex {e[0][0]} and Vertex {e[0][1]}: Height={e[1]}, Data={e[2]}\")"
   ]
  },
  {
   "cell_type": "code",
   "execution_count": 7,
   "id": "ee5f75b4-8973-4e64-b6e6-ec1e8f3cc905",
   "metadata": {},
   "outputs": [
    {
     "name": "stdout",
     "output_type": "stream",
     "text": [
      "4\n",
      "[[1, 1, 'n1', [[1, 2, 3], 1, 'n1']], [2, 2, 'n2', [[3, 2, 4], 2, 'n2']], [3, 3, 'n3', [[4, 2, 5], 3, 'n3']], [4, 4, 'n4', [[5, 2, 6], 4, 'n4']]]\n",
      "3\n"
     ]
    }
   ],
   "source": [
    "print(len(face_vertices))\n",
    "print(face_vertices)\n",
    "print(len(dual_edges))"
   ]
  }
 ],
 "metadata": {
  "kernelspec": {
   "display_name": "Python 3 (ipykernel)",
   "language": "python",
   "name": "python3"
  },
  "language_info": {
   "codemirror_mode": {
    "name": "ipython",
    "version": 3
   },
   "file_extension": ".py",
   "mimetype": "text/x-python",
   "name": "python",
   "nbconvert_exporter": "python",
   "pygments_lexer": "ipython3",
   "version": "3.12.3"
  }
 },
 "nbformat": 4,
 "nbformat_minor": 5
}
