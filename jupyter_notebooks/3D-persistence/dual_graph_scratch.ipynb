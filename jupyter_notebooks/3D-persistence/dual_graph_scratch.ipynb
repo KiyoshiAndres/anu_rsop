{
 "cells": [
  {
   "cell_type": "code",
   "execution_count": 10,
   "id": "c02a438d-a184-4b72-9f95-223b4050a47f",
   "metadata": {},
   "outputs": [],
   "source": [
    "import trimesh\n",
    "import networkx as nx"
   ]
  },
  {
   "cell_type": "code",
   "execution_count": 6,
   "id": "7b86554b-0dfe-49c4-b913-e8b9bde47d57",
   "metadata": {},
   "outputs": [],
   "source": [
    "mesh = trimesh.load('/home/kiyoshi/anu_rsop/jupyter_notebooks/triangulated_torus.obj')"
   ]
  },
  {
   "cell_type": "code",
   "execution_count": 9,
   "id": "927e78f0-6d55-4884-a3e3-06140b2694d4",
   "metadata": {},
   "outputs": [
    {
     "name": "stdout",
     "output_type": "stream",
     "text": [
      "<trimesh.Trimesh(vertices.shape=(2304, 3), faces.shape=(1152, 3), name=`triangulated_torus.obj`)>\n",
      "2880\n"
     ]
    }
   ],
   "source": [
    "print(mesh)\n",
    "print(len(mesh.edges_unique))"
   ]
  },
  {
   "cell_type": "code",
   "execution_count": 13,
   "id": "9d36d807-a10b-42b1-8ae2-17601070ee15",
   "metadata": {},
   "outputs": [],
   "source": [
    "# Get the face adjacency graph\n",
    "face_adjacency = mesh.face_adjacency\n",
    "\n",
    "# Create the dual graph\n",
    "dual_graph = nx.Graph()\n",
    "\n",
    "# Add nodes corresponding to each face\n",
    "dual_graph.add_nodes_from(range(len(mesh.faces)))\n",
    "\n",
    "# Add edges between adjacent faces\n",
    "for f1, f2 in face_adjacency:\n",
    "    dual_graph.add_edge(f1, f2)"
   ]
  },
  {
   "cell_type": "code",
   "execution_count": 12,
   "id": "a0bd4092-1a79-448a-9a25-ff2d51d59cfd",
   "metadata": {},
   "outputs": [
    {
     "name": "stdout",
     "output_type": "stream",
     "text": [
      "Dual Graph Nodes: 1152\n",
      "Dual Graph Edges: 576\n"
     ]
    }
   ],
   "source": [
    "# Now dual_graph is your dual graph\n",
    "print(f\"Dual Graph Nodes: {dual_graph.number_of_nodes()}\")\n",
    "print(f\"Dual Graph Edges: {dual_graph.number_of_edges()}\")"
   ]
  }
 ],
 "metadata": {
  "kernelspec": {
   "display_name": "Python 3 (ipykernel)",
   "language": "python",
   "name": "python3"
  },
  "language_info": {
   "codemirror_mode": {
    "name": "ipython",
    "version": 3
   },
   "file_extension": ".py",
   "mimetype": "text/x-python",
   "name": "python",
   "nbconvert_exporter": "python",
   "pygments_lexer": "ipython3",
   "version": "3.12.3"
  }
 },
 "nbformat": 4,
 "nbformat_minor": 5
}
