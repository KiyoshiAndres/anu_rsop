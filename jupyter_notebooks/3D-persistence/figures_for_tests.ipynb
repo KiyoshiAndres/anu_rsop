{
 "cells": [
  {
   "cell_type": "code",
   "execution_count": 2,
   "id": "d73a5f67-a222-4b74-8162-d82b05455ef2",
   "metadata": {},
   "outputs": [],
   "source": [
    "import pyvista as pv\n",
    "import numpy as np"
   ]
  },
  {
   "cell_type": "code",
   "execution_count": 5,
   "id": "6728790c-290b-4bdd-9494-a5c6fb146d7a",
   "metadata": {},
   "outputs": [],
   "source": [
    "n = [0,1,2]"
   ]
  },
  {
   "cell_type": "code",
   "execution_count": null,
   "id": "b2894420-48c5-4d84-99fb-82f162243774",
   "metadata": {},
   "outputs": [],
   "source": [
    "points = [\n",
    "    [,n],\n",
    "    [,n],\n",
    "    [,n],\n",
    "    [,n],\n",
    "    [,n]\n",
    "]\n",
    "\n",
    "edges = [\n",
    "    [[],h,n],\n",
    "    \n",
    "    \n",
    "]\n",
    "\n",
    "figure_1 = [points, vertices]"
   ]
  },
  {
   "cell_type": "code",
   "execution_count": null,
   "id": "79a2b9e0-9e06-4dd9-9780-35d49e742a5b",
   "metadata": {},
   "outputs": [],
   "source": [
    "persistence_graph = "
   ]
  },
  {
   "cell_type": "code",
   "execution_count": null,
   "id": "1a9ed165-12f3-4c79-bce0-5341701bf94c",
   "metadata": {},
   "outputs": [],
   "source": [
    "pyvista_graph = "
   ]
  },
  {
   "cell_type": "code",
   "execution_count": 4,
   "id": "750cdf88-1f32-40a1-a325-630b0f4749db",
   "metadata": {},
   "outputs": [],
   "source": [
    "def create_lines(edges):\n",
    "    lines = []\n",
    "    for edge in edges:\n",
    "        lines.append(2)       # Number of points in the line\n",
    "        lines.extend(edge)    # Indices of the connected points\n",
    "    return np.array(lines)"
   ]
  },
  {
   "cell_type": "code",
   "execution_count": null,
   "id": "565cd845-d49e-4390-b15f-d0800c5be711",
   "metadata": {},
   "outputs": [],
   "source": [
    "lines = create_lines(edges)"
   ]
  },
  {
   "cell_type": "code",
   "execution_count": null,
   "id": "de96b863-d4ed-4427-b3a8-6e6a763b4448",
   "metadata": {},
   "outputs": [],
   "source": [
    "# Create the PolyData object\n",
    "graph = pv.PolyData(points)\n",
    "graph.lines = lines\n",
    "\n",
    "# Initialize the plotter\n",
    "plotter = pv.Plotter()\n",
    "\n",
    "# Add edges as black lines\n",
    "plotter.add_mesh(graph, color='black', line_width=2)\n",
    "\n",
    "# Add points as red spheres\n",
    "plotter.add_points(graph.points, color='red', point_size=10)\n",
    "\n",
    "# Optionally, add labels to the points\n",
    "for i, point in enumerate(points):\n",
    "    plotter.add_point_labels([point], [str(i)], font_size=12, point_size=0, text_color='blue')\n",
    "\n",
    "# Display the plot\n",
    "plotter.show()\n"
   ]
  },
  {
   "cell_type": "code",
   "execution_count": null,
   "id": "02c57b29-930d-4e7a-9d25-406eb690ded5",
   "metadata": {},
   "outputs": [],
   "source": [
    "points = [\n",
    "\n",
    "\n",
    "]\n",
    "\n",
    "vertices = [\n",
    "\n",
    "    \n",
    "]\n",
    "\n",
    "figure_2 = [points, vertices]"
   ]
  },
  {
   "cell_type": "code",
   "execution_count": null,
   "id": "36ac987a-c970-4410-991e-a570f40de874",
   "metadata": {},
   "outputs": [],
   "source": [
    "points = [\n",
    "\n",
    "\n",
    "]\n",
    "\n",
    "vertices = [\n",
    "\n",
    "    \n",
    "]\n",
    "\n",
    "figure_3 = [points, vertices]"
   ]
  },
  {
   "cell_type": "code",
   "execution_count": null,
   "id": "3ef0292f-9321-44eb-878b-0bdd9edbe4f3",
   "metadata": {},
   "outputs": [],
   "source": [
    "points = [\n",
    "\n",
    "\n",
    "]\n",
    "\n",
    "vertices = [\n",
    "\n",
    "    \n",
    "]\n",
    "\n",
    "figure_4 = [points, vertices]"
   ]
  },
  {
   "cell_type": "code",
   "execution_count": null,
   "id": "3a802587-a2b5-4a3d-a523-4412727558d5",
   "metadata": {},
   "outputs": [],
   "source": [
    "points = [\n",
    "\n",
    "\n",
    "]\n",
    "\n",
    "vertices = [\n",
    "\n",
    "    \n",
    "]\n",
    "\n",
    "figure_5 = [points, vertices]"
   ]
  }
 ],
 "metadata": {
  "kernelspec": {
   "display_name": "Python 3 (ipykernel)",
   "language": "python",
   "name": "python3"
  },
  "language_info": {
   "codemirror_mode": {
    "name": "ipython",
    "version": 3
   },
   "file_extension": ".py",
   "mimetype": "text/x-python",
   "name": "python",
   "nbconvert_exporter": "python",
   "pygments_lexer": "ipython3",
   "version": "3.12.3"
  }
 },
 "nbformat": 4,
 "nbformat_minor": 5
}
