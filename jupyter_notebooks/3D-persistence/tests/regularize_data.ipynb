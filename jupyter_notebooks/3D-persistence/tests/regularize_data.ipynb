{
 "cells": [
  {
   "cell_type": "code",
   "execution_count": 4,
   "id": "79027f9d-8412-4d05-b684-733afe246958",
   "metadata": {
    "tags": []
   },
   "outputs": [],
   "source": [
    "points = [\n",
    "    # Format: [index, height, vector n]\n",
    "    [[1,1,1], 1, [1, 1, -1]],\n",
    "    [[2,2,2], 2, [2, 2, -2]],\n",
    "    [[3,3,3], 2, [3, 2, 4]],\n",
    "    [[4,4,4], 3, [4, 3, 3]],\n",
    "    [[5,5,5], 4, [5, 4, 2]],\n",
    "    [[6,6,6], 6, [6, 6, 6]],\n",
    "    [[7,7,7], 7, [7, 7, 7]]\n",
    "]\n",
    "\n",
    "edges = [\n",
    "    # Format: [[index_i, index_j], height, vector n]\n",
    "    [[1, 2], 2, [1, 1, -1]],\n",
    "    [[2, 3], 2, [2, 2, -2]],\n",
    "    [[3, 4], 3, [3, 2, 4]],\n",
    "    [[4, 5], 4, [4, 3, 3]],\n",
    "    [[6, 7], 7, [5, 4, 2]],\n",
    "    [[5, 6], 7, [6, 6, 6]]\n",
    "]"
   ]
  },
  {
   "cell_type": "code",
   "execution_count": 12,
   "id": "7580eda7-04f3-43cb-8eaa-54f69ca082fc",
   "metadata": {
    "tags": []
   },
   "outputs": [],
   "source": [
    "def format_graph(graph):\n",
    "    vertices, edges = graph\n",
    "    formatted_vertices = [ {'coords': vertex[0], 'h': vertex[1], 'n': vertex[2], 'original_index': index} for index, vertex in enumerate(vertices) ] \n",
    "    formatted_edges = [ {'vertices': edge[0], 'h': edge[1], 'n': edge[2]} for edge in edges]\n",
    "    return [formatted_vertices, formatted_edges]"
   ]
  },
  {
   "cell_type": "code",
   "execution_count": 14,
   "id": "7684a3cb-ab68-40fd-b3f2-380da2c0459a",
   "metadata": {
    "tags": []
   },
   "outputs": [
    {
     "data": {
      "text/plain": [
       "[[{'coords': [1, 1, 1], 'h': 1, 'n': [1, 1, -1], 'original_index': 0},\n",
       "  {'coords': [2, 2, 2], 'h': 2, 'n': [2, 2, -2], 'original_index': 1},\n",
       "  {'coords': [3, 3, 3], 'h': 2, 'n': [3, 2, 4], 'original_index': 2},\n",
       "  {'coords': [4, 4, 4], 'h': 3, 'n': [4, 3, 3], 'original_index': 3},\n",
       "  {'coords': [5, 5, 5], 'h': 4, 'n': [5, 4, 2], 'original_index': 4},\n",
       "  {'coords': [6, 6, 6], 'h': 6, 'n': [6, 6, 6], 'original_index': 5},\n",
       "  {'coords': [7, 7, 7], 'h': 7, 'n': [7, 7, 7], 'original_index': 6}],\n",
       " [{'vertices': [1, 2], 'h': 2, 'n': [1, 1, -1]},\n",
       "  {'vertices': [2, 3], 'h': 2, 'n': [2, 2, -2]},\n",
       "  {'vertices': [3, 4], 'h': 3, 'n': [3, 2, 4]},\n",
       "  {'vertices': [4, 5], 'h': 4, 'n': [4, 3, 3]},\n",
       "  {'vertices': [6, 7], 'h': 7, 'n': [5, 4, 2]},\n",
       "  {'vertices': [5, 6], 'h': 7, 'n': [6, 6, 6]}]]"
      ]
     },
     "execution_count": 14,
     "metadata": {},
     "output_type": "execute_result"
    }
   ],
   "source": [
    "format_graph([points, edges])"
   ]
  },
  {
   "cell_type": "code",
   "execution_count": null,
   "id": "24109596-6ac6-40fc-a186-24ab1441b2e9",
   "metadata": {},
   "outputs": [],
   "source": [
    "n = None  # Replace with actual value if needed\n",
    "\n",
    "vertices = [\n",
    "    {'coords': [2, 3, 1], 'h': 5, 'n': n, 'original_index': 0},\n",
    "    {'coords': [1, 3, 2], 'h': 3, 'n': n, 'original_index': 1},\n",
    "    {'coords': [1, 2, 2], 'h': 3, 'n': n, 'original_index': 2},\n",
    "    {'coords': [2, 3, 2], 'h': 5, 'n': n, 'original_index': 3},\n",
    "    {'coords': [1, 2, 1], 'h': 3, 'n': n, 'original_index': 4},\n",
    "]\n",
    "\n",
    "edges = [\n",
    "    {'vertices': [0, 1], 'h': 4, 'n': n},\n",
    "    {'vertices': [2, 3], 'h': 5, 'n': n},\n",
    "    {'vertices': [1, 2], 'h': 4, 'n': n},\n",
    "    {'vertices': [3, 4], 'h': 5, 'n': n},\n",
    "]"
   ]
  }
 ],
 "metadata": {
  "kernelspec": {
   "display_name": "Python 3 (ipykernel)",
   "language": "python",
   "name": "python3"
  },
  "language_info": {
   "codemirror_mode": {
    "name": "ipython",
    "version": 3
   },
   "file_extension": ".py",
   "mimetype": "text/x-python",
   "name": "python",
   "nbconvert_exporter": "python",
   "pygments_lexer": "ipython3",
   "version": "3.12.3"
  }
 },
 "nbformat": 4,
 "nbformat_minor": 5
}
