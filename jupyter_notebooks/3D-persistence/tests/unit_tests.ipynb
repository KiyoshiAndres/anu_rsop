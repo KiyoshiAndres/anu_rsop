{
 "cells": [
  {
   "cell_type": "code",
   "execution_count": 1,
   "id": "0d74b8d2-d11e-495c-b10f-60c764132f8c",
   "metadata": {},
   "outputs": [],
   "source": [
    "import trimesh\n",
    "import pyvista as pv"
   ]
  },
  {
   "cell_type": "code",
   "execution_count": 9,
   "id": "47b5afca-bd31-4a89-b649-72fdd5f54caa",
   "metadata": {},
   "outputs": [
    {
     "ename": "ValueError",
     "evalue": "string is not a file: ../shared/triangulated_torus_2.obj",
     "output_type": "error",
     "traceback": [
      "\u001b[0;31m---------------------------------------------------------------------------\u001b[0m",
      "\u001b[0;31mValueError\u001b[0m                                Traceback (most recent call last)",
      "Cell \u001b[0;32mIn[9], line 2\u001b[0m\n\u001b[1;32m      1\u001b[0m \u001b[38;5;66;03m# Load the .obj file\u001b[39;00m\n\u001b[0;32m----> 2\u001b[0m torus_mesh \u001b[38;5;241m=\u001b[39m \u001b[43mtrimesh\u001b[49m\u001b[38;5;241;43m.\u001b[39;49m\u001b[43mload\u001b[49m\u001b[43m(\u001b[49m\u001b[38;5;124;43m'\u001b[39;49m\u001b[38;5;124;43m../shared/triangulated_torus_2.obj\u001b[39;49m\u001b[38;5;124;43m'\u001b[39;49m\u001b[43m)\u001b[49m\n\u001b[1;32m      4\u001b[0m \u001b[38;5;66;03m# Print basic information about the mesh\u001b[39;00m\n\u001b[1;32m      6\u001b[0m torus_vertices \u001b[38;5;241m=\u001b[39m torus_mesh\u001b[38;5;241m.\u001b[39mvertices\n",
      "File \u001b[0;32m~/topology/lib/python3.12/site-packages/trimesh/exchange/load.py:114\u001b[0m, in \u001b[0;36mload\u001b[0;34m(file_obj, file_type, resolver, force, **kwargs)\u001b[0m\n\u001b[1;32m    105\u001b[0m     \u001b[38;5;28;01mreturn\u001b[39;00m file_obj\n\u001b[1;32m    107\u001b[0m \u001b[38;5;66;03m# parse the file arguments into clean loadable form\u001b[39;00m\n\u001b[1;32m    108\u001b[0m (\n\u001b[1;32m    109\u001b[0m     file_obj,  \u001b[38;5;66;03m# file- like object\u001b[39;00m\n\u001b[1;32m    110\u001b[0m     file_type,  \u001b[38;5;66;03m# str, what kind of file\u001b[39;00m\n\u001b[1;32m    111\u001b[0m     metadata,  \u001b[38;5;66;03m# dict, any metadata from file name\u001b[39;00m\n\u001b[1;32m    112\u001b[0m     opened,  \u001b[38;5;66;03m# bool, did we open the file ourselves\u001b[39;00m\n\u001b[1;32m    113\u001b[0m     resolver,  \u001b[38;5;66;03m# object to load referenced resources\u001b[39;00m\n\u001b[0;32m--> 114\u001b[0m ) \u001b[38;5;241m=\u001b[39m \u001b[43m_parse_file_args\u001b[49m\u001b[43m(\u001b[49m\u001b[43mfile_obj\u001b[49m\u001b[38;5;241;43m=\u001b[39;49m\u001b[43mfile_obj\u001b[49m\u001b[43m,\u001b[49m\u001b[43m \u001b[49m\u001b[43mfile_type\u001b[49m\u001b[38;5;241;43m=\u001b[39;49m\u001b[43mfile_type\u001b[49m\u001b[43m,\u001b[49m\u001b[43m \u001b[49m\u001b[43mresolver\u001b[49m\u001b[38;5;241;43m=\u001b[39;49m\u001b[43mresolver\u001b[49m\u001b[43m)\u001b[49m\n\u001b[1;32m    116\u001b[0m \u001b[38;5;28;01mtry\u001b[39;00m:\n\u001b[1;32m    117\u001b[0m     \u001b[38;5;28;01mif\u001b[39;00m \u001b[38;5;28misinstance\u001b[39m(file_obj, \u001b[38;5;28mdict\u001b[39m):\n\u001b[1;32m    118\u001b[0m         \u001b[38;5;66;03m# if we've been passed a dict treat it as kwargs\u001b[39;00m\n",
      "File \u001b[0;32m~/topology/lib/python3.12/site-packages/trimesh/exchange/load.py:612\u001b[0m, in \u001b[0;36m_parse_file_args\u001b[0;34m(file_obj, file_type, resolver, **kwargs)\u001b[0m\n\u001b[1;32m    610\u001b[0m             \u001b[38;5;28;01mraise\u001b[39;00m \u001b[38;5;167;01mValueError\u001b[39;00m(\u001b[38;5;124mf\u001b[39m\u001b[38;5;124m\"\u001b[39m\u001b[38;5;124muse load_remote to load URL: \u001b[39m\u001b[38;5;132;01m{\u001b[39;00mfile_obj\u001b[38;5;132;01m}\u001b[39;00m\u001b[38;5;124m\"\u001b[39m)\n\u001b[1;32m    611\u001b[0m         \u001b[38;5;28;01melif\u001b[39;00m file_type \u001b[38;5;129;01mis\u001b[39;00m \u001b[38;5;28;01mNone\u001b[39;00m:\n\u001b[0;32m--> 612\u001b[0m             \u001b[38;5;28;01mraise\u001b[39;00m \u001b[38;5;167;01mValueError\u001b[39;00m(\u001b[38;5;124mf\u001b[39m\u001b[38;5;124m\"\u001b[39m\u001b[38;5;124mstring is not a file: \u001b[39m\u001b[38;5;132;01m{\u001b[39;00mfile_obj\u001b[38;5;132;01m}\u001b[39;00m\u001b[38;5;124m\"\u001b[39m)\n\u001b[1;32m    614\u001b[0m \u001b[38;5;28;01mif\u001b[39;00m file_type \u001b[38;5;129;01mis\u001b[39;00m \u001b[38;5;28;01mNone\u001b[39;00m:\n\u001b[1;32m    615\u001b[0m     file_type \u001b[38;5;241m=\u001b[39m file_obj\u001b[38;5;241m.\u001b[39m\u001b[38;5;18m__class__\u001b[39m\u001b[38;5;241m.\u001b[39m\u001b[38;5;18m__name__\u001b[39m\n",
      "\u001b[0;31mValueError\u001b[0m: string is not a file: ../shared/triangulated_torus_2.obj"
     ]
    }
   ],
   "source": [
    "# Load the .obj file\n",
    "torus_mesh = trimesh.load('../shared/triangulated_torus_2.obj')\n",
    "\n",
    "# Print basic information about the mesh\n",
    "\n",
    "torus_vertices = torus_mesh.vertices\n",
    "torus_edges = torus_mesh.edges_unique\n",
    "torus_faces = torus_mesh.faces\n",
    "torus_normals = torus_mesh.vertex_normals"
   ]
  },
  {
   "cell_type": "code",
   "execution_count": 8,
   "id": "9940915f-7ca9-4dd0-b6dc-02e7dc153452",
   "metadata": {},
   "outputs": [
    {
     "data": {
      "application/vnd.jupyter.widget-view+json": {
       "model_id": "a21913a3b28849bda7c767e839818aa7",
       "version_major": 2,
       "version_minor": 0
      },
      "text/plain": [
       "Widget(value='<iframe src=\"http://localhost:43877/index.html?ui=P_0x7cb4c6f88770_1&reconnect=auto\" class=\"pyvi…"
      ]
     },
     "metadata": {},
     "output_type": "display_data"
    }
   ],
   "source": [
    "# Load the .obj file\n",
    "torus_mesh = pv.read('triangulated_torus_2.obj')\n",
    "\n",
    "# Plot the mesh\n",
    "torus_mesh.plot()"
   ]
  },
  {
   "cell_type": "markdown",
   "id": "77b5f4c5-830b-4355-a621-5e5c3c934b43",
   "metadata": {},
   "source": [
    "This should give us 1 unpaired vertex for the global minima starting the only connected component. 2 unpaired vertices for the loops, and 1 unpaired vertex for the global maxima that creates the void."
   ]
  }
 ],
 "metadata": {
  "kernelspec": {
   "display_name": "Python 3 (ipykernel)",
   "language": "python",
   "name": "python3"
  },
  "language_info": {
   "codemirror_mode": {
    "name": "ipython",
    "version": 3
   },
   "file_extension": ".py",
   "mimetype": "text/x-python",
   "name": "python",
   "nbconvert_exporter": "python",
   "pygments_lexer": "ipython3",
   "version": "3.12.3"
  }
 },
 "nbformat": 4,
 "nbformat_minor": 5
}
