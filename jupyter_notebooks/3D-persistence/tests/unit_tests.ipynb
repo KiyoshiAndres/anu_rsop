{
 "cells": [
  {
   "cell_type": "code",
   "execution_count": 1,
   "id": "0d74b8d2-d11e-495c-b10f-60c764132f8c",
   "metadata": {},
   "outputs": [],
   "source": [
    "import trimesh\n",
    "import pyvista as pv"
   ]
  },
  {
   "cell_type": "code",
   "execution_count": 7,
   "id": "47b5afca-bd31-4a89-b649-72fdd5f54caa",
   "metadata": {},
   "outputs": [],
   "source": [
    "# Load the .obj file\n",
    "torus_mesh = trimesh.load('triangulated_torus_2.obj')\n",
    "\n",
    "# Print basic information about the mesh\n",
    "\n",
    "torus_vertices = torus_mesh.vertices\n",
    "torus_edges = torus_mesh.edges_unique\n",
    "torus_faces = torus_mesh.faces\n",
    "torus_normals = torus_mesh.vertex_normals"
   ]
  },
  {
   "cell_type": "code",
   "execution_count": 8,
   "id": "9940915f-7ca9-4dd0-b6dc-02e7dc153452",
   "metadata": {},
   "outputs": [
    {
     "data": {
      "application/vnd.jupyter.widget-view+json": {
       "model_id": "a21913a3b28849bda7c767e839818aa7",
       "version_major": 2,
       "version_minor": 0
      },
      "text/plain": [
       "Widget(value='<iframe src=\"http://localhost:43877/index.html?ui=P_0x7cb4c6f88770_1&reconnect=auto\" class=\"pyvi…"
      ]
     },
     "metadata": {},
     "output_type": "display_data"
    }
   ],
   "source": [
    "# Load the .obj file\n",
    "torus_mesh = pv.read('triangulated_torus_2.obj')\n",
    "\n",
    "# Plot the mesh\n",
    "torus_mesh.plot()"
   ]
  },
  {
   "cell_type": "markdown",
   "id": "77b5f4c5-830b-4355-a621-5e5c3c934b43",
   "metadata": {},
   "source": [
    "This should give us 1 unpaired vertex for the global minima starting the only connected component. 2 unpaired vertices for the loops, and 1 unpaired vertex for the global maxima that creates the void."
   ]
  }
 ],
 "metadata": {
  "kernelspec": {
   "display_name": "Python 3 (ipykernel)",
   "language": "python",
   "name": "python3"
  },
  "language_info": {
   "codemirror_mode": {
    "name": "ipython",
    "version": 3
   },
   "file_extension": ".py",
   "mimetype": "text/x-python",
   "name": "python",
   "nbconvert_exporter": "python",
   "pygments_lexer": "ipython3",
   "version": "3.12.3"
  }
 },
 "nbformat": 4,
 "nbformat_minor": 5
}
