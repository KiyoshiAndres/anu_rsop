{
 "cells": [
  {
   "cell_type": "markdown",
   "id": "8243418c-56b6-465e-b810-18ace7f59357",
   "metadata": {},
   "source": [
    "# Exporting a mesh from blender and importing into Python tutorial"
   ]
  },
  {
   "cell_type": "markdown",
   "id": "5284862b-c859-4b3d-a5f3-a1aabba99f4f",
   "metadata": {},
   "source": [
    "The goal of this document is to create a mesh in blender, triangulate it, and then export Vertices, Edges, Faces, and normals. Perhaps in a future iteration I will also reduce the number of vertices in the mesh."
   ]
  },
  {
   "cell_type": "markdown",
   "id": "8e42b93f-1024-403d-a391-3ff04ba314cd",
   "metadata": {},
   "source": [
    "## 1. Create a Torus in Blender\n",
    "\n",
    "    Open Blender.\n",
    "    In the 3D Viewport, press Shift + A to open the Add menu.\n",
    "    Navigate to Mesh > Torus to create a torus.\n",
    "    Customize its parameters in the bottom-left corner (e.g., Major/Minor Radius, Segments, etc.).\n",
    "\n",
    "## 2. Triangulate the Torus\n",
    "\n",
    "    Select the torus by right-clicking it.\n",
    "    Enter Edit Mode by pressing Tab.\n",
    "    Press A to select all faces.\n",
    "    Press Ctrl + T to triangulate the mesh.\n",
    "\n",
    "## 3. Export the Mesh\n",
    "\n",
    "    Return to Object Mode (press Tab again).\n",
    "    Select the torus.\n",
    "    Go to File > Export > Wavefront (.obj).\n",
    "    Choose a location to save the .obj file, and make sure to export only the selected object by enabling \"Selection Only\" in the export options. Can also export normals."
   ]
  },
  {
   "cell_type": "code",
   "execution_count": 1,
   "id": "921e4704-b8e0-472d-9c0f-656ed6c22011",
   "metadata": {},
   "outputs": [
    {
     "ename": "ValueError",
     "evalue": "string is not a file: triangulated_torus.obj",
     "output_type": "error",
     "traceback": [
      "\u001b[0;31m---------------------------------------------------------------------------\u001b[0m",
      "\u001b[0;31mValueError\u001b[0m                                Traceback (most recent call last)",
      "Cell \u001b[0;32mIn[1], line 4\u001b[0m\n\u001b[1;32m      1\u001b[0m \u001b[38;5;28;01mimport\u001b[39;00m \u001b[38;5;21;01mtrimesh\u001b[39;00m\n\u001b[1;32m      3\u001b[0m \u001b[38;5;66;03m# Load the .obj file\u001b[39;00m\n\u001b[0;32m----> 4\u001b[0m mesh \u001b[38;5;241m=\u001b[39m \u001b[43mtrimesh\u001b[49m\u001b[38;5;241;43m.\u001b[39;49m\u001b[43mload\u001b[49m\u001b[43m(\u001b[49m\u001b[38;5;124;43m'\u001b[39;49m\u001b[38;5;124;43mtriangulated_torus.obj\u001b[39;49m\u001b[38;5;124;43m'\u001b[39;49m\u001b[43m)\u001b[49m\n\u001b[1;32m      6\u001b[0m \u001b[38;5;66;03m# Print basic information about the mesh\u001b[39;00m\n\u001b[1;32m      7\u001b[0m \u001b[38;5;28mprint\u001b[39m(mesh)\n",
      "File \u001b[0;32m~/topology/lib/python3.12/site-packages/trimesh/exchange/load.py:114\u001b[0m, in \u001b[0;36mload\u001b[0;34m(file_obj, file_type, resolver, force, **kwargs)\u001b[0m\n\u001b[1;32m    105\u001b[0m     \u001b[38;5;28;01mreturn\u001b[39;00m file_obj\n\u001b[1;32m    107\u001b[0m \u001b[38;5;66;03m# parse the file arguments into clean loadable form\u001b[39;00m\n\u001b[1;32m    108\u001b[0m (\n\u001b[1;32m    109\u001b[0m     file_obj,  \u001b[38;5;66;03m# file- like object\u001b[39;00m\n\u001b[1;32m    110\u001b[0m     file_type,  \u001b[38;5;66;03m# str, what kind of file\u001b[39;00m\n\u001b[1;32m    111\u001b[0m     metadata,  \u001b[38;5;66;03m# dict, any metadata from file name\u001b[39;00m\n\u001b[1;32m    112\u001b[0m     opened,  \u001b[38;5;66;03m# bool, did we open the file ourselves\u001b[39;00m\n\u001b[1;32m    113\u001b[0m     resolver,  \u001b[38;5;66;03m# object to load referenced resources\u001b[39;00m\n\u001b[0;32m--> 114\u001b[0m ) \u001b[38;5;241m=\u001b[39m \u001b[43m_parse_file_args\u001b[49m\u001b[43m(\u001b[49m\u001b[43mfile_obj\u001b[49m\u001b[38;5;241;43m=\u001b[39;49m\u001b[43mfile_obj\u001b[49m\u001b[43m,\u001b[49m\u001b[43m \u001b[49m\u001b[43mfile_type\u001b[49m\u001b[38;5;241;43m=\u001b[39;49m\u001b[43mfile_type\u001b[49m\u001b[43m,\u001b[49m\u001b[43m \u001b[49m\u001b[43mresolver\u001b[49m\u001b[38;5;241;43m=\u001b[39;49m\u001b[43mresolver\u001b[49m\u001b[43m)\u001b[49m\n\u001b[1;32m    116\u001b[0m \u001b[38;5;28;01mtry\u001b[39;00m:\n\u001b[1;32m    117\u001b[0m     \u001b[38;5;28;01mif\u001b[39;00m \u001b[38;5;28misinstance\u001b[39m(file_obj, \u001b[38;5;28mdict\u001b[39m):\n\u001b[1;32m    118\u001b[0m         \u001b[38;5;66;03m# if we've been passed a dict treat it as kwargs\u001b[39;00m\n",
      "File \u001b[0;32m~/topology/lib/python3.12/site-packages/trimesh/exchange/load.py:612\u001b[0m, in \u001b[0;36m_parse_file_args\u001b[0;34m(file_obj, file_type, resolver, **kwargs)\u001b[0m\n\u001b[1;32m    610\u001b[0m             \u001b[38;5;28;01mraise\u001b[39;00m \u001b[38;5;167;01mValueError\u001b[39;00m(\u001b[38;5;124mf\u001b[39m\u001b[38;5;124m\"\u001b[39m\u001b[38;5;124muse load_remote to load URL: \u001b[39m\u001b[38;5;132;01m{\u001b[39;00mfile_obj\u001b[38;5;132;01m}\u001b[39;00m\u001b[38;5;124m\"\u001b[39m)\n\u001b[1;32m    611\u001b[0m         \u001b[38;5;28;01melif\u001b[39;00m file_type \u001b[38;5;129;01mis\u001b[39;00m \u001b[38;5;28;01mNone\u001b[39;00m:\n\u001b[0;32m--> 612\u001b[0m             \u001b[38;5;28;01mraise\u001b[39;00m \u001b[38;5;167;01mValueError\u001b[39;00m(\u001b[38;5;124mf\u001b[39m\u001b[38;5;124m\"\u001b[39m\u001b[38;5;124mstring is not a file: \u001b[39m\u001b[38;5;132;01m{\u001b[39;00mfile_obj\u001b[38;5;132;01m}\u001b[39;00m\u001b[38;5;124m\"\u001b[39m)\n\u001b[1;32m    614\u001b[0m \u001b[38;5;28;01mif\u001b[39;00m file_type \u001b[38;5;129;01mis\u001b[39;00m \u001b[38;5;28;01mNone\u001b[39;00m:\n\u001b[1;32m    615\u001b[0m     file_type \u001b[38;5;241m=\u001b[39m file_obj\u001b[38;5;241m.\u001b[39m\u001b[38;5;18m__class__\u001b[39m\u001b[38;5;241m.\u001b[39m\u001b[38;5;18m__name__\u001b[39m\n",
      "\u001b[0;31mValueError\u001b[0m: string is not a file: triangulated_torus.obj"
     ]
    }
   ],
   "source": [
    "import trimesh\n",
    "\n",
    "# Load the .obj file\n",
    "mesh = trimesh.load('triangulated_torus.obj')\n",
    "\n",
    "# Print basic information about the mesh\n",
    "print(mesh)\n",
    "print(mesh.vertex_normals)\n",
    "print(mesh.edges_unique)\n",
    "print(mesh.vertices)\n",
    "print(mesh.faces)\n",
    "# Visualize the mesh (if you have trimesh.viewer installed)\n",
    "mesh.show()"
   ]
  },
  {
   "cell_type": "code",
   "execution_count": 2,
   "id": "c0ba0e0e-a1d7-4187-b5cb-7342564e7194",
   "metadata": {},
   "outputs": [
    {
     "ename": "FileNotFoundError",
     "evalue": "File (/home/kiyoshi/anu_rsop/jupyter_notebooks/3D-persistence/tests/triangulated_torus.obj) not found",
     "output_type": "error",
     "traceback": [
      "\u001b[0;31m---------------------------------------------------------------------------\u001b[0m",
      "\u001b[0;31mFileNotFoundError\u001b[0m                         Traceback (most recent call last)",
      "Cell \u001b[0;32mIn[2], line 4\u001b[0m\n\u001b[1;32m      1\u001b[0m \u001b[38;5;28;01mimport\u001b[39;00m \u001b[38;5;21;01mpyvista\u001b[39;00m \u001b[38;5;28;01mas\u001b[39;00m \u001b[38;5;21;01mpv\u001b[39;00m\n\u001b[1;32m      3\u001b[0m \u001b[38;5;66;03m# Load the .obj file\u001b[39;00m\n\u001b[0;32m----> 4\u001b[0m mesh \u001b[38;5;241m=\u001b[39m \u001b[43mpv\u001b[49m\u001b[38;5;241;43m.\u001b[39;49m\u001b[43mread\u001b[49m\u001b[43m(\u001b[49m\u001b[38;5;124;43m'\u001b[39;49m\u001b[38;5;124;43mtriangulated_torus.obj\u001b[39;49m\u001b[38;5;124;43m'\u001b[39;49m\u001b[43m)\u001b[49m\n\u001b[1;32m      6\u001b[0m \u001b[38;5;66;03m# Plot the mesh\u001b[39;00m\n\u001b[1;32m      7\u001b[0m mesh\u001b[38;5;241m.\u001b[39mplot()\n",
      "File \u001b[0;32m~/topology/lib/python3.12/site-packages/pyvista/core/utilities/fileio.py:175\u001b[0m, in \u001b[0;36mread\u001b[0;34m(filename, force_ext, file_format, progress_bar)\u001b[0m\n\u001b[1;32m    173\u001b[0m filename \u001b[38;5;241m=\u001b[39m Path(filename)\u001b[38;5;241m.\u001b[39mexpanduser()\u001b[38;5;241m.\u001b[39mresolve()\n\u001b[1;32m    174\u001b[0m \u001b[38;5;28;01mif\u001b[39;00m \u001b[38;5;129;01mnot\u001b[39;00m filename\u001b[38;5;241m.\u001b[39mis_file() \u001b[38;5;129;01mand\u001b[39;00m \u001b[38;5;129;01mnot\u001b[39;00m filename\u001b[38;5;241m.\u001b[39mis_dir():\n\u001b[0;32m--> 175\u001b[0m     \u001b[38;5;28;01mraise\u001b[39;00m \u001b[38;5;167;01mFileNotFoundError\u001b[39;00m(\u001b[38;5;124mf\u001b[39m\u001b[38;5;124m'\u001b[39m\u001b[38;5;124mFile (\u001b[39m\u001b[38;5;132;01m{\u001b[39;00mfilename\u001b[38;5;132;01m}\u001b[39;00m\u001b[38;5;124m) not found\u001b[39m\u001b[38;5;124m'\u001b[39m)\n\u001b[1;32m    177\u001b[0m \u001b[38;5;66;03m# Read file using meshio.read if file_format is present\u001b[39;00m\n\u001b[1;32m    178\u001b[0m \u001b[38;5;28;01mif\u001b[39;00m file_format:\n",
      "\u001b[0;31mFileNotFoundError\u001b[0m: File (/home/kiyoshi/anu_rsop/jupyter_notebooks/3D-persistence/tests/triangulated_torus.obj) not found"
     ]
    }
   ],
   "source": [
    "import pyvista as pv\n",
    "\n",
    "# Load the .obj file\n",
    "mesh = pv.read('triangulated_torus.obj')\n",
    "\n",
    "# Plot the mesh\n",
    "mesh.plot()"
   ]
  }
 ],
 "metadata": {
  "kernelspec": {
   "display_name": "Python 3 (ipykernel)",
   "language": "python",
   "name": "python3"
  },
  "language_info": {
   "codemirror_mode": {
    "name": "ipython",
    "version": 3
   },
   "file_extension": ".py",
   "mimetype": "text/x-python",
   "name": "python",
   "nbconvert_exporter": "python",
   "pygments_lexer": "ipython3",
   "version": "3.12.3"
  }
 },
 "nbformat": 4,
 "nbformat_minor": 5
}
