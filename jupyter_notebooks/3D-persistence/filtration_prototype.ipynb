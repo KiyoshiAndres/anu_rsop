{
 "cells": [
  {
   "cell_type": "markdown",
   "id": "ab87eb56-8fd8-467b-8338-db3ab6717f7a",
   "metadata": {},
   "source": [
    "### Prototype for filtration"
   ]
  },
  {
   "cell_type": "code",
   "execution_count": 2,
   "id": "9970883e-7f2e-43e1-bad8-57ab093e2811",
   "metadata": {},
   "outputs": [],
   "source": [
    "import copy"
   ]
  },
  {
   "cell_type": "code",
   "execution_count": 3,
   "id": "1b7ca860-045d-4422-8b0c-15eedfa710e7",
   "metadata": {},
   "outputs": [
    {
     "name": "stdout",
     "output_type": "stream",
     "text": [
      "[[[0, 0, 0, 0, 0, 0, 0, 0, 0, 0], [0, 0, 0, 0, 0]], [[0, 0, 0, 0, 0, 0, 0, 0, 0, 0, 1, 1, 1, 1, 1, 1, 1, 1, 1, 1], [0, 0, 0, 0, 0, 1, 1, 1, 1, 1, 1, 1, 1, 1, 1, 1, 1, 1, 1, 1, 1, 1, 1, 1, 1]], [[0, 0, 0, 0, 0, 0, 0, 0, 0, 0, 1, 1, 1, 1, 1, 1, 1, 1, 1, 1, 2, 2, 2, 2, 2, 2, 2, 2, 2, 2], [0, 0, 0, 0, 0, 1, 1, 1, 1, 1, 1, 1, 1, 1, 1, 1, 1, 1, 1, 1, 1, 1, 1, 1, 1, 2, 2, 2, 2, 2, 2, 2, 2, 2, 2]]]\n"
     ]
    }
   ],
   "source": [
    "my_list = [0] * 10 + [1] * 10 + [2] * 10\n",
    "my_list2 = [0] * 5 + [1] * 20 + [2] * 10\n",
    "\n",
    "def create_filtration(my_list ,my_list2):\n",
    "    filtration = []\n",
    "    previous_height=my_list[0]\n",
    "    ver_set = []\n",
    "    face_set = []\n",
    "    for vertex in my_list:\n",
    "        if vertex <= previous_height:\n",
    "            ver_set.append(vertex)\n",
    "        else:\n",
    "            for face in copy.deepcopy(my_list2):\n",
    "                if face <= previous_height:\n",
    "                    face_set.append(face)\n",
    "                    my_list2.remove(face)\n",
    "                else:\n",
    "                    break\n",
    "            filtration.append([copy.deepcopy(ver_set), copy.deepcopy(face_set)])\n",
    "            ver_set.append(vertex)\n",
    "            previous_height=vertex\n",
    "            \n",
    "    for face in copy.deepcopy(my_list2):\n",
    "        if face <= previous_height:\n",
    "            face_set.append(face)\n",
    "            my_list2.remove(face)\n",
    "        else:\n",
    "            break\n",
    "    filtration.append([ver_set, face_set])        \n",
    "    return filtration\n",
    "filtration=create_filtration(my_list, my_list2)\n",
    "print(filtration)"
   ]
  },
  {
   "cell_type": "code",
   "execution_count": null,
   "id": "7bf00b85-ba02-42a7-8a46-274e89122d6e",
   "metadata": {},
   "outputs": [],
   "source": [
    "my_list = [0] * 10 + [1] * 10 + [2] * 10\n",
    "my_list2 = [0] * 5 + [1] * 20 + [2] * 10"
   ]
  },
  {
   "cell_type": "code",
   "execution_count": null,
   "id": "fcd02229-ea9d-43fb-a465-41aeb2936ca0",
   "metadata": {},
   "outputs": [],
   "source": [
    "def create_filtration(my_list ,my_list2):\n",
    "    filtration = []\n",
    "    previous_height=my_list[0]\n",
    "    ver_set = []\n",
    "    face_set = []\n",
    "    v=0\n",
    "    f=0\n",
    "    for vertex in my_list:\n",
    "        if vertex <= previous_height:\n",
    "            v+=1\n",
    "        else:\n",
    "            for face in copy.deepcopy(my_list2):\n",
    "                if face <= previous_height:\n",
    "                    face_set.append(face)\n",
    "                    my_list2.remove(face)\n",
    "                else:\n",
    "                    break\n",
    "            filtration.append([v, f])\n",
    "            v+=1\n",
    "            previous_height=vertex\n",
    "            \n",
    "    for face in copy.deepcopy(my_list2):\n",
    "        if face <= previous_height:\n",
    "            face_set.append(face)\n",
    "            my_list2.remove(face)\n",
    "        else:\n",
    "            break\n",
    "    filtration.append([v, f])        \n",
    "    return filtration\n",
    "filtration=create_filtration(my_list, my_list2)\n",
    "print(filtration)"
   ]
  },
  {
   "cell_type": "markdown",
   "id": "33bf0697-e316-4c15-92ba-b83e5979d512",
   "metadata": {},
   "source": [
    "### Script to obtain a filtration of an ordered list"
   ]
  },
  {
   "cell_type": "code",
   "execution_count": 56,
   "id": "5648c565-7410-4842-b5d7-545915989181",
   "metadata": {},
   "outputs": [
    {
     "name": "stdout",
     "output_type": "stream",
     "text": [
      "[[2, 4], [4, 4], [7, 9], [9, 14]]\n"
     ]
    }
   ],
   "source": [
    "ordered_list = [1, 1, 2, 2, 3, 3, 3, 4, 4]\n",
    "ordered_list_2 = [1,1,1,1,3,3,3,3,3,4,4,4,4,4]\n",
    "changes = []\n",
    "\n",
    "previous_value = ordered_list[0]\n",
    "m = 0\n",
    "for i in range(1, len(ordered_list)):\n",
    "    for j in range(m, len(ordered_list_2)):\n",
    "        if ordered_list_2[j] <= previous_value:\n",
    "            j += 1\n",
    "            m = j\n",
    "        else:\n",
    "            break\n",
    "    if ordered_list[i] != previous_value:\n",
    "        changes.append([i, j])\n",
    "        previous_value = ordered_list[i]\n",
    "    \n",
    "changes.append([len(ordered_list), j])\n",
    "print(changes)"
   ]
  },
  {
   "cell_type": "code",
   "execution_count": 48,
   "id": "c7e88818-b2b6-405f-bd17-95ba5824b58b",
   "metadata": {},
   "outputs": [],
   "source": [
    "def nth_complex(vertices, faces, n):\n",
    "    return [vertices[:n[0]], faces[:n[1]]]"
   ]
  },
  {
   "cell_type": "code",
   "execution_count": 49,
   "id": "965ab46b-c0ee-4dbe-bdcb-9dab97728ee9",
   "metadata": {},
   "outputs": [
    {
     "name": "stdout",
     "output_type": "stream",
     "text": [
      "[7, 6]\n"
     ]
    }
   ],
   "source": [
    "print(changes[2])"
   ]
  },
  {
   "cell_type": "code",
   "execution_count": 51,
   "id": "4ba0e121-f109-49ae-8435-b56b514a6afc",
   "metadata": {},
   "outputs": [
    {
     "data": {
      "text/plain": [
       "[[1, 1], [2]]"
      ]
     },
     "execution_count": 51,
     "metadata": {},
     "output_type": "execute_result"
    }
   ],
   "source": [
    "nth_complex(ordered_list, ordered_list_2, changes[0])"
   ]
  },
  {
   "cell_type": "markdown",
   "id": "7596b52d-cc39-42f2-a59b-95c945c7d084",
   "metadata": {},
   "source": [
    "### Script to match indices with the values of a given Key."
   ]
  },
  {
   "cell_type": "code",
   "execution_count": 58,
   "id": "f0aca4df-b8ab-4cd7-a7f1-377c4a5f0dae",
   "metadata": {},
   "outputs": [
    {
     "name": "stdout",
     "output_type": "stream",
     "text": [
      "{0: 2, 1: 1, 2: 0}\n"
     ]
    }
   ],
   "source": [
    "list_of_dicts = [\n",
    "    {'location': 2, 'name': 'A'},\n",
    "    {'location': 1, 'name': 'B'},\n",
    "    {'location': 0, 'name': 'C'}\n",
    "]\n",
    "\n",
    "location_dict = {index: d['location'] for index, d in enumerate(list_of_dicts)}\n",
    "\n",
    "print(location_dict)"
   ]
  }
 ],
 "metadata": {
  "kernelspec": {
   "display_name": "Python 3 (ipykernel)",
   "language": "python",
   "name": "python3"
  },
  "language_info": {
   "codemirror_mode": {
    "name": "ipython",
    "version": 3
   },
   "file_extension": ".py",
   "mimetype": "text/x-python",
   "name": "python",
   "nbconvert_exporter": "python",
   "pygments_lexer": "ipython3",
   "version": "3.12.3"
  }
 },
 "nbformat": 4,
 "nbformat_minor": 5
}
