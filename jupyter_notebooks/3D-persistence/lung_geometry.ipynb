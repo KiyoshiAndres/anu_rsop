{
 "cells": [
  {
   "cell_type": "code",
   "execution_count": 15,
   "id": "1dfca37f-1570-4566-920c-dc5491edec39",
   "metadata": {},
   "outputs": [],
   "source": [
    "import nrrd\n",
    "import numpy as np\n",
    "import pandas as pd"
   ]
  },
  {
   "cell_type": "code",
   "execution_count": 10,
   "id": "2d95b079-1ae4-443d-a02d-55ea1723acbb",
   "metadata": {},
   "outputs": [],
   "source": [
    "folder_path = '../segmentations/'"
   ]
  },
  {
   "cell_type": "code",
   "execution_count": 6,
   "id": "c72ff363-af5d-41a2-abd5-80f7b624dfaa",
   "metadata": {},
   "outputs": [],
   "source": [
    "file_name = 'Lung segmentation-10.seg.nrrd'"
   ]
  },
  {
   "cell_type": "code",
   "execution_count": 12,
   "id": "2ef5be4f-69ec-4726-aa2b-efd145bcc9eb",
   "metadata": {},
   "outputs": [],
   "source": [
    "data, header = nrrd.read( folder_path + file_name )"
   ]
  },
  {
   "cell_type": "code",
   "execution_count": 41,
   "id": "234d1209-e75b-40a0-8560-2de7190cd742",
   "metadata": {},
   "outputs": [],
   "source": [
    "right_lung = data[0]\n",
    "left_lung = data[1]"
   ]
  },
  {
   "cell_type": "code",
   "execution_count": 42,
   "id": "ac9bbbbf-a6a0-4642-a442-76ddaab513c2",
   "metadata": {},
   "outputs": [],
   "source": [
    "right_lung_layer = data[0]\n",
    "right_lung_mask = right_lung_layer == label_val"
   ]
  },
  {
   "cell_type": "code",
   "execution_count": 43,
   "id": "8d0755b9-c440-453d-a179-078afcdc640f",
   "metadata": {},
   "outputs": [
    {
     "name": "stdout",
     "output_type": "stream",
     "text": [
      "[0 1 2]\n",
      "[False  True]\n"
     ]
    }
   ],
   "source": [
    "print(np.unique(right_lung_layer))      # shows all label values present\n",
    "print(np.unique(right_lung_mask))       # should now be [False, True]"
   ]
  },
  {
   "cell_type": "code",
   "execution_count": 44,
   "id": "af984d7a-8994-48b5-9296-d2f64af03b1d",
   "metadata": {},
   "outputs": [],
   "source": [
    "masks = {}\n",
    "for i in range(data.shape[0]):\n",
    "    seg_id = header.get(f\"Segment{i}_ID\")\n",
    "    label_val = int(header.get(f\"Segment{i}_LabelValue\"))\n",
    "    mask = data[i] == label_val\n",
    "    masks[seg_id] = mask"
   ]
  },
  {
   "cell_type": "code",
   "execution_count": 50,
   "id": "b9dbb0c0-fce3-4001-a736-fed439992aff",
   "metadata": {},
   "outputs": [
    {
     "name": "stdout",
     "output_type": "stream",
     "text": [
      "{'right lung': array([[[False, False, False, ..., False, False, False],\n",
      "        [False, False, False, ..., False, False, False],\n",
      "        [False, False, False, ..., False, False, False],\n",
      "        ...,\n",
      "        [False, False, False, ..., False, False, False],\n",
      "        [False, False, False, ..., False, False, False],\n",
      "        [False, False, False, ..., False, False, False]],\n",
      "\n",
      "       [[False, False, False, ..., False, False, False],\n",
      "        [False, False, False, ..., False, False, False],\n",
      "        [False, False, False, ..., False, False, False],\n",
      "        ...,\n",
      "        [False, False, False, ..., False, False, False],\n",
      "        [False, False, False, ..., False, False, False],\n",
      "        [False, False, False, ..., False, False, False]],\n",
      "\n",
      "       [[False, False, False, ..., False, False, False],\n",
      "        [False, False, False, ..., False, False, False],\n",
      "        [False, False, False, ..., False, False, False],\n",
      "        ...,\n",
      "        [False, False, False, ..., False, False, False],\n",
      "        [False, False, False, ..., False, False, False],\n",
      "        [False, False, False, ..., False, False, False]],\n",
      "\n",
      "       ...,\n",
      "\n",
      "       [[False, False, False, ..., False, False, False],\n",
      "        [False, False, False, ..., False, False, False],\n",
      "        [False, False, False, ..., False, False, False],\n",
      "        ...,\n",
      "        [False, False, False, ..., False, False, False],\n",
      "        [False, False, False, ..., False, False, False],\n",
      "        [False, False, False, ..., False, False, False]],\n",
      "\n",
      "       [[False, False, False, ..., False, False, False],\n",
      "        [False, False, False, ..., False, False, False],\n",
      "        [False, False, False, ..., False, False, False],\n",
      "        ...,\n",
      "        [False, False, False, ..., False, False, False],\n",
      "        [False, False, False, ..., False, False, False],\n",
      "        [False, False, False, ..., False, False, False]],\n",
      "\n",
      "       [[False, False, False, ..., False, False, False],\n",
      "        [False, False, False, ..., False, False, False],\n",
      "        [False, False, False, ..., False, False, False],\n",
      "        ...,\n",
      "        [False, False, False, ..., False, False, False],\n",
      "        [False, False, False, ..., False, False, False],\n",
      "        [False, False, False, ..., False, False, False]]]), 'left lung': array([[[False, False, False, ..., False, False, False],\n",
      "        [False, False, False, ..., False, False, False],\n",
      "        [False, False, False, ..., False, False, False],\n",
      "        ...,\n",
      "        [False, False, False, ..., False, False, False],\n",
      "        [False, False, False, ..., False, False, False],\n",
      "        [False, False, False, ..., False, False, False]],\n",
      "\n",
      "       [[False, False, False, ..., False, False, False],\n",
      "        [False, False, False, ..., False, False, False],\n",
      "        [False, False, False, ..., False, False, False],\n",
      "        ...,\n",
      "        [False, False, False, ..., False, False, False],\n",
      "        [False, False, False, ..., False, False, False],\n",
      "        [False, False, False, ..., False, False, False]],\n",
      "\n",
      "       [[False, False, False, ..., False, False, False],\n",
      "        [False, False, False, ..., False, False, False],\n",
      "        [False, False, False, ..., False, False, False],\n",
      "        ...,\n",
      "        [False, False, False, ..., False, False, False],\n",
      "        [False, False, False, ..., False, False, False],\n",
      "        [False, False, False, ..., False, False, False]],\n",
      "\n",
      "       ...,\n",
      "\n",
      "       [[False, False, False, ..., False, False, False],\n",
      "        [False, False, False, ..., False, False, False],\n",
      "        [False, False, False, ..., False, False, False],\n",
      "        ...,\n",
      "        [False, False, False, ..., False, False, False],\n",
      "        [False, False, False, ..., False, False, False],\n",
      "        [False, False, False, ..., False, False, False]],\n",
      "\n",
      "       [[False, False, False, ..., False, False, False],\n",
      "        [False, False, False, ..., False, False, False],\n",
      "        [False, False, False, ..., False, False, False],\n",
      "        ...,\n",
      "        [False, False, False, ..., False, False, False],\n",
      "        [False, False, False, ..., False, False, False],\n",
      "        [False, False, False, ..., False, False, False]],\n",
      "\n",
      "       [[False, False, False, ..., False, False, False],\n",
      "        [False, False, False, ..., False, False, False],\n",
      "        [False, False, False, ..., False, False, False],\n",
      "        ...,\n",
      "        [False, False, False, ..., False, False, False],\n",
      "        [False, False, False, ..., False, False, False],\n",
      "        [False, False, False, ..., False, False, False]]]), 'thoracic cavity': array([[[False, False, False, ..., False, False, False],\n",
      "        [False, False, False, ..., False, False, False],\n",
      "        [False, False, False, ..., False, False, False],\n",
      "        ...,\n",
      "        [False, False, False, ..., False, False, False],\n",
      "        [False, False, False, ..., False, False, False],\n",
      "        [False, False, False, ..., False, False, False]],\n",
      "\n",
      "       [[False, False, False, ..., False, False, False],\n",
      "        [False, False, False, ..., False, False, False],\n",
      "        [False, False, False, ..., False, False, False],\n",
      "        ...,\n",
      "        [False, False, False, ..., False, False, False],\n",
      "        [False, False, False, ..., False, False, False],\n",
      "        [False, False, False, ..., False, False, False]],\n",
      "\n",
      "       [[False, False, False, ..., False, False, False],\n",
      "        [False, False, False, ..., False, False, False],\n",
      "        [False, False, False, ..., False, False, False],\n",
      "        ...,\n",
      "        [False, False, False, ..., False, False, False],\n",
      "        [False, False, False, ..., False, False, False],\n",
      "        [False, False, False, ..., False, False, False]],\n",
      "\n",
      "       ...,\n",
      "\n",
      "       [[False, False, False, ..., False, False, False],\n",
      "        [False, False, False, ..., False, False, False],\n",
      "        [False, False, False, ..., False, False, False],\n",
      "        ...,\n",
      "        [False, False, False, ..., False, False, False],\n",
      "        [False, False, False, ..., False, False, False],\n",
      "        [False, False, False, ..., False, False, False]],\n",
      "\n",
      "       [[False, False, False, ..., False, False, False],\n",
      "        [False, False, False, ..., False, False, False],\n",
      "        [False, False, False, ..., False, False, False],\n",
      "        ...,\n",
      "        [False, False, False, ..., False, False, False],\n",
      "        [False, False, False, ..., False, False, False],\n",
      "        [False, False, False, ..., False, False, False]],\n",
      "\n",
      "       [[False, False, False, ..., False, False, False],\n",
      "        [False, False, False, ..., False, False, False],\n",
      "        [False, False, False, ..., False, False, False],\n",
      "        ...,\n",
      "        [False, False, False, ..., False, False, False],\n",
      "        [False, False, False, ..., False, False, False],\n",
      "        [False, False, False, ..., False, False, False]]]), 'lungs': array([[[False, False, False, ..., False, False, False],\n",
      "        [False, False, False, ..., False, False, False],\n",
      "        [False, False, False, ..., False, False, False],\n",
      "        ...,\n",
      "        [False, False, False, ..., False, False, False],\n",
      "        [False, False, False, ..., False, False, False],\n",
      "        [False, False, False, ..., False, False, False]],\n",
      "\n",
      "       [[False, False, False, ..., False, False, False],\n",
      "        [False, False, False, ..., False, False, False],\n",
      "        [False, False, False, ..., False, False, False],\n",
      "        ...,\n",
      "        [False, False, False, ..., False, False, False],\n",
      "        [False, False, False, ..., False, False, False],\n",
      "        [False, False, False, ..., False, False, False]],\n",
      "\n",
      "       [[False, False, False, ..., False, False, False],\n",
      "        [False, False, False, ..., False, False, False],\n",
      "        [False, False, False, ..., False, False, False],\n",
      "        ...,\n",
      "        [False, False, False, ..., False, False, False],\n",
      "        [False, False, False, ..., False, False, False],\n",
      "        [False, False, False, ..., False, False, False]],\n",
      "\n",
      "       ...,\n",
      "\n",
      "       [[False, False, False, ..., False, False, False],\n",
      "        [False, False, False, ..., False, False, False],\n",
      "        [False, False, False, ..., False, False, False],\n",
      "        ...,\n",
      "        [False, False, False, ..., False, False, False],\n",
      "        [False, False, False, ..., False, False, False],\n",
      "        [False, False, False, ..., False, False, False]],\n",
      "\n",
      "       [[False, False, False, ..., False, False, False],\n",
      "        [False, False, False, ..., False, False, False],\n",
      "        [False, False, False, ..., False, False, False],\n",
      "        ...,\n",
      "        [False, False, False, ..., False, False, False],\n",
      "        [False, False, False, ..., False, False, False],\n",
      "        [False, False, False, ..., False, False, False]],\n",
      "\n",
      "       [[False, False, False, ..., False, False, False],\n",
      "        [False, False, False, ..., False, False, False],\n",
      "        [False, False, False, ..., False, False, False],\n",
      "        ...,\n",
      "        [False, False, False, ..., False, False, False],\n",
      "        [False, False, False, ..., False, False, False],\n",
      "        [False, False, False, ..., False, False, False]]])}\n"
     ]
    }
   ],
   "source": [
    "print(masks)"
   ]
  },
  {
   "cell_type": "markdown",
   "id": "00d28135-88ef-4226-902a-424d4e50cac8",
   "metadata": {},
   "source": [
    "### Marching Cubes"
   ]
  },
  {
   "cell_type": "code",
   "execution_count": 46,
   "id": "95e8b7d2-c181-40da-811b-28e0662da80b",
   "metadata": {},
   "outputs": [],
   "source": [
    "from skimage import measure\n",
    "import pyvista as pv"
   ]
  },
  {
   "cell_type": "code",
   "execution_count": 95,
   "id": "44a6e1f6-b0de-4abf-a106-1eaed56895f0",
   "metadata": {},
   "outputs": [],
   "source": [
    "# Volume data\n",
    "volume_data = masks['lungs']\n",
    "\n",
    "# Isosurface value\n",
    "iso_value = 0.05\n",
    "\n",
    "# Extract the isosurface\n",
    "vertices, faces, normals, values = measure.marching_cubes(volume_data, iso_value)"
   ]
  },
  {
   "cell_type": "code",
   "execution_count": 91,
   "id": "1cad8f60-4131-4547-9cce-327857284622",
   "metadata": {},
   "outputs": [
    {
     "name": "stdout",
     "output_type": "stream",
     "text": [
      "[[     2      1      0]\n",
      " [     4      3      0]\n",
      " [     0      3      2]\n",
      " ...\n",
      " [329242 329408 329245]\n",
      " [329245 329408 329409]\n",
      " [329245 329409 329238]]\n"
     ]
    }
   ],
   "source": [
    "print(faces)"
   ]
  },
  {
   "cell_type": "code",
   "execution_count": 92,
   "id": "6cb848e2-1ed0-450a-b5b4-703f876be539",
   "metadata": {},
   "outputs": [],
   "source": [
    "def faces_to_edges(faces):\n",
    "    edges = []\n",
    "    for face in faces:\n",
    "        edges.append(sorted([face[0],face[1]]))\n",
    "        edges.append(sorted([face[1],face[2]]))\n",
    "        edges.append(sorted([face[2],face[0]]))\n",
    "    seen = set()\n",
    "    unique_pairs = []\n",
    "    \n",
    "    for pair in edges:\n",
    "        tup = tuple(pair)  # convert to tuple so it’s hashable\n",
    "        if tup not in seen:\n",
    "            seen.add(tup)\n",
    "            unique_pairs.append(pair)\n",
    "    return unique_pairs"
   ]
  },
  {
   "cell_type": "code",
   "execution_count": 96,
   "id": "e7668191-c803-4f39-942a-3de5f508ef84",
   "metadata": {},
   "outputs": [],
   "source": [
    "edges = faces_to_edges(faces)"
   ]
  },
  {
   "cell_type": "code",
   "execution_count": 88,
   "id": "a7fdee19-d4ba-4b02-8465-2ba06e8136d3",
   "metadata": {},
   "outputs": [
    {
     "name": "stderr",
     "output_type": "stream",
     "text": [
      "IOPub data rate exceeded.\n",
      "The Jupyter server will temporarily stop sending output\n",
      "to the client in order to avoid crashing it.\n",
      "To change this limit, set the config variable\n",
      "`--ServerApp.iopub_data_rate_limit`.\n",
      "\n",
      "Current values:\n",
      "ServerApp.iopub_data_rate_limit=1000000.0 (bytes/sec)\n",
      "ServerApp.rate_limit_window=3.0 (secs)\n",
      "\n"
     ]
    }
   ],
   "source": [
    "print(edges)"
   ]
  },
  {
   "cell_type": "code",
   "execution_count": 97,
   "id": "81a5a10d-3332-41c5-aa48-db9e1360d7ec",
   "metadata": {},
   "outputs": [
    {
     "data": {
      "application/vnd.jupyter.widget-view+json": {
       "model_id": "796a9943ee934c85bb354bdf323fb464",
       "version_major": 2,
       "version_minor": 0
      },
      "text/plain": [
       "Widget(value='<iframe src=\"http://localhost:41431/index.html?ui=P_0x76d69cff1460_6&reconnect=auto\" class=\"pyvi…"
      ]
     },
     "metadata": {},
     "output_type": "display_data"
    }
   ],
   "source": [
    "# Adjust faces array for PyVista\n",
    "faces_pv = np.column_stack([np.full(len(faces), 3), faces])\n",
    "\n",
    "# Create a PyVista mesh\n",
    "mesh = pv.PolyData(vertices, faces_pv)\n",
    "\n",
    "# Visualize the mesh\n",
    "mesh.plot()"
   ]
  },
  {
   "cell_type": "code",
   "execution_count": 59,
   "id": "11dd0a19-282a-49c8-b74c-cc8c1d7eb3cd",
   "metadata": {},
   "outputs": [],
   "source": [
    "edges = mesh.extract_all_edges()\n",
    "lines = edges.lines.reshape((-1, 3))"
   ]
  },
  {
   "cell_type": "code",
   "execution_count": 63,
   "id": "ca0378c8-e5f6-4f94-b553-13edfa667c8e",
   "metadata": {},
   "outputs": [],
   "source": [
    "export\n",
    "for edge in lines:\n",
    "    if edge[0] != 2:\n",
    "        print('not 2')"
   ]
  },
  {
   "cell_type": "code",
   "execution_count": 60,
   "id": "a3c1737e-001e-49b3-b587-952726244d1a",
   "metadata": {},
   "outputs": [
    {
     "name": "stdout",
     "output_type": "stream",
     "text": [
      "[[    2     0     1]\n",
      " [    2     1     2]\n",
      " [    2     2     0]\n",
      " ...\n",
      " [    2 25858 25865]\n",
      " [    2 25861 25865]\n",
      " [    2 25865 25863]]\n"
     ]
    }
   ],
   "source": [
    "print(lines)"
   ]
  },
  {
   "cell_type": "code",
   "execution_count": 56,
   "id": "807b65eb-1070-4ab5-a1be-959ee43b0cf5",
   "metadata": {},
   "outputs": [
    {
     "name": "stdout",
     "output_type": "stream",
     "text": [
      "[[169.05 271.   141.  ]\n",
      " [170.   271.   140.05]\n",
      " [170.   270.05 141.  ]\n",
      " ...\n",
      " [323.   287.95 114.  ]\n",
      " [322.95 311.   109.  ]\n",
      " [323.95 287.   114.  ]]\n"
     ]
    }
   ],
   "source": [
    "print(vertices)"
   ]
  },
  {
   "cell_type": "code",
   "execution_count": null,
   "id": "7e74f65b-ce23-4d62-90cd-41ca38c6a3fe",
   "metadata": {},
   "outputs": [],
   "source": []
  }
 ],
 "metadata": {
  "kernelspec": {
   "display_name": "Python 3 (ipykernel)",
   "language": "python",
   "name": "python3"
  },
  "language_info": {
   "codemirror_mode": {
    "name": "ipython",
    "version": 3
   },
   "file_extension": ".py",
   "mimetype": "text/x-python",
   "name": "python",
   "nbconvert_exporter": "python",
   "pygments_lexer": "ipython3",
   "version": "3.12.3"
  }
 },
 "nbformat": 4,
 "nbformat_minor": 5
}
