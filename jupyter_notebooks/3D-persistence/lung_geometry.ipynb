{
 "cells": [
  {
   "cell_type": "code",
   "execution_count": 1,
   "id": "1dfca37f-1570-4566-920c-dc5491edec39",
   "metadata": {},
   "outputs": [],
   "source": [
    "import nrrd\n",
    "import numpy as np\n",
    "import pandas as pd"
   ]
  },
  {
   "cell_type": "code",
   "execution_count": 2,
   "id": "2d95b079-1ae4-443d-a02d-55ea1723acbb",
   "metadata": {},
   "outputs": [],
   "source": [
    "folder_path = '../segmentations/'"
   ]
  },
  {
   "cell_type": "code",
   "execution_count": 3,
   "id": "c72ff363-af5d-41a2-abd5-80f7b624dfaa",
   "metadata": {},
   "outputs": [],
   "source": [
    "file_name = 'Lung segmentation-AI-10.seg.nrrd'"
   ]
  },
  {
   "cell_type": "code",
   "execution_count": 4,
   "id": "2ef5be4f-69ec-4726-aa2b-efd145bcc9eb",
   "metadata": {},
   "outputs": [],
   "source": [
    "data, header = nrrd.read( folder_path + file_name )"
   ]
  },
  {
   "cell_type": "code",
   "execution_count": 5,
   "id": "234d1209-e75b-40a0-8560-2de7190cd742",
   "metadata": {},
   "outputs": [],
   "source": [
    "right_lung = data[0]\n",
    "left_lung = data[1]"
   ]
  },
  {
   "cell_type": "code",
   "execution_count": 6,
   "id": "af984d7a-8994-48b5-9296-d2f64af03b1d",
   "metadata": {},
   "outputs": [],
   "source": [
    "masks = {}\n",
    "for i in range(data.shape[0]):\n",
    "    seg_id = header.get(f\"Segment{i}_ID\")\n",
    "    label_val = int(header.get(f\"Segment{i}_LabelValue\"))\n",
    "    mask = data[i] == label_val\n",
    "    masks[seg_id] = mask"
   ]
  },
  {
   "cell_type": "code",
   "execution_count": 7,
   "id": "b9dbb0c0-fce3-4001-a736-fed439992aff",
   "metadata": {},
   "outputs": [
    {
     "name": "stdout",
     "output_type": "stream",
     "text": [
      "{'right lung': array([[[False, False, False, ..., False, False, False],\n",
      "        [False, False, False, ..., False, False, False],\n",
      "        [False, False, False, ..., False, False, False],\n",
      "        ...,\n",
      "        [False, False, False, ..., False, False, False],\n",
      "        [False, False, False, ..., False, False, False],\n",
      "        [False, False, False, ..., False, False, False]],\n",
      "\n",
      "       [[False, False, False, ..., False, False, False],\n",
      "        [False, False, False, ..., False, False, False],\n",
      "        [False, False, False, ..., False, False, False],\n",
      "        ...,\n",
      "        [False, False, False, ..., False, False, False],\n",
      "        [False, False, False, ..., False, False, False],\n",
      "        [False, False, False, ..., False, False, False]],\n",
      "\n",
      "       [[False, False, False, ..., False, False, False],\n",
      "        [False, False, False, ..., False, False, False],\n",
      "        [False, False, False, ..., False, False, False],\n",
      "        ...,\n",
      "        [False, False, False, ..., False, False, False],\n",
      "        [False, False, False, ..., False, False, False],\n",
      "        [False, False, False, ..., False, False, False]],\n",
      "\n",
      "       ...,\n",
      "\n",
      "       [[False, False, False, ..., False, False, False],\n",
      "        [False, False, False, ..., False, False, False],\n",
      "        [False, False, False, ..., False, False, False],\n",
      "        ...,\n",
      "        [False, False, False, ..., False, False, False],\n",
      "        [False, False, False, ..., False, False, False],\n",
      "        [False, False, False, ..., False, False, False]],\n",
      "\n",
      "       [[False, False, False, ..., False, False, False],\n",
      "        [False, False, False, ..., False, False, False],\n",
      "        [False, False, False, ..., False, False, False],\n",
      "        ...,\n",
      "        [False, False, False, ..., False, False, False],\n",
      "        [False, False, False, ..., False, False, False],\n",
      "        [False, False, False, ..., False, False, False]],\n",
      "\n",
      "       [[False, False, False, ..., False, False, False],\n",
      "        [False, False, False, ..., False, False, False],\n",
      "        [False, False, False, ..., False, False, False],\n",
      "        ...,\n",
      "        [False, False, False, ..., False, False, False],\n",
      "        [False, False, False, ..., False, False, False],\n",
      "        [False, False, False, ..., False, False, False]]]), 'left lung': array([[[False, False, False, ..., False, False, False],\n",
      "        [False, False, False, ..., False, False, False],\n",
      "        [False, False, False, ..., False, False, False],\n",
      "        ...,\n",
      "        [False, False, False, ..., False, False, False],\n",
      "        [False, False, False, ..., False, False, False],\n",
      "        [False, False, False, ..., False, False, False]],\n",
      "\n",
      "       [[False, False, False, ..., False, False, False],\n",
      "        [False, False, False, ..., False, False, False],\n",
      "        [False, False, False, ..., False, False, False],\n",
      "        ...,\n",
      "        [False, False, False, ..., False, False, False],\n",
      "        [False, False, False, ..., False, False, False],\n",
      "        [False, False, False, ..., False, False, False]],\n",
      "\n",
      "       [[False, False, False, ..., False, False, False],\n",
      "        [False, False, False, ..., False, False, False],\n",
      "        [False, False, False, ..., False, False, False],\n",
      "        ...,\n",
      "        [False, False, False, ..., False, False, False],\n",
      "        [False, False, False, ..., False, False, False],\n",
      "        [False, False, False, ..., False, False, False]],\n",
      "\n",
      "       ...,\n",
      "\n",
      "       [[False, False, False, ..., False, False, False],\n",
      "        [False, False, False, ..., False, False, False],\n",
      "        [False, False, False, ..., False, False, False],\n",
      "        ...,\n",
      "        [False, False, False, ..., False, False, False],\n",
      "        [False, False, False, ..., False, False, False],\n",
      "        [False, False, False, ..., False, False, False]],\n",
      "\n",
      "       [[False, False, False, ..., False, False, False],\n",
      "        [False, False, False, ..., False, False, False],\n",
      "        [False, False, False, ..., False, False, False],\n",
      "        ...,\n",
      "        [False, False, False, ..., False, False, False],\n",
      "        [False, False, False, ..., False, False, False],\n",
      "        [False, False, False, ..., False, False, False]],\n",
      "\n",
      "       [[False, False, False, ..., False, False, False],\n",
      "        [False, False, False, ..., False, False, False],\n",
      "        [False, False, False, ..., False, False, False],\n",
      "        ...,\n",
      "        [False, False, False, ..., False, False, False],\n",
      "        [False, False, False, ..., False, False, False],\n",
      "        [False, False, False, ..., False, False, False]]]), 'thoracic cavity': array([[[False, False, False, ..., False, False, False],\n",
      "        [False, False, False, ..., False, False, False],\n",
      "        [False, False, False, ..., False, False, False],\n",
      "        ...,\n",
      "        [False, False, False, ..., False, False, False],\n",
      "        [False, False, False, ..., False, False, False],\n",
      "        [False, False, False, ..., False, False, False]],\n",
      "\n",
      "       [[False, False, False, ..., False, False, False],\n",
      "        [False, False, False, ..., False, False, False],\n",
      "        [False, False, False, ..., False, False, False],\n",
      "        ...,\n",
      "        [False, False, False, ..., False, False, False],\n",
      "        [False, False, False, ..., False, False, False],\n",
      "        [False, False, False, ..., False, False, False]],\n",
      "\n",
      "       [[False, False, False, ..., False, False, False],\n",
      "        [False, False, False, ..., False, False, False],\n",
      "        [False, False, False, ..., False, False, False],\n",
      "        ...,\n",
      "        [False, False, False, ..., False, False, False],\n",
      "        [False, False, False, ..., False, False, False],\n",
      "        [False, False, False, ..., False, False, False]],\n",
      "\n",
      "       ...,\n",
      "\n",
      "       [[False, False, False, ..., False, False, False],\n",
      "        [False, False, False, ..., False, False, False],\n",
      "        [False, False, False, ..., False, False, False],\n",
      "        ...,\n",
      "        [False, False, False, ..., False, False, False],\n",
      "        [False, False, False, ..., False, False, False],\n",
      "        [False, False, False, ..., False, False, False]],\n",
      "\n",
      "       [[False, False, False, ..., False, False, False],\n",
      "        [False, False, False, ..., False, False, False],\n",
      "        [False, False, False, ..., False, False, False],\n",
      "        ...,\n",
      "        [False, False, False, ..., False, False, False],\n",
      "        [False, False, False, ..., False, False, False],\n",
      "        [False, False, False, ..., False, False, False]],\n",
      "\n",
      "       [[False, False, False, ..., False, False, False],\n",
      "        [False, False, False, ..., False, False, False],\n",
      "        [False, False, False, ..., False, False, False],\n",
      "        ...,\n",
      "        [False, False, False, ..., False, False, False],\n",
      "        [False, False, False, ..., False, False, False],\n",
      "        [False, False, False, ..., False, False, False]]]), 'lungs': array([[[False, False, False, ..., False, False, False],\n",
      "        [False, False, False, ..., False, False, False],\n",
      "        [False, False, False, ..., False, False, False],\n",
      "        ...,\n",
      "        [False, False, False, ..., False, False, False],\n",
      "        [False, False, False, ..., False, False, False],\n",
      "        [False, False, False, ..., False, False, False]],\n",
      "\n",
      "       [[False, False, False, ..., False, False, False],\n",
      "        [False, False, False, ..., False, False, False],\n",
      "        [False, False, False, ..., False, False, False],\n",
      "        ...,\n",
      "        [False, False, False, ..., False, False, False],\n",
      "        [False, False, False, ..., False, False, False],\n",
      "        [False, False, False, ..., False, False, False]],\n",
      "\n",
      "       [[False, False, False, ..., False, False, False],\n",
      "        [False, False, False, ..., False, False, False],\n",
      "        [False, False, False, ..., False, False, False],\n",
      "        ...,\n",
      "        [False, False, False, ..., False, False, False],\n",
      "        [False, False, False, ..., False, False, False],\n",
      "        [False, False, False, ..., False, False, False]],\n",
      "\n",
      "       ...,\n",
      "\n",
      "       [[False, False, False, ..., False, False, False],\n",
      "        [False, False, False, ..., False, False, False],\n",
      "        [False, False, False, ..., False, False, False],\n",
      "        ...,\n",
      "        [False, False, False, ..., False, False, False],\n",
      "        [False, False, False, ..., False, False, False],\n",
      "        [False, False, False, ..., False, False, False]],\n",
      "\n",
      "       [[False, False, False, ..., False, False, False],\n",
      "        [False, False, False, ..., False, False, False],\n",
      "        [False, False, False, ..., False, False, False],\n",
      "        ...,\n",
      "        [False, False, False, ..., False, False, False],\n",
      "        [False, False, False, ..., False, False, False],\n",
      "        [False, False, False, ..., False, False, False]],\n",
      "\n",
      "       [[False, False, False, ..., False, False, False],\n",
      "        [False, False, False, ..., False, False, False],\n",
      "        [False, False, False, ..., False, False, False],\n",
      "        ...,\n",
      "        [False, False, False, ..., False, False, False],\n",
      "        [False, False, False, ..., False, False, False],\n",
      "        [False, False, False, ..., False, False, False]]])}\n"
     ]
    }
   ],
   "source": [
    "print(masks)"
   ]
  },
  {
   "cell_type": "markdown",
   "id": "00d28135-88ef-4226-902a-424d4e50cac8",
   "metadata": {},
   "source": [
    "### Marching Cubes"
   ]
  },
  {
   "cell_type": "code",
   "execution_count": 14,
   "id": "95e8b7d2-c181-40da-811b-28e0662da80b",
   "metadata": {},
   "outputs": [],
   "source": [
    "from skimage import measure\n",
    "from scipy.ndimage import binary_fill_holes\n",
    "import pyvista as pv"
   ]
  },
  {
   "cell_type": "code",
   "execution_count": 16,
   "id": "44a6e1f6-b0de-4abf-a106-1eaed56895f0",
   "metadata": {},
   "outputs": [
    {
     "ename": "ValueError",
     "evalue": "Surface level must be within volume data range.",
     "output_type": "error",
     "traceback": [
      "\u001b[0;31m---------------------------------------------------------------------------\u001b[0m",
      "\u001b[0;31mValueError\u001b[0m                                Traceback (most recent call last)",
      "Cell \u001b[0;32mIn[16], line 13\u001b[0m\n\u001b[1;32m     10\u001b[0m iso_value \u001b[38;5;241m=\u001b[39m \u001b[38;5;241m0.05\u001b[39m\n\u001b[1;32m     12\u001b[0m \u001b[38;5;66;03m# Extract the isosurface\u001b[39;00m\n\u001b[0;32m---> 13\u001b[0m vertices, faces, normals, values \u001b[38;5;241m=\u001b[39m \u001b[43mmeasure\u001b[49m\u001b[38;5;241;43m.\u001b[39;49m\u001b[43mmarching_cubes\u001b[49m\u001b[43m(\u001b[49m\u001b[43mvolume_data\u001b[49m\u001b[43m,\u001b[49m\u001b[43m \u001b[49m\u001b[43miso_value\u001b[49m\u001b[43m)\u001b[49m\n",
      "File \u001b[0;32m~/topology/lib/python3.12/site-packages/skimage/measure/_marching_cubes_lewiner.py:139\u001b[0m, in \u001b[0;36mmarching_cubes\u001b[0;34m(volume, level, spacing, gradient_direction, step_size, allow_degenerate, method, mask)\u001b[0m\n\u001b[1;32m    137\u001b[0m \u001b[38;5;28;01melif\u001b[39;00m method \u001b[38;5;241m!=\u001b[39m \u001b[38;5;124m'\u001b[39m\u001b[38;5;124mlewiner\u001b[39m\u001b[38;5;124m'\u001b[39m:\n\u001b[1;32m    138\u001b[0m     \u001b[38;5;28;01mraise\u001b[39;00m \u001b[38;5;167;01mValueError\u001b[39;00m(\u001b[38;5;124m\"\u001b[39m\u001b[38;5;124mmethod should be either \u001b[39m\u001b[38;5;124m'\u001b[39m\u001b[38;5;124mlewiner\u001b[39m\u001b[38;5;124m'\u001b[39m\u001b[38;5;124m or \u001b[39m\u001b[38;5;124m'\u001b[39m\u001b[38;5;124mlorensen\u001b[39m\u001b[38;5;124m'\u001b[39m\u001b[38;5;124m\"\u001b[39m)\n\u001b[0;32m--> 139\u001b[0m \u001b[38;5;28;01mreturn\u001b[39;00m \u001b[43m_marching_cubes_lewiner\u001b[49m\u001b[43m(\u001b[49m\n\u001b[1;32m    140\u001b[0m \u001b[43m    \u001b[49m\u001b[43mvolume\u001b[49m\u001b[43m,\u001b[49m\n\u001b[1;32m    141\u001b[0m \u001b[43m    \u001b[49m\u001b[43mlevel\u001b[49m\u001b[43m,\u001b[49m\n\u001b[1;32m    142\u001b[0m \u001b[43m    \u001b[49m\u001b[43mspacing\u001b[49m\u001b[43m,\u001b[49m\n\u001b[1;32m    143\u001b[0m \u001b[43m    \u001b[49m\u001b[43mgradient_direction\u001b[49m\u001b[43m,\u001b[49m\n\u001b[1;32m    144\u001b[0m \u001b[43m    \u001b[49m\u001b[43mstep_size\u001b[49m\u001b[43m,\u001b[49m\n\u001b[1;32m    145\u001b[0m \u001b[43m    \u001b[49m\u001b[43mallow_degenerate\u001b[49m\u001b[43m,\u001b[49m\n\u001b[1;32m    146\u001b[0m \u001b[43m    \u001b[49m\u001b[43muse_classic\u001b[49m\u001b[38;5;241;43m=\u001b[39;49m\u001b[43muse_classic\u001b[49m\u001b[43m,\u001b[49m\n\u001b[1;32m    147\u001b[0m \u001b[43m    \u001b[49m\u001b[43mmask\u001b[49m\u001b[38;5;241;43m=\u001b[39;49m\u001b[43mmask\u001b[49m\u001b[43m,\u001b[49m\n\u001b[1;32m    148\u001b[0m \u001b[43m\u001b[49m\u001b[43m)\u001b[49m\n",
      "File \u001b[0;32m~/topology/lib/python3.12/site-packages/skimage/measure/_marching_cubes_lewiner.py:180\u001b[0m, in \u001b[0;36m_marching_cubes_lewiner\u001b[0;34m(volume, level, spacing, gradient_direction, step_size, allow_degenerate, use_classic, mask)\u001b[0m\n\u001b[1;32m    178\u001b[0m     level \u001b[38;5;241m=\u001b[39m \u001b[38;5;28mfloat\u001b[39m(level)\n\u001b[1;32m    179\u001b[0m     \u001b[38;5;28;01mif\u001b[39;00m level \u001b[38;5;241m<\u001b[39m volume\u001b[38;5;241m.\u001b[39mmin() \u001b[38;5;129;01mor\u001b[39;00m level \u001b[38;5;241m>\u001b[39m volume\u001b[38;5;241m.\u001b[39mmax():\n\u001b[0;32m--> 180\u001b[0m         \u001b[38;5;28;01mraise\u001b[39;00m \u001b[38;5;167;01mValueError\u001b[39;00m(\u001b[38;5;124m\"\u001b[39m\u001b[38;5;124mSurface level must be within volume data range.\u001b[39m\u001b[38;5;124m\"\u001b[39m)\n\u001b[1;32m    181\u001b[0m \u001b[38;5;66;03m# spacing\u001b[39;00m\n\u001b[1;32m    182\u001b[0m \u001b[38;5;28;01mif\u001b[39;00m \u001b[38;5;28mlen\u001b[39m(spacing) \u001b[38;5;241m!=\u001b[39m \u001b[38;5;241m3\u001b[39m:\n",
      "\u001b[0;31mValueError\u001b[0m: Surface level must be within volume data range."
     ]
    }
   ],
   "source": [
    "# Volume data\n",
    "right_data = masks['left lung']\n",
    "lungs_data = masks['lungs']\n",
    "filled_cavity = binary_fill_holes(right_data)\n",
    "\n",
    "volume_data = lungs_data & filled_cavity\n",
    "volume_data = np.nan_to_num(volume_data)\n",
    "\n",
    "# Isosurface value\n",
    "iso_value = 0.05\n",
    "\n",
    "# Extract the isosurface\n",
    "vertices, faces, normals, values = measure.marching_cubes(volume_data, iso_value)"
   ]
  },
  {
   "cell_type": "code",
   "execution_count": 11,
   "id": "6cb848e2-1ed0-450a-b5b4-703f876be539",
   "metadata": {},
   "outputs": [],
   "source": [
    "def faces_to_edges(faces):\n",
    "    edges = []\n",
    "    for face in faces:\n",
    "        edges.append(sorted([face[0],face[1]]))\n",
    "        edges.append(sorted([face[1],face[2]]))\n",
    "        edges.append(sorted([face[2],face[0]]))\n",
    "    seen = set()\n",
    "    unique_pairs = []\n",
    "    \n",
    "    for pair in edges:\n",
    "        tup = tuple(pair)  # convert to tuple so it’s hashable\n",
    "        if tup not in seen:\n",
    "            seen.add(tup)\n",
    "            unique_pairs.append(pair)\n",
    "    return unique_pairs"
   ]
  },
  {
   "cell_type": "code",
   "execution_count": 12,
   "id": "e7668191-c803-4f39-942a-3de5f508ef84",
   "metadata": {},
   "outputs": [],
   "source": [
    "edges = faces_to_edges(faces)"
   ]
  },
  {
   "cell_type": "code",
   "execution_count": 13,
   "id": "81a5a10d-3332-41c5-aa48-db9e1360d7ec",
   "metadata": {},
   "outputs": [
    {
     "data": {
      "application/vnd.jupyter.widget-view+json": {
       "model_id": "2193b7de6e394e9ca9026d6d982cfc75",
       "version_major": 2,
       "version_minor": 0
      },
      "text/plain": [
       "Widget(value='<iframe src=\"http://localhost:41031/index.html?ui=P_0x70bc0468eb70_0&reconnect=auto\" class=\"pyvi…"
      ]
     },
     "metadata": {},
     "output_type": "display_data"
    }
   ],
   "source": [
    "# Adjust faces array for PyVista\n",
    "faces_pv = np.column_stack([np.full(len(faces), 3), faces])\n",
    "\n",
    "# Create a PyVista mesh\n",
    "mesh = pv.PolyData(vertices, faces_pv)\n",
    "\n",
    "# Visualize the mesh\n",
    "mesh.plot()"
   ]
  },
  {
   "cell_type": "code",
   "execution_count": null,
   "id": "11dd0a19-282a-49c8-b74c-cc8c1d7eb3cd",
   "metadata": {},
   "outputs": [],
   "source": [
    "edges = mesh.extract_all_edges()\n",
    "lines = edges.lines.reshape((-1, 3))"
   ]
  },
  {
   "cell_type": "code",
   "execution_count": null,
   "id": "ca0378c8-e5f6-4f94-b553-13edfa667c8e",
   "metadata": {},
   "outputs": [],
   "source": [
    "export\n",
    "for edge in lines:\n",
    "    if edge[0] != 2:\n",
    "        print('not 2')"
   ]
  },
  {
   "cell_type": "code",
   "execution_count": null,
   "id": "a3c1737e-001e-49b3-b587-952726244d1a",
   "metadata": {},
   "outputs": [],
   "source": [
    "print(lines)"
   ]
  },
  {
   "cell_type": "code",
   "execution_count": null,
   "id": "807b65eb-1070-4ab5-a1be-959ee43b0cf5",
   "metadata": {},
   "outputs": [],
   "source": [
    "print(vertices)"
   ]
  },
  {
   "cell_type": "code",
   "execution_count": null,
   "id": "7e74f65b-ce23-4d62-90cd-41ca38c6a3fe",
   "metadata": {},
   "outputs": [],
   "source": []
  }
 ],
 "metadata": {
  "kernelspec": {
   "display_name": "Python 3 (ipykernel)",
   "language": "python",
   "name": "python3"
  },
  "language_info": {
   "codemirror_mode": {
    "name": "ipython",
    "version": 3
   },
   "file_extension": ".py",
   "mimetype": "text/x-python",
   "name": "python",
   "nbconvert_exporter": "python",
   "pygments_lexer": "ipython3",
   "version": "3.12.3"
  }
 },
 "nbformat": 4,
 "nbformat_minor": 5
}
