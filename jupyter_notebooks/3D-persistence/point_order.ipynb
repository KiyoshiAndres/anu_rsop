{
 "cells": [
  {
   "cell_type": "code",
   "execution_count": 1,
   "id": "9d33ee95-ed7d-4ca8-9a9b-d8911299e225",
   "metadata": {
    "tags": []
   },
   "outputs": [],
   "source": [
    "import math"
   ]
  },
  {
   "cell_type": "code",
   "execution_count": 4,
   "id": "6838a03d-a992-46cd-85b6-d9dfc52eab79",
   "metadata": {},
   "outputs": [],
   "source": [
    "points = [\n",
    "    # Format: [index, height, vector n]\n",
    "    [1, 1, [1, 1, -1]],\n",
    "    [2, 2, [2, 2, -2]],\n",
    "    [3, 2, [3, 2, 4]],\n",
    "    [4, 3, [4, 3, 3]],\n",
    "    [5, 4, [5, 4, 2]],\n",
    "    [6, 6, [6, 6, 6]],\n",
    "    [7, 7, [7, 7, 7]]\n",
    "]"
   ]
  },
  {
   "cell_type": "code",
   "execution_count": 5,
   "id": "328bf1c4-1cd9-4a8d-bc99-0899a4a20843",
   "metadata": {
    "tags": []
   },
   "outputs": [],
   "source": [
    "edges = [\n",
    "    # Format: [[index_i, index_j], height, vector n]\n",
    "    [[1, 2], 2, [1, 1, -1]],\n",
    "    [[2, 3], 2, [2, 2, -2]],\n",
    "    [[3, 4], 3, [3, 2, 4]],\n",
    "    [[4, 5], 4, [4, 3, 3]],\n",
    "    [[6, 7], 7, [5, 4, 2]],\n",
    "    [[5, 6], 7, [6, 6, 6]]\n",
    "]"
   ]
  },
  {
   "cell_type": "code",
   "execution_count": 6,
   "id": "87c7eeb1-1bd1-440c-b3ed-f3b38c09fee8",
   "metadata": {
    "tags": []
   },
   "outputs": [],
   "source": [
    "graph = [points, edges]"
   ]
  },
  {
   "cell_type": "code",
   "execution_count": 16,
   "id": "330303c0-cc27-46e6-bb82-97d09df07549",
   "metadata": {
    "tags": []
   },
   "outputs": [],
   "source": [
    "def sign(v_1,v_2):\n",
    "    product = v_1[0] * v_2[0] +  v_1[1] * v_2[1] + v_1[2] * v_2[2]\n",
    "    sign = 0\n",
    "    if product > 0:\n",
    "        sign = 1\n",
    "    elif product < 0:\n",
    "        sign = -1\n",
    "    return sign"
   ]
  },
  {
   "cell_type": "code",
   "execution_count": 17,
   "id": "2be056a6-ac39-49bb-9d53-54932c0dd2f4",
   "metadata": {
    "tags": []
   },
   "outputs": [],
   "source": [
    "def obtain_sign(graph, direction):\n",
    "    points, edges = graph\n",
    "    signed_points = []\n",
    "    signed_edges = []\n",
    "    for point in points:\n",
    "        signed_points.append([point[0],point[1],sign(point[2], direction)])\n",
    "    for edge in edges:\n",
    "        signed_edges.append([edge[0],edge[1],sign(edge[2], direction)])\n",
    "    return [signed_points, signed_edges]"
   ]
  },
  {
   "cell_type": "code",
   "execution_count": null,
   "id": "2d394435-2f66-404e-b03d-917983518227",
   "metadata": {},
   "outputs": [],
   "source": []
  },
  {
   "cell_type": "code",
   "execution_count": 18,
   "id": "a1412950-ae49-481b-b0cc-5af2105b2290",
   "metadata": {
    "tags": []
   },
   "outputs": [
    {
     "data": {
      "text/plain": [
       "[[[1, 1, -1],\n",
       "  [2, 2, -1],\n",
       "  [3, 2, 1],\n",
       "  [4, 3, 1],\n",
       "  [5, 4, 1],\n",
       "  [6, 6, 1],\n",
       "  [7, 7, 1]],\n",
       " [[[1, 2], 2, -1],\n",
       "  [[2, 3], 2, -1],\n",
       "  [[3, 4], 3, 1],\n",
       "  [[4, 5], 4, 1],\n",
       "  [[6, 7], 7, 1],\n",
       "  [[5, 6], 7, 1]]]"
      ]
     },
     "execution_count": 18,
     "metadata": {},
     "output_type": "execute_result"
    }
   ],
   "source": [
    "obtain_sign(graph, [0,0,1])"
   ]
  },
  {
   "cell_type": "code",
   "execution_count": 21,
   "id": "9aa6a282-4cb6-4f84-ad15-2c6d86734cf0",
   "metadata": {
    "tags": []
   },
   "outputs": [],
   "source": [
    "def process_graph(graph, direction):\n",
    "    \"\"\"\n",
    "        The input is a graph containing points and edges and a direction.\n",
    "        \n",
    "        The output is a graph ordered by height, and by x,y,z. The normal vectors are replaced with the sign.\n",
    "    \"\"\"\n",
    "    signed_graph = obtain_sign(graph, direction)\n",
    "    processed_graph = order_graph(graph, direction)\n",
    "    return processed_graph"
   ]
  },
  {
   "cell_type": "code",
   "execution_count": 20,
   "id": "61dc4952-ef36-4f32-8f3a-459cb463fe49",
   "metadata": {
    "tags": []
   },
   "outputs": [],
   "source": [
    "def order_graph(graph, direction):\n",
    "    \"\"\"\n",
    "        The input is a graph containing points and edges and a direction.\n",
    "        \n",
    "        The output is a graph ordered by height, and by x,y,z.\n",
    "    \"\"\"\n",
    "    ordered_graph = graph\n",
    "    return ordered_graph"
   ]
  }
 ],
 "metadata": {
  "kernelspec": {
   "display_name": "Python 3 (ipykernel)",
   "language": "python",
   "name": "python3"
  },
  "language_info": {
   "codemirror_mode": {
    "name": "ipython",
    "version": 3
   },
   "file_extension": ".py",
   "mimetype": "text/x-python",
   "name": "python",
   "nbconvert_exporter": "python",
   "pygments_lexer": "ipython3",
   "version": "3.9.10"
  }
 },
 "nbformat": 4,
 "nbformat_minor": 5
}
