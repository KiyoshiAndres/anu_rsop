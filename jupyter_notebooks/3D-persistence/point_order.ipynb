{
 "cells": [
  {
   "cell_type": "code",
   "execution_count": 1,
   "id": "9d33ee95-ed7d-4ca8-9a9b-d8911299e225",
   "metadata": {
    "tags": []
   },
   "outputs": [],
   "source": [
    "import math"
   ]
  },
  {
   "cell_type": "code",
   "execution_count": 4,
   "id": "6838a03d-a992-46cd-85b6-d9dfc52eab79",
   "metadata": {},
   "outputs": [],
   "source": [
    "points = [\n",
    "    # Format: [index, height, vector n]\n",
    "    [1, 1, [1, 1, -1]],\n",
    "    [2, 2, [2, 2, -2]],\n",
    "    [3, 2, [3, 2, 4]],\n",
    "    [4, 3, [4, 3, 3]],\n",
    "    [5, 4, [5, 4, 2]],\n",
    "    [6, 6, [6, 6, 6]],\n",
    "    [7, 7, [7, 7, 7]]\n",
    "]"
   ]
  },
  {
   "cell_type": "code",
   "execution_count": 5,
   "id": "328bf1c4-1cd9-4a8d-bc99-0899a4a20843",
   "metadata": {
    "tags": []
   },
   "outputs": [],
   "source": [
    "edges = [\n",
    "    # Format: [[index_i, index_j], height, vector n]\n",
    "    [[1, 2], 2, [1, 1, -1]],\n",
    "    [[2, 3], 2, [2, 2, -2]],\n",
    "    [[3, 4], 3, [3, 2, 4]],\n",
    "    [[4, 5], 4, [4, 3, 3]],\n",
    "    [[6, 7], 7, [5, 4, 2]],\n",
    "    [[5, 6], 7, [6, 6, 6]]\n",
    "]"
   ]
  },
  {
   "cell_type": "code",
   "execution_count": 6,
   "id": "87c7eeb1-1bd1-440c-b3ed-f3b38c09fee8",
   "metadata": {
    "tags": []
   },
   "outputs": [],
   "source": [
    "graph = [points, edges]"
   ]
  },
  {
   "cell_type": "code",
   "execution_count": 16,
   "id": "330303c0-cc27-46e6-bb82-97d09df07549",
   "metadata": {
    "tags": []
   },
   "outputs": [],
   "source": [
    "def sign(v_1,v_2):\n",
    "    product = v_1[0] * v_2[0] +  v_1[1] * v_2[1] + v_1[2] * v_2[2]\n",
    "    sign = 0\n",
    "    if product > 0:\n",
    "        sign = 1\n",
    "    elif product < 0:\n",
    "        sign = -1\n",
    "    return sign"
   ]
  },
  {
   "cell_type": "code",
   "execution_count": 17,
   "id": "2be056a6-ac39-49bb-9d53-54932c0dd2f4",
   "metadata": {
    "tags": []
   },
   "outputs": [],
   "source": [
    "def obtain_sign(graph, direction):\n",
    "    points, edges = graph\n",
    "    signed_points = []\n",
    "    signed_edges = []\n",
    "    for point in points:\n",
    "        signed_points.append([point[0],point[1],sign(point[2], direction)])\n",
    "    for edge in edges:\n",
    "        signed_edges.append([edge[0],edge[1],sign(edge[2], direction)])\n",
    "    return [signed_points, signed_edges]"
   ]
  },
  {
   "cell_type": "code",
   "execution_count": null,
   "id": "2d394435-2f66-404e-b03d-917983518227",
   "metadata": {},
   "outputs": [],
   "source": []
  },
  {
   "cell_type": "code",
   "execution_count": 31,
   "id": "a1412950-ae49-481b-b0cc-5af2105b2290",
   "metadata": {
    "tags": []
   },
   "outputs": [
    {
     "data": {
      "text/plain": [
       "[[[1, 1, -1],\n",
       "  [2, 2, -1],\n",
       "  [3, 2, 1],\n",
       "  [4, 3, 1],\n",
       "  [5, 4, 1],\n",
       "  [6, 6, 1],\n",
       "  [7, 7, 1]],\n",
       " [[[1, 2], 2, -1],\n",
       "  [[2, 3], 2, -1],\n",
       "  [[3, 4], 3, 1],\n",
       "  [[4, 5], 4, 1],\n",
       "  [[6, 7], 7, 1],\n",
       "  [[5, 6], 7, 1]]]"
      ]
     },
     "execution_count": 31,
     "metadata": {},
     "output_type": "execute_result"
    }
   ],
   "source": [
    "obtain_sign(graph, [0,0,1])"
   ]
  },
  {
   "cell_type": "code",
   "execution_count": 35,
   "id": "9aa6a282-4cb6-4f84-ad15-2c6d86734cf0",
   "metadata": {
    "tags": []
   },
   "outputs": [],
   "source": [
    "def process_graph(vertices, edges, direction):\n",
    "    \"\"\"\n",
    "        The input are vertices and edges and a direction.\n",
    "        \n",
    "        The output is a graph ordered by height, and by x,y,z. The normal vectors are replaced with the sign.\n",
    "    \"\"\"\n",
    "    processed_graph = order_graph(vertices, edges)\n",
    "    signed_graph = obtain_sign(processed_graph, direction)\n",
    "    return signed_graph"
   ]
  },
  {
   "cell_type": "code",
   "execution_count": 34,
   "id": "61dc4952-ef36-4f32-8f3a-459cb463fe49",
   "metadata": {
    "tags": []
   },
   "outputs": [],
   "source": [
    "def order_graph(vertices, edges):\n",
    "    \"\"\"\n",
    "        The input are vertices and edges.\n",
    "        {'coords': [i, j, k], 'h': h, 'n': n, 'original_index': idx}\n",
    "        {'vertices': [e, l], 'h': h, 'n': n}\n",
    "        \n",
    "        The output is a graph ordered by height, and by x,y,z.\n",
    "    \"\"\"\n",
    "\n",
    "    # Step 1: Sort the vertices\n",
    "    sorted_vertices = sorted(\n",
    "        vertices,\n",
    "        key=lambda v: (v['h'], v['coords'][0], v['coords'][1], v['coords'][2])\n",
    "    )\n",
    "\n",
    "    # Step 2: Relabel the vertices\n",
    "    original_to_new_index = {}\n",
    "    for new_index, vertex in enumerate(sorted_vertices):\n",
    "        original_index = vertex['original_index']\n",
    "        original_to_new_index[original_index] = new_index\n",
    "        vertex['new_index'] = new_index\n",
    "\n",
    "    # Step 3: Update the edges\n",
    "    for edge in edges:\n",
    "        # Map old indices to new indices and sort them within the edge\n",
    "        new_indices = [original_to_new_index[vi] for vi in edge['vertices']]\n",
    "        new_indices.sort()\n",
    "        edge['vertices'] = new_indices\n",
    "\n",
    "    # Step 4: Sort the edges\n",
    "    sorted_edges = sorted(\n",
    "        edges,\n",
    "        key=lambda e: (e['h'], min(e['vertices']))\n",
    "    )\n",
    "    \n",
    "    output_vertices = [ [v['new_index'], v['h'], v['n'] ] for v in sorted_vertices ]\n",
    "    output_edges = [ [e['vertices'], e['h'], e['n'] ] for e in sorted_edges ]\n",
    "    return [output_vertices, output_edges]"
   ]
  },
  {
   "cell_type": "code",
   "execution_count": 38,
   "id": "0edd87a2-b500-43ed-bcc0-2ef0ba921f38",
   "metadata": {
    "tags": []
   },
   "outputs": [],
   "source": [
    "# Sample Data\n",
    "n = [0,3,0]  # Replace with actual value if needed\n",
    "\n",
    "vertices = [\n",
    "    {'coords': [2, 3, 1], 'h': 5, 'n': n, 'original_index': 0},\n",
    "    {'coords': [1, 3, 2], 'h': 3, 'n': n, 'original_index': 1},\n",
    "    {'coords': [1, 2, 2], 'h': 3, 'n': n, 'original_index': 2},\n",
    "    {'coords': [2, 3, 2], 'h': 5, 'n': n, 'original_index': 3},\n",
    "    {'coords': [1, 2, 1], 'h': 3, 'n': n, 'original_index': 4},\n",
    "]\n",
    "\n",
    "edges = [\n",
    "    {'vertices': [0, 1], 'h': 4, 'n': n},\n",
    "    {'vertices': [2, 3], 'h': 5, 'n': n},\n",
    "    {'vertices': [1, 2], 'h': 4, 'n': n},\n",
    "    {'vertices': [3, 4], 'h': 5, 'n': n},\n",
    "]"
   ]
  },
  {
   "cell_type": "code",
   "execution_count": 39,
   "id": "f1b3d944-b0ce-4d4a-8069-47dcbd8f9a7c",
   "metadata": {
    "tags": []
   },
   "outputs": [
    {
     "data": {
      "text/plain": [
       "[[[0, 3, 0], [1, 3, 0], [2, 3, 0], [3, 5, 0], [4, 5, 0]],\n",
       " [[[1, 2], 4, 0], [[2, 3], 4, 0], [[0, 4], 5, 0], [[1, 4], 5, 0]]]"
      ]
     },
     "execution_count": 39,
     "metadata": {},
     "output_type": "execute_result"
    }
   ],
   "source": [
    "process_graph(vertices, edges, [0,0,1])"
   ]
  },
  {
   "cell_type": "code",
   "execution_count": 24,
   "id": "4b1f651d-b9b3-49c0-888e-3cc31c776b87",
   "metadata": {
    "tags": []
   },
   "outputs": [
    {
     "name": "stdout",
     "output_type": "stream",
     "text": [
      "Sorted Vertices:\n",
      "{'coords': [1, 2, 1], 'h': 3, 'n': None, 'original_index': 4, 'new_index': 0}\n",
      "Index: 0, Coords: [1, 2, 1], h: 3\n",
      "{'coords': [1, 2, 2], 'h': 3, 'n': None, 'original_index': 2, 'new_index': 1}\n",
      "Index: 1, Coords: [1, 2, 2], h: 3\n",
      "{'coords': [1, 3, 2], 'h': 3, 'n': None, 'original_index': 1, 'new_index': 2}\n",
      "Index: 2, Coords: [1, 3, 2], h: 3\n",
      "{'coords': [2, 3, 1], 'h': 5, 'n': None, 'original_index': 0, 'new_index': 3}\n",
      "Index: 3, Coords: [2, 3, 1], h: 5\n",
      "{'coords': [2, 3, 2], 'h': 5, 'n': None, 'original_index': 3, 'new_index': 4}\n",
      "Index: 4, Coords: [2, 3, 2], h: 5\n",
      "\n",
      "Sorted Edges:\n",
      "[{'vertices': [2, 3], 'h': 4, 'n': None}, {'vertices': [1, 4], 'h': 5, 'n': None}, {'vertices': [1, 2], 'h': 4, 'n': None}, {'vertices': [0, 4], 'h': 5, 'n': None}]\n",
      "Vertices: [1, 2], h: 4\n",
      "[{'vertices': [2, 3], 'h': 4, 'n': None}, {'vertices': [1, 4], 'h': 5, 'n': None}, {'vertices': [1, 2], 'h': 4, 'n': None}, {'vertices': [0, 4], 'h': 5, 'n': None}]\n",
      "Vertices: [2, 3], h: 4\n",
      "[{'vertices': [2, 3], 'h': 4, 'n': None}, {'vertices': [1, 4], 'h': 5, 'n': None}, {'vertices': [1, 2], 'h': 4, 'n': None}, {'vertices': [0, 4], 'h': 5, 'n': None}]\n",
      "Vertices: [0, 4], h: 5\n",
      "[{'vertices': [2, 3], 'h': 4, 'n': None}, {'vertices': [1, 4], 'h': 5, 'n': None}, {'vertices': [1, 2], 'h': 4, 'n': None}, {'vertices': [0, 4], 'h': 5, 'n': None}]\n",
      "Vertices: [1, 4], h: 5\n"
     ]
    }
   ],
   "source": [
    "# Sample Data\n",
    "n = None  # Replace with actual value if needed\n",
    "\n",
    "vertices = [\n",
    "    {'coords': [2, 3, 1], 'h': 5, 'n': n, 'original_index': 0},\n",
    "    {'coords': [1, 3, 2], 'h': 3, 'n': n, 'original_index': 1},\n",
    "    {'coords': [1, 2, 2], 'h': 3, 'n': n, 'original_index': 2},\n",
    "    {'coords': [2, 3, 2], 'h': 5, 'n': n, 'original_index': 3},\n",
    "    {'coords': [1, 2, 1], 'h': 3, 'n': n, 'original_index': 4},\n",
    "]\n",
    "\n",
    "edges = [\n",
    "    {'vertices': [0, 1], 'h': 4, 'n': n},\n",
    "    {'vertices': [2, 3], 'h': 5, 'n': n},\n",
    "    {'vertices': [1, 2], 'h': 4, 'n': n},\n",
    "    {'vertices': [3, 4], 'h': 5, 'n': n},\n",
    "]\n",
    "\n",
    "# Step 1: Sort the vertices\n",
    "sorted_vertices = sorted(\n",
    "    vertices,\n",
    "    key=lambda v: (v['h'], v['coords'][0], v['coords'][1], v['coords'][2])\n",
    ")\n",
    "\n",
    "# Step 2: Relabel the vertices\n",
    "original_to_new_index = {}\n",
    "for new_index, vertex in enumerate(sorted_vertices):\n",
    "    original_index = vertex['original_index']\n",
    "    original_to_new_index[original_index] = new_index\n",
    "    vertex['new_index'] = new_index\n",
    "\n",
    "# Step 3: Update the edges\n",
    "for edge in edges:\n",
    "    # Map old indices to new indices and sort them within the edge\n",
    "    new_indices = [original_to_new_index[vi] for vi in edge['vertices']]\n",
    "    new_indices.sort()\n",
    "    edge['vertices'] = new_indices\n",
    "\n",
    "# Step 4: Sort the edges\n",
    "sorted_edges = sorted(\n",
    "    edges,\n",
    "    key=lambda e: (e['h'], min(e['vertices']))\n",
    ")\n",
    "\n",
    "# Output the sorted vertices and edges\n",
    "print('Sorted Vertices:')\n",
    "for vertex in sorted_vertices:\n",
    "    print(vertex)\n",
    "    print(f\"Index: {vertex['new_index']}, Coords: {vertex['coords']}, h: {vertex['h']}\")\n",
    "\n",
    "print('\\nSorted Edges:')\n",
    "for edge in sorted_edges:\n",
    "    print(edges)\n",
    "    print(f\"Vertices: {edge['vertices']}, h: {edge['h']}\")\n"
   ]
  }
 ],
 "metadata": {
  "kernelspec": {
   "display_name": "Python 3 (ipykernel)",
   "language": "python",
   "name": "python3"
  },
  "language_info": {
   "codemirror_mode": {
    "name": "ipython",
    "version": 3
   },
   "file_extension": ".py",
   "mimetype": "text/x-python",
   "name": "python",
   "nbconvert_exporter": "python",
   "pygments_lexer": "ipython3",
   "version": "3.9.10"
  }
 },
 "nbformat": 4,
 "nbformat_minor": 5
}
