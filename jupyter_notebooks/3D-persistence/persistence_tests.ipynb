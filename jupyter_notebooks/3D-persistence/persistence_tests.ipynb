{
 "cells": [
  {
   "cell_type": "code",
   "execution_count": 1,
   "id": "bf4b949c-78e0-42fa-bc13-45c69a6da7b7",
   "metadata": {
    "tags": []
   },
   "outputs": [],
   "source": [
    "from persistence_functions import process_graph, format_graph, group_events_by_height"
   ]
  },
  {
   "cell_type": "markdown",
   "id": "2aac43b3-1c64-47d4-b7a8-f42ff92cb038",
   "metadata": {},
   "source": [
    "### Explanation of Algorithm"
   ]
  },
  {
   "cell_type": "markdown",
   "id": "0f601944-dade-4935-9605-f20d9276b66c",
   "metadata": {},
   "source": [
    "We start with a set of vertices and edges. Our vertices are dictionaries that contain the following data:\n",
    "Our edges are dictionaries that contain the following data:\n",
    "\n",
    "The set of vertices and edges are processed so that they now contain a height with respect to some direction. They are also given a new ordering with respect to that height, and with respect to their x,y,z coordinates (with x<y<z).\n",
    "\n",
    "\n",
    "\n",
    "After the vertices and edges are processed, they are ready to be fed into the Union Find algorithm. There are many cases:\n",
    "\n",
    "\n",
    "\n",
    "Nth step:\n",
    "We perform UnionFind on the set of vertices at Nth height, and a subset of edges for which all endpoints have height Nth height, generating a set of connected components. \n",
    "\n",
    "We then perform UnionFind on the edges of mixed height (<Nth height, Nth height), and all components.\n",
    "\n",
    "At the end of the Union Find, we state:\n",
    "\n",
    "1- Which are new connected components (If the root of the connected component does not change after this step).\n",
    "\n",
    "\n",
    "2- Which are continuation of previous connected components (If from the N-1th set of components, there is a pairing with at least one Nth step component: Y shape possibly)\n",
    "\n",
    "\n",
    "3- Which merge two or more connected components (If from the N-1th set of components, multiple components are paired with possibly many Nth component)\n",
    "\n",
    "To decide this, we only need to check which N-1th components change root. We don't care about the merged Nth components.\n",
    "To keep track of the unmerged Nth components, we keep track which do not change root.\n",
    "\n",
    "The output of the Nth stage is a set of connected components, as well as an indicator of which components got merged and which components got created."
   ]
  },
  {
   "cell_type": "code",
   "execution_count": 2,
   "id": "25f6e4be-862a-494d-9d3c-e53b34c242bb",
   "metadata": {},
   "outputs": [],
   "source": [
    "def compute_horizontal_step(vertices: list, horizontal_edges: list) -> list:\n",
    "    '''Input: List of vertices of height n, and list of horizontal edges of height n.\n",
    "    Output: TODO\n",
    "    '''\n",
    "    components = []\n",
    "    return components"
   ]
  },
  {
   "cell_type": "code",
   "execution_count": 3,
   "id": "2393e60c-40c5-4aa4-b57b-b3a233f06acd",
   "metadata": {},
   "outputs": [],
   "source": [
    "def compute_vertical_step(previous_components: list, current_components: list, angled_edges: list) -> list:\n",
    "    '''Input: List of vertices of height n, and list of horizontal edges of height n.\n",
    "    Output: TODO\n",
    "    Prints: \n",
    "        New Connected Components (Subset of current__components):\n",
    "        Merged Components (Subset of previous_components):\n",
    "    '''\n",
    "    for edge in angled_edges:\n",
    "        # UnionFind merge current connected component with previous_connected_component\n",
    "        # If current connected component was already merged with that edge do nothing\n",
    "        # If current connected component wasn't already merged with that edge, add root to a set\n",
    "        edge\n",
    "        \n",
    "    \n",
    "    new_connected_components = []\n",
    "    merged_components = []\n",
    "    components = []\n",
    "    print(\"New Connected Components: {}\".format(new_connected_components))\n",
    "    print(\"Merged Components: {}\".format(merged_components))\n",
    "    return components"
   ]
  },
  {
   "cell_type": "code",
   "execution_count": 4,
   "id": "ad6d983d-66cb-4b81-8c1d-2459f042859b",
   "metadata": {},
   "outputs": [],
   "source": [
    "def compute_ordinary_0(filtration: list) -> list:\n",
    "    '''\n",
    "    Input: Graph of vertices and edges\n",
    "    Output: A list of Components [root, birth, death]\n",
    "    '''\n",
    "    components = []\n",
    "    return components"
   ]
  },
  {
   "cell_type": "code",
   "execution_count": 5,
   "id": "a1e5908a-3744-42b2-8a15-c4ca008123b4",
   "metadata": {},
   "outputs": [],
   "source": [
    "points = [\n",
    "    # Format: [index, height, vector n]\n",
    "    [[1,1,1], 1, [1, 1, -1]],\n",
    "    [[2,2,2], 2, [2, 2, -2]],\n",
    "    [[3,3,3], 2, [3, 2, 4]],\n",
    "    [[4,4,4], 3, [4, 3, 3]],\n",
    "    [[5,5,5], 4, [5, 4, 2]],\n",
    "    [[6,6,6], 6, [6, 6, 6]],\n",
    "    [[7,7,7], 7, [7, 7, 7]]\n",
    "]\n",
    "\n",
    "edges = [\n",
    "    # Format: [[index_i, index_j], height, vector n]\n",
    "    [[1, 2], [1,2], [1, 1, -1]],\n",
    "    [[2, 3], [2,2], [2, 2, -2]],\n",
    "    [[3, 4], [2,3], [3, 2, 4]],\n",
    "    [[4, 5], [3,4], [4, 3, 3]],\n",
    "    [[6, 7], [6,7], [5, 4, 2]],\n",
    "    [[5, 6], [4,6], [6, 6, 6]]\n",
    "]\n",
    "graph = [points, edges]"
   ]
  },
  {
   "cell_type": "code",
   "execution_count": 6,
   "id": "577af0bd-659d-4554-9880-ef1638fc42ad",
   "metadata": {},
   "outputs": [],
   "source": [
    "formatted_vertices, formatted_edges = format_graph(graph)"
   ]
  },
  {
   "cell_type": "code",
   "execution_count": 7,
   "id": "d2dbe121-6a08-4a60-860d-f52722a8dd29",
   "metadata": {},
   "outputs": [
    {
     "name": "stdout",
     "output_type": "stream",
     "text": [
      "[{'vertices': [1, 2], 'height': [1, 2], 'n': [1, 1, -1]}, {'vertices': [2, 3], 'height': [2, 2], 'n': [2, 2, -2]}, {'vertices': [3, 4], 'height': [2, 3], 'n': [3, 2, 4]}, {'vertices': [4, 5], 'height': [3, 4], 'n': [4, 3, 3]}, {'vertices': [6, 7], 'height': [6, 7], 'n': [5, 4, 2]}, {'vertices': [5, 6], 'height': [4, 6], 'n': [6, 6, 6]}]\n"
     ]
    }
   ],
   "source": [
    "print(formatted_edges)"
   ]
  },
  {
   "cell_type": "code",
   "execution_count": 8,
   "id": "523fef67-9171-4008-9156-937ea22b0904",
   "metadata": {
    "tags": []
   },
   "outputs": [],
   "source": [
    "processed_graph = process_graph(formatted_vertices, formatted_edges, [1,0,0])"
   ]
  },
  {
   "cell_type": "code",
   "execution_count": 9,
   "id": "bd2f28a2-2720-4e7f-992b-3e0fa6385364",
   "metadata": {},
   "outputs": [
    {
     "data": {
      "text/plain": [
       "[[[1, 1, 1], [2, 2, 1], [3, 2, 1], [4, 3, 1], [5, 4, 1], [6, 6, 1], [7, 7, 1]],\n",
       " [{'vertices': [1, 2], 'height': [1, 2], 'sign': 1},\n",
       "  {'vertices': [2, 3], 'height': [2, 2], 'sign': 1},\n",
       "  {'vertices': [3, 4], 'height': [2, 3], 'sign': 1},\n",
       "  {'vertices': [4, 5], 'height': [3, 4], 'sign': 1},\n",
       "  {'vertices': [5, 6], 'height': [4, 6], 'sign': 1},\n",
       "  {'vertices': [6, 7], 'height': [6, 7], 'sign': 1}]]"
      ]
     },
     "execution_count": 9,
     "metadata": {},
     "output_type": "execute_result"
    }
   ],
   "source": [
    "processed_graph"
   ]
  },
  {
   "cell_type": "code",
   "execution_count": 11,
   "id": "f5c0c405-bc7d-4012-955c-e95b13b88f7d",
   "metadata": {},
   "outputs": [
    {
     "name": "stdout",
     "output_type": "stream",
     "text": [
      "Edge {'vertices': [2, 3], 'height': [2, 2], 'sign': 1} is horizontal.\n"
     ]
    }
   ],
   "source": [
    "filtration = group_events_by_height(processed_graph[0], processed_graph[1])"
   ]
  },
  {
   "cell_type": "code",
   "execution_count": 12,
   "id": "c926a62e-5e86-4f83-8a4d-c8f5a95e29ca",
   "metadata": {
    "tags": []
   },
   "outputs": [
    {
     "name": "stdout",
     "output_type": "stream",
     "text": [
      "{1: {'points': [(1, 1, 1)], 'horizontal_edges': [], 'vertical_edges': []}, 2: {'points': [(2, 2, 1), (3, 2, 1)], 'horizontal_edges': [{'vertices': [2, 3], 'height': [2, 2], 'sign': 1}], 'vertical_edges': [{'vertices': [1, 2], 'height': [1, 2], 'sign': 1}]}, 3: {'points': [(4, 3, 1)], 'horizontal_edges': [], 'vertical_edges': [{'vertices': [3, 4], 'height': [2, 3], 'sign': 1}]}, 4: {'points': [(5, 4, 1)], 'horizontal_edges': [], 'vertical_edges': [{'vertices': [4, 5], 'height': [3, 4], 'sign': 1}]}, 6: {'points': [(6, 6, 1)], 'horizontal_edges': [], 'vertical_edges': [{'vertices': [5, 6], 'height': [4, 6], 'sign': 1}]}, 7: {'points': [(7, 7, 1)], 'horizontal_edges': [], 'vertical_edges': [{'vertices': [6, 7], 'height': [6, 7], 'sign': 1}]}}\n"
     ]
    }
   ],
   "source": [
    "print(filtration)"
   ]
  },
  {
   "cell_type": "code",
   "execution_count": null,
   "id": "7826672b-509c-4782-86e0-86284952b989",
   "metadata": {},
   "outputs": [],
   "source": []
  }
 ],
 "metadata": {
  "kernelspec": {
   "display_name": "Python 3 (ipykernel)",
   "language": "python",
   "name": "python3"
  },
  "language_info": {
   "codemirror_mode": {
    "name": "ipython",
    "version": 3
   },
   "file_extension": ".py",
   "mimetype": "text/x-python",
   "name": "python",
   "nbconvert_exporter": "python",
   "pygments_lexer": "ipython3",
   "version": "3.12.3"
  }
 },
 "nbformat": 4,
 "nbformat_minor": 5
}
