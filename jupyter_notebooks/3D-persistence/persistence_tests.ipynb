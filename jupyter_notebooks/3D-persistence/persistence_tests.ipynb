{
 "cells": [
  {
   "cell_type": "code",
   "execution_count": 1,
   "id": "ef97638c-b331-4290-9162-1697d0be623f",
   "metadata": {
    "tags": []
   },
   "outputs": [],
   "source": [
    "import persistence_functions as pf"
   ]
  },
  {
   "cell_type": "code",
   "execution_count": 2,
   "id": "2a1f8ad7-b836-4ee0-b237-083add95ae8f",
   "metadata": {
    "tags": []
   },
   "outputs": [],
   "source": [
    "union_find = pf.compute_components"
   ]
  },
  {
   "cell_type": "code",
   "execution_count": 3,
   "id": "bf4b949c-78e0-42fa-bc13-45c69a6da7b7",
   "metadata": {
    "tags": []
   },
   "outputs": [],
   "source": [
    "from persistence_functions import format_edges, format_vertices, process_graph\n",
    "from persistence_functions import group_events_by_height\n",
    "from persistence_functions import UnionFind"
   ]
  },
  {
   "cell_type": "markdown",
   "id": "2aac43b3-1c64-47d4-b7a8-f42ff92cb038",
   "metadata": {},
   "source": [
    "### Explanation of Algorithm"
   ]
  },
  {
   "cell_type": "markdown",
   "id": "0f601944-dade-4935-9605-f20d9276b66c",
   "metadata": {},
   "source": [
    "We start with a set of vertices and edges. Our vertices are dictionaries that contain the following data:\n",
    "Our edges are dictionaries that contain the following data:\n",
    "\n",
    "The set of vertices and edges are processed so that they now contain a height with respect to some direction. They are also given a new ordering with respect to that height, and with respect to their x,y,z coordinates (with x<y<z).\n",
    "\n",
    "\n",
    "\n",
    "After the vertices and edges are processed, they are ready to be fed into the Union Find algorithm. There are many cases:\n",
    "\n",
    "\n",
    "\n",
    "Nth step:\n",
    "We perform UnionFind on the set of vertices at Nth height, and a subset of edges for which all endpoints have height Nth height, generating a set of connected components. \n",
    "\n",
    "We then perform UnionFind on the edges of mixed height (<Nth height, Nth height), and all components.\n",
    "\n",
    "At the end of the Union Find, we state:\n",
    "\n",
    "1- Which are new connected components (If the root of the connected component does not change after this step).\n",
    "\n",
    "\n",
    "2- Which are continuation of previous connected components (If from the N-1th set of components, there is a pairing with at least one Nth step component: Y shape possibly)\n",
    "\n",
    "\n",
    "3- Which merge two or more connected components (If from the N-1th set of components, multiple components are paired with possibly many Nth component)\n",
    "\n",
    "To decide this, we only need to check which N-1th components change root. We don't care about the merged Nth components.\n",
    "To keep track of the unmerged Nth components, we keep track which do not change root.\n",
    "\n",
    "The output of the Nth stage is a set of connected components, as well as an indicator of which components got merged and which components got created."
   ]
  },
  {
   "cell_type": "code",
   "execution_count": 18,
   "id": "25f6e4be-862a-494d-9d3c-e53b34c242bb",
   "metadata": {},
   "outputs": [],
   "source": [
    "def compute_horizontal_step(vertices: list, horizontal_edges: list, unionfind: type[UnionFind]) -> list:\n",
    "    '''Input: List of vertices of height n, and list of horizontal edges of height n.\n",
    "    Output: TODO\n",
    "    '''\n",
    "    components = []\n",
    "    return components"
   ]
  },
  {
   "cell_type": "code",
   "execution_count": null,
   "id": "d1fd4777-ef62-41db-a252-0e17be90b4f8",
   "metadata": {},
   "outputs": [],
   "source": []
  },
  {
   "cell_type": "code",
   "execution_count": 5,
   "id": "2393e60c-40c5-4aa4-b57b-b3a233f06acd",
   "metadata": {},
   "outputs": [],
   "source": [
    "def compute_vertical_step(previous_components: list, current_components: list, angled_edges: list) -> list:\n",
    "    '''Input: List of vertices of height n, and list of horizontal edges of height n.\n",
    "    Output: TODO\n",
    "    Prints: \n",
    "        New Connected Components (Subset of current__components):\n",
    "        Merged Components (Subset of previous_components):\n",
    "    '''\n",
    "    for edge in angled_edges:\n",
    "        # UnionFind merge current connected component with previous_connected_component\n",
    "        # If current connected component was already merged with that edge do nothing\n",
    "        # If current connected component wasn't already merged with that edge, add root to a set\n",
    "        edge\n",
    "        \n",
    "    \n",
    "    new_connected_components = []\n",
    "    merged_components = []\n",
    "    components = []\n",
    "    print(\"New Connected Components: {}\".format(new_connected_components))\n",
    "    print(\"Merged Components: {}\".format(merged_components))\n",
    "    return components"
   ]
  },
  {
   "cell_type": "code",
   "execution_count": 6,
   "id": "ad6d983d-66cb-4b81-8c1d-2459f042859b",
   "metadata": {},
   "outputs": [],
   "source": [
    "def compute_ordinary_0(filtration: list) -> list:\n",
    "    '''\n",
    "    Input: Graph of vertices and edges\n",
    "    Output: A list of Components [root, birth, death]\n",
    "    '''\n",
    "    components = []\n",
    "    return components"
   ]
  },
  {
   "cell_type": "code",
   "execution_count": 7,
   "id": "a1e5908a-3744-42b2-8a15-c4ca008123b4",
   "metadata": {
    "tags": []
   },
   "outputs": [],
   "source": [
    "points = [\n",
    "    # Format: [coord, height, vector n]\n",
    "    [[1,1,1], 1, [1, 1, -1]],\n",
    "    [[5,5,5], 4, [5, 4, 2]],\n",
    "    [[2,2,2], 2, [2, 2, -2]],\n",
    "    [[3,3,3], 2, [3, 2, 4]],\n",
    "    [[4,4,4], 3, [4, 3, 3]],\n",
    "    [[6,6,6], 6, [6, 6, 6]],\n",
    "    [[7,7,7], 7, [7, 7, 7]]\n",
    "]\n",
    "\n",
    "edges = [\n",
    "    # Format: [[index_i, index_j], vector n]\n",
    "    [[1, 2], [1, 1, -1]],\n",
    "    [[2, 3], [2, 2, -2]],\n",
    "    [[3, 4], [3, 2, 4]],\n",
    "    [[4, 5], [4, 3, 3]],\n",
    "    [[6, 7], [5, 4, 2]],\n",
    "    [[5, 6], [6, 6, 6]]\n",
    "]"
   ]
  },
  {
   "cell_type": "code",
   "execution_count": 8,
   "id": "8e5cdddb-a54e-494a-8e66-f2b0c20deeb0",
   "metadata": {
    "tags": []
   },
   "outputs": [],
   "source": [
    "new_points = format_vertices(points)"
   ]
  },
  {
   "cell_type": "code",
   "execution_count": 9,
   "id": "774cf2c8-ff1e-4697-af74-b546732d2f41",
   "metadata": {
    "tags": []
   },
   "outputs": [],
   "source": [
    "new_edges = format_edges(new_points, edges)"
   ]
  },
  {
   "cell_type": "code",
   "execution_count": 10,
   "id": "d2dbe121-6a08-4a60-860d-f52722a8dd29",
   "metadata": {},
   "outputs": [
    {
     "name": "stdout",
     "output_type": "stream",
     "text": [
      "[[1, 2], [1, 1, -1]]\n",
      "[[2, 3], [2, 2, -2]]\n",
      "[[3, 4], [3, 2, 4]]\n",
      "[[4, 5], [4, 3, 3]]\n",
      "[[6, 7], [5, 4, 2]]\n",
      "[[5, 6], [6, 6, 6]]\n"
     ]
    }
   ],
   "source": [
    "for edge in edges:\n",
    "    print(edge)"
   ]
  },
  {
   "cell_type": "code",
   "execution_count": 11,
   "id": "82069384-24ed-487c-aefa-b052f46013f1",
   "metadata": {},
   "outputs": [
    {
     "name": "stdout",
     "output_type": "stream",
     "text": [
      "{'vertices': [1, 2], 'height': [1, 4], 'n': [1, 1, -1]}\n",
      "{'vertices': [2, 3], 'height': [4, 2], 'n': [2, 2, -2]}\n",
      "{'vertices': [3, 4], 'height': [2, 2], 'n': [3, 2, 4]}\n",
      "{'vertices': [4, 5], 'height': [2, 3], 'n': [4, 3, 3]}\n",
      "{'vertices': [6, 7], 'height': [6, 7], 'n': [5, 4, 2]}\n",
      "{'vertices': [5, 6], 'height': [3, 6], 'n': [6, 6, 6]}\n"
     ]
    }
   ],
   "source": [
    "for edge in new_edges:\n",
    "    print(edge)"
   ]
  },
  {
   "cell_type": "code",
   "execution_count": 12,
   "id": "523fef67-9171-4008-9156-937ea22b0904",
   "metadata": {
    "tags": []
   },
   "outputs": [],
   "source": [
    "processed_graph = process_graph(new_points, new_edges, [1,0,0])"
   ]
  },
  {
   "cell_type": "code",
   "execution_count": 13,
   "id": "bd2f28a2-2720-4e7f-992b-3e0fa6385364",
   "metadata": {},
   "outputs": [
    {
     "data": {
      "text/plain": [
       "[[{'coordinates': [1, 1, 1],\n",
       "   'original_index': 1,\n",
       "   'new_index': 1,\n",
       "   'height': 1,\n",
       "   'sign': 1},\n",
       "  {'coordinates': [2, 2, 2],\n",
       "   'original_index': 3,\n",
       "   'new_index': 2,\n",
       "   'height': 2,\n",
       "   'sign': 1},\n",
       "  {'coordinates': [3, 3, 3],\n",
       "   'original_index': 4,\n",
       "   'new_index': 3,\n",
       "   'height': 2,\n",
       "   'sign': 1},\n",
       "  {'coordinates': [4, 4, 4],\n",
       "   'original_index': 5,\n",
       "   'new_index': 4,\n",
       "   'height': 3,\n",
       "   'sign': 1},\n",
       "  {'coordinates': [5, 5, 5],\n",
       "   'original_index': 2,\n",
       "   'new_index': 5,\n",
       "   'height': 4,\n",
       "   'sign': 1},\n",
       "  {'coordinates': [6, 6, 6],\n",
       "   'original_index': 6,\n",
       "   'new_index': 6,\n",
       "   'height': 6,\n",
       "   'sign': 1},\n",
       "  {'coordinates': [7, 7, 7],\n",
       "   'original_index': 7,\n",
       "   'new_index': 7,\n",
       "   'height': 7,\n",
       "   'sign': 1}],\n",
       " [{'vertices': [2, 3], 'height': [2, 2], 'sign': 1},\n",
       "  {'vertices': [3, 4], 'height': [2, 3], 'sign': 1},\n",
       "  {'vertices': [1, 5], 'height': [1, 4], 'sign': 1},\n",
       "  {'vertices': [5, 2], 'height': [4, 2], 'sign': 1},\n",
       "  {'vertices': [4, 6], 'height': [3, 6], 'sign': 1},\n",
       "  {'vertices': [6, 7], 'height': [6, 7], 'sign': 1}]]"
      ]
     },
     "execution_count": 13,
     "metadata": {},
     "output_type": "execute_result"
    }
   ],
   "source": [
    "processed_graph"
   ]
  },
  {
   "cell_type": "code",
   "execution_count": 14,
   "id": "f5c0c405-bc7d-4012-955c-e95b13b88f7d",
   "metadata": {},
   "outputs": [
    {
     "name": "stdout",
     "output_type": "stream",
     "text": [
      "Edge {'vertices': [2, 3], 'height': [2, 2], 'sign': 1} is horizontal.\n"
     ]
    }
   ],
   "source": [
    "filtration = group_events_by_height(processed_graph[0], processed_graph[1])"
   ]
  },
  {
   "cell_type": "code",
   "execution_count": 15,
   "id": "a8c34cd5-360e-4cb0-b824-505542fb2302",
   "metadata": {
    "tags": []
   },
   "outputs": [
    {
     "name": "stdout",
     "output_type": "stream",
     "text": [
      "{1: {'points': [{'coordinates': [1, 1, 1], 'original_index': 1, 'new_index': 1, 'height': 1, 'sign': 1}], 'horizontal_edges': [], 'vertical_edges': []}, 2: {'points': [{'coordinates': [2, 2, 2], 'original_index': 3, 'new_index': 2, 'height': 2, 'sign': 1}, {'coordinates': [3, 3, 3], 'original_index': 4, 'new_index': 3, 'height': 2, 'sign': 1}], 'horizontal_edges': [{'vertices': [2, 3], 'height': [2, 2], 'sign': 1}], 'vertical_edges': []}, 3: {'points': [{'coordinates': [4, 4, 4], 'original_index': 5, 'new_index': 4, 'height': 3, 'sign': 1}], 'horizontal_edges': [], 'vertical_edges': [{'vertices': [3, 4], 'height': [2, 3], 'sign': 1}]}, 4: {'points': [{'coordinates': [5, 5, 5], 'original_index': 2, 'new_index': 5, 'height': 4, 'sign': 1}], 'horizontal_edges': [], 'vertical_edges': [{'vertices': [1, 5], 'height': [1, 4], 'sign': 1}, {'vertices': [5, 2], 'height': [4, 2], 'sign': 1}]}, 6: {'points': [{'coordinates': [6, 6, 6], 'original_index': 6, 'new_index': 6, 'height': 6, 'sign': 1}], 'horizontal_edges': [], 'vertical_edges': [{'vertices': [4, 6], 'height': [3, 6], 'sign': 1}]}, 7: {'points': [{'coordinates': [7, 7, 7], 'original_index': 7, 'new_index': 7, 'height': 7, 'sign': 1}], 'horizontal_edges': [], 'vertical_edges': [{'vertices': [6, 7], 'height': [6, 7], 'sign': 1}]}}\n"
     ]
    }
   ],
   "source": [
    "print(filtration)"
   ]
  },
  {
   "cell_type": "code",
   "execution_count": 16,
   "id": "c926a62e-5e86-4f83-8a4d-c8f5a95e29ca",
   "metadata": {
    "tags": []
   },
   "outputs": [
    {
     "name": "stdout",
     "output_type": "stream",
     "text": [
      "1\n",
      "{'points': [{'coordinates': [1, 1, 1], 'original_index': 1, 'new_index': 1, 'height': 1, 'sign': 1}], 'horizontal_edges': [], 'vertical_edges': []}\n",
      "2\n",
      "{'points': [{'coordinates': [2, 2, 2], 'original_index': 3, 'new_index': 2, 'height': 2, 'sign': 1}, {'coordinates': [3, 3, 3], 'original_index': 4, 'new_index': 3, 'height': 2, 'sign': 1}], 'horizontal_edges': [{'vertices': [2, 3], 'height': [2, 2], 'sign': 1}], 'vertical_edges': []}\n",
      "3\n",
      "{'points': [{'coordinates': [4, 4, 4], 'original_index': 5, 'new_index': 4, 'height': 3, 'sign': 1}], 'horizontal_edges': [], 'vertical_edges': [{'vertices': [3, 4], 'height': [2, 3], 'sign': 1}]}\n",
      "4\n",
      "{'points': [{'coordinates': [5, 5, 5], 'original_index': 2, 'new_index': 5, 'height': 4, 'sign': 1}], 'horizontal_edges': [], 'vertical_edges': [{'vertices': [1, 5], 'height': [1, 4], 'sign': 1}, {'vertices': [5, 2], 'height': [4, 2], 'sign': 1}]}\n",
      "6\n",
      "{'points': [{'coordinates': [6, 6, 6], 'original_index': 6, 'new_index': 6, 'height': 6, 'sign': 1}], 'horizontal_edges': [], 'vertical_edges': [{'vertices': [4, 6], 'height': [3, 6], 'sign': 1}]}\n",
      "7\n",
      "{'points': [{'coordinates': [7, 7, 7], 'original_index': 7, 'new_index': 7, 'height': 7, 'sign': 1}], 'horizontal_edges': [], 'vertical_edges': [{'vertices': [6, 7], 'height': [6, 7], 'sign': 1}]}\n"
     ]
    }
   ],
   "source": [
    "for event, value in filtration.items():\n",
    "    print(event)\n",
    "    print(value)"
   ]
  },
  {
   "cell_type": "code",
   "execution_count": 17,
   "id": "7826672b-509c-4782-86e0-86284952b989",
   "metadata": {
    "tags": []
   },
   "outputs": [
    {
     "data": {
      "text/plain": [
       "[1, 2, 3, 4]"
      ]
     },
     "execution_count": 17,
     "metadata": {},
     "output_type": "execute_result"
    }
   ],
   "source": [
    "list(range(1, 5))"
   ]
  },
  {
   "cell_type": "code",
   "execution_count": null,
   "id": "32bf0fa4-2054-4e02-95c7-4cb31b889b13",
   "metadata": {},
   "outputs": [],
   "source": [
    "def compute_horizontal_step(vertices: list, horizontal_edges: list) -> list:\n",
    "    '''Input: List of vertices of height n, and list of horizontal edges of height n.\n",
    "    Output: TODO\n",
    "    '''\n",
    "    components = []\n",
    "    return components   "
   ]
  }
 ],
 "metadata": {
  "kernelspec": {
   "display_name": "Python 3 (ipykernel)",
   "language": "python",
   "name": "python3"
  },
  "language_info": {
   "codemirror_mode": {
    "name": "ipython",
    "version": 3
   },
   "file_extension": ".py",
   "mimetype": "text/x-python",
   "name": "python",
   "nbconvert_exporter": "python",
   "pygments_lexer": "ipython3",
   "version": "3.12.3"
  }
 },
 "nbformat": 4,
 "nbformat_minor": 5
}
