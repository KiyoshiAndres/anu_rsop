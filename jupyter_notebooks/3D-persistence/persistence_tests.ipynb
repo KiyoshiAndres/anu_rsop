{
 "cells": [
  {
   "cell_type": "code",
   "execution_count": 1,
   "id": "bf4b949c-78e0-42fa-bc13-45c69a6da7b7",
   "metadata": {
    "tags": []
   },
   "outputs": [],
   "source": [
    "from persistence_functions import process_graph, compute_critical_points"
   ]
  },
  {
   "cell_type": "code",
   "execution_count": 2,
   "id": "a1e5908a-3744-42b2-8a15-c4ca008123b4",
   "metadata": {},
   "outputs": [],
   "source": [
    "points = [\n",
    "    # Format: [index, height, vector n]\n",
    "    [1, 1, [1, 1, -1]],\n",
    "    [2, 2, [2, 2, -2]],\n",
    "    [3, 2, [3, 2, 4]],\n",
    "    [4, 3, [4, 3, 3]],\n",
    "    [5, 4, [5, 4, 2]],\n",
    "    [6, 6, [6, 6, 6]],\n",
    "    [7, 7, [7, 7, 7]]\n",
    "]\n",
    "\n",
    "edges = [\n",
    "    # Format: [[index_i, index_j], height, vector n]\n",
    "    [[1, 2], 2, [1, 1, -1]],\n",
    "    [[2, 3], 2, [2, 2, -2]],\n",
    "    [[3, 4], 3, [3, 2, 4]],\n",
    "    [[4, 5], 4, [4, 3, 3]],\n",
    "    [[6, 7], 7, [5, 4, 2]],\n",
    "    [[5, 6], 7, [6, 6, 6]]\n",
    "]\n",
    "graph = [points, edges]"
   ]
  },
  {
   "cell_type": "code",
   "execution_count": 3,
   "id": "523fef67-9171-4008-9156-937ea22b0904",
   "metadata": {
    "tags": []
   },
   "outputs": [],
   "source": [
    "processed_graph = process_graph(graph, [1,0,0])"
   ]
  },
  {
   "cell_type": "code",
   "execution_count": 4,
   "id": "26a51b12-e933-40de-ba69-3bbcc39f226e",
   "metadata": {
    "tags": []
   },
   "outputs": [
    {
     "name": "stdout",
     "output_type": "stream",
     "text": [
      "([{'point': [1, 1, 1]}, {'point': [6, 6, 1]}], [{'point_causing_merge': [5, 4, 1], 'merged_components': {'component_1_root': 1, 'component_2_root': 6}}])\n"
     ]
    }
   ],
   "source": [
    "critical_points = compute_critical_points(processed_graph)\n",
    "print(critical_points)"
   ]
  },
  {
   "cell_type": "code",
   "execution_count": null,
   "id": "7826672b-509c-4782-86e0-86284952b989",
   "metadata": {},
   "outputs": [],
   "source": []
  }
 ],
 "metadata": {
  "kernelspec": {
   "display_name": "Python 3 (ipykernel)",
   "language": "python",
   "name": "python3"
  },
  "language_info": {
   "codemirror_mode": {
    "name": "ipython",
    "version": 3
   },
   "file_extension": ".py",
   "mimetype": "text/x-python",
   "name": "python",
   "nbconvert_exporter": "python",
   "pygments_lexer": "ipython3",
   "version": "3.9.10"
  }
 },
 "nbformat": 4,
 "nbformat_minor": 5
}
