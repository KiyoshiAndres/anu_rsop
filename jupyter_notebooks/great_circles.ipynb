{
 "cells": [
  {
   "cell_type": "code",
   "execution_count": 1,
   "id": "3da3f7a6-60d5-48d8-812b-9cce8f39826c",
   "metadata": {},
   "outputs": [],
   "source": [
    "import numpy as np\n",
    "import pyvista as pv"
   ]
  },
  {
   "cell_type": "markdown",
   "id": "568f5e7e-9aed-4195-944d-100b7467d6b9",
   "metadata": {},
   "source": [
    "## Rotation Function"
   ]
  },
  {
   "cell_type": "code",
   "execution_count": 2,
   "id": "749c1df2-8bc9-498c-ba5e-89574f447aef",
   "metadata": {},
   "outputs": [],
   "source": [
    "def rotate_points(points, theta, phi, alpha):\n",
    "    # Create rotation matrix for rotation around z-axis\n",
    "    Rz = np.array([\n",
    "        [np.cos(theta), -np.sin(theta), 0],\n",
    "        [np.sin(theta), np.cos(theta), 0],\n",
    "        [0, 0, 1]\n",
    "    ])\n",
    "    \n",
    "    # Create rotation matrix for rotation around y-axis\n",
    "    Ry = np.array([\n",
    "        [np.cos(phi), 0, np.sin(phi)],\n",
    "        [0, 1, 0],\n",
    "        [-np.sin(phi), 0, np.cos(phi)]\n",
    "    ])\n",
    "    \n",
    "    # Create rotation matrix for rotation around x-axis\n",
    "    Rx = np.array([\n",
    "        [1, 0, 0],\n",
    "        [0, np.cos(alpha), -np.sin(alpha)],\n",
    "        [0, np.sin(alpha), np.cos(alpha)]\n",
    "    ])\n",
    "    \n",
    "    # Combine the rotations (Here @ is matrix multiplication)\n",
    "    R = Rz @ Ry @ Rx\n",
    "\n",
    "    # Apply the rotation matrix to each point (R.T is the transpose of R)\n",
    "    rotated_points = points @ R.T\n",
    "    \n",
    "    return rotated_points"
   ]
  },
  {
   "cell_type": "markdown",
   "id": "65c6903b-a448-4927-9e50-15ab48440919",
   "metadata": {},
   "source": [
    "https://en.wikipedia.org/wiki/Active_and_passive_transformation#Passive_transformation\n",
    "For details on why we use Transpose=Inverse."
   ]
  },
  {
   "cell_type": "markdown",
   "id": "5dbc5d40-d3b1-496c-ada6-6d6d0dceddf9",
   "metadata": {},
   "source": [
    "## Circle on XY Plane"
   ]
  },
  {
   "cell_type": "code",
   "execution_count": 4,
   "id": "1f64c00a-895b-4509-a88e-5344a301c11c",
   "metadata": {},
   "outputs": [],
   "source": [
    "def generate_circle_points(n, radius=1.0):\n",
    "    # Evenly spaced values over the interval 0,2pi. \n",
    "    angles = np.linspace(0, 2 * np.pi, n, endpoint=False)\n",
    "    # Makes the 3D array\n",
    "    points = np.column_stack((radius * np.cos(angles), radius * np.sin(angles), np.zeros(n)))\n",
    "    return points"
   ]
  },
  {
   "cell_type": "markdown",
   "id": "bcb469d2-12e4-4cc8-8408-1c92c111457d",
   "metadata": {},
   "source": [
    "We should aim for n=4x to have the axes and antipodals. To that end, the user will input a number x, instead of n."
   ]
  },
  {
   "cell_type": "code",
   "execution_count": 53,
   "id": "1eec0c8d-c0eb-465b-a5f2-7117104587ce",
   "metadata": {},
   "outputs": [],
   "source": [
    "x = 3\n",
    "n = 4 * x\n",
    "# Generate circle points\n",
    "circle_points = generate_circle_points(n)"
   ]
  },
  {
   "cell_type": "markdown",
   "id": "4f18138f-f3b8-4ede-ac60-e9d23204eb84",
   "metadata": {},
   "source": [
    "## Rotate Circle"
   ]
  },
  {
   "cell_type": "markdown",
   "id": "55e64867-32f3-40cc-bc3c-b2a852d60815",
   "metadata": {},
   "source": [
    "Low number of points in original circle and high number of rotations will give concentric circles."
   ]
  },
  {
   "cell_type": "code",
   "execution_count": 66,
   "id": "210a05af-cc0c-4cc4-a621-d686b8e8b31d",
   "metadata": {},
   "outputs": [],
   "source": [
    "# Number of rotations\n",
    "n_rotations = 2\n",
    "angles = np.linspace(0, np.pi, n_rotations, endpoint=False)  # Uniformly spaced angles\n",
    "\n",
    "sphere_points = []\n",
    "\n",
    "for phi in angles:\n",
    "    rotated_circle = rotate_points(circle_points, 0, phi, 0)  # Rotate around y-axis\n",
    "    sphere_points.append(rotated_circle)\n",
    "\n",
    "sphere_points = np.vstack(sphere_points)"
   ]
  },
  {
   "cell_type": "markdown",
   "id": "ee4b2966-08db-445a-af29-964c63259edb",
   "metadata": {},
   "source": [
    "## Small Optimization"
   ]
  },
  {
   "cell_type": "code",
   "execution_count": 70,
   "id": "48b56569-0826-49c0-9e93-326adaecd2b0",
   "metadata": {},
   "outputs": [],
   "source": [
    "threshold = 0.0000001\n",
    "\n",
    "# Set entries to zero where absolute value is less than the threshold\n",
    "sphere_points[np.abs(sphere_points) < threshold] = 0\n",
    "\n",
    "# Remove duplicate points\n",
    "sphere_points = np.unique(sphere_points, axis=0)"
   ]
  },
  {
   "cell_type": "markdown",
   "id": "3d0b71ac-94b3-41d2-ad2b-8f04a267602b",
   "metadata": {},
   "source": [
    "## Visualization"
   ]
  },
  {
   "cell_type": "code",
   "execution_count": 68,
   "id": "65c5d284-2702-494c-9a4a-1eeb1ff38d34",
   "metadata": {},
   "outputs": [
    {
     "data": {
      "application/vnd.jupyter.widget-view+json": {
       "model_id": "da17cfea496d464497cbbbaf86183ecc",
       "version_major": 2,
       "version_minor": 0
      },
      "text/plain": [
       "Widget(value='<iframe src=\"http://localhost:42087/index.html?ui=P_0x7191cd923410_36&reconnect=auto\" class=\"pyv…"
      ]
     },
     "metadata": {},
     "output_type": "display_data"
    }
   ],
   "source": [
    "# Visualize using PyVista\n",
    "plotter = pv.Plotter()\n",
    "plotter.add_points(sphere_points, color='blue', point_size=5)\n",
    "plotter.show_grid()\n",
    "plotter.show()"
   ]
  }
 ],
 "metadata": {
  "kernelspec": {
   "display_name": "Python 3 (ipykernel)",
   "language": "python",
   "name": "python3"
  },
  "language_info": {
   "codemirror_mode": {
    "name": "ipython",
    "version": 3
   },
   "file_extension": ".py",
   "mimetype": "text/x-python",
   "name": "python",
   "nbconvert_exporter": "python",
   "pygments_lexer": "ipython3",
   "version": "3.12.3"
  }
 },
 "nbformat": 4,
 "nbformat_minor": 5
}
