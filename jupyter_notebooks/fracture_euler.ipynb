{
 "cells": [
  {
   "cell_type": "code",
   "execution_count": 1,
   "id": "29568c2c-9cb9-40b1-92ed-12347143ef73",
   "metadata": {},
   "outputs": [],
   "source": [
    "from skimage.measure import euler_number, label\n",
    "import matplotlib.pyplot as plt\n",
    "import numpy as np\n",
    "from netCDF4 import Dataset"
   ]
  },
  {
   "cell_type": "code",
   "execution_count": 2,
   "id": "fe3a3d30-164d-4907-b74a-4da58480b1ba",
   "metadata": {},
   "outputs": [],
   "source": [
    "dataset_weka = Dataset('segmented_Weka_IMP_IC.nc', mode='r')  # 'r' for read-only\n",
    "dataset_hires = Dataset('segmentedHiRes_roi_TRF_TRF_GM_GM_SS_AC_CAC_SS_IC.nc', mode='r')  # 'r' for read-only"
   ]
  },
  {
   "cell_type": "code",
   "execution_count": 4,
   "id": "ff64a422-9fdb-4b12-92d0-5573547b37e3",
   "metadata": {},
   "outputs": [],
   "source": [
    "segmented_hires = dataset_hires.variables['segmented'][:]\n",
    "segmented_weka = dataset_weka.variables['segmented'][:]"
   ]
  },
  {
   "cell_type": "code",
   "execution_count": 7,
   "id": "e300604a-42be-48a9-8c9b-27e7faffd5ac",
   "metadata": {},
   "outputs": [],
   "source": [
    "hires_e26 = euler_number(segmented_hires, connectivity=3)\n",
    "hires_e6 = euler_number(segmented_hires, connectivity=1)\n",
    "weka_e26 = euler_number(segmented_weka, connectivity=3)\n",
    "weka_e6 = euler_number(segmented_weka, connectivity=1)"
   ]
  },
  {
   "cell_type": "code",
   "execution_count": 10,
   "id": "5e6f8c6a-28d2-4e25-a5bd-915052de6009",
   "metadata": {},
   "outputs": [
    {
     "name": "stdout",
     "output_type": "stream",
     "text": [
      "-2627\n",
      "-2681\n"
     ]
    }
   ],
   "source": [
    "print(hires_e26)\n",
    "print(hires_e6)"
   ]
  },
  {
   "cell_type": "code",
   "execution_count": 9,
   "id": "aecc7138-21a4-49eb-baf0-f5f59d834ab7",
   "metadata": {},
   "outputs": [
    {
     "name": "stdout",
     "output_type": "stream",
     "text": [
      "-43479\n",
      "-26470\n"
     ]
    }
   ],
   "source": [
    "print(weka_e26)\n",
    "print(weka_e6)"
   ]
  }
 ],
 "metadata": {
  "kernelspec": {
   "display_name": "Python 3 (ipykernel)",
   "language": "python",
   "name": "python3"
  },
  "language_info": {
   "codemirror_mode": {
    "name": "ipython",
    "version": 3
   },
   "file_extension": ".py",
   "mimetype": "text/x-python",
   "name": "python",
   "nbconvert_exporter": "python",
   "pygments_lexer": "ipython3",
   "version": "3.12.3"
  }
 },
 "nbformat": 4,
 "nbformat_minor": 5
}
