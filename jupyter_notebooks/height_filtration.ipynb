{
 "cells": [
  {
   "cell_type": "markdown",
   "id": "30fafee4-41d4-48a7-b616-c16a4ee5afae",
   "metadata": {},
   "source": [
    "### Import the libraries and modules we will be using"
   ]
  },
  {
   "cell_type": "code",
   "execution_count": 1,
   "id": "1e762602-aa75-4667-8471-b3054004992e",
   "metadata": {},
   "outputs": [],
   "source": [
    "import matplotlib.pyplot as plt\n",
    "import pydicom as dicom\n",
    "import matplotlib\n",
    "import os, os.path\n",
    "import imageio\n",
    "import numpy as np\n",
    "from mpl_toolkits.mplot3d.art3d import Poly3DCollection\n",
    "from skimage import measure\n",
    "import pyvista as pv\n",
    "import math\n",
    "import copy"
   ]
  },
  {
   "cell_type": "markdown",
   "id": "4d12f08a-91c7-4c55-b990-c8e520fb39b9",
   "metadata": {},
   "source": [
    "### Returns the names in an array of the files in a given path"
   ]
  },
  {
   "cell_type": "code",
   "execution_count": 2,
   "id": "aa32ddf0-d536-4ec5-b3f7-5043cb1ef70b",
   "metadata": {},
   "outputs": [],
   "source": [
    "def file_names(directory_path, file_type):\n",
    "    '''file path XXXX'''\n",
    "    all_files = os.listdir(directory_path)\n",
    "    file_names = [file for file in all_files if file.lower().endswith('.' + file_type)]\n",
    "    return file_names"
   ]
  },
  {
   "cell_type": "code",
   "execution_count": 3,
   "id": "c5cef29b-03c3-43f0-a807-6bce783cf8f6",
   "metadata": {},
   "outputs": [],
   "source": [
    "directory_path = 'manifest-1729153551742/LIDC-IDRI/LIDC-IDRI-0001/01-01-2000-NA-NA-30178/3000566.000000-NA-03192/'\n",
    "file_type = 'dcm'"
   ]
  },
  {
   "cell_type": "code",
   "execution_count": 4,
   "id": "98590780-3792-4a90-b579-08ba33ed64e4",
   "metadata": {},
   "outputs": [],
   "source": [
    "files = file_names(directory_path, file_type)\n",
    "files.sort()"
   ]
  },
  {
   "cell_type": "markdown",
   "id": "22d4b76b-51a1-4072-888a-1a6e1efd0f41",
   "metadata": {},
   "source": [
    "### Opens the files and accesses the data of the voxels in an array format. Merges the arrays into a 3D array"
   ]
  },
  {
   "cell_type": "code",
   "execution_count": 5,
   "id": "8a42c6eb-7db9-46e6-990e-fc07ef6f5e31",
   "metadata": {},
   "outputs": [],
   "source": [
    "three_d_array = []\n",
    "for file in files:\n",
    "    filename=file.replace('.dcm', '') +'.png'\n",
    "    image_path = '{}/{}'.format(directory_path,file)\n",
    "    ds = dicom.dcmread(image_path)\n",
    "    three_d_array.append(ds.pixel_array)\n",
    "combined_array = np.stack(three_d_array, axis=1)"
   ]
  },
  {
   "cell_type": "code",
   "execution_count": 6,
   "id": "350867c2-94a2-442a-9bd7-7cfa3d67d315",
   "metadata": {},
   "outputs": [
    {
     "data": {
      "text/plain": [
       "(512, 133, 512)"
      ]
     },
     "execution_count": 6,
     "metadata": {},
     "output_type": "execute_result"
    }
   ],
   "source": [
    "imgvals = combined_array\n",
    "imgvals.shape"
   ]
  },
  {
   "cell_type": "markdown",
   "id": "5cdd2332-ec67-4393-85b1-f1ede973d426",
   "metadata": {},
   "source": [
    "### We observe the values of the voxels"
   ]
  },
  {
   "cell_type": "code",
   "execution_count": 7,
   "id": "cbc9e191-504d-4bb7-a147-13551bc53cc7",
   "metadata": {},
   "outputs": [
    {
     "data": {
      "image/png": "[encoded data removed]",
      "text/plain": [
       "<Figure size 640x480 with 1 Axes>"
      ]
     },
     "metadata": {},
     "output_type": "display_data"
    }
   ],
   "source": [
    "plt.hist(np.ndarray.flatten(imgvals),bins=100)\n",
    "plt.show()"
   ]
  },
  {
   "cell_type": "markdown",
   "id": "9f0315d9-79e8-4e9e-b83c-308a8bfad1bb",
   "metadata": {},
   "source": [
    "### We want to obtain a binary grid, so we identify the \"dull\" \"noise\" voxels with zero"
   ]
  },
  {
   "cell_type": "code",
   "execution_count": 8,
   "id": "b1f43f64-d536-4fd4-87e7-7aec9de67381",
   "metadata": {},
   "outputs": [],
   "source": [
    "imgvals = np.where(imgvals > 500, 1, 0)"
   ]
  },
  {
   "cell_type": "code",
   "execution_count": 9,
   "id": "02883414-ce23-4ba8-9f66-0e9e1df289ee",
   "metadata": {},
   "outputs": [
    {
     "data": {
      "image/png": "[encoded data removed]",
      "text/plain": [
       "<Figure size 640x480 with 1 Axes>"
      ]
     },
     "metadata": {},
     "output_type": "display_data"
    }
   ],
   "source": [
    "plt.imshow(imgvals[200,:,:])\n",
    "plt.axis('off')\n",
    "plt.show()"
   ]
  },
  {
   "cell_type": "markdown",
   "id": "a7066907-abb0-4338-a801-95d08b4a0281",
   "metadata": {},
   "source": [
    "### We apply marching cubes, which receives the voxels position and vector field, as well as an iso_value which determines a surface that separates the values 0 and 1"
   ]
  },
  {
   "cell_type": "code",
   "execution_count": 10,
   "id": "8d0f7238-5c31-4aaf-9b67-1f3153ddc032",
   "metadata": {},
   "outputs": [],
   "source": [
    "# Volume data\n",
    "volume_data = imgvals\n",
    "\n",
    "# Isosurface value\n",
    "iso_value = 0.5\n",
    "\n",
    "# Extract the isosurface\n",
    "vertices, faces, normals, values = measure.marching_cubes(volume_data, iso_value)"
   ]
  },
  {
   "cell_type": "markdown",
   "id": "4e8da9a3-ea66-4d49-b7ad-f4e5560dafe2",
   "metadata": {},
   "source": [
    "### Visualization"
   ]
  },
  {
   "cell_type": "code",
   "execution_count": 67,
   "id": "146eea5b-a9c3-413e-a3bf-1625c4e0c670",
   "metadata": {},
   "outputs": [
    {
     "data": {
      "application/vnd.jupyter.widget-view+json": {
       "model_id": "f0f639a750ca41f6a9bd63e9f4c23afb",
       "version_major": 2,
       "version_minor": 0
      },
      "text/plain": [
       "Widget(value='<iframe src=\"http://localhost:44367/index.html?ui=P_0x72f0fd5c7f20_6&reconnect=auto\" class=\"pyvi…"
      ]
     },
     "metadata": {},
     "output_type": "display_data"
    }
   ],
   "source": [
    "# Adjust faces array for PyVista\n",
    "faces_pv = np.column_stack([np.full(len(faces), 3), faces])\n",
    "\n",
    "# Create a PyVista mesh\n",
    "mesh = pv.PolyData(vertices, faces_pv)\n",
    "\n",
    "# Visualize the mesh\n",
    "mesh.plot()"
   ]
  },
  {
   "cell_type": "code",
   "execution_count": 11,
   "id": "bcfff071-a100-4582-8b1d-c39e0070d22f",
   "metadata": {},
   "outputs": [
    {
     "name": "stdout",
     "output_type": "stream",
     "text": [
      "[[ 67.5 132.  243. ]\n",
      " [ 68.  132.  242.5]\n",
      " [ 68.  131.5 243. ]\n",
      " ...\n",
      " [459.5  50.  242. ]\n",
      " [459.5  50.  243. ]\n",
      " [459.5  50.  246. ]]\n"
     ]
    }
   ],
   "source": [
    "print(vertices)"
   ]
  },
  {
   "cell_type": "code",
   "execution_count": 12,
   "id": "96888338-d40a-4074-959b-49cd51308ec7",
   "metadata": {},
   "outputs": [
    {
     "name": "stdout",
     "output_type": "stream",
     "text": [
      "[[      2       1       0]\n",
      " [      4       3       0]\n",
      " [      0       3       2]\n",
      " ...\n",
      " [1121729 1125324 1121646]\n",
      " [1125325 1121732 1121651]\n",
      " [1121732 1125325 1121652]]\n"
     ]
    }
   ],
   "source": [
    "print(faces)"
   ]
  },
  {
   "cell_type": "code",
   "execution_count": 13,
   "id": "2ccc717d-cb93-4e2d-9134-88d23c507463",
   "metadata": {},
   "outputs": [
    {
     "data": {
      "text/plain": [
       "array([2, 1, 0], dtype=int32)"
      ]
     },
     "execution_count": 13,
     "metadata": {},
     "output_type": "execute_result"
    }
   ],
   "source": [
    "faces[0]"
   ]
  },
  {
   "cell_type": "markdown",
   "id": "2206a120-a7bd-41db-9307-0e167f5ee429",
   "metadata": {},
   "source": [
    "The faces array is composed of indices that correspond to the vertices array. Each triplet in the faces array represents a triangle in the mesh:\n",
    "\n",
    "    Each row in the faces array contains three values.\n",
    "\n",
    "    These values are indices pointing to the vertices that form a triangle.\n",
    "\n",
    "So, for a given face [i, j, k], i, j, and k are indices into the vertices array, specifying the coordinates of the triangle's corners."
   ]
  },
  {
   "cell_type": "markdown",
   "id": "6b08cdf3-55b6-4856-8b4c-1b035aab3da4",
   "metadata": {},
   "source": [
    "## Filtration Code"
   ]
  },
  {
   "cell_type": "code",
   "execution_count": 14,
   "id": "1ba02ec0-f24a-44e9-a809-467962e2fc57",
   "metadata": {},
   "outputs": [],
   "source": [
    "def height_of_vertex(direction, point):\n",
    "    height = 0\n",
    "    for n in list(range(3)):\n",
    "        height_squared = direction[n] * point[n]\n",
    "    return math.sqrt(height_squared)    "
   ]
  },
  {
   "cell_type": "markdown",
   "id": "a4743272-1d60-451c-b9bd-00b65349d992",
   "metadata": {},
   "source": [
    "### Our two basic data structures to keep track of the information of the vertices"
   ]
  },
  {
   "cell_type": "code",
   "execution_count": 15,
   "id": "299cef2c-aab2-4070-ae36-46668bc9cfdf",
   "metadata": {},
   "outputs": [],
   "source": [
    "def vertex_dictionary(direction, vertices):\n",
    "    n = 0\n",
    "    dictionary = []\n",
    "    for vertex in vertices:\n",
    "        dictionary.append({'location': n, 'height': height_of_vertex(direction, vertex), 'coordinates': vertex})\n",
    "        n+=1\n",
    "    return dictionary"
   ]
  },
  {
   "cell_type": "code",
   "execution_count": 16,
   "id": "00a293f3-bf04-4559-bf4d-0547b1eb0f6c",
   "metadata": {},
   "outputs": [],
   "source": [
    "# Python 3.7 and above\n",
    "def faces_dictionary(vlist, faces):\n",
    "    n = 0\n",
    "    dictionary = []\n",
    "    for face in faces:\n",
    "        face_height = max([vlist[face[i]]['height'] for i in list(range(3))])\n",
    "        dictionary.append({'height': face_height, 'coordinates': face})\n",
    "        n+=1\n",
    "    return dictionary"
   ]
  },
  {
   "cell_type": "code",
   "execution_count": 17,
   "id": "93b3f58f-dfb4-46f8-aa55-d5845ee5a994",
   "metadata": {},
   "outputs": [
    {
     "data": {
      "text/plain": [
       "1.0"
      ]
     },
     "execution_count": 17,
     "metadata": {},
     "output_type": "execute_result"
    }
   ],
   "source": [
    "test_direction= [0,0,1]\n",
    "test_point= [1,1,1]\n",
    "height_of_vertex(test_direction, test_point)"
   ]
  },
  {
   "cell_type": "code",
   "execution_count": 18,
   "id": "33187e87-1ef2-4252-b5af-7f432dd17f1a",
   "metadata": {},
   "outputs": [],
   "source": [
    "new_vertices = vertex_dictionary(test_direction, vertices)"
   ]
  },
  {
   "cell_type": "code",
   "execution_count": 19,
   "id": "91569863-c6af-498c-aa78-d92ad3217b49",
   "metadata": {},
   "outputs": [
    {
     "data": {
      "text/plain": [
       "1125326"
      ]
     },
     "execution_count": 19,
     "metadata": {},
     "output_type": "execute_result"
    }
   ],
   "source": [
    "len(new_vertices)"
   ]
  },
  {
   "cell_type": "code",
   "execution_count": 20,
   "id": "bd23f7a3-3d31-4a22-b980-3adc590edaee",
   "metadata": {},
   "outputs": [
    {
     "data": {
      "text/plain": [
       "2243814"
      ]
     },
     "execution_count": 20,
     "metadata": {},
     "output_type": "execute_result"
    }
   ],
   "source": [
    "len(faces)"
   ]
  },
  {
   "cell_type": "code",
   "execution_count": 21,
   "id": "44d055b4-90d7-4c21-81e9-a9378469cf03",
   "metadata": {},
   "outputs": [
    {
     "data": {
      "text/plain": [
       "{'location': 1000,\n",
       " 'height': 16.881943016134134,\n",
       " 'coordinates': array([ 73.5, 128. , 285. ], dtype=float32)}"
      ]
     },
     "execution_count": 21,
     "metadata": {},
     "output_type": "execute_result"
    }
   ],
   "source": [
    "new_vertices[1000]"
   ]
  },
  {
   "cell_type": "code",
   "execution_count": 22,
   "id": "205f317a-9607-4dbb-a972-523cbce225be",
   "metadata": {},
   "outputs": [],
   "source": [
    "new_faces = faces_dictionary(new_vertices, faces)"
   ]
  },
  {
   "cell_type": "code",
   "execution_count": 23,
   "id": "b2cf9a8b-84e8-4eaa-b0a8-6c559a0227c8",
   "metadata": {},
   "outputs": [
    {
     "name": "stdout",
     "output_type": "stream",
     "text": [
      "{'height': 15.588457268119896, 'coordinates': array([2, 1, 0], dtype=int32)}\n",
      "{'height': 15.620499351813308, 'coordinates': array([4, 3, 0], dtype=int32)}\n",
      "{'height': 15.620499351813308, 'coordinates': array([0, 3, 2], dtype=int32)}\n",
      "{'height': 15.652475842498529, 'coordinates': array([6, 5, 4], dtype=int32)}\n",
      "{'height': 15.652475842498529, 'coordinates': array([4, 5, 3], dtype=int32)}\n",
      "{'height': 15.684387141358123, 'coordinates': array([8, 7, 6], dtype=int32)}\n",
      "{'height': 15.684387141358123, 'coordinates': array([6, 7, 5], dtype=int32)}\n",
      "{'height': 15.716233645501712, 'coordinates': array([10,  9,  8], dtype=int32)}\n",
      "{'height': 15.716233645501712, 'coordinates': array([8, 9, 7], dtype=int32)}\n"
     ]
    }
   ],
   "source": [
    "for i in list(range(9)):\n",
    "    print(new_faces[i])"
   ]
  },
  {
   "cell_type": "markdown",
   "id": "95bc4002-8349-4938-9d74-a9ba741f276e",
   "metadata": {},
   "source": [
    "### We sort the faces and vertices to apply our filtration algorithm"
   ]
  },
  {
   "cell_type": "code",
   "execution_count": 24,
   "id": "b305227b-a96e-4f21-b84d-763638ab3757",
   "metadata": {},
   "outputs": [],
   "source": [
    "new_faces.sort(key=lambda x: x['height'])"
   ]
  },
  {
   "cell_type": "code",
   "execution_count": 25,
   "id": "5609bd70-887d-465a-890b-1dc2fd4ce792",
   "metadata": {},
   "outputs": [
    {
     "name": "stdout",
     "output_type": "stream",
     "text": [
      "{'height': 0.7071067811865476, 'coordinates': array([311171, 308480, 308478], dtype=int32)}\n",
      "{'height': 0.7071067811865476, 'coordinates': array([311172, 308480, 311171], dtype=int32)}\n",
      "{'height': 0.7071067811865476, 'coordinates': array([311172, 308492, 308480], dtype=int32)}\n",
      "{'height': 0.7071067811865476, 'coordinates': array([311184, 308492, 311172], dtype=int32)}\n",
      "{'height': 0.7071067811865476, 'coordinates': array([311184, 308498, 308492], dtype=int32)}\n",
      "{'height': 0.7071067811865476, 'coordinates': array([311192, 308498, 311184], dtype=int32)}\n",
      "{'height': 0.7071067811865476, 'coordinates': array([311192, 308505, 308498], dtype=int32)}\n",
      "{'height': 0.7071067811865476, 'coordinates': array([311198, 308505, 311192], dtype=int32)}\n",
      "{'height': 0.7071067811865476, 'coordinates': array([311198, 308514, 308505], dtype=int32)}\n"
     ]
    }
   ],
   "source": [
    "for i in list(range(9)):\n",
    "    print(new_faces[i])"
   ]
  },
  {
   "cell_type": "code",
   "execution_count": 26,
   "id": "55a36c14-83dc-4e85-ae58-f2ed5ed0193e",
   "metadata": {},
   "outputs": [],
   "source": [
    "new_vertices.sort(key=lambda x: x['height'])"
   ]
  },
  {
   "cell_type": "markdown",
   "id": "7ceed8b7-670c-497a-89c0-4fc216aa06e7",
   "metadata": {},
   "source": [
    "### The faces were matched with vertices by their location in the unsorted array, so we need to make a hashmap to relate them to their old position."
   ]
  },
  {
   "cell_type": "code",
   "execution_count": 45,
   "id": "67152432-f077-407f-95d5-136c677480cb",
   "metadata": {},
   "outputs": [],
   "source": [
    "vertices_new_location = {index: d['location'] for index, d in enumerate(new_vertices)}"
   ]
  },
  {
   "cell_type": "code",
   "execution_count": 47,
   "id": "c40c8d85-1405-4ea9-8500-1e29927ae858",
   "metadata": {},
   "outputs": [
    {
     "name": "stdout",
     "output_type": "stream",
     "text": [
      "340816\n"
     ]
    }
   ],
   "source": [
    "print(vertices_new_location[10])"
   ]
  },
  {
   "cell_type": "code",
   "execution_count": 52,
   "id": "129be0bc-646e-4501-a557-2b3be9fd6e01",
   "metadata": {},
   "outputs": [],
   "source": [
    "hashmap = {v: k for k, v in vertices_new_location.items()}"
   ]
  },
  {
   "cell_type": "code",
   "execution_count": 27,
   "id": "0b3b2817-7452-4f0c-b9e6-7f7877cdfcb9",
   "metadata": {},
   "outputs": [],
   "source": [
    "clone_faces = new_faces[:100]\n",
    "clone_vertices = new_vertices[:100]"
   ]
  },
  {
   "cell_type": "code",
   "execution_count": 28,
   "id": "51dea787-dd6b-4a5f-bd0a-b72657cf2957",
   "metadata": {},
   "outputs": [
    {
     "name": "stdout",
     "output_type": "stream",
     "text": [
      "[{'location': 340748, 'height': 0.0, 'coordinates': array([239.5,   1. ,   0. ], dtype=float32)}, {'location': 340749, 'height': 0.0, 'coordinates': array([239.5,   0. ,   0. ], dtype=float32)}, {'location': 340758, 'height': 0.0, 'coordinates': array([239.5,   2. ,   0. ], dtype=float32)}, {'location': 340765, 'height': 0.0, 'coordinates': array([239.5,   3. ,   0. ], dtype=float32)}, {'location': 340774, 'height': 0.0, 'coordinates': array([239.5,   4. ,   0. ], dtype=float32)}, {'location': 340792, 'height': 0.0, 'coordinates': array([239.5,   5. ,   0. ], dtype=float32)}, {'location': 340800, 'height': 0.0, 'coordinates': array([239.5,   6. ,   0. ], dtype=float32)}, {'location': 340804, 'height': 0.0, 'coordinates': array([239.5,   7. ,   0. ], dtype=float32)}, {'location': 340808, 'height': 0.0, 'coordinates': array([239.5,   8. ,   0. ], dtype=float32)}, {'location': 340813, 'height': 0.0, 'coordinates': array([239.5,   9. ,   0. ], dtype=float32)}]\n"
     ]
    }
   ],
   "source": [
    "print(clone_vertices[:10])"
   ]
  },
  {
   "cell_type": "code",
   "execution_count": 29,
   "id": "dd4800d8-3e41-4114-99df-12c3dc82909e",
   "metadata": {},
   "outputs": [],
   "source": [
    "vertices_height = [vertex['height'] for vertex in new_vertices]\n",
    "faces_height = [face['height'] for face in new_faces]"
   ]
  },
  {
   "cell_type": "markdown",
   "id": "2f8ffbb4-8f01-444f-a17d-f4bdbef95da2",
   "metadata": {},
   "source": [
    "### This creates a filtration with output the length of slice of the ordered arrays"
   ]
  },
  {
   "cell_type": "code",
   "execution_count": 30,
   "id": "585367e0-3c81-4ddf-8651-a373256816a9",
   "metadata": {},
   "outputs": [],
   "source": [
    "def create_filtration(vertices, faces):\n",
    "    filtration = []\n",
    "    previous_value = vertices[0]\n",
    "    m = 0\n",
    "    for i in range(1, len(vertices)):\n",
    "        for j in range(m, len(faces)):\n",
    "            if faces[j] <= previous_value:\n",
    "                j += 1\n",
    "                m = j\n",
    "            else:\n",
    "                break\n",
    "        if vertices[i] != previous_value:\n",
    "            filtration.append([i, j])\n",
    "            previous_value = vertices[i]\n",
    "        \n",
    "    filtration.append([len(vertices), j])\n",
    "    return filtration"
   ]
  },
  {
   "cell_type": "code",
   "execution_count": 31,
   "id": "80e34fbc-a66a-4cd8-a545-243f57eb5707",
   "metadata": {},
   "outputs": [],
   "source": [
    "ordered_list = [1, 1, 2, 2, 3, 3, 3, 4, 4]\n",
    "ordered_list_2 = [1,1,1,1,1,2,3,3,3,3,3,4,4,4,4,4]\n",
    "filtration = create_filtration(vertices_height, faces_height)"
   ]
  },
  {
   "cell_type": "code",
   "execution_count": 32,
   "id": "5024dba0-31e7-4517-989b-25b4f32c737b",
   "metadata": {},
   "outputs": [],
   "source": [
    "def nth_complex(vertices, faces, n):\n",
    "    return (vertices[:n[0]], faces[:n[1]])"
   ]
  },
  {
   "cell_type": "code",
   "execution_count": 33,
   "id": "7fa005c4-228d-458c-ac95-3ec01e1ea888",
   "metadata": {},
   "outputs": [],
   "source": [
    "coord_vertices = [vertex['coordinates'].tolist() for vertex in new_vertices]\n",
    "coord_faces = [face['coordinates'].tolist() for face in new_faces]"
   ]
  },
  {
   "cell_type": "code",
   "execution_count": 51,
   "id": "6c46dc2e-70bc-45e2-a437-5a8a4a170ea5",
   "metadata": {},
   "outputs": [
    {
     "name": "stdout",
     "output_type": "stream",
     "text": [
      "[311172, 308480, 311171]\n"
     ]
    }
   ],
   "source": [
    "print(coord_faces[1])"
   ]
  },
  {
   "cell_type": "code",
   "execution_count": 53,
   "id": "5cf1006f-6c62-4d32-9b35-83db2b039863",
   "metadata": {},
   "outputs": [],
   "source": [
    "reordered_faces = [[hashmap[element] for element in sublist] for sublist in coord_faces]\n",
    "\n"
   ]
  },
  {
   "cell_type": "code",
   "execution_count": 43,
   "id": "0922ba03-199e-4958-a8c6-6d0dd1ca8dc0",
   "metadata": {},
   "outputs": [
    {
     "name": "stdout",
     "output_type": "stream",
     "text": [
      "1023\n"
     ]
    }
   ],
   "source": [
    "print(len(filtration))"
   ]
  },
  {
   "cell_type": "code",
   "execution_count": 111,
   "id": "6faf52c1-e224-4b77-8ec4-ef0e53316467",
   "metadata": {},
   "outputs": [],
   "source": [
    "vertices, faces = nth_complex(coord_vertices, reordered_faces, filtration[300])"
   ]
  },
  {
   "cell_type": "markdown",
   "id": "70aa08e3-eafc-4853-8568-82c8c4e10f0c",
   "metadata": {},
   "source": [
    "## Note we can have the case where the set of faces is empty in which case pyvista generates an error."
   ]
  },
  {
   "cell_type": "code",
   "execution_count": 86,
   "id": "bba40a9e-109b-47eb-83e9-7c44e233f77c",
   "metadata": {},
   "outputs": [
    {
     "name": "stdout",
     "output_type": "stream",
     "text": [
      "[]\n",
      "[[239.5, 1.0, 0.0], [239.5, 0.0, 0.0], [239.5, 2.0, 0.0], [239.5, 3.0, 0.0], [239.5, 4.0, 0.0], [239.5, 5.0, 0.0], [239.5, 6.0, 0.0], [239.5, 7.0, 0.0], [239.5, 8.0, 0.0], [239.5, 9.0, 0.0], [239.5, 10.0, 0.0], [239.5, 11.0, 0.0], [239.5, 12.0, 0.0], [239.5, 13.0, 0.0], [239.5, 14.0, 0.0], [239.5, 15.0, 0.0], [239.5, 16.0, 0.0], [239.5, 17.0, 0.0], [239.5, 18.0, 0.0], [239.5, 19.0, 0.0], [239.5, 20.0, 0.0], [239.5, 21.0, 0.0], [239.5, 22.0, 0.0], [239.5, 23.0, 0.0], [239.5, 24.0, 0.0], [239.5, 25.0, 0.0], [239.5, 26.0, 0.0], [239.5, 27.0, 0.0], [239.5, 28.0, 0.0], [239.5, 29.0, 0.0], [239.5, 30.0, 0.0], [239.5, 31.0, 0.0], [239.5, 32.0, 0.0], [240.0, 32.5, 0.0], [240.5, 33.0, 0.0], [241.0, 33.5, 0.0], [242.0, 3.5, 0.0], [241.5, 4.0, 0.0], [241.5, 5.0, 0.0], [242.0, 5.5, 0.0], [241.5, 34.0, 0.0], [242.0, 34.5, 0.0], [243.0, 3.5, 0.0], [242.5, 5.0, 0.0], [243.0, 4.5, 0.0], [242.5, 35.0, 0.0], [243.0, 35.5, 0.0], [243.5, 4.0, 0.0], [243.5, 36.0, 0.0], [243.5, 37.0, 0.0], [244.0, 37.5, 0.0], [244.5, 38.0, 0.0], [245.0, 38.5, 0.0], [246.0, 38.5, 0.0], [246.5, 39.0, 0.0], [247.0, 39.5, 0.0], [248.0, 39.5, 0.0], [249.0, 39.5, 0.0], [249.5, 40.0, 0.0], [250.0, 40.5, 0.0], [251.0, 40.5, 0.0], [252.0, 40.5, 0.0], [253.0, 40.5, 0.0], [253.5, 41.0, 0.0], [254.0, 41.5, 0.0], [255.0, 41.5, 0.0], [256.0, 41.5, 0.0], [257.0, 41.5, 0.0], [258.0, 41.5, 0.0], [258.5, 42.0, 0.0], [259.0, 42.5, 0.0], [260.0, 42.5, 0.0], [261.0, 42.5, 0.0], [262.0, 42.5, 0.0], [263.0, 42.5, 0.0], [264.0, 42.5, 0.0], [264.5, 43.0, 0.0], [265.0, 43.5, 0.0], [266.0, 43.5, 0.0], [267.0, 43.5, 0.0], [268.0, 43.5, 0.0], [269.0, 43.5, 0.0], [270.0, 43.5, 0.0], [270.5, 44.0, 0.0], [271.0, 44.5, 0.0], [271.5, 0.0, 0.0], [271.5, 1.0, 0.0], [271.5, 2.0, 0.0], [271.5, 3.0, 0.0], [271.5, 4.0, 0.0], [271.5, 5.0, 0.0], [271.5, 6.0, 0.0], [271.5, 7.0, 0.0], [271.5, 8.0, 0.0], [271.5, 9.0, 0.0], [271.5, 10.0, 0.0], [271.5, 11.0, 0.0], [271.5, 12.0, 0.0], [271.5, 13.0, 0.0], [271.5, 14.0, 0.0], [271.5, 15.0, 0.0], [271.5, 16.0, 0.0], [271.5, 17.0, 0.0], [271.5, 18.0, 0.0], [271.5, 19.0, 0.0], [271.5, 20.0, 0.0], [271.5, 21.0, 0.0], [271.5, 22.0, 0.0], [271.5, 23.0, 0.0], [271.5, 24.0, 0.0], [271.5, 25.0, 0.0], [271.5, 26.0, 0.0], [271.5, 27.0, 0.0], [271.5, 28.0, 0.0], [271.5, 29.0, 0.0], [271.5, 30.0, 0.0], [271.5, 31.0, 0.0], [271.5, 32.0, 0.0], [271.5, 33.0, 0.0], [271.5, 34.0, 0.0], [271.5, 35.0, 0.0], [271.5, 36.0, 0.0], [271.5, 37.0, 0.0], [271.5, 38.0, 0.0], [271.5, 39.0, 0.0], [271.5, 40.0, 0.0], [271.5, 41.0, 0.0], [271.5, 42.0, 0.0], [271.5, 43.0, 0.0], [271.5, 44.0, 0.0]]\n"
     ]
    }
   ],
   "source": [
    "print(faces)\n",
    "print(vertices)"
   ]
  },
  {
   "cell_type": "code",
   "execution_count": 112,
   "id": "c44a3d6f-a63a-4b52-b2e4-39581dc7b682",
   "metadata": {},
   "outputs": [
    {
     "data": {
      "application/vnd.jupyter.widget-view+json": {
       "model_id": "1f7c5ba8a428417088d15d27d92b85d4",
       "version_major": 2,
       "version_minor": 0
      },
      "text/plain": [
       "Widget(value='<iframe src=\"http://localhost:44367/index.html?ui=P_0x72f0f4244440_22&reconnect=auto\" class=\"pyv…"
      ]
     },
     "metadata": {},
     "output_type": "display_data"
    }
   ],
   "source": [
    "# Adjust faces array for PyVista\n",
    "faces_pv = np.column_stack([np.full(len(faces), 3), faces])\n",
    "\n",
    "# Create a PyVista mesh\n",
    "mesh = pv.PolyData(vertices, faces_pv)\n",
    "\n",
    "# Visualize the mesh\n",
    "mesh.plot()"
   ]
  },
  {
   "cell_type": "code",
   "execution_count": null,
   "id": "85a0bac2-465b-42d0-8292-5d624058c656",
   "metadata": {},
   "outputs": [],
   "source": []
  }
 ],
 "metadata": {
  "kernelspec": {
   "display_name": "Python 3 (ipykernel)",
   "language": "python",
   "name": "python3"
  },
  "language_info": {
   "codemirror_mode": {
    "name": "ipython",
    "version": 3
   },
   "file_extension": ".py",
   "mimetype": "text/x-python",
   "name": "python",
   "nbconvert_exporter": "python",
   "pygments_lexer": "ipython3",
   "version": "3.12.3"
  }
 },
 "nbformat": 4,
 "nbformat_minor": 5
}
